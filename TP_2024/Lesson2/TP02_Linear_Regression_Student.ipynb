{
 "cells": [
  {
   "cell_type": "markdown",
   "metadata": {
    "id": "mJ7TSk1r6emK"
   },
   "source": [
    "# Lesson 2: Linear Regression\n",
    "\n",
    "## Regression VS Classification\n",
    "\n",
    "Regression algorithms predict a continuous value based on the input variables. The main goal of regression problems is to estimate a mapping function based on the input and output variables. Classification is a predictive model that approximates a mapping function from input variables to identify discrete output variables, which can be labels or categories.\n"
   ]
  },
  {
   "cell_type": "code",
   "execution_count": null,
   "metadata": {
    "ExecuteTime": {
     "end_time": "2023-09-08T11:50:53.269571658Z",
     "start_time": "2023-09-08T11:50:53.231010941Z"
    }
   },
   "outputs": [],
   "source": [
    "from IPython import display\n",
    "display.Image(\"Image/ClassificationVSRegression.png\")"
   ]
  },
  {
   "cell_type": "markdown",
   "metadata": {},
   "source": [
    "### Regrssion metrics (for testing)\n",
    "\n",
    "More detail at (https://scikit-learn.org/stable/modules/classes.html#module-sklearn.metrics)\n",
    "\n",
    "Metrics as:\n",
    "- Mean absolute error (MAE)\n",
    "- Mean squared error (MSE)\n",
    "- Root mean squared error (RMSE)\n",
    "- Root mean squared logarithmic error (RMSLE)\n",
    "- Mean percentage error (MPE)\n",
    "- Mean absolute percentage error (MAPE)\n",
    "- R-square (R^2)"
   ]
  },
  {
   "cell_type": "code",
   "execution_count": null,
   "metadata": {
    "ExecuteTime": {
     "end_time": "2023-09-08T11:50:53.270037765Z",
     "start_time": "2023-09-08T11:50:53.255669999Z"
    }
   },
   "outputs": [],
   "source": [
    "display.Image(\"Image/MAE_Graph.png\")"
   ]
  },
  {
   "cell_type": "markdown",
   "metadata": {},
   "source": [
    "### Metrics Classification\n",
    "\n",
    "More detail at (https://scikit-learn.org/stable/modules/classes.html#module-sklearn.metrics)\n",
    "\n",
    "The evelaution of perfomance ar based on the Confusion Matrix\n",
    "- Accuracy\n",
    "- Precision (P)\n",
    "- Recall (R)\n",
    "- F1 score (F1)\n",
    "- Area under the ROC (Receiver Operating Characteristic) curve or simply Area Under Curve (AUC)\n",
    "- Matthew Correlation Coefficient\n"
   ]
  },
  {
   "cell_type": "code",
   "execution_count": null,
   "metadata": {
    "ExecuteTime": {
     "end_time": "2023-09-08T11:50:53.283207354Z",
     "start_time": "2023-09-08T11:50:53.258237297Z"
    }
   },
   "outputs": [],
   "source": [
    "display.Image(\"Image/ConfusionMatrix1.png\")"
   ]
  },
  {
   "cell_type": "markdown",
   "metadata": {},
   "source": [
    "## Regression Example"
   ]
  },
  {
   "cell_type": "code",
   "execution_count": null,
   "metadata": {
    "ExecuteTime": {
     "end_time": "2023-09-08T11:50:53.532634951Z",
     "start_time": "2023-09-08T11:50:53.272592779Z"
    },
    "executionInfo": {
     "elapsed": 1524,
     "status": "ok",
     "timestamp": 1689598477151,
     "user": {
      "displayName": "Igor Carrara",
      "userId": "05451714045321385567"
     },
     "user_tz": -120
    },
    "id": "iaocLlzS6emR"
   },
   "outputs": [],
   "source": [
    "#necessary imports\n",
    "from sklearn import datasets\n",
    "import math\n",
    "import numpy as np\n",
    "import matplotlib.pyplot as plt\n",
    "import matplotlib.cm as cm\n",
    "from sklearn.decomposition import PCA\n",
    "from sklearn.manifold import TSNE\n",
    "from sklearn.model_selection import train_test_split\n",
    "from sklearn.linear_model import LinearRegression\n",
    "from sklearn.metrics import mean_squared_error"
   ]
  },
  {
   "cell_type": "markdown",
   "metadata": {
    "id": "jiCm7d1I6emT"
   },
   "source": [
    "### Linear Regression - Generated Dataset\n",
    "\n",
    "In this part, all the code is already written. We ask you the deeply understand what it does and to play with the parameters.\n",
    "\n",
    "It is highly recommanded to read the documentation there: https://scikit-learn.org/stable/modules/generated/sklearn.datasets.make_regression.html#sklearn.datasets.make_regression"
   ]
  },
  {
   "cell_type": "markdown",
   "metadata": {},
   "source": [
    "#### 1. Data generation"
   ]
  },
  {
   "cell_type": "code",
   "execution_count": null,
   "metadata": {
    "ExecuteTime": {
     "end_time": "2023-09-08T11:50:53.533283988Z",
     "start_time": "2023-09-08T11:50:53.410767749Z"
    },
    "executionInfo": {
     "elapsed": 3,
     "status": "ok",
     "timestamp": 1689598479597,
     "user": {
      "displayName": "Igor Carrara",
      "userId": "05451714045321385567"
     },
     "user_tz": -120
    },
    "id": "Fh2Z1ea06emU"
   },
   "outputs": [],
   "source": [
    "from sklearn.datasets import make_regression"
   ]
  },
  {
   "cell_type": "code",
   "execution_count": null,
   "metadata": {
    "ExecuteTime": {
     "end_time": "2023-09-08T11:50:53.533493104Z",
     "start_time": "2023-09-08T11:50:53.451924059Z"
    },
    "executionInfo": {
     "elapsed": 5,
     "status": "ok",
     "timestamp": 1689598508018,
     "user": {
      "displayName": "Igor Carrara",
      "userId": "05451714045321385567"
     },
     "user_tz": -120
    },
    "id": "yzOTQ3BR6emU"
   },
   "outputs": [],
   "source": [
    "X, y, coeff = make_regression(n_samples=1000, n_features=2, bias = 2.0, coef=True, noise=2, random_state=42)"
   ]
  },
  {
   "cell_type": "markdown",
   "metadata": {
    "id": "pD_dBT2_6emV"
   },
   "source": [
    "**Question 1:** With the help of the documentation, explain the different parameters. Try with and without noise, with dimension 1, 2 and more."
   ]
  },
  {
   "cell_type": "markdown",
   "metadata": {
    "id": "N9wJRldf6emW"
   },
   "source": [
    "**Your answer here**"
   ]
  },
  {
   "cell_type": "markdown",
   "metadata": {
    "id": "Pb7tGYpq6emW"
   },
   "source": [
    "#### 2. Visualization\n",
    "\n",
    "This cell displays 2d input data (i.e. with 2 features). The color scale represents the output y values."
   ]
  },
  {
   "cell_type": "code",
   "execution_count": null,
   "metadata": {
    "ExecuteTime": {
     "end_time": "2023-09-08T11:50:53.966862568Z",
     "start_time": "2023-09-08T11:50:53.452206019Z"
    },
    "colab": {
     "base_uri": "https://localhost:8080/",
     "height": 540
    },
    "executionInfo": {
     "elapsed": 645,
     "status": "ok",
     "timestamp": 1689598513791,
     "user": {
      "displayName": "Igor Carrara",
      "userId": "05451714045321385567"
     },
     "user_tz": -120
    },
    "id": "Or7QPqqa6emW",
    "outputId": "fd9e7bd5-e0aa-452f-d0f4-fc1176fab74f"
   },
   "outputs": [],
   "source": [
    "colors = [cm.nipy_spectral(float(i) / 255) for i in range(256)]\n",
    "\n",
    "max = np.max(y)\n",
    "min = np.min(y)\n",
    "ycol = 255*(y-min)/(max-min)\n",
    "ycol = ycol.astype('int')\n",
    "\n",
    "col = [colors[yc] for yc in ycol]\n",
    "plt.figure(figsize=(10, 6))\n",
    "plt.scatter(X[:, 0], X[:, 1], color = col, marker=\"x\")"
   ]
  },
  {
   "cell_type": "markdown",
   "metadata": {},
   "source": [
    "Let's try and visualize the relationship of each feature with the output"
   ]
  },
  {
   "cell_type": "code",
   "execution_count": null,
   "metadata": {
    "ExecuteTime": {
     "end_time": "2023-09-08T11:50:54.190134547Z",
     "start_time": "2023-09-08T11:50:53.753846040Z"
    },
    "colab": {
     "base_uri": "https://localhost:8080/",
     "height": 871
    },
    "executionInfo": {
     "elapsed": 293,
     "status": "error",
     "timestamp": 1689598520730,
     "user": {
      "displayName": "Igor Carrara",
      "userId": "05451714045321385567"
     },
     "user_tz": -120
    },
    "id": "gfviTn1a6emX",
    "outputId": "0bd778d2-ca96-4b37-b077-5094b1e18cee"
   },
   "outputs": [],
   "source": [
    "# plot the first feature against the y values\n"
   ]
  },
  {
   "cell_type": "code",
   "execution_count": null,
   "metadata": {
    "ExecuteTime": {
     "end_time": "2023-09-08T11:50:54.216348873Z",
     "start_time": "2023-09-08T11:50:53.997754421Z"
    }
   },
   "outputs": [],
   "source": [
    "# plot the second feature against the y values\n"
   ]
  },
  {
   "cell_type": "markdown",
   "metadata": {},
   "source": [
    "What can you understand from this plot?"
   ]
  },
  {
   "cell_type": "markdown",
   "metadata": {
    "ExecuteTime": {
     "end_time": "2023-09-08T11:50:54.216619982Z",
     "start_time": "2023-09-08T11:50:54.206137774Z"
    }
   },
   "source": [
    "**Your answer here**"
   ]
  },
  {
   "cell_type": "markdown",
   "metadata": {},
   "source": [
    "#### 3. Split dataset in Train and Test"
   ]
  },
  {
   "cell_type": "code",
   "execution_count": null,
   "metadata": {
    "ExecuteTime": {
     "end_time": "2023-09-08T11:50:54.561550022Z",
     "start_time": "2023-09-08T11:50:54.517927823Z"
    }
   },
   "outputs": [],
   "source": [
    "display.Image(\"Image/Split Dataset.png\")"
   ]
  },
  {
   "cell_type": "code",
   "execution_count": null,
   "metadata": {
    "ExecuteTime": {
     "end_time": "2023-09-08T11:50:55.227826134Z",
     "start_time": "2023-09-08T11:50:55.204482414Z"
    },
    "executionInfo": {
     "elapsed": 244,
     "status": "ok",
     "timestamp": 1689598577599,
     "user": {
      "displayName": "Igor Carrara",
      "userId": "05451714045321385567"
     },
     "user_tz": -120
    },
    "id": "9La7lk3p6emX"
   },
   "outputs": [],
   "source": [
    "# Splitting train and test datasets\n"
   ]
  },
  {
   "cell_type": "markdown",
   "metadata": {},
   "source": [
    "Always check the size of the data"
   ]
  },
  {
   "cell_type": "code",
   "execution_count": null,
   "metadata": {
    "ExecuteTime": {
     "end_time": "2023-09-08T11:50:55.436889271Z",
     "start_time": "2023-09-08T11:50:55.410844094Z"
    }
   },
   "outputs": [],
   "source": [
    "# Shape\n"
   ]
  },
  {
   "cell_type": "markdown",
   "metadata": {},
   "source": [
    "#### 4. Estimation (training)"
   ]
  },
  {
   "cell_type": "code",
   "execution_count": null,
   "metadata": {
    "ExecuteTime": {
     "end_time": "2023-09-08T11:50:55.708747557Z",
     "start_time": "2023-09-08T11:50:55.671535052Z"
    },
    "colab": {
     "base_uri": "https://localhost:8080/",
     "height": 75
    },
    "executionInfo": {
     "elapsed": 250,
     "status": "ok",
     "timestamp": 1689598581124,
     "user": {
      "displayName": "Igor Carrara",
      "userId": "05451714045321385567"
     },
     "user_tz": -120
    },
    "id": "M9CfFsCw6emY",
    "outputId": "ea099d99-c4ae-4258-a434-492f89c995ad"
   },
   "outputs": [],
   "source": [
    "# Constructor call and training procedure\n"
   ]
  },
  {
   "cell_type": "markdown",
   "metadata": {},
   "source": [
    "#### 5. Prediction"
   ]
  },
  {
   "cell_type": "code",
   "execution_count": null,
   "metadata": {
    "ExecuteTime": {
     "end_time": "2023-09-08T11:50:55.967021574Z",
     "start_time": "2023-09-08T11:50:55.942154987Z"
    }
   },
   "outputs": [],
   "source": [
    "y_pred_train = lr.predict(X_train)"
   ]
  },
  {
   "cell_type": "code",
   "execution_count": null,
   "metadata": {
    "ExecuteTime": {
     "end_time": "2023-09-08T11:50:56.225403209Z",
     "start_time": "2023-09-08T11:50:56.192752933Z"
    }
   },
   "outputs": [],
   "source": [
    "# Predict on Test dataset\n"
   ]
  },
  {
   "cell_type": "markdown",
   "metadata": {
    "id": "XVVdje9r6emY"
   },
   "source": [
    "#### 6. Testing: evaluation with regression metrics"
   ]
  },
  {
   "cell_type": "markdown",
   "metadata": {},
   "source": [
    "Calculate $E_{in}$ and $E_{out}$ with the same evaluation metric"
   ]
  },
  {
   "cell_type": "code",
   "execution_count": null,
   "metadata": {
    "ExecuteTime": {
     "end_time": "2023-09-08T11:50:57.567792977Z",
     "start_time": "2023-09-08T11:50:57.540699406Z"
    }
   },
   "outputs": [],
   "source": [
    "from sklearn.metrics import mean_absolute_error, mean_squared_error, r2_score\n",
    "\n",
    "print(\"Train MAE score: \", mean_absolute_error(y_train, y_pred_train))\n",
    "print(\"Test MAE score: \", mean_absolute_error(y_test, y_pred_test))"
   ]
  },
  {
   "cell_type": "code",
   "execution_count": null,
   "metadata": {
    "ExecuteTime": {
     "end_time": "2023-09-08T11:50:58.666974736Z",
     "start_time": "2023-09-08T11:50:58.607937298Z"
    }
   },
   "outputs": [],
   "source": [
    "print(\"Train MSE score: \", mean_squared_error(y_train, y_pred_train))\n",
    "print(\"Test MSE score: \", mean_squared_error(y_test, y_pred_test))\n",
    "\n",
    "print(\"Train R2 score: \", r2_score(y_train, y_pred_train))\n",
    "print(\"Test R2 score: \", r2_score(y_test, y_pred_test))"
   ]
  },
  {
   "cell_type": "markdown",
   "metadata": {
    "id": "uLjM8CDR6emY"
   },
   "source": [
    "**Question 2:** What does this score represent? Is it good? (try to answer using the different options proposed for the dataset creation)."
   ]
  },
  {
   "cell_type": "markdown",
   "metadata": {
    "ExecuteTime": {
     "end_time": "2023-09-08T11:50:58.949573317Z",
     "start_time": "2023-09-08T11:50:58.921243270Z"
    }
   },
   "source": [
    "**Your answer here**"
   ]
  },
  {
   "cell_type": "markdown",
   "metadata": {
    "id": "Mf15Lh8O6emZ"
   },
   "source": [
    "We can also compare the true linear coefficients with the coefficients found by the linear regression in the case of generated dataset:"
   ]
  },
  {
   "cell_type": "code",
   "execution_count": null,
   "metadata": {
    "ExecuteTime": {
     "end_time": "2023-09-08T11:50:59.292027866Z",
     "start_time": "2023-09-08T11:50:59.271087324Z"
    },
    "colab": {
     "base_uri": "https://localhost:8080/"
    },
    "executionInfo": {
     "elapsed": 250,
     "status": "ok",
     "timestamp": 1689598717427,
     "user": {
      "displayName": "Igor Carrara",
      "userId": "05451714045321385567"
     },
     "user_tz": -120
    },
    "id": "atOxWdKP6emZ",
    "outputId": "1694adc8-1d84-445e-bdab-1f2b48168e27"
   },
   "outputs": [],
   "source": [
    "print(coeff)"
   ]
  },
  {
   "cell_type": "code",
   "execution_count": null,
   "metadata": {
    "ExecuteTime": {
     "end_time": "2023-09-08T11:50:59.586995322Z",
     "start_time": "2023-09-08T11:50:59.532803277Z"
    },
    "colab": {
     "base_uri": "https://localhost:8080/"
    },
    "executionInfo": {
     "elapsed": 5,
     "status": "ok",
     "timestamp": 1689598717901,
     "user": {
      "displayName": "Igor Carrara",
      "userId": "05451714045321385567"
     },
     "user_tz": -120
    },
    "id": "tCM8XdxC6emZ",
    "outputId": "41f89b0d-bb99-43fd-a6a2-55d5670c29a0"
   },
   "outputs": [],
   "source": [
    "print(lr.coef_, lr.intercept_)"
   ]
  },
  {
   "cell_type": "markdown",
   "metadata": {},
   "source": [
    "## Example of under/overfitting"
   ]
  },
  {
   "cell_type": "code",
   "execution_count": null,
   "metadata": {
    "ExecuteTime": {
     "end_time": "2023-09-08T11:50:59.827339130Z",
     "start_time": "2023-09-08T11:50:59.802161593Z"
    }
   },
   "outputs": [],
   "source": [
    "import numpy as np\n",
    "import matplotlib.pyplot as plt\n",
    "\n",
    "from sklearn.linear_model import LinearRegression\n",
    "from sklearn.metrics import mean_squared_error\n",
    "from sklearn.preprocessing import PolynomialFeatures\n",
    "\n",
    "# Generate training samples\n",
    "x_train = np.random.rand(100,1)\n",
    "y_train = - x_train + 3 * (x_train ** 2) - 2 * (x_train ** 3) + 2 + np.random.rand(100,1) * 0.1\n",
    "\n",
    "# Generate some outlier points in the dataset\n",
    "x_train_noise = np.random.rand(10,1)\n",
    "y_train_noise = - x_train_noise + 3 * (x_train_noise ** 2) - 2 * (x_train_noise ** 3) + 2 \\\n",
    "                + np.random.rand(10,1) * 0.5\n",
    "\n",
    "# Combine 'normal' points and 'outlier' points to a single training set\n",
    "x_train = np.concatenate((x_train, x_train_noise), axis=0)\n",
    "y_train = np.concatenate((y_train, y_train_noise), axis=0)\n",
    "\n",
    "# Generate test samples\n",
    "x_test = np.random.rand(20,1)\n",
    "y_test = - x_test + 3 * (x_test ** 2) - 2 * (x_test ** 3) + 2 + np.random.rand(20,1) * 0.1"
   ]
  },
  {
   "cell_type": "code",
   "execution_count": null,
   "metadata": {
    "ExecuteTime": {
     "end_time": "2023-09-08T11:51:00.430751526Z",
     "start_time": "2023-09-08T11:51:00.093325516Z"
    }
   },
   "outputs": [],
   "source": [
    "# Plot training samples\n"
   ]
  },
  {
   "cell_type": "markdown",
   "metadata": {},
   "source": [
    "##### Degree 1: Underfit"
   ]
  },
  {
   "cell_type": "code",
   "execution_count": null,
   "metadata": {
    "ExecuteTime": {
     "end_time": "2023-09-08T11:51:00.568315988Z",
     "start_time": "2023-09-08T11:51:00.426289108Z"
    }
   },
   "outputs": [],
   "source": [
    "# Generate polynomial features\n",
    "polynomial_features= PolynomialFeatures(degree=1)\n",
    "x_train_poly = polynomial_features.fit_transform(x_train)[:,1:]\n",
    "x_test_poly = polynomial_features.fit_transform(x_test)[:,1:]\n",
    "\n",
    "# Create linear regression model\n",
    "\n",
    "\n",
    "# Fit model to polynomial data\n",
    "\n",
    "\n",
    "# Print fitted model : parameters, train score and test score\n",
    "print('Coef:', model.coef_, 'Intercept:', model.intercept_)\n",
    "\n",
    "print('Train score:', mean_squared_error(model.predict(x_train_poly), y_train))\n",
    "print('Test score:', mean_squared_error(model.predict(x_test_poly), y_test))"
   ]
  },
  {
   "cell_type": "code",
   "execution_count": null,
   "metadata": {
    "ExecuteTime": {
     "end_time": "2023-09-08T11:51:00.888970510Z",
     "start_time": "2023-09-08T11:51:00.556399374Z"
    }
   },
   "outputs": [],
   "source": [
    "# Plot the fitted line on the graph\n",
    "idx = np.argsort(x_train, axis=0)[:,0]\n",
    "plt.plot(x_train[idx], model.predict(x_train_poly)[idx], 'r', label='Fitting line')\n",
    "plt.scatter(x_train,y_train, label='Training samples')\n",
    "plt.scatter(x_test,y_test, label='Test samples')\n",
    "plt.legend()"
   ]
  },
  {
   "cell_type": "markdown",
   "metadata": {},
   "source": [
    "##### Correct Polinomial"
   ]
  },
  {
   "cell_type": "code",
   "execution_count": null,
   "metadata": {
    "ExecuteTime": {
     "end_time": "2023-09-08T11:51:01.152192053Z",
     "start_time": "2023-09-08T11:51:00.994357950Z"
    }
   },
   "outputs": [],
   "source": [
    "# Generate polynomial features : Polynomial of degree 3\n",
    "\n",
    "\n",
    "# Create linear regression model\n",
    "\n",
    "\n",
    "# fit model to polynomial data\n",
    "\n",
    "\n",
    "# print fitted model\n"
   ]
  },
  {
   "cell_type": "code",
   "execution_count": null,
   "metadata": {
    "ExecuteTime": {
     "end_time": "2023-09-08T11:51:01.555244320Z",
     "start_time": "2023-09-08T11:51:01.117331685Z"
    }
   },
   "outputs": [],
   "source": [
    "# Plot\n"
   ]
  },
  {
   "cell_type": "markdown",
   "metadata": {},
   "source": [
    "##### High Degree: Overfit"
   ]
  },
  {
   "cell_type": "code",
   "execution_count": null,
   "metadata": {
    "ExecuteTime": {
     "end_time": "2023-09-08T11:51:01.714478661Z",
     "start_time": "2023-09-08T11:51:01.507266674Z"
    }
   },
   "outputs": [],
   "source": [
    "# Generate polynomial features : degree 30\n",
    "\n",
    "# Create linear regression model\n",
    "\n",
    "\n",
    "# fit model to polynomial data\n",
    "\n",
    "\n",
    "# print fitted model\n"
   ]
  },
  {
   "cell_type": "code",
   "execution_count": null,
   "metadata": {
    "ExecuteTime": {
     "end_time": "2023-09-08T11:51:01.977681910Z",
     "start_time": "2023-09-08T11:51:01.693390731Z"
    }
   },
   "outputs": [],
   "source": [
    "# Plot\n"
   ]
  },
  {
   "cell_type": "markdown",
   "metadata": {
    "id": "3rzuGHt96ema"
   },
   "source": [
    "### Linear Regression: Diabetes Dataset"
   ]
  },
  {
   "cell_type": "code",
   "execution_count": null,
   "metadata": {
    "ExecuteTime": {
     "end_time": "2023-07-24T14:42:52.147079870Z",
     "start_time": "2023-07-24T14:42:52.134770684Z"
    },
    "id": "A0CfVYc-6ema"
   },
   "outputs": [],
   "source": [
    "# Load the dataset\n",
    "diab = datasets.load_diabetes()\n",
    "X = \n",
    "y = "
   ]
  },
  {
   "cell_type": "markdown",
   "metadata": {
    "id": "3b6NwkCs6ema"
   },
   "source": [
    "**Question 4:** how many data points ?"
   ]
  },
  {
   "cell_type": "code",
   "execution_count": null,
   "metadata": {
    "id": "CEvuyM9R6ema"
   },
   "outputs": [],
   "source": [
    "# answer here\n"
   ]
  },
  {
   "cell_type": "markdown",
   "metadata": {
    "id": "_RgYd83L6emb"
   },
   "source": [
    "**Question 5**: type of data ? dimension of data ? type of labels ?"
   ]
  },
  {
   "cell_type": "code",
   "execution_count": null,
   "metadata": {
    "id": "uKEMSYMt6emb"
   },
   "outputs": [],
   "source": [
    "# answer here\n"
   ]
  },
  {
   "cell_type": "markdown",
   "metadata": {
    "id": "XDVbXYPm6emb"
   },
   "source": [
    "**Question 5bis**: What are the features ?"
   ]
  },
  {
   "cell_type": "code",
   "execution_count": null,
   "metadata": {
    "id": "pzvxFKFw6emb"
   },
   "outputs": [],
   "source": [
    "# answer here\n"
   ]
  },
  {
   "cell_type": "markdown",
   "metadata": {
    "id": "PJmHjUmG6emb"
   },
   "source": [
    "**Question 6a:** Split train/test dataset"
   ]
  },
  {
   "cell_type": "code",
   "execution_count": null,
   "metadata": {
    "id": "mWkmbHYQ6emc"
   },
   "outputs": [],
   "source": [
    "# answer here\n"
   ]
  },
  {
   "cell_type": "markdown",
   "metadata": {
    "id": "NtGE1ePu6emc"
   },
   "source": [
    "**Question 6b:** How many training data points? How many test data points?"
   ]
  },
  {
   "cell_type": "code",
   "execution_count": null,
   "metadata": {
    "id": "cdyKQSma6emc"
   },
   "outputs": [],
   "source": [
    "# answer here\n"
   ]
  },
  {
   "cell_type": "markdown",
   "metadata": {
    "id": "oXt2qzBF6emc"
   },
   "source": [
    "**Question 7:** Linear regression. Create a default linear regression and train this regression."
   ]
  },
  {
   "cell_type": "code",
   "execution_count": null,
   "metadata": {
    "id": "TC2ORo0E6emc"
   },
   "outputs": [],
   "source": [
    "# answer here\n",
    "# Create linear regression model\n",
    "\n",
    "\n",
    "# fit model to polynomial data\n"
   ]
  },
  {
   "cell_type": "markdown",
   "metadata": {
    "id": "pJ7TTfaW6emc"
   },
   "source": [
    "**Question 8a:** Print the score. What do they represent?"
   ]
  },
  {
   "cell_type": "code",
   "execution_count": null,
   "metadata": {
    "id": "SujUF8Zv6emh"
   },
   "outputs": [],
   "source": [
    "# answer here\n"
   ]
  },
  {
   "cell_type": "markdown",
   "metadata": {},
   "source": [
    "**Your answer here**"
   ]
  },
  {
   "cell_type": "markdown",
   "metadata": {
    "id": "c4iN4kn_6emi"
   },
   "source": [
    "**Question 8b:** What are the MSE and RMSE values?"
   ]
  },
  {
   "cell_type": "code",
   "execution_count": null,
   "metadata": {
    "id": "_czeI34C6emi"
   },
   "outputs": [],
   "source": [
    "# answer here\n"
   ]
  },
  {
   "cell_type": "markdown",
   "metadata": {
    "id": "CqY14Q676emi"
   },
   "source": [
    "**Question 9:** How could you test a non-linear regression as for example a second-degree polynomial?"
   ]
  },
  {
   "cell_type": "code",
   "execution_count": null,
   "metadata": {
    "id": "gbGN9bBU6emi"
   },
   "outputs": [],
   "source": [
    "# answer here\n"
   ]
  }
 ],
 "metadata": {
  "colab": {
   "provenance": []
  },
  "hide_input": false,
  "kernelspec": {
   "display_name": "Python 3 (ipykernel)",
   "language": "python",
   "name": "python3"
  },
  "language_info": {
   "codemirror_mode": {
    "name": "ipython",
    "version": 3
   },
   "file_extension": ".py",
   "mimetype": "text/x-python",
   "name": "python",
   "nbconvert_exporter": "python",
   "pygments_lexer": "ipython3",
   "version": "3.11.4"
  },
  "latex_envs": {
   "LaTeX_envs_menu_present": true,
   "autoclose": false,
   "autocomplete": true,
   "bibliofile": "biblio.bib",
   "cite_by": "apalike",
   "current_citInitial": 1,
   "eqLabelWithNumbers": true,
   "eqNumInitial": 1,
   "hotkeys": {
    "equation": "Ctrl-E",
    "itemize": "Ctrl-I"
   },
   "labels_anchors": false,
   "latex_user_defs": false,
   "report_style_numbering": false,
   "user_envs_cfg": false
  },
  "varInspector": {
   "cols": {
    "lenName": 16,
    "lenType": 16,
    "lenVar": 40
   },
   "kernels_config": {
    "python": {
     "delete_cmd_postfix": "",
     "delete_cmd_prefix": "del ",
     "library": "var_list.py",
     "varRefreshCmd": "print(var_dic_list())"
    },
    "r": {
     "delete_cmd_postfix": ") ",
     "delete_cmd_prefix": "rm(",
     "library": "var_list.r",
     "varRefreshCmd": "cat(var_dic_list()) "
    }
   },
   "types_to_exclude": [
    "module",
    "function",
    "builtin_function_or_method",
    "instance",
    "_Feature"
   ],
   "window_display": false
  }
 },
 "nbformat": 4,
 "nbformat_minor": 1
}
