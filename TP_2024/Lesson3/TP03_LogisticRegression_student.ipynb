{
 "cells": [
  {
   "cell_type": "markdown",
   "metadata": {},
   "source": [
    "# Logistic Regression\n",
    "\n",
    "More information at: https://scikit-learn.org/stable/modules/generated/sklearn.linear_model.LogisticRegression.html#sklearn.linear_model.LogisticRegression\n"
   ]
  },
  {
   "cell_type": "markdown",
   "metadata": {},
   "source": [
    "## Classification metrics\n",
    "\n",
    "More detail at (https://scikit-learn.org/stable/modules/classes.html#module-sklearn.metrics)\n",
    "\n",
    "The evaluation of performance are based on the Confusion Matrix\n",
    "- Accuracy\n",
    "- Precision (P)\n",
    "- Recall (R)\n",
    "- F1 score (F1)\n",
    "- Area under the ROC (Receiver Operating Characteristic) curve or simply Area Under Curve (AUC)\n",
    "- Matthew Correlation Coefficient"
   ]
  },
  {
   "cell_type": "code",
   "execution_count": null,
   "metadata": {
    "ExecuteTime": {
     "end_time": "2023-09-08T12:21:48.306641970Z",
     "start_time": "2023-09-08T12:21:48.151172730Z"
    }
   },
   "outputs": [],
   "source": [
    "from IPython import display\n",
    "display.Image(\"Image/ConfusionMatrix1.png\")"
   ]
  },
  {
   "cell_type": "markdown",
   "metadata": {},
   "source": [
    "### Micro/Macro Metrics\n",
    "\n",
    "For multiclass classification we use Micro/Macro average.  A macro-average will compute the metric independently for each class and then take the average (hence treating all classes equally), whereas a micro-average will aggregate the contributions of all classes to compute the average metric. In a multi-class classification setup, micro-average is preferable if you suspect there might be class imbalance (i.e you may have many more examples of one class than of other classes).\n",
    "\n",
    "Nice tutorial at (https://iamirmasoud.com/2022/06/19/understanding-micro-macro-and-weighted-averages-for-scikit-learn-metrics-in-multi-class-classification-with-example/)\n"
   ]
  },
  {
   "cell_type": "markdown",
   "metadata": {},
   "source": [
    "## Simple logistic regression\n",
    "\n",
    "Let's start generating a sample with three intersecting clusters"
   ]
  },
  {
   "cell_type": "code",
   "execution_count": null,
   "metadata": {
    "ExecuteTime": {
     "end_time": "2023-09-08T12:21:49.009232110Z",
     "start_time": "2023-09-08T12:21:48.192771789Z"
    }
   },
   "outputs": [],
   "source": [
    "# Do not modify\n",
    "import matplotlib.pyplot as plt\n",
    "\n",
    "from sklearn.linear_model import LogisticRegression\n",
    "from sklearn.datasets import make_blobs\n",
    "from sklearn.metrics import ConfusionMatrixDisplay\n",
    "\n",
    "# we create two clusters of random points\n",
    "n_samples = 1000\n",
    "centers = 3\n",
    "clusters_std = 4\n",
    "X, y = make_blobs(\n",
    "    n_samples=n_samples,\n",
    "    n_features=2,\n",
    "    centers=centers,\n",
    "    cluster_std=clusters_std,\n",
    "    random_state=42,\n",
    "    shuffle=False,\n",
    ")"
   ]
  },
  {
   "cell_type": "markdown",
   "metadata": {},
   "source": [
    "Plot the samples"
   ]
  },
  {
   "cell_type": "code",
   "execution_count": null,
   "metadata": {
    "ExecuteTime": {
     "end_time": "2023-09-08T12:21:49.191121863Z",
     "start_time": "2023-09-08T12:21:48.992743002Z"
    }
   },
   "outputs": [],
   "source": [
    "# plot the samples\n"
   ]
  },
  {
   "cell_type": "markdown",
   "metadata": {},
   "source": [
    "Split the data into train and test"
   ]
  },
  {
   "cell_type": "code",
   "execution_count": null,
   "metadata": {
    "ExecuteTime": {
     "end_time": "2023-09-08T12:21:49.194980388Z",
     "start_time": "2023-09-08T12:21:49.190666217Z"
    }
   },
   "outputs": [],
   "source": []
  },
  {
   "cell_type": "markdown",
   "metadata": {},
   "source": [
    "Fit the model and get the separating hyperplane: use the LogisticRegression class"
   ]
  },
  {
   "cell_type": "code",
   "execution_count": null,
   "metadata": {
    "ExecuteTime": {
     "end_time": "2023-09-08T12:21:49.235379953Z",
     "start_time": "2023-09-08T12:21:49.193701075Z"
    }
   },
   "outputs": [],
   "source": []
  },
  {
   "cell_type": "markdown",
   "metadata": {},
   "source": [
    "Make the predictions on the test input data"
   ]
  },
  {
   "cell_type": "code",
   "execution_count": null,
   "metadata": {
    "ExecuteTime": {
     "end_time": "2023-09-08T12:21:49.235628346Z",
     "start_time": "2023-09-08T12:21:49.213698682Z"
    }
   },
   "outputs": [],
   "source": []
  },
  {
   "cell_type": "markdown",
   "metadata": {},
   "source": [
    "Classification report and confusion matrix"
   ]
  },
  {
   "cell_type": "code",
   "execution_count": null,
   "metadata": {
    "ExecuteTime": {
     "end_time": "2023-09-08T12:21:49.235871926Z",
     "start_time": "2023-09-08T12:21:49.216444986Z"
    }
   },
   "outputs": [],
   "source": [
    "# Do not modify\n",
    "from sklearn.metrics import classification_report\n",
    "\n",
    "# Complete here\n"
   ]
  },
  {
   "cell_type": "code",
   "execution_count": null,
   "metadata": {
    "ExecuteTime": {
     "end_time": "2023-09-08T12:21:49.451690030Z",
     "start_time": "2023-09-08T12:21:49.228295859Z"
    }
   },
   "outputs": [],
   "source": [
    "# Complete here\n"
   ]
  },
  {
   "cell_type": "markdown",
   "metadata": {},
   "source": [
    "## Balanced/Unbalanced Dataset\n",
    "\n",
    "Let's now create two clusters with very different sample sizes"
   ]
  },
  {
   "cell_type": "code",
   "execution_count": null,
   "metadata": {
    "ExecuteTime": {
     "end_time": "2023-09-08T12:22:06.194225929Z",
     "start_time": "2023-09-08T12:22:06.157843700Z"
    }
   },
   "outputs": [],
   "source": [
    "import matplotlib.pyplot as plt\n",
    "\n",
    "from sklearn.linear_model import LogisticRegression\n",
    "from sklearn.datasets import make_blobs\n",
    "\n",
    "# we create two clusters of random points with very different sample sizes\n",
    "n_samples_1 = 10000\n",
    "n_samples_2 = 1000\n",
    "centers = [[0.0, 0.0], [3.0, 3.0]]\n",
    "clusters_std = [1.5, 0.5]\n",
    "X, y = make_blobs(\n",
    "    n_samples=[n_samples_1, n_samples_2],\n",
    "    centers=centers,\n",
    "    cluster_std=clusters_std,\n",
    "    random_state=42,\n",
    "    shuffle=False,\n",
    ")"
   ]
  },
  {
   "cell_type": "markdown",
   "metadata": {},
   "source": [
    "Plot the samples"
   ]
  },
  {
   "cell_type": "code",
   "execution_count": null,
   "metadata": {
    "ExecuteTime": {
     "end_time": "2023-09-08T12:22:07.131693113Z",
     "start_time": "2023-09-08T12:22:06.754691791Z"
    }
   },
   "outputs": [],
   "source": [
    "# plot the samples\n"
   ]
  },
  {
   "cell_type": "markdown",
   "metadata": {},
   "source": [
    "Split train and test data"
   ]
  },
  {
   "cell_type": "code",
   "execution_count": null,
   "metadata": {
    "ExecuteTime": {
     "end_time": "2023-09-08T12:22:07.136014293Z",
     "start_time": "2023-09-08T12:22:07.133724319Z"
    }
   },
   "outputs": [],
   "source": []
  },
  {
   "cell_type": "markdown",
   "metadata": {},
   "source": [
    "Fit the model"
   ]
  },
  {
   "cell_type": "code",
   "execution_count": null,
   "metadata": {
    "ExecuteTime": {
     "end_time": "2023-09-08T12:22:07.691258163Z",
     "start_time": "2023-09-08T12:22:07.612267423Z"
    }
   },
   "outputs": [],
   "source": []
  },
  {
   "cell_type": "markdown",
   "metadata": {},
   "source": [
    "Make predictions"
   ]
  },
  {
   "cell_type": "code",
   "execution_count": null,
   "metadata": {
    "ExecuteTime": {
     "end_time": "2023-09-08T12:22:08.901903818Z",
     "start_time": "2023-09-08T12:22:08.877294019Z"
    }
   },
   "outputs": [],
   "source": []
  },
  {
   "cell_type": "markdown",
   "metadata": {},
   "source": [
    "Calculate the accuracy with `accuracy_score` and `matthews_corrcoef`: what do you notice?"
   ]
  },
  {
   "cell_type": "code",
   "execution_count": null,
   "metadata": {
    "ExecuteTime": {
     "end_time": "2023-09-08T12:22:10.047363518Z",
     "start_time": "2023-09-08T12:22:09.997871083Z"
    }
   },
   "outputs": [],
   "source": [
    "# Do not modify\n",
    "from sklearn.metrics import accuracy_score, matthews_corrcoef\n",
    "\n",
    "# Calculate using Accuracy\n"
   ]
  },
  {
   "cell_type": "code",
   "execution_count": null,
   "metadata": {
    "ExecuteTime": {
     "end_time": "2023-09-08T12:22:11.286227662Z",
     "start_time": "2023-09-08T12:22:11.263068886Z"
    }
   },
   "outputs": [],
   "source": [
    "# Calculate using MCC\n"
   ]
  },
  {
   "cell_type": "markdown",
   "metadata": {},
   "source": [
    "Different startegy to deal with this problem\n",
    "- Collecting more data\n",
    "- Use the right evaluation metrics\n",
    "- Under-sampling the majority class\n",
    "- Over-sampling the minority class\n",
    "- Cost in your Model definition"
   ]
  },
  {
   "cell_type": "markdown",
   "metadata": {},
   "source": [
    "## Stratified Train/Test/Validation split\n",
    "\n",
    "Stratified sampling is a sampling technique where the samples are selected in the same proportion (by dividing the population into groups called ‘strata’ based on a characteristic) as they appear in the population. Let's analyze a more complex dataset and make a stratified split."
   ]
  },
  {
   "cell_type": "code",
   "execution_count": null,
   "metadata": {
    "ExecuteTime": {
     "end_time": "2023-07-24T15:33:09.365742538Z",
     "start_time": "2023-07-24T15:33:09.326357626Z"
    }
   },
   "outputs": [],
   "source": [
    "# Do not modify\n",
    "# import dataset aggregated dataset metadata\n",
    "import json\n",
    "\n",
    "with open('./Data/tutorial_metadata.json', 'r') as f:\n",
    "    metadata = json.load(f)\n",
    "    lines = f.readlines()\n",
    "\n",
    "print(metadata.keys())"
   ]
  },
  {
   "cell_type": "code",
   "execution_count": null,
   "metadata": {
    "ExecuteTime": {
     "end_time": "2023-07-24T15:33:28.854247073Z",
     "start_time": "2023-07-24T15:33:28.511788143Z"
    }
   },
   "outputs": [],
   "source": [
    "# Do not modify\n",
    "import pandas as pd\n",
    "newdf = pd.DataFrame(metadata)\n",
    "newdf.head()"
   ]
  },
  {
   "cell_type": "markdown",
   "metadata": {},
   "source": [
    "The `covariates` column in this dataset contains a lot of useful information:"
   ]
  },
  {
   "cell_type": "code",
   "execution_count": null,
   "metadata": {
    "ExecuteTime": {
     "end_time": "2023-07-24T15:33:43.669208972Z",
     "start_time": "2023-07-24T15:33:43.611588087Z"
    }
   },
   "outputs": [],
   "source": [
    "# Do not modify\n",
    "newdf[\"covariates\"][0]"
   ]
  },
  {
   "cell_type": "markdown",
   "metadata": {},
   "source": [
    "Find a way to add each datum in the `covariates` column as a new column to the main dataframe."
   ]
  },
  {
   "cell_type": "code",
   "execution_count": null,
   "metadata": {
    "ExecuteTime": {
     "end_time": "2023-07-24T15:34:23.499175988Z",
     "start_time": "2023-07-24T15:34:23.469142961Z"
    }
   },
   "outputs": [],
   "source": []
  },
  {
   "cell_type": "code",
   "execution_count": null,
   "metadata": {
    "ExecuteTime": {
     "end_time": "2023-07-24T15:34:27.831947312Z",
     "start_time": "2023-07-24T15:34:27.792409746Z"
    }
   },
   "outputs": [],
   "source": [
    "df.info()"
   ]
  },
  {
   "cell_type": "markdown",
   "metadata": {},
   "source": [
    "Now let's focus on the `age`: delete the `NaN` values and create a new column `AgeGroup` to binarize the `age` datum into two classes: `'50-'` if 50 years or below, `'51+'` if 51 years or above. "
   ]
  },
  {
   "cell_type": "code",
   "execution_count": null,
   "metadata": {
    "ExecuteTime": {
     "end_time": "2023-07-24T15:37:14.578888630Z",
     "start_time": "2023-07-24T15:37:14.522322182Z"
    }
   },
   "outputs": [],
   "source": [
    "import numpy as np\n",
    "\n",
    "# Delete NaN\n",
    "\n",
    "\n",
    "# Binarize Age Data\n"
   ]
  },
  {
   "cell_type": "markdown",
   "metadata": {},
   "source": [
    "How populated are the two new labels of `AgeGroup` ?"
   ]
  },
  {
   "cell_type": "code",
   "execution_count": null,
   "metadata": {
    "ExecuteTime": {
     "end_time": "2023-07-24T15:37:17.817225562Z",
     "start_time": "2023-07-24T15:37:17.778479928Z"
    }
   },
   "outputs": [],
   "source": [
    "# Print number of each age\n"
   ]
  },
  {
   "cell_type": "markdown",
   "metadata": {},
   "source": [
    "Let's try and make a stratified split over three categorical variables: `outcome`, `female` and `AgeGroup`"
   ]
  },
  {
   "cell_type": "code",
   "execution_count": null,
   "metadata": {
    "ExecuteTime": {
     "end_time": "2023-07-24T15:37:18.900485410Z",
     "start_time": "2023-07-24T15:37:18.855863129Z"
    }
   },
   "outputs": [],
   "source": [
    "# Do not modify\n",
    "from sklearn.model_selection import train_test_split\n",
    "\n",
    "# Split the data into training and testing sets (Stratified Split)\n"
   ]
  },
  {
   "cell_type": "markdown",
   "metadata": {},
   "source": [
    "Let's check whether we split the data uniformly with respect to the outcome"
   ]
  },
  {
   "cell_type": "code",
   "execution_count": null,
   "metadata": {
    "ExecuteTime": {
     "end_time": "2023-07-24T15:37:54.834919520Z",
     "start_time": "2023-07-24T15:37:54.792545510Z"
    }
   },
   "outputs": [],
   "source": [
    "# Do not modify\n",
    "# Create a Deliverable table\n",
    "data = [[len(train_data)/len(df), len(train_data[train_data[\"outcome\"] == 0])/len(train_data)],\n",
    "        [len(val_data)/len(df), len(val_data[val_data[\"outcome\"] == 0])/len(val_data)],\n",
    "        [len(test_data)/len(df), len(test_data[test_data[\"outcome\"] == 0])/len(test_data)]]\n",
    "\n",
    "# Create the pandas DataFrame with column name is provided explicitly\n",
    "df_Final = pd.DataFrame(data, columns=['Percentage of Patient', 'Percentace of Not Recovery'])\n",
    "df_Final"
   ]
  },
  {
   "cell_type": "markdown",
   "metadata": {},
   "source": [
    "Check the other two selected features:"
   ]
  },
  {
   "cell_type": "code",
   "execution_count": null,
   "metadata": {},
   "outputs": [],
   "source": []
  },
  {
   "cell_type": "code",
   "execution_count": null,
   "metadata": {},
   "outputs": [],
   "source": []
  },
  {
   "cell_type": "markdown",
   "metadata": {},
   "source": [
    "## Cross Validation\n",
    "\n",
    "Sometimes, the dataset size is not enough for correctly training our models while avoiding bias. In these cases, cross validation can reveal very useful: the training/testing phases are repeated a number of times, and each time a different part of the dataset is taken as test set. "
   ]
  },
  {
   "cell_type": "code",
   "execution_count": null,
   "metadata": {
    "ExecuteTime": {
     "end_time": "2023-07-24T15:55:01.017287089Z",
     "start_time": "2023-07-24T15:55:00.962251839Z"
    }
   },
   "outputs": [],
   "source": [
    "display.Image(\"Image/CrossValidation.png\")"
   ]
  },
  {
   "cell_type": "markdown",
   "metadata": {},
   "source": [
    "Let's try with a very limited dataset"
   ]
  },
  {
   "cell_type": "code",
   "execution_count": null,
   "metadata": {
    "ExecuteTime": {
     "end_time": "2023-07-24T16:01:32.442865385Z",
     "start_time": "2023-07-24T16:01:32.393058553Z"
    }
   },
   "outputs": [],
   "source": [
    "# Do not modify\n",
    "from sklearn.datasets import make_classification\n",
    "from sklearn.model_selection import StratifiedKFold\n",
    "from sklearn.model_selection import GridSearchCV\n",
    "\n",
    "X, y = make_classification(\n",
    "    n_samples=100,\n",
    "    n_features=8,\n",
    "    n_informative=6,\n",
    "    n_classes=2,\n",
    "    random_state=42\n",
    ")"
   ]
  },
  {
   "cell_type": "code",
   "execution_count": null,
   "metadata": {
    "ExecuteTime": {
     "end_time": "2023-07-24T16:09:46.782794773Z",
     "start_time": "2023-07-24T16:09:46.739134624Z"
    }
   },
   "outputs": [],
   "source": [
    "# Do not modify\n",
    "# Define classifier\n",
    "clf = LogisticRegression(penalty='none')"
   ]
  },
  {
   "cell_type": "code",
   "execution_count": null,
   "metadata": {
    "ExecuteTime": {
     "end_time": "2023-07-24T16:09:47.200061537Z",
     "start_time": "2023-07-24T16:09:47.131278824Z"
    }
   },
   "outputs": [],
   "source": [
    "# Do not modify\n",
    "# Split data in Train and Test\n",
    "X_, X_test, y_, y_test = train_test_split(X, y, test_size=0.3, random_state=42)\n",
    "\n",
    "# Stratified KFold\n",
    "cv = StratifiedKFold(5, shuffle=True, random_state=42)\n",
    "\n",
    "for cv_ind, (train, val) in enumerate(cv.split(X_, y_)):\n",
    "    clf.fit(X_[train], y_[train])\n",
    "    y_pred_val = clf.predict(X_[val])\n",
    "    print(\"Validation Accuracy score: \", accuracy_score(y_[val], y_pred_val))\n",
    "\n",
    "\n",
    "y_pred_test = clf.predict(X_test)\n",
    "print(\"Test Accuracy score: \", accuracy_score(y_test, y_pred_test))"
   ]
  },
  {
   "cell_type": "markdown",
   "metadata": {},
   "source": [
    "Depending on the choice of the test set, the accuracy could have varied greatly (from 0.42 to 0.85). The cross validation avoids this bias."
   ]
  },
  {
   "cell_type": "markdown",
   "metadata": {},
   "source": [
    "Is the obtained accuracy the best? We can make sure by doing a grid search in the space of the parameters."
   ]
  },
  {
   "cell_type": "code",
   "execution_count": null,
   "metadata": {
    "ExecuteTime": {
     "end_time": "2023-07-24T16:09:48.709914233Z",
     "start_time": "2023-07-24T16:09:48.621626056Z"
    }
   },
   "outputs": [],
   "source": [
    "# Do not modify\n",
    "# Split data in Train and Test\n",
    "X_, X_test, y_, y_test = train_test_split(X, y, test_size=0.3, random_state=42)\n",
    "\n",
    "# Stratified KFold\n",
    "cv = StratifiedKFold(5, shuffle=True, random_state=42)\n",
    "\n",
    "# Parameter for GridSearch\n",
    "parameters = {'penalty':('l2', None)}\n",
    "\n",
    "search = GridSearchCV(clf,\n",
    "                   parameters,\n",
    "                   cv=cv,\n",
    "                   refit=False\n",
    "                   )\n",
    "\n",
    "# This does the same as refit=True\n",
    "search.fit(X_, y_)"
   ]
  },
  {
   "cell_type": "code",
   "execution_count": null,
   "metadata": {
    "ExecuteTime": {
     "end_time": "2023-07-24T16:09:39.249752049Z",
     "start_time": "2023-07-24T16:09:39.206933361Z"
    }
   },
   "outputs": [],
   "source": [
    "# Do not modify\n",
    "clf_final = clf.set_params(**search.best_params_)\n",
    "y_pred_test = clf.predict(X_test)\n",
    "print(\"Test Accuracy score: \", accuracy_score(y_test, y_pred_test))"
   ]
  },
  {
   "cell_type": "markdown",
   "metadata": {
    "heading_collapsed": true
   },
   "source": [
    "## Iris dataset\n",
    "\n",
    "Let's now apply these techniques to some classical datasets. The Iris dataset collects four features of the observations of three species of iris flower. The aim is to correctly classify the data points into the three species."
   ]
  },
  {
   "cell_type": "code",
   "execution_count": null,
   "metadata": {
    "ExecuteTime": {
     "end_time": "2023-07-24T16:16:27.435003818Z",
     "start_time": "2023-07-24T16:16:27.358483455Z"
    }
   },
   "outputs": [],
   "source": [
    "# Do not modify\n",
    "# necessary imports\n",
    "import time\n",
    "import matplotlib.pyplot as plt\n",
    "import numpy as np\n",
    "from random import randint\n",
    "from sklearn import datasets\n",
    "from sklearn.model_selection import train_test_split\n",
    "from sklearn.linear_model import LogisticRegression\n",
    "from sklearn.metrics import accuracy_score, recall_score, f1_score, ConfusionMatrixDisplay\n",
    "from sklearn.preprocessing import StandardScaler\n",
    "from sklearn.pipeline import Pipeline"
   ]
  },
  {
   "cell_type": "code",
   "execution_count": null,
   "metadata": {
    "ExecuteTime": {
     "end_time": "2023-07-24T16:16:27.902460040Z",
     "start_time": "2023-07-24T16:16:27.847984788Z"
    },
    "hidden": true
   },
   "outputs": [],
   "source": [
    "# Do not modify\n",
    "# loading the dataset\n",
    "iris = datasets.load_iris()\n",
    "X = iris.data\n",
    "y = iris.target"
   ]
  },
  {
   "cell_type": "markdown",
   "metadata": {},
   "source": [
    "Please check out the Pipeline class on sklearn"
   ]
  },
  {
   "cell_type": "code",
   "execution_count": null,
   "metadata": {
    "ExecuteTime": {
     "end_time": "2023-07-24T16:16:28.664080231Z",
     "start_time": "2023-07-24T16:16:28.592785128Z"
    }
   },
   "outputs": [],
   "source": [
    "# Do not modify\n",
    "myLogReg = Pipeline(steps=[\n",
    "    (\"StandardScaler\", StandardScaler()),\n",
    "    (\"LogReg\", LogisticRegression())\n",
    "])"
   ]
  },
  {
   "cell_type": "markdown",
   "metadata": {
    "heading_collapsed": true,
    "hidden": true
   },
   "source": [
    "### Binary classification\n",
    "\n",
    "Extract classes 0 and 1 from the dataset"
   ]
  },
  {
   "cell_type": "code",
   "execution_count": null,
   "metadata": {
    "ExecuteTime": {
     "end_time": "2023-07-24T16:16:40.513958648Z",
     "start_time": "2023-07-24T16:16:40.454155289Z"
    },
    "hidden": true
   },
   "outputs": [],
   "source": []
  },
  {
   "cell_type": "markdown",
   "metadata": {},
   "source": [
    "Split train and test datasets"
   ]
  },
  {
   "cell_type": "code",
   "execution_count": null,
   "metadata": {
    "ExecuteTime": {
     "end_time": "2023-07-24T16:16:41.291663427Z",
     "start_time": "2023-07-24T16:16:41.243069380Z"
    },
    "hidden": true
   },
   "outputs": [],
   "source": []
  },
  {
   "cell_type": "markdown",
   "metadata": {},
   "source": [
    "Fit the data"
   ]
  },
  {
   "cell_type": "code",
   "execution_count": null,
   "metadata": {
    "ExecuteTime": {
     "end_time": "2023-07-24T16:16:42.798306616Z",
     "start_time": "2023-07-24T16:16:42.749250693Z"
    },
    "hidden": true
   },
   "outputs": [],
   "source": []
  },
  {
   "cell_type": "markdown",
   "metadata": {},
   "source": [
    "Show the confusion matrix and the F1 score"
   ]
  },
  {
   "cell_type": "code",
   "execution_count": null,
   "metadata": {
    "ExecuteTime": {
     "end_time": "2023-07-24T16:16:53.408010462Z",
     "start_time": "2023-07-24T16:16:53.247211750Z"
    },
    "hidden": true
   },
   "outputs": [],
   "source": []
  },
  {
   "cell_type": "markdown",
   "metadata": {
    "hidden": true
   },
   "source": [
    "### Multinomial classification\n",
    "\n",
    "Repeat, this time using all three classes"
   ]
  },
  {
   "cell_type": "code",
   "execution_count": null,
   "metadata": {
    "ExecuteTime": {
     "end_time": "2023-07-24T16:17:11.891625172Z",
     "start_time": "2023-07-24T16:17:11.839388016Z"
    },
    "hidden": true
   },
   "outputs": [],
   "source": [
    "# split train/test dataset\n"
   ]
  },
  {
   "cell_type": "code",
   "execution_count": null,
   "metadata": {
    "ExecuteTime": {
     "end_time": "2023-07-24T16:17:12.509664330Z",
     "start_time": "2023-07-24T16:17:12.453034668Z"
    },
    "hidden": true
   },
   "outputs": [],
   "source": [
    "# training"
   ]
  },
  {
   "cell_type": "code",
   "execution_count": null,
   "metadata": {
    "ExecuteTime": {
     "end_time": "2023-07-24T16:17:53.215610099Z",
     "start_time": "2023-07-24T16:17:53.040886514Z"
    },
    "hidden": true
   },
   "outputs": [],
   "source": [
    "# evaluation\n"
   ]
  },
  {
   "cell_type": "markdown",
   "metadata": {
    "heading_collapsed": true
   },
   "source": [
    "## MNIST dataset\n",
    "\n",
    "The MNIST dataset is a set of 28x28 pixel images of handwritten figures from 0 to 9. The images must thus be correctly classified in one of the 10 classes."
   ]
  },
  {
   "cell_type": "code",
   "execution_count": null,
   "metadata": {
    "ExecuteTime": {
     "end_time": "2023-07-24T16:18:34.139167281Z",
     "start_time": "2023-07-24T16:18:31.807930420Z"
    },
    "hidden": true
   },
   "outputs": [],
   "source": [
    "# Do not modify\n",
    "# reading the dataset\n",
    "from keras.datasets import mnist\n",
    "(x_train, y_train), (x_test, y_test) = mnist.load_data()"
   ]
  },
  {
   "cell_type": "code",
   "execution_count": null,
   "metadata": {
    "ExecuteTime": {
     "end_time": "2023-07-24T16:18:34.287758005Z",
     "start_time": "2023-07-24T16:18:34.172969342Z"
    },
    "hidden": true
   },
   "outputs": [],
   "source": [
    "# Do not modify\n",
    "#display randomly one of the pictures\n",
    "\n",
    "i = randint(0,len(y_train)-1)\n",
    "plt.imshow(x_train[i],aspect=\"auto\",cmap='gray')\n",
    "plt.show()\n",
    "print(\"The true class is : \", y_train[i])"
   ]
  },
  {
   "cell_type": "code",
   "execution_count": null,
   "metadata": {
    "ExecuteTime": {
     "end_time": "2023-07-24T16:18:35.544401496Z",
     "start_time": "2023-07-24T16:18:35.504499464Z"
    },
    "hidden": true
   },
   "outputs": [],
   "source": [
    "# Do not modify\n",
    "# reshaping the data (a 2d image is transformed to a 1d array)\n",
    "#train\n",
    "n = x_train.shape[0]\n",
    "x_trainLin = x_train.reshape(n,-1)\n",
    "#test\n",
    "n = x_test.shape[0]\n",
    "x_testLin = x_test.reshape(n,-1)"
   ]
  },
  {
   "cell_type": "code",
   "execution_count": null,
   "metadata": {
    "hidden": true
   },
   "outputs": [],
   "source": [
    "# Creation of Pipeline\n"
   ]
  },
  {
   "cell_type": "code",
   "execution_count": null,
   "metadata": {
    "hidden": true
   },
   "outputs": [],
   "source": [
    "# Case of binary classification: let's choose 2 classes among the 10 classes: the 4's and the 8's\n"
   ]
  },
  {
   "cell_type": "code",
   "execution_count": null,
   "metadata": {
    "hidden": true
   },
   "outputs": [],
   "source": [
    "# Learn of logistic regressions\n"
   ]
  },
  {
   "cell_type": "code",
   "execution_count": null,
   "metadata": {
    "hidden": true,
    "scrolled": true
   },
   "outputs": [],
   "source": [
    "# Compute and display the f1 score and the confusion matrix\n"
   ]
  },
  {
   "cell_type": "markdown",
   "metadata": {
    "hidden": true
   },
   "source": [
    "The logistic regression has been build with default parameters. Follow the recommandation and try different hints:\n",
    "- algorithm terminaison: max number of iterations, ....\n",
    "- data preprocessing: standardisation YES\n",
    "- solver (liblinear, sag, saga, ...)\n",
    "- regularisation\n",
    "\n",
    "Did you get better results ? Did some converge faster ?"
   ]
  },
  {
   "cell_type": "markdown",
   "metadata": {
    "heading_collapsed": true,
    "hidden": true
   },
   "source": [
    "### OneVsOne classification of the 10 classes\n",
    "\n",
    "Now try and use the OneVsOneClassifier for classifying all 10 classes via the consensus of $10(10-1)/2 = 45$ binary classifiers"
   ]
  },
  {
   "cell_type": "code",
   "execution_count": null,
   "metadata": {
    "hidden": true
   },
   "outputs": [],
   "source": [
    "# Do not modify\n",
    "from sklearn.multiclass import OneVsOneClassifier\n",
    "\n",
    "# reading the dataset\n",
    "from keras.datasets import mnist\n",
    "(x_train, y_train), (x_test, y_test) = mnist.load_data()\n",
    "\n",
    "# reshaping the data (a 2d image is transformed to a 1d array)\n",
    "#train\n",
    "n = x_train.shape[0]\n",
    "x_trainLin = x_train.reshape(n,-1)\n",
    "#test\n",
    "n = x_test.shape[0]\n",
    "x_testLin = x_test.reshape(n,-1)"
   ]
  },
  {
   "cell_type": "code",
   "execution_count": null,
   "metadata": {},
   "outputs": [],
   "source": [
    "# Define your pipeline\n"
   ]
  },
  {
   "cell_type": "code",
   "execution_count": null,
   "metadata": {},
   "outputs": [],
   "source": [
    "# Fit the data\n"
   ]
  },
  {
   "cell_type": "code",
   "execution_count": null,
   "metadata": {},
   "outputs": [],
   "source": [
    "# Confusion matrix and F1 score\n"
   ]
  },
  {
   "cell_type": "markdown",
   "metadata": {},
   "source": [
    "Lastly, do the same with the multinomial regression you used for Iris. Does it do better or worse?"
   ]
  },
  {
   "cell_type": "code",
   "execution_count": null,
   "metadata": {},
   "outputs": [],
   "source": []
  }
 ],
 "metadata": {
  "hide_input": false,
  "kernelspec": {
   "display_name": "Python 3 (ipykernel)",
   "language": "python",
   "name": "python3"
  },
  "language_info": {
   "codemirror_mode": {
    "name": "ipython",
    "version": 3
   },
   "file_extension": ".py",
   "mimetype": "text/x-python",
   "name": "python",
   "nbconvert_exporter": "python",
   "pygments_lexer": "ipython3",
   "version": "3.11.4"
  },
  "latex_envs": {
   "LaTeX_envs_menu_present": true,
   "autoclose": false,
   "autocomplete": true,
   "bibliofile": "biblio.bib",
   "cite_by": "apalike",
   "current_citInitial": 1,
   "eqLabelWithNumbers": true,
   "eqNumInitial": 1,
   "hotkeys": {
    "equation": "Ctrl-E",
    "itemize": "Ctrl-I"
   },
   "labels_anchors": false,
   "latex_user_defs": false,
   "report_style_numbering": false,
   "user_envs_cfg": false
  },
  "varInspector": {
   "cols": {
    "lenName": 16,
    "lenType": 16,
    "lenVar": 40
   },
   "kernels_config": {
    "python": {
     "delete_cmd_postfix": "",
     "delete_cmd_prefix": "del ",
     "library": "var_list.py",
     "varRefreshCmd": "print(var_dic_list())"
    },
    "r": {
     "delete_cmd_postfix": ") ",
     "delete_cmd_prefix": "rm(",
     "library": "var_list.r",
     "varRefreshCmd": "cat(var_dic_list()) "
    }
   },
   "types_to_exclude": [
    "module",
    "function",
    "builtin_function_or_method",
    "instance",
    "_Feature"
   ],
   "window_display": false
  }
 },
 "nbformat": 4,
 "nbformat_minor": 4
}
