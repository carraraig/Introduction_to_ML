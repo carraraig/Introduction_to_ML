{
 "cells": [
  {
   "cell_type": "markdown",
   "metadata": {
    "id": "OHLf2NiA-TkS"
   },
   "source": [
    "# Dimensionality Reduction"
   ]
  },
  {
   "cell_type": "code",
   "execution_count": null,
   "metadata": {
    "ExecuteTime": {
     "end_time": "2023-09-08T12:36:50.084483221Z",
     "start_time": "2023-09-08T12:36:44.777227266Z"
    },
    "executionInfo": {
     "elapsed": 3485,
     "status": "ok",
     "timestamp": 1691495275413,
     "user": {
      "displayName": "Igor Carrara",
      "userId": "05451714045321385567"
     },
     "user_tz": -120
    },
    "id": "tQtfDvOx-TkW"
   },
   "outputs": [],
   "source": [
    "import pandas as pd\n",
    "from sklearn.datasets import load_iris\n",
    "from sklearn.decomposition import PCA\n",
    "from sklearn.manifold import TSNE\n",
    "\n",
    "import matplotlib.pyplot as plt\n",
    "from matplotlib.colors import ListedColormap\n",
    "from mpl_toolkits.mplot3d import Axes3D\n",
    "import seaborn as sns\n",
    "import numpy as np\n",
    "import umap"
   ]
  },
  {
   "cell_type": "code",
   "execution_count": null,
   "metadata": {
    "ExecuteTime": {
     "end_time": "2023-09-08T12:36:50.095941154Z",
     "start_time": "2023-09-08T12:36:50.087692711Z"
    },
    "executionInfo": {
     "elapsed": 19,
     "status": "ok",
     "timestamp": 1691495275415,
     "user": {
      "displayName": "Igor Carrara",
      "userId": "05451714045321385567"
     },
     "user_tz": -120
    },
    "id": "kRVAHYYK-TkX"
   },
   "outputs": [],
   "source": [
    "%matplotlib inline\n",
    "sns.set()\n",
    "sns.set(rc={\"figure.figsize\": (15, 12)})"
   ]
  },
  {
   "cell_type": "code",
   "execution_count": null,
   "metadata": {
    "ExecuteTime": {
     "end_time": "2023-09-08T12:36:50.100639325Z",
     "start_time": "2023-09-08T12:36:50.097061428Z"
    },
    "executionInfo": {
     "elapsed": 16,
     "status": "ok",
     "timestamp": 1691495275417,
     "user": {
      "displayName": "Igor Carrara",
      "userId": "05451714045321385567"
     },
     "user_tz": -120
    },
    "id": "uw06Yx5j-TkY"
   },
   "outputs": [],
   "source": [
    "RANDOM_STATE = 42"
   ]
  },
  {
   "cell_type": "markdown",
   "metadata": {
    "id": "RObErng2-Tkb"
   },
   "source": [
    "## Defining plotting functions"
   ]
  },
  {
   "cell_type": "code",
   "execution_count": null,
   "metadata": {
    "ExecuteTime": {
     "end_time": "2023-09-08T12:36:52.597060498Z",
     "start_time": "2023-09-08T12:36:52.574581249Z"
    },
    "executionInfo": {
     "elapsed": 18,
     "status": "ok",
     "timestamp": 1691495275930,
     "user": {
      "displayName": "Igor Carrara",
      "userId": "05451714045321385567"
     },
     "user_tz": -120
    },
    "id": "LOiB-lPi-Tkb"
   },
   "outputs": [],
   "source": [
    "def plot_2d(x, y, c, title):\n",
    "    sns.set_style(\"darkgrid\")\n",
    "\n",
    "    PALETTE = sns.color_palette('deep', n_colors=len(np.unique(c)))\n",
    "    CMAP = ListedColormap(PALETTE.as_hex())\n",
    "\n",
    "    plt.scatter(x, y,\n",
    "        c=c,\n",
    "        cmap=CMAP,\n",
    "        s=70)\n",
    "\n",
    "    plt.title(title, fontsize=20, y=1.03)\n",
    "\n",
    "    #plt.xlabel(xlabel, fontsize=16)\n",
    "    #plt.ylabel(ylabel, fontsize=16)\n",
    "    plt.show()"
   ]
  },
  {
   "cell_type": "code",
   "execution_count": null,
   "metadata": {
    "ExecuteTime": {
     "end_time": "2023-09-08T12:36:53.581877606Z",
     "start_time": "2023-09-08T12:36:53.541861545Z"
    },
    "executionInfo": {
     "elapsed": 18,
     "status": "ok",
     "timestamp": 1691495275931,
     "user": {
      "displayName": "Igor Carrara",
      "userId": "05451714045321385567"
     },
     "user_tz": -120
    },
    "id": "FGFScocB-Tkb"
   },
   "outputs": [],
   "source": [
    "def plot_3d(x, y, z, c, title):\n",
    "    sns.set_style('whitegrid')\n",
    "\n",
    "    PALETTE = sns.color_palette('deep', n_colors=len(np.unique(c)))\n",
    "    CMAP = ListedColormap(PALETTE.as_hex())\n",
    "\n",
    "    fig = plt.figure(1, figsize=(15, 12))\n",
    "    ax = fig.add_subplot(111, projection=\"3d\")\n",
    "\n",
    "    ax.scatter(x, y, z,\n",
    "               c=c,\n",
    "               cmap=CMAP,\n",
    "               s=40)\n",
    "\n",
    "    ax.set_title(title, fontsize=20, y=1.03)\n",
    "\n",
    "    fsize = 14\n",
    "    #ax.set_xlabel(\"1st eigenvector\", fontsize=fsize)\n",
    "    #ax.set_ylabel(\"2nd eigenvector\", fontsize=fsize)\n",
    "    #ax.set_zlabel(\"3rd eigenvector\", fontsize=fsize)\n",
    "\n",
    "    ax.xaxis.set_ticklabels([])\n",
    "    ax.yaxis.set_ticklabels([])\n",
    "    ax.zaxis.set_ticklabels([])\n",
    "    plt.show()"
   ]
  },
  {
   "cell_type": "markdown",
   "metadata": {
    "jupyter": {
     "outputs_hidden": false
    }
   },
   "source": [
    "## Create Dataset"
   ]
  },
  {
   "cell_type": "code",
   "execution_count": null,
   "metadata": {
    "ExecuteTime": {
     "end_time": "2023-09-08T12:37:04.086372462Z",
     "start_time": "2023-09-08T12:37:03.887271090Z"
    },
    "jupyter": {
     "outputs_hidden": false
    }
   },
   "outputs": [],
   "source": [
    "from sklearn.datasets import make_classification\n",
    "X, y = make_classification(\n",
    "    n_features=6,\n",
    "    n_classes=2,\n",
    "    n_samples=1500,\n",
    "    n_informative=2,\n",
    "    random_state=42,\n",
    "    n_clusters_per_class=1,\n",
    "    )\n",
    "\n",
    "plot_3d(\n",
    "    x=X[:, 0],\n",
    "    y=X[:, 1],\n",
    "    z=X[:, 2],\n",
    "    c=y,\n",
    "    title = \"Visualization of dataset\")"
   ]
  },
  {
   "cell_type": "markdown",
   "metadata": {
    "jupyter": {
     "outputs_hidden": false
    }
   },
   "source": [
    "### 2D Plotting with PCA"
   ]
  },
  {
   "cell_type": "code",
   "execution_count": null,
   "metadata": {
    "ExecuteTime": {
     "end_time": "2023-09-08T12:37:12.129543132Z",
     "start_time": "2023-09-08T12:37:12.107992305Z"
    },
    "jupyter": {
     "outputs_hidden": false
    }
   },
   "outputs": [],
   "source": [
    "pca = PCA(n_components=2)\n",
    "points = pca.fit_transform(X)"
   ]
  },
  {
   "cell_type": "code",
   "execution_count": null,
   "metadata": {
    "ExecuteTime": {
     "end_time": "2023-09-08T12:37:13.233881116Z",
     "start_time": "2023-09-08T12:37:13.053061012Z"
    },
    "jupyter": {
     "outputs_hidden": false
    }
   },
   "outputs": [],
   "source": [
    "plot_2d(\n",
    "    x = points[:,0],\n",
    "    y = points[:,1],\n",
    "    c = y,\n",
    "    title = 'X visualized with PCA')"
   ]
  },
  {
   "cell_type": "markdown",
   "metadata": {
    "jupyter": {
     "outputs_hidden": false
    }
   },
   "source": [
    "### 2D plotting with t-SNE"
   ]
  },
  {
   "cell_type": "markdown",
   "metadata": {
    "jupyter": {
     "outputs_hidden": false
    }
   },
   "source": [
    "#### How to use t-SNE Effectivly\n",
    "https://distill.pub/2016/misread-tsne/"
   ]
  },
  {
   "cell_type": "code",
   "execution_count": null,
   "metadata": {
    "ExecuteTime": {
     "end_time": "2023-08-18T07:35:55.500546461Z",
     "start_time": "2023-08-18T07:35:52.055039290Z"
    },
    "jupyter": {
     "outputs_hidden": false
    }
   },
   "outputs": [],
   "source": [
    "tsne = TSNE(n_components=2, n_iter=1000, random_state=RANDOM_STATE, perplexity=30)\n",
    "points = tsne.fit_transform(X)"
   ]
  },
  {
   "cell_type": "code",
   "execution_count": null,
   "metadata": {
    "ExecuteTime": {
     "end_time": "2023-08-18T07:35:55.764090306Z",
     "start_time": "2023-08-18T07:35:55.500997481Z"
    },
    "jupyter": {
     "outputs_hidden": false
    }
   },
   "outputs": [],
   "source": [
    "plot_2d(\n",
    "    x = points[:, 0],\n",
    "    y = points[:, 1],\n",
    "    c = y,\n",
    "    title = 'X visualized with t-SNE')"
   ]
  },
  {
   "cell_type": "markdown",
   "metadata": {
    "jupyter": {
     "outputs_hidden": false
    }
   },
   "source": [
    "Kullback-Leibler (KL) divergence between the high-dimensional probability distribution and the low-dimensional probability distribution. Low KL divergence is a sign of better results"
   ]
  },
  {
   "cell_type": "code",
   "execution_count": null,
   "metadata": {
    "ExecuteTime": {
     "end_time": "2023-08-18T07:35:55.764626478Z",
     "start_time": "2023-08-18T07:35:55.761310440Z"
    },
    "jupyter": {
     "outputs_hidden": false
    }
   },
   "outputs": [],
   "source": [
    "tsne.kl_divergence_"
   ]
  },
  {
   "cell_type": "markdown",
   "metadata": {
    "jupyter": {
     "outputs_hidden": false
    }
   },
   "source": [
    "### 2D plotting with UMAP"
   ]
  },
  {
   "cell_type": "code",
   "execution_count": null,
   "metadata": {
    "ExecuteTime": {
     "end_time": "2023-08-18T07:36:09.068650921Z",
     "start_time": "2023-08-18T07:35:55.761520494Z"
    },
    "jupyter": {
     "outputs_hidden": false
    }
   },
   "outputs": [],
   "source": [
    "map = umap.UMAP(n_neighbors=10, n_components=2, n_epochs=5000, random_state=RANDOM_STATE)\n",
    "points = map.fit_transform(X)"
   ]
  },
  {
   "cell_type": "code",
   "execution_count": null,
   "metadata": {
    "ExecuteTime": {
     "end_time": "2023-08-18T07:36:09.266259441Z",
     "start_time": "2023-08-18T07:36:09.109607531Z"
    },
    "jupyter": {
     "outputs_hidden": false
    }
   },
   "outputs": [],
   "source": [
    "plot_2d(\n",
    "    x = points[:, 0],\n",
    "    y = points[:, 1],\n",
    "    c = y,\n",
    "    title = 'X visualized with UMAP')"
   ]
  },
  {
   "cell_type": "markdown",
   "metadata": {
    "jupyter": {
     "outputs_hidden": false
    }
   },
   "source": [
    "### 3D plotting with PCA"
   ]
  },
  {
   "cell_type": "code",
   "execution_count": null,
   "metadata": {
    "ExecuteTime": {
     "end_time": "2023-08-18T07:36:09.269989676Z",
     "start_time": "2023-08-18T07:36:09.266997124Z"
    },
    "jupyter": {
     "outputs_hidden": false
    }
   },
   "outputs": [],
   "source": [
    "pca = PCA(n_components=3)\n",
    "points = pca.fit_transform(X)"
   ]
  },
  {
   "cell_type": "code",
   "execution_count": null,
   "metadata": {
    "ExecuteTime": {
     "end_time": "2023-08-18T07:36:09.448655003Z",
     "start_time": "2023-08-18T07:36:09.272224351Z"
    },
    "jupyter": {
     "outputs_hidden": false
    }
   },
   "outputs": [],
   "source": [
    "plot_3d(\n",
    "    x = points[:,0],\n",
    "    y = points[:,1],\n",
    "    z = points[:,2],\n",
    "    c = y,\n",
    "    title = \"X dataset visualized with PCA\")"
   ]
  },
  {
   "cell_type": "markdown",
   "metadata": {
    "jupyter": {
     "outputs_hidden": false
    }
   },
   "source": [
    "### 3D plotting with t-SNE"
   ]
  },
  {
   "cell_type": "code",
   "execution_count": null,
   "metadata": {
    "ExecuteTime": {
     "end_time": "2023-08-18T07:36:18.632474851Z",
     "start_time": "2023-08-18T07:36:09.450086948Z"
    },
    "jupyter": {
     "outputs_hidden": false
    }
   },
   "outputs": [],
   "source": [
    "tsne = TSNE(n_components=3, n_iter=5000, random_state=RANDOM_STATE, perplexity=30)\n",
    "points = tsne.fit_transform(X)"
   ]
  },
  {
   "cell_type": "code",
   "execution_count": null,
   "metadata": {
    "ExecuteTime": {
     "end_time": "2023-08-18T07:36:18.846815230Z",
     "start_time": "2023-08-18T07:36:18.639371538Z"
    },
    "jupyter": {
     "outputs_hidden": false
    }
   },
   "outputs": [],
   "source": [
    "plot_3d(\n",
    "    x = points[:,0],\n",
    "    y = points[:,1],\n",
    "    z = points[:,2],\n",
    "    c = y,\n",
    "    title = \"X dataset visualized with t-SNE\")"
   ]
  },
  {
   "cell_type": "markdown",
   "metadata": {
    "jupyter": {
     "outputs_hidden": false
    }
   },
   "source": [
    "### 3D plotting with UMAP"
   ]
  },
  {
   "cell_type": "code",
   "execution_count": null,
   "metadata": {
    "ExecuteTime": {
     "end_time": "2023-08-18T07:36:40.882188774Z",
     "start_time": "2023-08-18T07:36:18.845959520Z"
    },
    "jupyter": {
     "outputs_hidden": false
    }
   },
   "outputs": [],
   "source": [
    "map = umap.UMAP(n_neighbors=30, n_components=3, n_epochs=5000, random_state=RANDOM_STATE)\n",
    "points = map.fit_transform(X)"
   ]
  },
  {
   "cell_type": "code",
   "execution_count": null,
   "metadata": {
    "ExecuteTime": {
     "end_time": "2023-08-18T07:36:41.044746285Z",
     "start_time": "2023-08-18T07:36:40.882517898Z"
    },
    "jupyter": {
     "outputs_hidden": false
    }
   },
   "outputs": [],
   "source": [
    "plot_3d(\n",
    "    x = points[:,0],\n",
    "    y = points[:,1],\n",
    "    z = points[:,2],\n",
    "    c = y,\n",
    "    title = \"X dataset visualized with UMAP\")"
   ]
  },
  {
   "cell_type": "markdown",
   "metadata": {
    "jupyter": {
     "outputs_hidden": false
    }
   },
   "source": [
    "### Criterion PCA"
   ]
  },
  {
   "cell_type": "code",
   "execution_count": null,
   "metadata": {
    "ExecuteTime": {
     "end_time": "2023-08-18T08:13:05.042799142Z",
     "start_time": "2023-08-18T08:13:04.986955181Z"
    },
    "jupyter": {
     "outputs_hidden": false
    }
   },
   "outputs": [],
   "source": [
    "# If not set all the component are included\n",
    "pca = PCA()\n",
    "points = pca.fit_transform(X)"
   ]
  },
  {
   "cell_type": "markdown",
   "metadata": {
    "jupyter": {
     "outputs_hidden": false
    }
   },
   "source": [
    "#### Kaiser Criterion"
   ]
  },
  {
   "cell_type": "code",
   "execution_count": null,
   "metadata": {
    "ExecuteTime": {
     "end_time": "2023-08-18T08:13:32.545010999Z",
     "start_time": "2023-08-18T08:13:32.336761723Z"
    },
    "jupyter": {
     "outputs_hidden": false
    }
   },
   "outputs": [],
   "source": [
    "def scree_plot():\n",
    "    from matplotlib.pyplot import figure, show\n",
    "    from matplotlib.ticker import MaxNLocator\n",
    "\n",
    "    ax = figure().gca()\n",
    "    ax.plot(pca.explained_variance_)\n",
    "    ax.xaxis.set_major_locator(MaxNLocator(integer=True))\n",
    "    plt.xlabel('Principal Component')\n",
    "    plt.ylabel('Eigenvalue')\n",
    "    plt.axhline(y=1, linewidth=1, color='r', alpha=0.5)\n",
    "    plt.title('Scree Plot of PCA: Component Eigenvalues')\n",
    "    show()\n",
    "\n",
    "scree_plot()"
   ]
  },
  {
   "cell_type": "markdown",
   "metadata": {
    "jupyter": {
     "outputs_hidden": false
    }
   },
   "source": [
    "#### Explained Variance"
   ]
  },
  {
   "cell_type": "code",
   "execution_count": null,
   "metadata": {
    "ExecuteTime": {
     "end_time": "2023-08-18T08:16:06.087572158Z",
     "start_time": "2023-08-18T08:16:05.807532977Z"
    },
    "jupyter": {
     "outputs_hidden": false
    }
   },
   "outputs": [],
   "source": [
    "exp_var_pca = pca.explained_variance_ratio_\n",
    "#\n",
    "# Cumulative sum of eigenvalues; This will be used to create step plot\n",
    "# for visualizing the variance explained by each principal component.\n",
    "#\n",
    "cum_sum_eigenvalues = np.cumsum(exp_var_pca)\n",
    "#\n",
    "# Create the visualization plot\n",
    "#\n",
    "plt.bar(range(0,len(exp_var_pca)), exp_var_pca, alpha=0.5, align='center', label='Individual explained variance')\n",
    "plt.step(range(0,len(cum_sum_eigenvalues)), cum_sum_eigenvalues, where='mid',label='Cumulative explained variance')\n",
    "plt.ylabel('Explained variance ratio')\n",
    "plt.xlabel('Principal component index')\n",
    "plt.axhline(y=0.9, linewidth=1, color='r', alpha=0.5)\n",
    "plt.legend(loc='best')\n",
    "plt.tight_layout()\n",
    "plt.show()"
   ]
  },
  {
   "cell_type": "markdown",
   "metadata": {
    "jupyter": {
     "outputs_hidden": false
    }
   },
   "source": [
    "### t-SNE different level of perplexity"
   ]
  },
  {
   "cell_type": "code",
   "execution_count": null,
   "metadata": {
    "ExecuteTime": {
     "end_time": "2023-08-18T08:00:13.520877186Z",
     "start_time": "2023-08-18T08:00:12.383842030Z"
    },
    "jupyter": {
     "outputs_hidden": false
    }
   },
   "outputs": [],
   "source": [
    "from time import time\n",
    "\n",
    "import matplotlib.pyplot as plt\n",
    "import numpy as np\n",
    "from matplotlib.ticker import NullFormatter\n",
    "\n",
    "from sklearn import datasets, manifold\n",
    "\n",
    "n_samples = 150\n",
    "n_components = 2\n",
    "(fig, subplots) = plt.subplots(1, 5, figsize=(20, 4))\n",
    "perplexities = [5, 30, 50, 100]\n",
    "\n",
    "# Another example using s-curve\n",
    "X, color = datasets.make_s_curve(n_samples, random_state=0)\n",
    "\n",
    "ax = subplots[0]\n",
    "ax.scatter(X[:, 0], X[:, 2], c=color)\n",
    "ax.xaxis.set_major_formatter(NullFormatter())\n",
    "ax.yaxis.set_major_formatter(NullFormatter())\n",
    "\n",
    "for i, perplexity in enumerate(perplexities):\n",
    "    ax = subplots[i + 1]\n",
    "\n",
    "    t0 = time()\n",
    "    tsne = manifold.TSNE(\n",
    "        n_components=n_components,\n",
    "        init=\"random\",\n",
    "        random_state=0,\n",
    "        perplexity=perplexity,\n",
    "        learning_rate=\"auto\",\n",
    "        n_iter=300,\n",
    "    )\n",
    "    Y = tsne.fit_transform(X)\n",
    "    t1 = time()\n",
    "    print(\"S-curve, perplexity=%d in %.2g sec\" % (perplexity, t1 - t0))\n",
    "\n",
    "    ax.set_title(\"Perplexity=%d\" % perplexity)\n",
    "    ax.scatter(Y[:, 0], Y[:, 1], c=color)\n",
    "    ax.xaxis.set_major_formatter(NullFormatter())\n",
    "    ax.yaxis.set_major_formatter(NullFormatter())\n",
    "    ax.axis(\"tight\")\n"
   ]
  },
  {
   "cell_type": "markdown",
   "metadata": {
    "jupyter": {
     "outputs_hidden": false
    }
   },
   "source": [
    "## Loading IRIS the dataset"
   ]
  },
  {
   "cell_type": "code",
   "execution_count": null,
   "metadata": {
    "ExecuteTime": {
     "end_time": "2023-08-18T07:36:41.044964257Z",
     "start_time": "2023-08-18T07:36:41.041501147Z"
    },
    "jupyter": {
     "outputs_hidden": false
    }
   },
   "outputs": [],
   "source": [
    "# Load IRIS, create a pandas DataFram, and visualize the first 10 lines of the dataset\n"
   ]
  },
  {
   "cell_type": "markdown",
   "metadata": {
    "id": "gd8XBAGf-Tkb"
   },
   "source": [
    "### Plotting first two components"
   ]
  },
  {
   "cell_type": "code",
   "execution_count": null,
   "metadata": {
    "ExecuteTime": {
     "end_time": "2023-08-18T07:36:41.450757289Z",
     "start_time": "2023-08-18T07:36:41.101552623Z"
    },
    "colab": {
     "base_uri": "https://localhost:8080/",
     "height": 755
    },
    "executionInfo": {
     "elapsed": 1057,
     "status": "ok",
     "timestamp": 1691495276970,
     "user": {
      "displayName": "Igor Carrara",
      "userId": "05451714045321385567"
     },
     "user_tz": -120
    },
    "id": "VckBIM8U-Tkc",
    "outputId": "f0cfdfdc-92d4-42d6-8801-966c3c7cf343"
   },
   "outputs": [],
   "source": [
    "# Plot the first 2 components with the given plotting function \n"
   ]
  },
  {
   "cell_type": "markdown",
   "metadata": {
    "id": "Yg9p6kWK-Tkc"
   },
   "source": [
    "### 2D Plotting with PCA"
   ]
  },
  {
   "cell_type": "code",
   "execution_count": null,
   "metadata": {
    "ExecuteTime": {
     "end_time": "2023-08-18T07:36:41.450957607Z",
     "start_time": "2023-08-18T07:36:41.398685902Z"
    },
    "executionInfo": {
     "elapsed": 9,
     "status": "ok",
     "timestamp": 1691495277269,
     "user": {
      "displayName": "Igor Carrara",
      "userId": "05451714045321385567"
     },
     "user_tz": -120
    },
    "id": "kUkVK3Vl-Tkc"
   },
   "outputs": [],
   "source": [
    "# Fit PCA\n"
   ]
  },
  {
   "cell_type": "code",
   "execution_count": null,
   "metadata": {
    "ExecuteTime": {
     "end_time": "2023-08-18T07:36:41.451165671Z",
     "start_time": "2023-08-18T07:36:41.399049412Z"
    },
    "colab": {
     "base_uri": "https://localhost:8080/",
     "height": 755
    },
    "executionInfo": {
     "elapsed": 951,
     "status": "ok",
     "timestamp": 1691495278213,
     "user": {
      "displayName": "Igor Carrara",
      "userId": "05451714045321385567"
     },
     "user_tz": -120
    },
    "id": "7wFLqwAn-Tkc",
    "outputId": "2e33b108-112b-4d63-dfcd-b7a5561eec1c"
   },
   "outputs": [],
   "source": [
    "# Plot the results\n"
   ]
  },
  {
   "cell_type": "markdown",
   "metadata": {
    "id": "iyrNsibT-Tkc"
   },
   "source": [
    "### 2D plotting with t-SNE"
   ]
  },
  {
   "cell_type": "code",
   "execution_count": null,
   "metadata": {
    "ExecuteTime": {
     "end_time": "2023-08-18T07:36:41.957852019Z",
     "start_time": "2023-08-18T07:36:41.448892894Z"
    },
    "executionInfo": {
     "elapsed": 11279,
     "status": "ok",
     "timestamp": 1691495289485,
     "user": {
      "displayName": "Igor Carrara",
      "userId": "05451714045321385567"
     },
     "user_tz": -120
    },
    "id": "GJvUk85m-Tkc"
   },
   "outputs": [],
   "source": [
    "# Fit with t-SNE\n"
   ]
  },
  {
   "cell_type": "code",
   "execution_count": null,
   "metadata": {
    "ExecuteTime": {
     "end_time": "2023-08-18T07:36:42.129508408Z",
     "start_time": "2023-08-18T07:36:41.978182812Z"
    },
    "colab": {
     "base_uri": "https://localhost:8080/",
     "height": 755
    },
    "executionInfo": {
     "elapsed": 1573,
     "status": "ok",
     "timestamp": 1691495291045,
     "user": {
      "displayName": "Igor Carrara",
      "userId": "05451714045321385567"
     },
     "user_tz": -120
    },
    "id": "0zonOtBF-Tkc",
    "outputId": "8073ad9c-2387-48ad-fe3e-c80ea6308b1b"
   },
   "outputs": [],
   "source": [
    "# Plot\n"
   ]
  },
  {
   "cell_type": "markdown",
   "metadata": {
    "jupyter": {
     "outputs_hidden": false
    }
   },
   "source": [
    "### 2D plotting with UMAP"
   ]
  },
  {
   "cell_type": "code",
   "execution_count": null,
   "metadata": {
    "ExecuteTime": {
     "end_time": "2023-08-18T07:36:44.783804963Z",
     "start_time": "2023-08-18T07:36:42.136479420Z"
    },
    "jupyter": {
     "outputs_hidden": false
    }
   },
   "outputs": [],
   "source": [
    "# Fit with UMAP\n"
   ]
  },
  {
   "cell_type": "code",
   "execution_count": null,
   "metadata": {
    "ExecuteTime": {
     "end_time": "2023-08-18T07:36:44.933869784Z",
     "start_time": "2023-08-18T07:36:44.806034313Z"
    },
    "jupyter": {
     "outputs_hidden": false
    }
   },
   "outputs": [],
   "source": [
    "# Plot\n"
   ]
  },
  {
   "cell_type": "markdown",
   "metadata": {
    "id": "DRYULl1g-Tkd"
   },
   "source": [
    "### 3D plotting with PCA"
   ]
  },
  {
   "cell_type": "code",
   "execution_count": null,
   "metadata": {
    "ExecuteTime": {
     "end_time": "2023-08-18T07:36:44.937983734Z",
     "start_time": "2023-08-18T07:36:44.936520189Z"
    },
    "executionInfo": {
     "elapsed": 12,
     "status": "ok",
     "timestamp": 1691495291046,
     "user": {
      "displayName": "Igor Carrara",
      "userId": "05451714045321385567"
     },
     "user_tz": -120
    },
    "id": "wXmAj42O-Tkd"
   },
   "outputs": [],
   "source": [
    "# Fit with PCA the first 3 components\n"
   ]
  },
  {
   "cell_type": "code",
   "execution_count": null,
   "metadata": {
    "ExecuteTime": {
     "end_time": "2023-08-18T07:36:45.125917373Z",
     "start_time": "2023-08-18T07:36:44.941229898Z"
    },
    "colab": {
     "base_uri": "https://localhost:8080/",
     "height": 146
    },
    "executionInfo": {
     "elapsed": 396,
     "status": "ok",
     "timestamp": 1691495291432,
     "user": {
      "displayName": "Igor Carrara",
      "userId": "05451714045321385567"
     },
     "user_tz": -120
    },
    "id": "Sx0mC60P-Tkd",
    "outputId": "a7b95f9c-7ed7-43a4-b0a3-9d00aa3beabb"
   },
   "outputs": [],
   "source": [
    "# Plot in 3D with the given function \n"
   ]
  },
  {
   "cell_type": "markdown",
   "metadata": {
    "id": "remtyQiu-Tkd"
   },
   "source": [
    "### 3D plotting with t-SNE"
   ]
  },
  {
   "cell_type": "code",
   "execution_count": null,
   "metadata": {
    "ExecuteTime": {
     "end_time": "2023-08-18T07:36:45.668967987Z",
     "start_time": "2023-08-18T07:36:45.129189169Z"
    },
    "executionInfo": {
     "elapsed": 8761,
     "status": "ok",
     "timestamp": 1691495300184,
     "user": {
      "displayName": "Igor Carrara",
      "userId": "05451714045321385567"
     },
     "user_tz": -120
    },
    "id": "xx7ueA3J-Tkd"
   },
   "outputs": [],
   "source": [
    "# Fit with t-SNE in 3D\n"
   ]
  },
  {
   "cell_type": "code",
   "execution_count": null,
   "metadata": {
    "ExecuteTime": {
     "end_time": "2023-08-18T07:36:45.828992305Z",
     "start_time": "2023-08-18T07:36:45.703671770Z"
    },
    "colab": {
     "base_uri": "https://localhost:8080/",
     "height": 146
    },
    "executionInfo": {
     "elapsed": 366,
     "status": "ok",
     "timestamp": 1691495300544,
     "user": {
      "displayName": "Igor Carrara",
      "userId": "05451714045321385567"
     },
     "user_tz": -120
    },
    "id": "04A5grpf-Tkd",
    "outputId": "c5357e71-9578-4a93-a86f-51553433bc3b"
   },
   "outputs": [],
   "source": [
    "# Plot in 3D\n"
   ]
  },
  {
   "cell_type": "markdown",
   "metadata": {
    "jupyter": {
     "outputs_hidden": false
    }
   },
   "source": [
    "### 3D plotting with UMAP"
   ]
  },
  {
   "cell_type": "code",
   "execution_count": null,
   "metadata": {
    "ExecuteTime": {
     "end_time": "2023-08-18T07:36:48.443878874Z",
     "start_time": "2023-08-18T07:36:45.840715966Z"
    },
    "jupyter": {
     "outputs_hidden": false
    }
   },
   "outputs": [],
   "source": [
    "# Fit UMAP in 3D\n"
   ]
  },
  {
   "cell_type": "code",
   "execution_count": null,
   "metadata": {
    "ExecuteTime": {
     "end_time": "2023-08-18T07:36:48.579446394Z",
     "start_time": "2023-08-18T07:36:48.480024719Z"
    },
    "jupyter": {
     "outputs_hidden": false
    }
   },
   "outputs": [],
   "source": [
    "# Plot in 3D\n"
   ]
  },
  {
   "cell_type": "markdown",
   "metadata": {
    "jupyter": {
     "outputs_hidden": false
    }
   },
   "source": [
    "## Load MNIST Dataset"
   ]
  },
  {
   "cell_type": "code",
   "execution_count": null,
   "metadata": {
    "ExecuteTime": {
     "end_time": "2023-08-18T07:36:48.665098268Z",
     "start_time": "2023-08-18T07:36:48.589678023Z"
    },
    "jupyter": {
     "outputs_hidden": false
    }
   },
   "outputs": [],
   "source": [
    "from sklearn import datasets\n",
    "from sklearn.preprocessing import StandardScaler\n",
    "# data from sklearn datasets\n",
    "\n",
    "\n",
    "# Extract data & target from the dataset\n"
   ]
  },
  {
   "cell_type": "code",
   "execution_count": null,
   "metadata": {
    "ExecuteTime": {
     "end_time": "2023-08-18T07:36:48.874747170Z",
     "start_time": "2023-08-18T07:36:48.659035792Z"
    },
    "jupyter": {
     "outputs_hidden": false
    }
   },
   "outputs": [],
   "source": [
    "# Reshape the pixel data into 28x28\n"
   ]
  },
  {
   "cell_type": "markdown",
   "metadata": {
    "jupyter": {
     "outputs_hidden": false
    }
   },
   "source": [
    "### 2D Plotting with PCA"
   ]
  },
  {
   "cell_type": "code",
   "execution_count": null,
   "metadata": {
    "ExecuteTime": {
     "end_time": "2023-08-18T07:36:48.887566322Z",
     "start_time": "2023-08-18T07:36:48.875570488Z"
    },
    "jupyter": {
     "outputs_hidden": false
    }
   },
   "outputs": [],
   "source": [
    "# Fit with PCA in 2D\n"
   ]
  },
  {
   "cell_type": "code",
   "execution_count": null,
   "metadata": {
    "ExecuteTime": {
     "end_time": "2023-08-18T07:36:49.152146922Z",
     "start_time": "2023-08-18T07:36:48.906920200Z"
    },
    "jupyter": {
     "outputs_hidden": false
    }
   },
   "outputs": [],
   "source": [
    "# Plot in 2D\n"
   ]
  },
  {
   "cell_type": "markdown",
   "metadata": {
    "jupyter": {
     "outputs_hidden": false
    }
   },
   "source": [
    "### 2D plotting with t-SNE"
   ]
  },
  {
   "cell_type": "code",
   "execution_count": null,
   "metadata": {
    "ExecuteTime": {
     "end_time": "2023-08-18T07:36:52.124795730Z",
     "start_time": "2023-08-18T07:36:49.150742240Z"
    },
    "jupyter": {
     "outputs_hidden": false
    }
   },
   "outputs": [],
   "source": [
    "# Fit with t-SNE in 2D\n"
   ]
  },
  {
   "cell_type": "code",
   "execution_count": null,
   "metadata": {
    "ExecuteTime": {
     "end_time": "2023-08-18T07:36:52.335215705Z",
     "start_time": "2023-08-18T07:36:52.131977005Z"
    },
    "jupyter": {
     "outputs_hidden": false
    }
   },
   "outputs": [],
   "source": [
    "# Plot in 2D\n"
   ]
  },
  {
   "cell_type": "markdown",
   "metadata": {
    "jupyter": {
     "outputs_hidden": false
    }
   },
   "source": [
    "### 2D plotting with UMAP"
   ]
  },
  {
   "cell_type": "code",
   "execution_count": null,
   "metadata": {
    "ExecuteTime": {
     "end_time": "2023-08-18T07:37:17.012167828Z",
     "start_time": "2023-08-18T07:36:52.334615660Z"
    },
    "jupyter": {
     "outputs_hidden": false
    }
   },
   "outputs": [],
   "source": [
    "# Fit with UMAP in 2D\n"
   ]
  },
  {
   "cell_type": "code",
   "execution_count": null,
   "metadata": {
    "ExecuteTime": {
     "end_time": "2023-08-18T07:37:17.157907262Z",
     "start_time": "2023-08-18T07:37:17.012509240Z"
    },
    "jupyter": {
     "outputs_hidden": false
    }
   },
   "outputs": [],
   "source": [
    "# Plot in 2D\n"
   ]
  },
  {
   "cell_type": "markdown",
   "metadata": {
    "jupyter": {
     "outputs_hidden": false
    }
   },
   "source": [
    "### 3D plotting with PCA"
   ]
  },
  {
   "cell_type": "code",
   "execution_count": null,
   "metadata": {
    "ExecuteTime": {
     "end_time": "2023-08-18T07:37:17.306786901Z",
     "start_time": "2023-08-18T07:37:17.160119741Z"
    },
    "jupyter": {
     "outputs_hidden": false
    }
   },
   "outputs": [],
   "source": [
    "# Fit with PCA in 3D\n"
   ]
  },
  {
   "cell_type": "code",
   "execution_count": null,
   "metadata": {
    "ExecuteTime": {
     "end_time": "2023-08-18T07:37:17.426078458Z",
     "start_time": "2023-08-18T07:37:17.182931504Z"
    },
    "jupyter": {
     "outputs_hidden": false
    }
   },
   "outputs": [],
   "source": [
    "# Plot in 3D\n"
   ]
  },
  {
   "cell_type": "markdown",
   "metadata": {
    "jupyter": {
     "outputs_hidden": false
    }
   },
   "source": [
    "### 3D plotting with t-SNE"
   ]
  },
  {
   "cell_type": "code",
   "execution_count": null,
   "metadata": {
    "ExecuteTime": {
     "end_time": "2023-08-18T07:37:50.112608530Z",
     "start_time": "2023-08-18T07:37:17.426273882Z"
    },
    "jupyter": {
     "outputs_hidden": false
    }
   },
   "outputs": [],
   "source": [
    "# Fit with t-SNE in 3D\n"
   ]
  },
  {
   "cell_type": "code",
   "execution_count": null,
   "metadata": {
    "ExecuteTime": {
     "end_time": "2023-08-18T07:37:50.308643052Z",
     "start_time": "2023-08-18T07:37:50.153161169Z"
    },
    "jupyter": {
     "outputs_hidden": false
    }
   },
   "outputs": [],
   "source": [
    "# Plot in 3D\n"
   ]
  },
  {
   "cell_type": "markdown",
   "metadata": {
    "jupyter": {
     "outputs_hidden": false
    }
   },
   "source": [
    "### 3D plotting with UMAP"
   ]
  },
  {
   "cell_type": "code",
   "execution_count": null,
   "metadata": {
    "ExecuteTime": {
     "end_time": "2023-08-18T07:38:16.832193991Z",
     "start_time": "2023-08-18T07:37:50.309647426Z"
    },
    "jupyter": {
     "outputs_hidden": false
    }
   },
   "outputs": [],
   "source": [
    "# Fit with UMAP in 3D\n"
   ]
  },
  {
   "cell_type": "code",
   "execution_count": null,
   "metadata": {
    "ExecuteTime": {
     "end_time": "2023-08-18T07:38:16.992879283Z",
     "start_time": "2023-08-18T07:38:16.848014081Z"
    },
    "jupyter": {
     "outputs_hidden": false
    }
   },
   "outputs": [],
   "source": [
    "# Plot in 3D\n"
   ]
  }
 ],
 "metadata": {
  "colab": {
   "provenance": []
  },
  "kernelspec": {
   "display_name": "Python 3 (ipykernel)",
   "language": "python",
   "name": "python3"
  },
  "language_info": {
   "codemirror_mode": {
    "name": "ipython",
    "version": 3
   },
   "file_extension": ".py",
   "mimetype": "text/x-python",
   "name": "python",
   "nbconvert_exporter": "python",
   "pygments_lexer": "ipython3",
   "version": "3.11.4"
  }
 },
 "nbformat": 4,
 "nbformat_minor": 4
}
