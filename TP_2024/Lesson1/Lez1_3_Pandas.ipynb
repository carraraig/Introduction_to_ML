{
 "cells": [
  {
   "cell_type": "markdown",
   "metadata": {},
   "source": [
    "# Pandas\n",
    "\n",
    "Pandas is a library written for the Python programming language for data manipulation and analysis . In particular, it offers data structures and operations for manipulating numerical tables and time series.\n",
    "Created by Wes McKinney, Pandas stands for **Pan**el **Da**ta library.\n",
    "It is the most popular data analysis library for Python.\n",
    "\n",
    "More documentation at (https://pandas.pydata.org/)\n",
    "\n",
    "## Load Library\n",
    "\n",
    "We have to load the library."
   ]
  },
  {
   "cell_type": "code",
   "execution_count": 1,
   "metadata": {
    "ExecuteTime": {
     "end_time": "2023-07-13T15:42:54.490067862Z",
     "start_time": "2023-07-13T15:42:54.488596911Z"
    }
   },
   "outputs": [],
   "source": [
    "import numpy as np\n",
    "import pandas as pd"
   ]
  },
  {
   "cell_type": "markdown",
   "metadata": {},
   "source": [
    "## Series\n",
    "The first main data type we will learn about for pandas is the Series data type.  So series is the basic building block of Pandas and it holds and array of information organized by an index..\n",
    "A Series is very similar to a NumPy array (in fact it is built on top of the NumPy array object). What differentiates the NumPy array from a Series, is that a Series can have axis labels, meaning it can be indexed by a label, instead of just a number location. It also doesn't need to hold numeric data, it can hold any arbitrary Python Object."
   ]
  },
  {
   "cell_type": "markdown",
   "metadata": {},
   "source": [
    "### Creating a Series\n",
    "\n",
    "You can convert a list,numpy array, or dictionary to a Series:"
   ]
  },
  {
   "cell_type": "code",
   "execution_count": 2,
   "metadata": {
    "ExecuteTime": {
     "end_time": "2023-07-13T15:42:56.282474041Z",
     "start_time": "2023-07-13T15:42:56.204874868Z"
    }
   },
   "outputs": [],
   "source": [
    "labels = ['a','b','c']\n",
    "my_list = [10,20,30]\n",
    "arr = np.array([10,20,30])\n",
    "d = {'a':10,'b':20,'c':30}"
   ]
  },
  {
   "cell_type": "markdown",
   "metadata": {},
   "source": [
    "#### Using Lists"
   ]
  },
  {
   "cell_type": "code",
   "execution_count": 3,
   "metadata": {
    "ExecuteTime": {
     "end_time": "2023-07-13T15:43:02.317716050Z",
     "start_time": "2023-07-13T15:43:02.265108540Z"
    }
   },
   "outputs": [
    {
     "data": {
      "text/plain": "0    10\n1    20\n2    30\ndtype: int64"
     },
     "execution_count": 3,
     "metadata": {},
     "output_type": "execute_result"
    }
   ],
   "source": [
    "pd.Series(data=my_list)"
   ]
  },
  {
   "cell_type": "code",
   "execution_count": 4,
   "metadata": {
    "ExecuteTime": {
     "end_time": "2023-07-13T15:43:04.209904968Z",
     "start_time": "2023-07-13T15:43:04.153578733Z"
    }
   },
   "outputs": [
    {
     "data": {
      "text/plain": "a    10\nb    20\nc    30\ndtype: int64"
     },
     "execution_count": 4,
     "metadata": {},
     "output_type": "execute_result"
    }
   ],
   "source": [
    "pd.Series(data=my_list,index=labels)"
   ]
  },
  {
   "cell_type": "markdown",
   "metadata": {},
   "source": [
    "#### Using NumPy Arrays"
   ]
  },
  {
   "cell_type": "code",
   "execution_count": 6,
   "metadata": {
    "ExecuteTime": {
     "end_time": "2023-07-13T15:43:32.499851470Z",
     "start_time": "2023-07-13T15:43:32.390550686Z"
    }
   },
   "outputs": [
    {
     "data": {
      "text/plain": "0    10\n1    20\n2    30\ndtype: int64"
     },
     "execution_count": 6,
     "metadata": {},
     "output_type": "execute_result"
    }
   ],
   "source": [
    "pd.Series(data=arr)"
   ]
  },
  {
   "cell_type": "code",
   "execution_count": 7,
   "metadata": {
    "ExecuteTime": {
     "end_time": "2023-07-13T15:43:33.691817792Z",
     "start_time": "2023-07-13T15:43:33.646269078Z"
    }
   },
   "outputs": [
    {
     "data": {
      "text/plain": "a    10\nb    20\nc    30\ndtype: int64"
     },
     "execution_count": 7,
     "metadata": {},
     "output_type": "execute_result"
    }
   ],
   "source": [
    "pd.Series(data=arr,index=labels)"
   ]
  },
  {
   "cell_type": "markdown",
   "metadata": {},
   "source": [
    "#### Using Dictionaries"
   ]
  },
  {
   "cell_type": "code",
   "execution_count": 8,
   "metadata": {
    "ExecuteTime": {
     "end_time": "2023-07-13T15:43:38.681203605Z",
     "start_time": "2023-07-13T15:43:38.625361899Z"
    }
   },
   "outputs": [
    {
     "data": {
      "text/plain": "a    10\nb    20\nc    30\ndtype: int64"
     },
     "execution_count": 8,
     "metadata": {},
     "output_type": "execute_result"
    }
   ],
   "source": [
    "pd.Series(d)"
   ]
  },
  {
   "cell_type": "markdown",
   "metadata": {},
   "source": [
    "#### Data in a Series\n",
    "\n",
    "A pandas Series can hold a variety of object types:"
   ]
  },
  {
   "cell_type": "code",
   "execution_count": 9,
   "metadata": {
    "ExecuteTime": {
     "end_time": "2023-07-13T15:43:47.201627201Z",
     "start_time": "2023-07-13T15:43:47.133802987Z"
    }
   },
   "outputs": [
    {
     "data": {
      "text/plain": "0      <built-in function sum>\n1    <built-in function print>\n2      <built-in function len>\ndtype: object"
     },
     "execution_count": 9,
     "metadata": {},
     "output_type": "execute_result"
    }
   ],
   "source": [
    "# Even functions (although unlikely that you will use this)\n",
    "pd.Series([sum,print,len])"
   ]
  },
  {
   "cell_type": "markdown",
   "metadata": {},
   "source": [
    "### Using an Index\n",
    "\n",
    "The key to using a Series is understanding its index. Pandas makes use of these index names or numbers by allowing for fast look ups of information (works like a hash table or dictionary).\n",
    "\n",
    "Let's see some examples of how to grab information from a Series. Let us create two sereis, ser1 and ser2:"
   ]
  },
  {
   "cell_type": "code",
   "execution_count": 10,
   "metadata": {
    "ExecuteTime": {
     "end_time": "2023-07-13T15:44:03.506498216Z",
     "start_time": "2023-07-13T15:44:03.448322335Z"
    }
   },
   "outputs": [],
   "source": [
    "data1=[1,2,3,4]\n",
    "index1 = ['USA', 'Germany','USSR', 'Japan']\n",
    "\n",
    "ser1 = pd.Series(data=data1,index = index1)                                   "
   ]
  },
  {
   "cell_type": "code",
   "execution_count": 11,
   "metadata": {
    "ExecuteTime": {
     "end_time": "2023-07-13T15:44:04.995343485Z",
     "start_time": "2023-07-13T15:44:04.935488198Z"
    }
   },
   "outputs": [
    {
     "data": {
      "text/plain": "USA        1\nGermany    2\nUSSR       3\nJapan      4\ndtype: int64"
     },
     "execution_count": 11,
     "metadata": {},
     "output_type": "execute_result"
    }
   ],
   "source": [
    "ser1"
   ]
  },
  {
   "cell_type": "code",
   "execution_count": 12,
   "metadata": {
    "ExecuteTime": {
     "end_time": "2023-07-13T15:44:09.231463536Z",
     "start_time": "2023-07-13T15:44:09.176517644Z"
    }
   },
   "outputs": [],
   "source": [
    "data2=[1,2,5,4]\n",
    "index2 = ['USA', 'Germany','Italy', 'Japan']\n",
    "\n",
    "ser2 = pd.Series(data=data2,index = index2)                                            "
   ]
  },
  {
   "cell_type": "code",
   "execution_count": 13,
   "metadata": {
    "ExecuteTime": {
     "end_time": "2023-07-13T15:44:10.387771953Z",
     "start_time": "2023-07-13T15:44:10.330910842Z"
    }
   },
   "outputs": [
    {
     "data": {
      "text/plain": "USA        1\nGermany    2\nItaly      5\nJapan      4\ndtype: int64"
     },
     "execution_count": 13,
     "metadata": {},
     "output_type": "execute_result"
    }
   ],
   "source": [
    "ser2"
   ]
  },
  {
   "cell_type": "code",
   "execution_count": 14,
   "metadata": {
    "ExecuteTime": {
     "end_time": "2023-07-13T15:44:12.112749248Z",
     "start_time": "2023-07-13T15:44:11.997021088Z"
    }
   },
   "outputs": [
    {
     "data": {
      "text/plain": "1"
     },
     "execution_count": 14,
     "metadata": {},
     "output_type": "execute_result"
    }
   ],
   "source": [
    "ser1['USA']"
   ]
  },
  {
   "cell_type": "markdown",
   "metadata": {},
   "source": [
    "Operations are then also done based off of index:"
   ]
  },
  {
   "cell_type": "code",
   "execution_count": 15,
   "metadata": {
    "scrolled": true,
    "ExecuteTime": {
     "end_time": "2023-07-13T15:44:13.541763459Z",
     "start_time": "2023-07-13T15:44:13.495158460Z"
    }
   },
   "outputs": [
    {
     "data": {
      "text/plain": "Germany    4.0\nItaly      NaN\nJapan      8.0\nUSA        2.0\nUSSR       NaN\ndtype: float64"
     },
     "execution_count": 15,
     "metadata": {},
     "output_type": "execute_result"
    }
   ],
   "source": [
    "ser1 + ser2"
   ]
  },
  {
   "cell_type": "markdown",
   "metadata": {},
   "source": [
    "Let's stop here for now and move on to DataFrames, which will expand on the concept of Series."
   ]
  },
  {
   "cell_type": "markdown",
   "metadata": {},
   "source": [
    "## DataFrames - EASY\n",
    "\n",
    "DataFrames are the workhorse of pandas and are directly inspired by the R programming language. We can think of a DataFrame as a bunch of Series objects put together to share the same index. "
   ]
  },
  {
   "cell_type": "markdown",
   "metadata": {},
   "source": [
    "### Load the Dataframe"
   ]
  },
  {
   "cell_type": "code",
   "execution_count": 16,
   "metadata": {
    "ExecuteTime": {
     "end_time": "2023-07-13T15:44:37.873492552Z",
     "start_time": "2023-07-13T15:44:37.722970370Z"
    }
   },
   "outputs": [],
   "source": [
    "from numpy.random import randn\n",
    "np.random.seed(101)"
   ]
  },
  {
   "cell_type": "code",
   "execution_count": 17,
   "metadata": {
    "ExecuteTime": {
     "end_time": "2023-07-13T15:44:38.297433069Z",
     "start_time": "2023-07-13T15:44:38.202521283Z"
    }
   },
   "outputs": [],
   "source": [
    "df_easy = pd.DataFrame(randn(5,4),index='A B C D E'.split(),columns='W X Y Z'.split())"
   ]
  },
  {
   "cell_type": "markdown",
   "metadata": {},
   "source": [
    "### Visualize the Dataset"
   ]
  },
  {
   "cell_type": "code",
   "execution_count": 18,
   "metadata": {
    "scrolled": true,
    "ExecuteTime": {
     "end_time": "2023-07-13T15:44:44.655306047Z",
     "start_time": "2023-07-13T15:44:44.600419918Z"
    }
   },
   "outputs": [
    {
     "data": {
      "text/plain": "          W         X         Y         Z\nA  2.706850  0.628133  0.907969  0.503826\nB  0.651118 -0.319318 -0.848077  0.605965\nC -2.018168  0.740122  0.528813 -0.589001\nD  0.188695 -0.758872 -0.933237  0.955057\nE  0.190794  1.978757  2.605967  0.683509",
      "text/html": "<div>\n<style scoped>\n    .dataframe tbody tr th:only-of-type {\n        vertical-align: middle;\n    }\n\n    .dataframe tbody tr th {\n        vertical-align: top;\n    }\n\n    .dataframe thead th {\n        text-align: right;\n    }\n</style>\n<table border=\"1\" class=\"dataframe\">\n  <thead>\n    <tr style=\"text-align: right;\">\n      <th></th>\n      <th>W</th>\n      <th>X</th>\n      <th>Y</th>\n      <th>Z</th>\n    </tr>\n  </thead>\n  <tbody>\n    <tr>\n      <th>A</th>\n      <td>2.706850</td>\n      <td>0.628133</td>\n      <td>0.907969</td>\n      <td>0.503826</td>\n    </tr>\n    <tr>\n      <th>B</th>\n      <td>0.651118</td>\n      <td>-0.319318</td>\n      <td>-0.848077</td>\n      <td>0.605965</td>\n    </tr>\n    <tr>\n      <th>C</th>\n      <td>-2.018168</td>\n      <td>0.740122</td>\n      <td>0.528813</td>\n      <td>-0.589001</td>\n    </tr>\n    <tr>\n      <th>D</th>\n      <td>0.188695</td>\n      <td>-0.758872</td>\n      <td>-0.933237</td>\n      <td>0.955057</td>\n    </tr>\n    <tr>\n      <th>E</th>\n      <td>0.190794</td>\n      <td>1.978757</td>\n      <td>2.605967</td>\n      <td>0.683509</td>\n    </tr>\n  </tbody>\n</table>\n</div>"
     },
     "execution_count": 18,
     "metadata": {},
     "output_type": "execute_result"
    }
   ],
   "source": [
    "df_easy"
   ]
  },
  {
   "cell_type": "markdown",
   "metadata": {},
   "source": [
    "Print only last 10 line\n",
    "    \n",
    "    df.tail(10)\n",
    "\n",
    "Print only the first line\n",
    "\n",
    "    df.head(10)\n",
    "    \n",
    "Print the shape of the dataset\n",
    "\n",
    "    df.shape\n",
    "    \n",
    "See info of the dataset\n",
    "\n",
    "    df.info()\n",
    "    \n",
    "Show columns intestation\n",
    "\n",
    "    df.columns\n",
    "    \n",
    "We can also setsome option to pandas to display better the data"
   ]
  },
  {
   "cell_type": "code",
   "execution_count": 19,
   "metadata": {},
   "outputs": [],
   "source": [
    "#Display all the column and all the info of every column\n",
    "pd.set_option('display.max_columns', 85)\n",
    "pd.set_option('display.max_rows', 85)"
   ]
  },
  {
   "cell_type": "markdown",
   "metadata": {},
   "source": [
    "### Selection and Indexing\n",
    "\n",
    "#### Access Column "
   ]
  },
  {
   "cell_type": "markdown",
   "metadata": {},
   "source": [
    "We can access to a specific column using the label of the column"
   ]
  },
  {
   "cell_type": "code",
   "execution_count": 19,
   "metadata": {
    "ExecuteTime": {
     "end_time": "2023-07-13T15:46:07.579417828Z",
     "start_time": "2023-07-13T15:46:07.520863311Z"
    }
   },
   "outputs": [
    {
     "data": {
      "text/plain": "A    2.706850\nB    0.651118\nC   -2.018168\nD    0.188695\nE    0.190794\nName: W, dtype: float64"
     },
     "execution_count": 19,
     "metadata": {},
     "output_type": "execute_result"
    }
   ],
   "source": [
    "df_easy['W']"
   ]
  },
  {
   "cell_type": "code",
   "execution_count": 20,
   "metadata": {
    "ExecuteTime": {
     "end_time": "2023-07-13T15:46:09.185520109Z",
     "start_time": "2023-07-13T15:46:09.047985899Z"
    }
   },
   "outputs": [
    {
     "data": {
      "text/plain": "          W         X\nA  2.706850  0.628133\nB  0.651118 -0.319318\nC -2.018168  0.740122\nD  0.188695 -0.758872\nE  0.190794  1.978757",
      "text/html": "<div>\n<style scoped>\n    .dataframe tbody tr th:only-of-type {\n        vertical-align: middle;\n    }\n\n    .dataframe tbody tr th {\n        vertical-align: top;\n    }\n\n    .dataframe thead th {\n        text-align: right;\n    }\n</style>\n<table border=\"1\" class=\"dataframe\">\n  <thead>\n    <tr style=\"text-align: right;\">\n      <th></th>\n      <th>W</th>\n      <th>X</th>\n    </tr>\n  </thead>\n  <tbody>\n    <tr>\n      <th>A</th>\n      <td>2.706850</td>\n      <td>0.628133</td>\n    </tr>\n    <tr>\n      <th>B</th>\n      <td>0.651118</td>\n      <td>-0.319318</td>\n    </tr>\n    <tr>\n      <th>C</th>\n      <td>-2.018168</td>\n      <td>0.740122</td>\n    </tr>\n    <tr>\n      <th>D</th>\n      <td>0.188695</td>\n      <td>-0.758872</td>\n    </tr>\n    <tr>\n      <th>E</th>\n      <td>0.190794</td>\n      <td>1.978757</td>\n    </tr>\n  </tbody>\n</table>\n</div>"
     },
     "execution_count": 20,
     "metadata": {},
     "output_type": "execute_result"
    }
   ],
   "source": [
    "df_easy[['W', 'X']]"
   ]
  },
  {
   "cell_type": "markdown",
   "metadata": {},
   "source": [
    "#### Access Row\n",
    "\n",
    "The most common is to use loc function"
   ]
  },
  {
   "cell_type": "code",
   "execution_count": 21,
   "metadata": {
    "ExecuteTime": {
     "end_time": "2023-07-13T15:46:16.710591544Z",
     "start_time": "2023-07-13T15:46:16.582427519Z"
    }
   },
   "outputs": [
    {
     "data": {
      "text/plain": "W    2.706850\nX    0.628133\nY    0.907969\nZ    0.503826\nName: A, dtype: float64"
     },
     "execution_count": 21,
     "metadata": {},
     "output_type": "execute_result"
    }
   ],
   "source": [
    "df_easy.loc['A']"
   ]
  },
  {
   "cell_type": "code",
   "execution_count": 22,
   "metadata": {
    "ExecuteTime": {
     "end_time": "2023-07-13T15:46:17.927817214Z",
     "start_time": "2023-07-13T15:46:17.872451388Z"
    }
   },
   "outputs": [
    {
     "data": {
      "text/plain": "W   -2.018168\nX    0.740122\nY    0.528813\nZ   -0.589001\nName: C, dtype: float64"
     },
     "execution_count": 22,
     "metadata": {},
     "output_type": "execute_result"
    }
   ],
   "source": [
    "#Select based off of position instead of label \n",
    "df_easy.iloc[2]"
   ]
  },
  {
   "cell_type": "code",
   "execution_count": 23,
   "metadata": {
    "ExecuteTime": {
     "end_time": "2023-07-13T15:46:22.027247112Z",
     "start_time": "2023-07-13T15:46:21.915898044Z"
    }
   },
   "outputs": [
    {
     "data": {
      "text/plain": "          W         X         Y         Z\nA  2.706850  0.628133  0.907969  0.503826\nB  0.651118 -0.319318 -0.848077  0.605965",
      "text/html": "<div>\n<style scoped>\n    .dataframe tbody tr th:only-of-type {\n        vertical-align: middle;\n    }\n\n    .dataframe tbody tr th {\n        vertical-align: top;\n    }\n\n    .dataframe thead th {\n        text-align: right;\n    }\n</style>\n<table border=\"1\" class=\"dataframe\">\n  <thead>\n    <tr style=\"text-align: right;\">\n      <th></th>\n      <th>W</th>\n      <th>X</th>\n      <th>Y</th>\n      <th>Z</th>\n    </tr>\n  </thead>\n  <tbody>\n    <tr>\n      <th>A</th>\n      <td>2.706850</td>\n      <td>0.628133</td>\n      <td>0.907969</td>\n      <td>0.503826</td>\n    </tr>\n    <tr>\n      <th>B</th>\n      <td>0.651118</td>\n      <td>-0.319318</td>\n      <td>-0.848077</td>\n      <td>0.605965</td>\n    </tr>\n  </tbody>\n</table>\n</div>"
     },
     "execution_count": 23,
     "metadata": {},
     "output_type": "execute_result"
    }
   ],
   "source": [
    "# Select multiple row\n",
    "df_easy.loc[['A', 'B']]"
   ]
  },
  {
   "cell_type": "markdown",
   "metadata": {},
   "source": [
    "So as we see we got only the first two row. We can get more complicated one using slicing"
   ]
  },
  {
   "cell_type": "code",
   "execution_count": 24,
   "metadata": {
    "ExecuteTime": {
     "end_time": "2023-07-13T15:46:32.602857755Z",
     "start_time": "2023-07-13T15:46:32.449822771Z"
    }
   },
   "outputs": [
    {
     "data": {
      "text/plain": "          X         Y         Z\nA  0.628133  0.907969  0.503826\nB -0.319318 -0.848077  0.605965\nC  0.740122  0.528813 -0.589001",
      "text/html": "<div>\n<style scoped>\n    .dataframe tbody tr th:only-of-type {\n        vertical-align: middle;\n    }\n\n    .dataframe tbody tr th {\n        vertical-align: top;\n    }\n\n    .dataframe thead th {\n        text-align: right;\n    }\n</style>\n<table border=\"1\" class=\"dataframe\">\n  <thead>\n    <tr style=\"text-align: right;\">\n      <th></th>\n      <th>X</th>\n      <th>Y</th>\n      <th>Z</th>\n    </tr>\n  </thead>\n  <tbody>\n    <tr>\n      <th>A</th>\n      <td>0.628133</td>\n      <td>0.907969</td>\n      <td>0.503826</td>\n    </tr>\n    <tr>\n      <th>B</th>\n      <td>-0.319318</td>\n      <td>-0.848077</td>\n      <td>0.605965</td>\n    </tr>\n    <tr>\n      <th>C</th>\n      <td>0.740122</td>\n      <td>0.528813</td>\n      <td>-0.589001</td>\n    </tr>\n  </tbody>\n</table>\n</div>"
     },
     "execution_count": 24,
     "metadata": {},
     "output_type": "execute_result"
    }
   ],
   "source": [
    "df_easy.loc[ 'A':'C', 'X':'Z']"
   ]
  },
  {
   "cell_type": "markdown",
   "metadata": {},
   "source": [
    "We can also see the count of element in each variable, so we can display"
   ]
  },
  {
   "cell_type": "markdown",
   "metadata": {},
   "source": [
    "### New label identifiers\n",
    "\n",
    "Until now we use thye order prestabilied to identify the object. Now maybe we want to use other identifier for each row, so we use this indexing. So now the first column is the one we choose, and it can be useful."
   ]
  },
  {
   "cell_type": "code",
   "execution_count": 25,
   "metadata": {
    "ExecuteTime": {
     "end_time": "2023-07-13T15:46:44.175757807Z",
     "start_time": "2023-07-13T15:46:44.035573456Z"
    }
   },
   "outputs": [
    {
     "data": {
      "text/plain": "          W         X         Y         Z\nA  2.706850  0.628133  0.907969  0.503826\nB  0.651118 -0.319318 -0.848077  0.605965\nC -2.018168  0.740122  0.528813 -0.589001\nD  0.188695 -0.758872 -0.933237  0.955057\nE  0.190794  1.978757  2.605967  0.683509",
      "text/html": "<div>\n<style scoped>\n    .dataframe tbody tr th:only-of-type {\n        vertical-align: middle;\n    }\n\n    .dataframe tbody tr th {\n        vertical-align: top;\n    }\n\n    .dataframe thead th {\n        text-align: right;\n    }\n</style>\n<table border=\"1\" class=\"dataframe\">\n  <thead>\n    <tr style=\"text-align: right;\">\n      <th></th>\n      <th>W</th>\n      <th>X</th>\n      <th>Y</th>\n      <th>Z</th>\n    </tr>\n  </thead>\n  <tbody>\n    <tr>\n      <th>A</th>\n      <td>2.706850</td>\n      <td>0.628133</td>\n      <td>0.907969</td>\n      <td>0.503826</td>\n    </tr>\n    <tr>\n      <th>B</th>\n      <td>0.651118</td>\n      <td>-0.319318</td>\n      <td>-0.848077</td>\n      <td>0.605965</td>\n    </tr>\n    <tr>\n      <th>C</th>\n      <td>-2.018168</td>\n      <td>0.740122</td>\n      <td>0.528813</td>\n      <td>-0.589001</td>\n    </tr>\n    <tr>\n      <th>D</th>\n      <td>0.188695</td>\n      <td>-0.758872</td>\n      <td>-0.933237</td>\n      <td>0.955057</td>\n    </tr>\n    <tr>\n      <th>E</th>\n      <td>0.190794</td>\n      <td>1.978757</td>\n      <td>2.605967</td>\n      <td>0.683509</td>\n    </tr>\n  </tbody>\n</table>\n</div>"
     },
     "execution_count": 25,
     "metadata": {},
     "output_type": "execute_result"
    }
   ],
   "source": [
    "df_easy"
   ]
  },
  {
   "cell_type": "code",
   "execution_count": 26,
   "metadata": {
    "scrolled": true,
    "ExecuteTime": {
     "end_time": "2023-07-13T15:46:44.615858292Z",
     "start_time": "2023-07-13T15:46:44.516887500Z"
    }
   },
   "outputs": [
    {
     "data": {
      "text/plain": "  index         W         X         Y         Z\n0     A  2.706850  0.628133  0.907969  0.503826\n1     B  0.651118 -0.319318 -0.848077  0.605965\n2     C -2.018168  0.740122  0.528813 -0.589001\n3     D  0.188695 -0.758872 -0.933237  0.955057\n4     E  0.190794  1.978757  2.605967  0.683509",
      "text/html": "<div>\n<style scoped>\n    .dataframe tbody tr th:only-of-type {\n        vertical-align: middle;\n    }\n\n    .dataframe tbody tr th {\n        vertical-align: top;\n    }\n\n    .dataframe thead th {\n        text-align: right;\n    }\n</style>\n<table border=\"1\" class=\"dataframe\">\n  <thead>\n    <tr style=\"text-align: right;\">\n      <th></th>\n      <th>index</th>\n      <th>W</th>\n      <th>X</th>\n      <th>Y</th>\n      <th>Z</th>\n    </tr>\n  </thead>\n  <tbody>\n    <tr>\n      <th>0</th>\n      <td>A</td>\n      <td>2.706850</td>\n      <td>0.628133</td>\n      <td>0.907969</td>\n      <td>0.503826</td>\n    </tr>\n    <tr>\n      <th>1</th>\n      <td>B</td>\n      <td>0.651118</td>\n      <td>-0.319318</td>\n      <td>-0.848077</td>\n      <td>0.605965</td>\n    </tr>\n    <tr>\n      <th>2</th>\n      <td>C</td>\n      <td>-2.018168</td>\n      <td>0.740122</td>\n      <td>0.528813</td>\n      <td>-0.589001</td>\n    </tr>\n    <tr>\n      <th>3</th>\n      <td>D</td>\n      <td>0.188695</td>\n      <td>-0.758872</td>\n      <td>-0.933237</td>\n      <td>0.955057</td>\n    </tr>\n    <tr>\n      <th>4</th>\n      <td>E</td>\n      <td>0.190794</td>\n      <td>1.978757</td>\n      <td>2.605967</td>\n      <td>0.683509</td>\n    </tr>\n  </tbody>\n</table>\n</div>"
     },
     "execution_count": 26,
     "metadata": {},
     "output_type": "execute_result"
    }
   ],
   "source": [
    "# Reset to default 0,1...n index\n",
    "df_easy.reset_index()"
   ]
  },
  {
   "cell_type": "code",
   "execution_count": 27,
   "metadata": {
    "ExecuteTime": {
     "end_time": "2023-07-13T15:46:49.481604553Z",
     "start_time": "2023-07-13T15:46:49.420432912Z"
    }
   },
   "outputs": [],
   "source": [
    "newind = 'CA NY WY OR CO'.split()"
   ]
  },
  {
   "cell_type": "code",
   "execution_count": 28,
   "metadata": {
    "ExecuteTime": {
     "end_time": "2023-07-13T15:46:53.750958755Z",
     "start_time": "2023-07-13T15:46:53.644232133Z"
    }
   },
   "outputs": [],
   "source": [
    "df_easy['States'] = newind"
   ]
  },
  {
   "cell_type": "code",
   "execution_count": 29,
   "metadata": {
    "ExecuteTime": {
     "end_time": "2023-07-13T15:46:54.996278412Z",
     "start_time": "2023-07-13T15:46:54.927469845Z"
    }
   },
   "outputs": [
    {
     "data": {
      "text/plain": "          W         X         Y         Z States\nA  2.706850  0.628133  0.907969  0.503826     CA\nB  0.651118 -0.319318 -0.848077  0.605965     NY\nC -2.018168  0.740122  0.528813 -0.589001     WY\nD  0.188695 -0.758872 -0.933237  0.955057     OR\nE  0.190794  1.978757  2.605967  0.683509     CO",
      "text/html": "<div>\n<style scoped>\n    .dataframe tbody tr th:only-of-type {\n        vertical-align: middle;\n    }\n\n    .dataframe tbody tr th {\n        vertical-align: top;\n    }\n\n    .dataframe thead th {\n        text-align: right;\n    }\n</style>\n<table border=\"1\" class=\"dataframe\">\n  <thead>\n    <tr style=\"text-align: right;\">\n      <th></th>\n      <th>W</th>\n      <th>X</th>\n      <th>Y</th>\n      <th>Z</th>\n      <th>States</th>\n    </tr>\n  </thead>\n  <tbody>\n    <tr>\n      <th>A</th>\n      <td>2.706850</td>\n      <td>0.628133</td>\n      <td>0.907969</td>\n      <td>0.503826</td>\n      <td>CA</td>\n    </tr>\n    <tr>\n      <th>B</th>\n      <td>0.651118</td>\n      <td>-0.319318</td>\n      <td>-0.848077</td>\n      <td>0.605965</td>\n      <td>NY</td>\n    </tr>\n    <tr>\n      <th>C</th>\n      <td>-2.018168</td>\n      <td>0.740122</td>\n      <td>0.528813</td>\n      <td>-0.589001</td>\n      <td>WY</td>\n    </tr>\n    <tr>\n      <th>D</th>\n      <td>0.188695</td>\n      <td>-0.758872</td>\n      <td>-0.933237</td>\n      <td>0.955057</td>\n      <td>OR</td>\n    </tr>\n    <tr>\n      <th>E</th>\n      <td>0.190794</td>\n      <td>1.978757</td>\n      <td>2.605967</td>\n      <td>0.683509</td>\n      <td>CO</td>\n    </tr>\n  </tbody>\n</table>\n</div>"
     },
     "execution_count": 29,
     "metadata": {},
     "output_type": "execute_result"
    }
   ],
   "source": [
    "df_easy"
   ]
  },
  {
   "cell_type": "code",
   "execution_count": 30,
   "metadata": {
    "scrolled": false,
    "ExecuteTime": {
     "end_time": "2023-07-13T15:47:03.955026626Z",
     "start_time": "2023-07-13T15:47:03.871975792Z"
    }
   },
   "outputs": [],
   "source": [
    "df_easy.set_index('States', inplace=True)"
   ]
  },
  {
   "cell_type": "markdown",
   "metadata": {},
   "source": [
    "We can also sort it alphabetically"
   ]
  },
  {
   "cell_type": "code",
   "execution_count": 31,
   "metadata": {
    "ExecuteTime": {
     "end_time": "2023-07-13T15:47:07.116191542Z",
     "start_time": "2023-07-13T15:47:06.967349563Z"
    }
   },
   "outputs": [
    {
     "data": {
      "text/plain": "               W         X         Y         Z\nStates                                        \nCA      2.706850  0.628133  0.907969  0.503826\nCO      0.190794  1.978757  2.605967  0.683509\nNY      0.651118 -0.319318 -0.848077  0.605965\nOR      0.188695 -0.758872 -0.933237  0.955057\nWY     -2.018168  0.740122  0.528813 -0.589001",
      "text/html": "<div>\n<style scoped>\n    .dataframe tbody tr th:only-of-type {\n        vertical-align: middle;\n    }\n\n    .dataframe tbody tr th {\n        vertical-align: top;\n    }\n\n    .dataframe thead th {\n        text-align: right;\n    }\n</style>\n<table border=\"1\" class=\"dataframe\">\n  <thead>\n    <tr style=\"text-align: right;\">\n      <th></th>\n      <th>W</th>\n      <th>X</th>\n      <th>Y</th>\n      <th>Z</th>\n    </tr>\n    <tr>\n      <th>States</th>\n      <th></th>\n      <th></th>\n      <th></th>\n      <th></th>\n    </tr>\n  </thead>\n  <tbody>\n    <tr>\n      <th>CA</th>\n      <td>2.706850</td>\n      <td>0.628133</td>\n      <td>0.907969</td>\n      <td>0.503826</td>\n    </tr>\n    <tr>\n      <th>CO</th>\n      <td>0.190794</td>\n      <td>1.978757</td>\n      <td>2.605967</td>\n      <td>0.683509</td>\n    </tr>\n    <tr>\n      <th>NY</th>\n      <td>0.651118</td>\n      <td>-0.319318</td>\n      <td>-0.848077</td>\n      <td>0.605965</td>\n    </tr>\n    <tr>\n      <th>OR</th>\n      <td>0.188695</td>\n      <td>-0.758872</td>\n      <td>-0.933237</td>\n      <td>0.955057</td>\n    </tr>\n    <tr>\n      <th>WY</th>\n      <td>-2.018168</td>\n      <td>0.740122</td>\n      <td>0.528813</td>\n      <td>-0.589001</td>\n    </tr>\n  </tbody>\n</table>\n</div>"
     },
     "execution_count": 31,
     "metadata": {},
     "output_type": "execute_result"
    }
   ],
   "source": [
    "df_easy.sort_index(inplace=True)\n",
    "\n",
    "df_easy"
   ]
  },
  {
   "cell_type": "markdown",
   "metadata": {},
   "source": [
    "### Add and remove Columns and Row"
   ]
  },
  {
   "cell_type": "markdown",
   "metadata": {},
   "source": [
    "To add a column is very easy, in particular we create a column and that we attach it."
   ]
  },
  {
   "cell_type": "code",
   "execution_count": 32,
   "metadata": {
    "ExecuteTime": {
     "end_time": "2023-07-13T15:47:16.596816919Z",
     "start_time": "2023-07-13T15:47:16.517039026Z"
    }
   },
   "outputs": [],
   "source": [
    "df_easy['new'] = df_easy['W'] + df_easy['Y']"
   ]
  },
  {
   "cell_type": "code",
   "execution_count": 33,
   "metadata": {
    "ExecuteTime": {
     "end_time": "2023-07-13T15:47:17.452213165Z",
     "start_time": "2023-07-13T15:47:17.363157368Z"
    }
   },
   "outputs": [
    {
     "data": {
      "text/plain": "               W         X         Y         Z       new\nStates                                                  \nCA      2.706850  0.628133  0.907969  0.503826  3.614819\nCO      0.190794  1.978757  2.605967  0.683509  2.796762\nNY      0.651118 -0.319318 -0.848077  0.605965 -0.196959\nOR      0.188695 -0.758872 -0.933237  0.955057 -0.744542\nWY     -2.018168  0.740122  0.528813 -0.589001 -1.489355",
      "text/html": "<div>\n<style scoped>\n    .dataframe tbody tr th:only-of-type {\n        vertical-align: middle;\n    }\n\n    .dataframe tbody tr th {\n        vertical-align: top;\n    }\n\n    .dataframe thead th {\n        text-align: right;\n    }\n</style>\n<table border=\"1\" class=\"dataframe\">\n  <thead>\n    <tr style=\"text-align: right;\">\n      <th></th>\n      <th>W</th>\n      <th>X</th>\n      <th>Y</th>\n      <th>Z</th>\n      <th>new</th>\n    </tr>\n    <tr>\n      <th>States</th>\n      <th></th>\n      <th></th>\n      <th></th>\n      <th></th>\n      <th></th>\n    </tr>\n  </thead>\n  <tbody>\n    <tr>\n      <th>CA</th>\n      <td>2.706850</td>\n      <td>0.628133</td>\n      <td>0.907969</td>\n      <td>0.503826</td>\n      <td>3.614819</td>\n    </tr>\n    <tr>\n      <th>CO</th>\n      <td>0.190794</td>\n      <td>1.978757</td>\n      <td>2.605967</td>\n      <td>0.683509</td>\n      <td>2.796762</td>\n    </tr>\n    <tr>\n      <th>NY</th>\n      <td>0.651118</td>\n      <td>-0.319318</td>\n      <td>-0.848077</td>\n      <td>0.605965</td>\n      <td>-0.196959</td>\n    </tr>\n    <tr>\n      <th>OR</th>\n      <td>0.188695</td>\n      <td>-0.758872</td>\n      <td>-0.933237</td>\n      <td>0.955057</td>\n      <td>-0.744542</td>\n    </tr>\n    <tr>\n      <th>WY</th>\n      <td>-2.018168</td>\n      <td>0.740122</td>\n      <td>0.528813</td>\n      <td>-0.589001</td>\n      <td>-1.489355</td>\n    </tr>\n  </tbody>\n</table>\n</div>"
     },
     "execution_count": 33,
     "metadata": {},
     "output_type": "execute_result"
    }
   ],
   "source": [
    "df_easy"
   ]
  },
  {
   "cell_type": "code",
   "execution_count": 34,
   "metadata": {
    "ExecuteTime": {
     "end_time": "2023-07-13T15:47:20.489816771Z",
     "start_time": "2023-07-13T15:47:20.329733564Z"
    }
   },
   "outputs": [
    {
     "data": {
      "text/plain": "               W         X         Y         Z\nStates                                        \nCA      2.706850  0.628133  0.907969  0.503826\nCO      0.190794  1.978757  2.605967  0.683509\nNY      0.651118 -0.319318 -0.848077  0.605965\nOR      0.188695 -0.758872 -0.933237  0.955057\nWY     -2.018168  0.740122  0.528813 -0.589001",
      "text/html": "<div>\n<style scoped>\n    .dataframe tbody tr th:only-of-type {\n        vertical-align: middle;\n    }\n\n    .dataframe tbody tr th {\n        vertical-align: top;\n    }\n\n    .dataframe thead th {\n        text-align: right;\n    }\n</style>\n<table border=\"1\" class=\"dataframe\">\n  <thead>\n    <tr style=\"text-align: right;\">\n      <th></th>\n      <th>W</th>\n      <th>X</th>\n      <th>Y</th>\n      <th>Z</th>\n    </tr>\n    <tr>\n      <th>States</th>\n      <th></th>\n      <th></th>\n      <th></th>\n      <th></th>\n    </tr>\n  </thead>\n  <tbody>\n    <tr>\n      <th>CA</th>\n      <td>2.706850</td>\n      <td>0.628133</td>\n      <td>0.907969</td>\n      <td>0.503826</td>\n    </tr>\n    <tr>\n      <th>CO</th>\n      <td>0.190794</td>\n      <td>1.978757</td>\n      <td>2.605967</td>\n      <td>0.683509</td>\n    </tr>\n    <tr>\n      <th>NY</th>\n      <td>0.651118</td>\n      <td>-0.319318</td>\n      <td>-0.848077</td>\n      <td>0.605965</td>\n    </tr>\n    <tr>\n      <th>OR</th>\n      <td>0.188695</td>\n      <td>-0.758872</td>\n      <td>-0.933237</td>\n      <td>0.955057</td>\n    </tr>\n    <tr>\n      <th>WY</th>\n      <td>-2.018168</td>\n      <td>0.740122</td>\n      <td>0.528813</td>\n      <td>-0.589001</td>\n    </tr>\n  </tbody>\n</table>\n</div>"
     },
     "execution_count": 34,
     "metadata": {},
     "output_type": "execute_result"
    }
   ],
   "source": [
    "df_easy.drop('new',axis=1)"
   ]
  },
  {
   "cell_type": "markdown",
   "metadata": {},
   "source": [
    "The change are not permanent unless inplace=True specified."
   ]
  },
  {
   "cell_type": "code",
   "execution_count": 35,
   "metadata": {
    "ExecuteTime": {
     "end_time": "2023-07-13T15:47:30.854697038Z",
     "start_time": "2023-07-13T15:47:30.723719419Z"
    }
   },
   "outputs": [],
   "source": [
    "df_easy.drop('new',axis=1,inplace=True)"
   ]
  },
  {
   "cell_type": "code",
   "execution_count": 36,
   "metadata": {
    "ExecuteTime": {
     "end_time": "2023-07-13T15:47:31.600508841Z",
     "start_time": "2023-07-13T15:47:31.541260787Z"
    }
   },
   "outputs": [
    {
     "data": {
      "text/plain": "               W         X         Y         Z\nStates                                        \nCA      2.706850  0.628133  0.907969  0.503826\nCO      0.190794  1.978757  2.605967  0.683509\nNY      0.651118 -0.319318 -0.848077  0.605965\nOR      0.188695 -0.758872 -0.933237  0.955057\nWY     -2.018168  0.740122  0.528813 -0.589001",
      "text/html": "<div>\n<style scoped>\n    .dataframe tbody tr th:only-of-type {\n        vertical-align: middle;\n    }\n\n    .dataframe tbody tr th {\n        vertical-align: top;\n    }\n\n    .dataframe thead th {\n        text-align: right;\n    }\n</style>\n<table border=\"1\" class=\"dataframe\">\n  <thead>\n    <tr style=\"text-align: right;\">\n      <th></th>\n      <th>W</th>\n      <th>X</th>\n      <th>Y</th>\n      <th>Z</th>\n    </tr>\n    <tr>\n      <th>States</th>\n      <th></th>\n      <th></th>\n      <th></th>\n      <th></th>\n    </tr>\n  </thead>\n  <tbody>\n    <tr>\n      <th>CA</th>\n      <td>2.706850</td>\n      <td>0.628133</td>\n      <td>0.907969</td>\n      <td>0.503826</td>\n    </tr>\n    <tr>\n      <th>CO</th>\n      <td>0.190794</td>\n      <td>1.978757</td>\n      <td>2.605967</td>\n      <td>0.683509</td>\n    </tr>\n    <tr>\n      <th>NY</th>\n      <td>0.651118</td>\n      <td>-0.319318</td>\n      <td>-0.848077</td>\n      <td>0.605965</td>\n    </tr>\n    <tr>\n      <th>OR</th>\n      <td>0.188695</td>\n      <td>-0.758872</td>\n      <td>-0.933237</td>\n      <td>0.955057</td>\n    </tr>\n    <tr>\n      <th>WY</th>\n      <td>-2.018168</td>\n      <td>0.740122</td>\n      <td>0.528813</td>\n      <td>-0.589001</td>\n    </tr>\n  </tbody>\n</table>\n</div>"
     },
     "execution_count": 36,
     "metadata": {},
     "output_type": "execute_result"
    }
   ],
   "source": [
    "df_easy"
   ]
  },
  {
   "cell_type": "code",
   "execution_count": 37,
   "metadata": {
    "ExecuteTime": {
     "end_time": "2023-07-13T15:47:34.931597808Z",
     "start_time": "2023-07-13T15:47:34.726009737Z"
    }
   },
   "outputs": [
    {
     "data": {
      "text/plain": "               W         Z\nStates                    \nCA      2.706850  0.503826\nCO      0.190794  0.683509\nNY      0.651118  0.605965\nOR      0.188695  0.955057\nWY     -2.018168 -0.589001",
      "text/html": "<div>\n<style scoped>\n    .dataframe tbody tr th:only-of-type {\n        vertical-align: middle;\n    }\n\n    .dataframe tbody tr th {\n        vertical-align: top;\n    }\n\n    .dataframe thead th {\n        text-align: right;\n    }\n</style>\n<table border=\"1\" class=\"dataframe\">\n  <thead>\n    <tr style=\"text-align: right;\">\n      <th></th>\n      <th>W</th>\n      <th>Z</th>\n    </tr>\n    <tr>\n      <th>States</th>\n      <th></th>\n      <th></th>\n    </tr>\n  </thead>\n  <tbody>\n    <tr>\n      <th>CA</th>\n      <td>2.706850</td>\n      <td>0.503826</td>\n    </tr>\n    <tr>\n      <th>CO</th>\n      <td>0.190794</td>\n      <td>0.683509</td>\n    </tr>\n    <tr>\n      <th>NY</th>\n      <td>0.651118</td>\n      <td>0.605965</td>\n    </tr>\n    <tr>\n      <th>OR</th>\n      <td>0.188695</td>\n      <td>0.955057</td>\n    </tr>\n    <tr>\n      <th>WY</th>\n      <td>-2.018168</td>\n      <td>-0.589001</td>\n    </tr>\n  </tbody>\n</table>\n</div>"
     },
     "execution_count": 37,
     "metadata": {},
     "output_type": "execute_result"
    }
   ],
   "source": [
    "# Drop multiple column\n",
    "df_easy.drop(columns=['X', 'Y'])"
   ]
  },
  {
   "cell_type": "markdown",
   "metadata": {},
   "source": [
    "Can also drop rows this way:"
   ]
  },
  {
   "cell_type": "code",
   "execution_count": 38,
   "metadata": {
    "scrolled": true,
    "ExecuteTime": {
     "end_time": "2023-07-13T15:47:40.896127338Z",
     "start_time": "2023-07-13T15:47:40.729520649Z"
    }
   },
   "outputs": [
    {
     "data": {
      "text/plain": "               W         X         Y         Z\nStates                                        \nCO      0.190794  1.978757  2.605967  0.683509\nNY      0.651118 -0.319318 -0.848077  0.605965\nOR      0.188695 -0.758872 -0.933237  0.955057\nWY     -2.018168  0.740122  0.528813 -0.589001",
      "text/html": "<div>\n<style scoped>\n    .dataframe tbody tr th:only-of-type {\n        vertical-align: middle;\n    }\n\n    .dataframe tbody tr th {\n        vertical-align: top;\n    }\n\n    .dataframe thead th {\n        text-align: right;\n    }\n</style>\n<table border=\"1\" class=\"dataframe\">\n  <thead>\n    <tr style=\"text-align: right;\">\n      <th></th>\n      <th>W</th>\n      <th>X</th>\n      <th>Y</th>\n      <th>Z</th>\n    </tr>\n    <tr>\n      <th>States</th>\n      <th></th>\n      <th></th>\n      <th></th>\n      <th></th>\n    </tr>\n  </thead>\n  <tbody>\n    <tr>\n      <th>CO</th>\n      <td>0.190794</td>\n      <td>1.978757</td>\n      <td>2.605967</td>\n      <td>0.683509</td>\n    </tr>\n    <tr>\n      <th>NY</th>\n      <td>0.651118</td>\n      <td>-0.319318</td>\n      <td>-0.848077</td>\n      <td>0.605965</td>\n    </tr>\n    <tr>\n      <th>OR</th>\n      <td>0.188695</td>\n      <td>-0.758872</td>\n      <td>-0.933237</td>\n      <td>0.955057</td>\n    </tr>\n    <tr>\n      <th>WY</th>\n      <td>-2.018168</td>\n      <td>0.740122</td>\n      <td>0.528813</td>\n      <td>-0.589001</td>\n    </tr>\n  </tbody>\n</table>\n</div>"
     },
     "execution_count": 38,
     "metadata": {},
     "output_type": "execute_result"
    }
   ],
   "source": [
    "df_easy.drop('CA',axis=0)"
   ]
  },
  {
   "cell_type": "markdown",
   "metadata": {},
   "source": [
    "We can append also a value of a calumn and all the other value with NaN. And this will append a row at the end of the dataset."
   ]
  },
  {
   "cell_type": "code",
   "execution_count": 39,
   "metadata": {
    "ExecuteTime": {
     "end_time": "2023-07-13T15:47:54.439288607Z",
     "start_time": "2023-07-13T15:47:54.244660789Z"
    }
   },
   "outputs": [
    {
     "name": "stderr",
     "output_type": "stream",
     "text": [
      "/tmp/ipykernel_1229936/2011487145.py:1: FutureWarning: The frame.append method is deprecated and will be removed from pandas in a future version. Use pandas.concat instead.\n",
      "  df_easy.append({'Z': 'Bergamo'}, ignore_index=True)\n"
     ]
    },
    {
     "data": {
      "text/plain": "          W         X         Y         Z\n0  2.706850  0.628133  0.907969  0.503826\n1  0.190794  1.978757  2.605967  0.683509\n2  0.651118 -0.319318 -0.848077  0.605965\n3  0.188695 -0.758872 -0.933237  0.955057\n4 -2.018168  0.740122  0.528813 -0.589001\n5       NaN       NaN       NaN   Bergamo",
      "text/html": "<div>\n<style scoped>\n    .dataframe tbody tr th:only-of-type {\n        vertical-align: middle;\n    }\n\n    .dataframe tbody tr th {\n        vertical-align: top;\n    }\n\n    .dataframe thead th {\n        text-align: right;\n    }\n</style>\n<table border=\"1\" class=\"dataframe\">\n  <thead>\n    <tr style=\"text-align: right;\">\n      <th></th>\n      <th>W</th>\n      <th>X</th>\n      <th>Y</th>\n      <th>Z</th>\n    </tr>\n  </thead>\n  <tbody>\n    <tr>\n      <th>0</th>\n      <td>2.706850</td>\n      <td>0.628133</td>\n      <td>0.907969</td>\n      <td>0.503826</td>\n    </tr>\n    <tr>\n      <th>1</th>\n      <td>0.190794</td>\n      <td>1.978757</td>\n      <td>2.605967</td>\n      <td>0.683509</td>\n    </tr>\n    <tr>\n      <th>2</th>\n      <td>0.651118</td>\n      <td>-0.319318</td>\n      <td>-0.848077</td>\n      <td>0.605965</td>\n    </tr>\n    <tr>\n      <th>3</th>\n      <td>0.188695</td>\n      <td>-0.758872</td>\n      <td>-0.933237</td>\n      <td>0.955057</td>\n    </tr>\n    <tr>\n      <th>4</th>\n      <td>-2.018168</td>\n      <td>0.740122</td>\n      <td>0.528813</td>\n      <td>-0.589001</td>\n    </tr>\n    <tr>\n      <th>5</th>\n      <td>NaN</td>\n      <td>NaN</td>\n      <td>NaN</td>\n      <td>Bergamo</td>\n    </tr>\n  </tbody>\n</table>\n</div>"
     },
     "execution_count": 39,
     "metadata": {},
     "output_type": "execute_result"
    }
   ],
   "source": [
    "df_easy.append({'Z': 'Bergamo'}, ignore_index=True)"
   ]
  },
  {
   "cell_type": "markdown",
   "metadata": {},
   "source": [
    "We can also append dataset under dataset, using this syntax\n",
    "\n",
    "    df = df.append(df2, ignore_index=True, sort=False)\n",
    "    \n",
    "We can also drop a column using drop and the index that we want to drop."
   ]
  },
  {
   "cell_type": "markdown",
   "metadata": {},
   "source": [
    "### Filtering the Dataset\n",
    "\n",
    "An important feature of pandas is conditional selection using bracket notation, very similar to numpy:"
   ]
  },
  {
   "cell_type": "code",
   "execution_count": 40,
   "metadata": {
    "ExecuteTime": {
     "end_time": "2023-07-13T15:48:04.309283794Z",
     "start_time": "2023-07-13T15:48:04.171564754Z"
    }
   },
   "outputs": [
    {
     "data": {
      "text/plain": "               W         X         Y         Z\nStates                                        \nCA      2.706850  0.628133  0.907969  0.503826\nCO      0.190794  1.978757  2.605967  0.683509\nNY      0.651118 -0.319318 -0.848077  0.605965\nOR      0.188695 -0.758872 -0.933237  0.955057\nWY     -2.018168  0.740122  0.528813 -0.589001",
      "text/html": "<div>\n<style scoped>\n    .dataframe tbody tr th:only-of-type {\n        vertical-align: middle;\n    }\n\n    .dataframe tbody tr th {\n        vertical-align: top;\n    }\n\n    .dataframe thead th {\n        text-align: right;\n    }\n</style>\n<table border=\"1\" class=\"dataframe\">\n  <thead>\n    <tr style=\"text-align: right;\">\n      <th></th>\n      <th>W</th>\n      <th>X</th>\n      <th>Y</th>\n      <th>Z</th>\n    </tr>\n    <tr>\n      <th>States</th>\n      <th></th>\n      <th></th>\n      <th></th>\n      <th></th>\n    </tr>\n  </thead>\n  <tbody>\n    <tr>\n      <th>CA</th>\n      <td>2.706850</td>\n      <td>0.628133</td>\n      <td>0.907969</td>\n      <td>0.503826</td>\n    </tr>\n    <tr>\n      <th>CO</th>\n      <td>0.190794</td>\n      <td>1.978757</td>\n      <td>2.605967</td>\n      <td>0.683509</td>\n    </tr>\n    <tr>\n      <th>NY</th>\n      <td>0.651118</td>\n      <td>-0.319318</td>\n      <td>-0.848077</td>\n      <td>0.605965</td>\n    </tr>\n    <tr>\n      <th>OR</th>\n      <td>0.188695</td>\n      <td>-0.758872</td>\n      <td>-0.933237</td>\n      <td>0.955057</td>\n    </tr>\n    <tr>\n      <th>WY</th>\n      <td>-2.018168</td>\n      <td>0.740122</td>\n      <td>0.528813</td>\n      <td>-0.589001</td>\n    </tr>\n  </tbody>\n</table>\n</div>"
     },
     "execution_count": 40,
     "metadata": {},
     "output_type": "execute_result"
    }
   ],
   "source": [
    "df_easy"
   ]
  },
  {
   "cell_type": "code",
   "execution_count": 41,
   "metadata": {
    "ExecuteTime": {
     "end_time": "2023-07-13T15:48:06.913287565Z",
     "start_time": "2023-07-13T15:48:06.859194254Z"
    }
   },
   "outputs": [
    {
     "data": {
      "text/plain": "            W      X      Y      Z\nStates                            \nCA       True   True   True   True\nCO       True   True   True   True\nNY       True  False  False   True\nOR       True  False  False   True\nWY      False   True   True  False",
      "text/html": "<div>\n<style scoped>\n    .dataframe tbody tr th:only-of-type {\n        vertical-align: middle;\n    }\n\n    .dataframe tbody tr th {\n        vertical-align: top;\n    }\n\n    .dataframe thead th {\n        text-align: right;\n    }\n</style>\n<table border=\"1\" class=\"dataframe\">\n  <thead>\n    <tr style=\"text-align: right;\">\n      <th></th>\n      <th>W</th>\n      <th>X</th>\n      <th>Y</th>\n      <th>Z</th>\n    </tr>\n    <tr>\n      <th>States</th>\n      <th></th>\n      <th></th>\n      <th></th>\n      <th></th>\n    </tr>\n  </thead>\n  <tbody>\n    <tr>\n      <th>CA</th>\n      <td>True</td>\n      <td>True</td>\n      <td>True</td>\n      <td>True</td>\n    </tr>\n    <tr>\n      <th>CO</th>\n      <td>True</td>\n      <td>True</td>\n      <td>True</td>\n      <td>True</td>\n    </tr>\n    <tr>\n      <th>NY</th>\n      <td>True</td>\n      <td>False</td>\n      <td>False</td>\n      <td>True</td>\n    </tr>\n    <tr>\n      <th>OR</th>\n      <td>True</td>\n      <td>False</td>\n      <td>False</td>\n      <td>True</td>\n    </tr>\n    <tr>\n      <th>WY</th>\n      <td>False</td>\n      <td>True</td>\n      <td>True</td>\n      <td>False</td>\n    </tr>\n  </tbody>\n</table>\n</div>"
     },
     "execution_count": 41,
     "metadata": {},
     "output_type": "execute_result"
    }
   ],
   "source": [
    "df_easy>0"
   ]
  },
  {
   "cell_type": "code",
   "execution_count": 42,
   "metadata": {
    "ExecuteTime": {
     "end_time": "2023-07-13T15:48:12.960628641Z",
     "start_time": "2023-07-13T15:48:12.792113626Z"
    }
   },
   "outputs": [
    {
     "data": {
      "text/plain": "               W         X         Y         Z\nStates                                        \nCA      2.706850  0.628133  0.907969  0.503826\nCO      0.190794  1.978757  2.605967  0.683509\nNY      0.651118       NaN       NaN  0.605965\nOR      0.188695       NaN       NaN  0.955057\nWY           NaN  0.740122  0.528813       NaN",
      "text/html": "<div>\n<style scoped>\n    .dataframe tbody tr th:only-of-type {\n        vertical-align: middle;\n    }\n\n    .dataframe tbody tr th {\n        vertical-align: top;\n    }\n\n    .dataframe thead th {\n        text-align: right;\n    }\n</style>\n<table border=\"1\" class=\"dataframe\">\n  <thead>\n    <tr style=\"text-align: right;\">\n      <th></th>\n      <th>W</th>\n      <th>X</th>\n      <th>Y</th>\n      <th>Z</th>\n    </tr>\n    <tr>\n      <th>States</th>\n      <th></th>\n      <th></th>\n      <th></th>\n      <th></th>\n    </tr>\n  </thead>\n  <tbody>\n    <tr>\n      <th>CA</th>\n      <td>2.706850</td>\n      <td>0.628133</td>\n      <td>0.907969</td>\n      <td>0.503826</td>\n    </tr>\n    <tr>\n      <th>CO</th>\n      <td>0.190794</td>\n      <td>1.978757</td>\n      <td>2.605967</td>\n      <td>0.683509</td>\n    </tr>\n    <tr>\n      <th>NY</th>\n      <td>0.651118</td>\n      <td>NaN</td>\n      <td>NaN</td>\n      <td>0.605965</td>\n    </tr>\n    <tr>\n      <th>OR</th>\n      <td>0.188695</td>\n      <td>NaN</td>\n      <td>NaN</td>\n      <td>0.955057</td>\n    </tr>\n    <tr>\n      <th>WY</th>\n      <td>NaN</td>\n      <td>0.740122</td>\n      <td>0.528813</td>\n      <td>NaN</td>\n    </tr>\n  </tbody>\n</table>\n</div>"
     },
     "execution_count": 42,
     "metadata": {},
     "output_type": "execute_result"
    }
   ],
   "source": [
    "# Report only the dataset that have value greater than 0\n",
    "filt = df_easy > 0\n",
    "df_easy[filt]"
   ]
  },
  {
   "cell_type": "code",
   "execution_count": 43,
   "metadata": {
    "ExecuteTime": {
     "end_time": "2023-07-13T15:48:21.430773341Z",
     "start_time": "2023-07-13T15:48:21.392552929Z"
    }
   },
   "outputs": [
    {
     "data": {
      "text/plain": "               W         X         Y         Z\nStates                                        \nCA      2.706850  0.628133  0.907969  0.503826\nCO      0.190794  1.978757  2.605967  0.683509\nNY      0.651118 -0.319318 -0.848077  0.605965\nOR      0.188695 -0.758872 -0.933237  0.955057",
      "text/html": "<div>\n<style scoped>\n    .dataframe tbody tr th:only-of-type {\n        vertical-align: middle;\n    }\n\n    .dataframe tbody tr th {\n        vertical-align: top;\n    }\n\n    .dataframe thead th {\n        text-align: right;\n    }\n</style>\n<table border=\"1\" class=\"dataframe\">\n  <thead>\n    <tr style=\"text-align: right;\">\n      <th></th>\n      <th>W</th>\n      <th>X</th>\n      <th>Y</th>\n      <th>Z</th>\n    </tr>\n    <tr>\n      <th>States</th>\n      <th></th>\n      <th></th>\n      <th></th>\n      <th></th>\n    </tr>\n  </thead>\n  <tbody>\n    <tr>\n      <th>CA</th>\n      <td>2.706850</td>\n      <td>0.628133</td>\n      <td>0.907969</td>\n      <td>0.503826</td>\n    </tr>\n    <tr>\n      <th>CO</th>\n      <td>0.190794</td>\n      <td>1.978757</td>\n      <td>2.605967</td>\n      <td>0.683509</td>\n    </tr>\n    <tr>\n      <th>NY</th>\n      <td>0.651118</td>\n      <td>-0.319318</td>\n      <td>-0.848077</td>\n      <td>0.605965</td>\n    </tr>\n    <tr>\n      <th>OR</th>\n      <td>0.188695</td>\n      <td>-0.758872</td>\n      <td>-0.933237</td>\n      <td>0.955057</td>\n    </tr>\n  </tbody>\n</table>\n</div>"
     },
     "execution_count": 43,
     "metadata": {},
     "output_type": "execute_result"
    }
   ],
   "source": [
    "# Report only the dataset that have W value greater than 0\n",
    "filt = df_easy['W']>0\n",
    "df_easy.loc[filt]"
   ]
  },
  {
   "cell_type": "code",
   "execution_count": 44,
   "metadata": {
    "ExecuteTime": {
     "end_time": "2023-07-13T15:48:28.014283148Z",
     "start_time": "2023-07-13T15:48:27.917827582Z"
    }
   },
   "outputs": [
    {
     "data": {
      "text/plain": "States\nCA    0.907969\nCO    2.605967\nNY   -0.848077\nOR   -0.933237\nName: Y, dtype: float64"
     },
     "execution_count": 44,
     "metadata": {},
     "output_type": "execute_result"
    }
   ],
   "source": [
    "# Report only the dataset of Y value that have value W greater than 0\n",
    "filt = df_easy['W']>0\n",
    "df_easy.loc[filt]['Y']"
   ]
  },
  {
   "cell_type": "code",
   "execution_count": 45,
   "metadata": {
    "ExecuteTime": {
     "end_time": "2023-07-13T15:48:29.471869089Z",
     "start_time": "2023-07-13T15:48:29.247978883Z"
    }
   },
   "outputs": [
    {
     "data": {
      "text/plain": "               Y         X\nStates                    \nCA      0.907969  0.628133\nCO      2.605967  1.978757\nNY     -0.848077 -0.319318\nOR     -0.933237 -0.758872",
      "text/html": "<div>\n<style scoped>\n    .dataframe tbody tr th:only-of-type {\n        vertical-align: middle;\n    }\n\n    .dataframe tbody tr th {\n        vertical-align: top;\n    }\n\n    .dataframe thead th {\n        text-align: right;\n    }\n</style>\n<table border=\"1\" class=\"dataframe\">\n  <thead>\n    <tr style=\"text-align: right;\">\n      <th></th>\n      <th>Y</th>\n      <th>X</th>\n    </tr>\n    <tr>\n      <th>States</th>\n      <th></th>\n      <th></th>\n    </tr>\n  </thead>\n  <tbody>\n    <tr>\n      <th>CA</th>\n      <td>0.907969</td>\n      <td>0.628133</td>\n    </tr>\n    <tr>\n      <th>CO</th>\n      <td>2.605967</td>\n      <td>1.978757</td>\n    </tr>\n    <tr>\n      <th>NY</th>\n      <td>-0.848077</td>\n      <td>-0.319318</td>\n    </tr>\n    <tr>\n      <th>OR</th>\n      <td>-0.933237</td>\n      <td>-0.758872</td>\n    </tr>\n  </tbody>\n</table>\n</div>"
     },
     "execution_count": 45,
     "metadata": {},
     "output_type": "execute_result"
    }
   ],
   "source": [
    "filt = df_easy['W']>0\n",
    "df_easy.loc[filt][['Y','X']]"
   ]
  },
  {
   "cell_type": "markdown",
   "metadata": {},
   "source": [
    "For two conditions you can use | and & with parenthesis:"
   ]
  },
  {
   "cell_type": "code",
   "execution_count": 46,
   "metadata": {
    "scrolled": true,
    "ExecuteTime": {
     "end_time": "2023-07-13T15:48:33.766898651Z",
     "start_time": "2023-07-13T15:48:33.609885746Z"
    }
   },
   "outputs": [
    {
     "data": {
      "text/plain": "               W         X         Y         Z\nStates                                        \nCO      0.190794  1.978757  2.605967  0.683509",
      "text/html": "<div>\n<style scoped>\n    .dataframe tbody tr th:only-of-type {\n        vertical-align: middle;\n    }\n\n    .dataframe tbody tr th {\n        vertical-align: top;\n    }\n\n    .dataframe thead th {\n        text-align: right;\n    }\n</style>\n<table border=\"1\" class=\"dataframe\">\n  <thead>\n    <tr style=\"text-align: right;\">\n      <th></th>\n      <th>W</th>\n      <th>X</th>\n      <th>Y</th>\n      <th>Z</th>\n    </tr>\n    <tr>\n      <th>States</th>\n      <th></th>\n      <th></th>\n      <th></th>\n      <th></th>\n    </tr>\n  </thead>\n  <tbody>\n    <tr>\n      <th>CO</th>\n      <td>0.190794</td>\n      <td>1.978757</td>\n      <td>2.605967</td>\n      <td>0.683509</td>\n    </tr>\n  </tbody>\n</table>\n</div>"
     },
     "execution_count": 46,
     "metadata": {},
     "output_type": "execute_result"
    }
   ],
   "source": [
    "filt = (df_easy['W']>0) & (df_easy['Y'] > 1)\n",
    "df_easy.loc[filt]"
   ]
  },
  {
   "cell_type": "markdown",
   "metadata": {},
   "source": [
    "### Missing Data\n",
    "\n",
    "Let's show a few convenient methods to deal with Missing Data in pandas:"
   ]
  },
  {
   "cell_type": "code",
   "execution_count": 47,
   "metadata": {
    "ExecuteTime": {
     "end_time": "2023-07-13T15:48:42.122177065Z",
     "start_time": "2023-07-13T15:48:42.042056927Z"
    }
   },
   "outputs": [],
   "source": [
    "import numpy as np\n",
    "import pandas as pd"
   ]
  },
  {
   "cell_type": "code",
   "execution_count": 48,
   "metadata": {
    "ExecuteTime": {
     "end_time": "2023-07-13T15:48:42.721256404Z",
     "start_time": "2023-07-13T15:48:42.643224737Z"
    }
   },
   "outputs": [],
   "source": [
    "df_easy = pd.DataFrame({'A':[1,2,np.nan],\n",
    "                  'B':[5,np.nan,np.nan],\n",
    "                  'C':[1,2,3]})"
   ]
  },
  {
   "cell_type": "code",
   "execution_count": 49,
   "metadata": {
    "ExecuteTime": {
     "end_time": "2023-07-13T15:48:43.313222269Z",
     "start_time": "2023-07-13T15:48:43.206007486Z"
    }
   },
   "outputs": [
    {
     "data": {
      "text/plain": "     A    B  C\n0  1.0  5.0  1\n1  2.0  NaN  2\n2  NaN  NaN  3",
      "text/html": "<div>\n<style scoped>\n    .dataframe tbody tr th:only-of-type {\n        vertical-align: middle;\n    }\n\n    .dataframe tbody tr th {\n        vertical-align: top;\n    }\n\n    .dataframe thead th {\n        text-align: right;\n    }\n</style>\n<table border=\"1\" class=\"dataframe\">\n  <thead>\n    <tr style=\"text-align: right;\">\n      <th></th>\n      <th>A</th>\n      <th>B</th>\n      <th>C</th>\n    </tr>\n  </thead>\n  <tbody>\n    <tr>\n      <th>0</th>\n      <td>1.0</td>\n      <td>5.0</td>\n      <td>1</td>\n    </tr>\n    <tr>\n      <th>1</th>\n      <td>2.0</td>\n      <td>NaN</td>\n      <td>2</td>\n    </tr>\n    <tr>\n      <th>2</th>\n      <td>NaN</td>\n      <td>NaN</td>\n      <td>3</td>\n    </tr>\n  </tbody>\n</table>\n</div>"
     },
     "execution_count": 49,
     "metadata": {},
     "output_type": "execute_result"
    }
   ],
   "source": [
    "df_easy"
   ]
  },
  {
   "cell_type": "markdown",
   "metadata": {},
   "source": [
    "#### isna"
   ]
  },
  {
   "cell_type": "code",
   "execution_count": 50,
   "metadata": {
    "ExecuteTime": {
     "end_time": "2023-07-13T15:48:58.344253509Z",
     "start_time": "2023-07-13T15:48:58.211861202Z"
    }
   },
   "outputs": [
    {
     "data": {
      "text/plain": "       A      B      C\n0  False  False  False\n1  False   True  False\n2   True   True  False",
      "text/html": "<div>\n<style scoped>\n    .dataframe tbody tr th:only-of-type {\n        vertical-align: middle;\n    }\n\n    .dataframe tbody tr th {\n        vertical-align: top;\n    }\n\n    .dataframe thead th {\n        text-align: right;\n    }\n</style>\n<table border=\"1\" class=\"dataframe\">\n  <thead>\n    <tr style=\"text-align: right;\">\n      <th></th>\n      <th>A</th>\n      <th>B</th>\n      <th>C</th>\n    </tr>\n  </thead>\n  <tbody>\n    <tr>\n      <th>0</th>\n      <td>False</td>\n      <td>False</td>\n      <td>False</td>\n    </tr>\n    <tr>\n      <th>1</th>\n      <td>False</td>\n      <td>True</td>\n      <td>False</td>\n    </tr>\n    <tr>\n      <th>2</th>\n      <td>True</td>\n      <td>True</td>\n      <td>False</td>\n    </tr>\n  </tbody>\n</table>\n</div>"
     },
     "execution_count": 50,
     "metadata": {},
     "output_type": "execute_result"
    }
   ],
   "source": [
    "#List the Nan value with a Boolean table\n",
    "df_easy.isna()"
   ]
  },
  {
   "cell_type": "markdown",
   "metadata": {},
   "source": [
    "#### dropna"
   ]
  },
  {
   "cell_type": "code",
   "execution_count": 51,
   "metadata": {
    "ExecuteTime": {
     "end_time": "2023-07-13T15:49:00.660134454Z",
     "start_time": "2023-07-13T15:49:00.568420151Z"
    }
   },
   "outputs": [
    {
     "data": {
      "text/plain": "     A    B  C\n0  1.0  5.0  1",
      "text/html": "<div>\n<style scoped>\n    .dataframe tbody tr th:only-of-type {\n        vertical-align: middle;\n    }\n\n    .dataframe tbody tr th {\n        vertical-align: top;\n    }\n\n    .dataframe thead th {\n        text-align: right;\n    }\n</style>\n<table border=\"1\" class=\"dataframe\">\n  <thead>\n    <tr style=\"text-align: right;\">\n      <th></th>\n      <th>A</th>\n      <th>B</th>\n      <th>C</th>\n    </tr>\n  </thead>\n  <tbody>\n    <tr>\n      <th>0</th>\n      <td>1.0</td>\n      <td>5.0</td>\n      <td>1</td>\n    </tr>\n  </tbody>\n</table>\n</div>"
     },
     "execution_count": 51,
     "metadata": {},
     "output_type": "execute_result"
    }
   ],
   "source": [
    "# Drop all row and column that contain NaN\n",
    "df_easy.dropna()"
   ]
  },
  {
   "cell_type": "code",
   "execution_count": 52,
   "metadata": {
    "ExecuteTime": {
     "end_time": "2023-07-13T15:49:04.332659382Z",
     "start_time": "2023-07-13T15:49:04.287646572Z"
    }
   },
   "outputs": [
    {
     "data": {
      "text/plain": "   C\n0  1\n1  2\n2  3",
      "text/html": "<div>\n<style scoped>\n    .dataframe tbody tr th:only-of-type {\n        vertical-align: middle;\n    }\n\n    .dataframe tbody tr th {\n        vertical-align: top;\n    }\n\n    .dataframe thead th {\n        text-align: right;\n    }\n</style>\n<table border=\"1\" class=\"dataframe\">\n  <thead>\n    <tr style=\"text-align: right;\">\n      <th></th>\n      <th>C</th>\n    </tr>\n  </thead>\n  <tbody>\n    <tr>\n      <th>0</th>\n      <td>1</td>\n    </tr>\n    <tr>\n      <th>1</th>\n      <td>2</td>\n    </tr>\n    <tr>\n      <th>2</th>\n      <td>3</td>\n    </tr>\n  </tbody>\n</table>\n</div>"
     },
     "execution_count": 52,
     "metadata": {},
     "output_type": "execute_result"
    }
   ],
   "source": [
    "# Drop all column that contain NaN\n",
    "df_easy.dropna(axis=1)"
   ]
  },
  {
   "cell_type": "code",
   "execution_count": 53,
   "metadata": {
    "ExecuteTime": {
     "end_time": "2023-07-13T15:49:06.185304064Z",
     "start_time": "2023-07-13T15:49:06.071545453Z"
    }
   },
   "outputs": [
    {
     "data": {
      "text/plain": "     A    B  C\n0  1.0  5.0  1",
      "text/html": "<div>\n<style scoped>\n    .dataframe tbody tr th:only-of-type {\n        vertical-align: middle;\n    }\n\n    .dataframe tbody tr th {\n        vertical-align: top;\n    }\n\n    .dataframe thead th {\n        text-align: right;\n    }\n</style>\n<table border=\"1\" class=\"dataframe\">\n  <thead>\n    <tr style=\"text-align: right;\">\n      <th></th>\n      <th>A</th>\n      <th>B</th>\n      <th>C</th>\n    </tr>\n  </thead>\n  <tbody>\n    <tr>\n      <th>0</th>\n      <td>1.0</td>\n      <td>5.0</td>\n      <td>1</td>\n    </tr>\n  </tbody>\n</table>\n</div>"
     },
     "execution_count": 53,
     "metadata": {},
     "output_type": "execute_result"
    }
   ],
   "source": [
    "# Drop all row that contain NaN\n",
    "df_easy.dropna(axis=0)"
   ]
  },
  {
   "cell_type": "code",
   "execution_count": 54,
   "metadata": {
    "scrolled": true,
    "ExecuteTime": {
     "end_time": "2023-07-13T15:49:12.444601614Z",
     "start_time": "2023-07-13T15:49:12.408633724Z"
    }
   },
   "outputs": [
    {
     "data": {
      "text/plain": "     A    B  C\n0  1.0  5.0  1\n1  2.0  NaN  2",
      "text/html": "<div>\n<style scoped>\n    .dataframe tbody tr th:only-of-type {\n        vertical-align: middle;\n    }\n\n    .dataframe tbody tr th {\n        vertical-align: top;\n    }\n\n    .dataframe thead th {\n        text-align: right;\n    }\n</style>\n<table border=\"1\" class=\"dataframe\">\n  <thead>\n    <tr style=\"text-align: right;\">\n      <th></th>\n      <th>A</th>\n      <th>B</th>\n      <th>C</th>\n    </tr>\n  </thead>\n  <tbody>\n    <tr>\n      <th>0</th>\n      <td>1.0</td>\n      <td>5.0</td>\n      <td>1</td>\n    </tr>\n    <tr>\n      <th>1</th>\n      <td>2.0</td>\n      <td>NaN</td>\n      <td>2</td>\n    </tr>\n  </tbody>\n</table>\n</div>"
     },
     "execution_count": 54,
     "metadata": {},
     "output_type": "execute_result"
    }
   ],
   "source": [
    "# Keep only the rows with at least 2 non-NA values.\n",
    "df_easy.dropna(thresh=2)"
   ]
  },
  {
   "cell_type": "code",
   "execution_count": 55,
   "metadata": {
    "ExecuteTime": {
     "end_time": "2023-07-13T15:49:14.600304597Z",
     "start_time": "2023-07-13T15:49:14.564707408Z"
    }
   },
   "outputs": [
    {
     "data": {
      "text/plain": "     A    B  C\n0  1.0  5.0  1",
      "text/html": "<div>\n<style scoped>\n    .dataframe tbody tr th:only-of-type {\n        vertical-align: middle;\n    }\n\n    .dataframe tbody tr th {\n        vertical-align: top;\n    }\n\n    .dataframe thead th {\n        text-align: right;\n    }\n</style>\n<table border=\"1\" class=\"dataframe\">\n  <thead>\n    <tr style=\"text-align: right;\">\n      <th></th>\n      <th>A</th>\n      <th>B</th>\n      <th>C</th>\n    </tr>\n  </thead>\n  <tbody>\n    <tr>\n      <th>0</th>\n      <td>1.0</td>\n      <td>5.0</td>\n      <td>1</td>\n    </tr>\n  </tbody>\n</table>\n</div>"
     },
     "execution_count": 55,
     "metadata": {},
     "output_type": "execute_result"
    }
   ],
   "source": [
    "#Drop row and column only considering the Nan value in a particular column\n",
    "df_easy.dropna(axis='index', how='all', subset=['B'])"
   ]
  },
  {
   "cell_type": "markdown",
   "metadata": {},
   "source": [
    "#### fillna"
   ]
  },
  {
   "cell_type": "code",
   "execution_count": 56,
   "metadata": {
    "ExecuteTime": {
     "end_time": "2023-07-13T15:49:18.971341835Z",
     "start_time": "2023-07-13T15:49:18.832656223Z"
    }
   },
   "outputs": [
    {
     "data": {
      "text/plain": "            A           B  C\n0         1.0         5.0  1\n1         2.0  FILL VALUE  2\n2  FILL VALUE  FILL VALUE  3",
      "text/html": "<div>\n<style scoped>\n    .dataframe tbody tr th:only-of-type {\n        vertical-align: middle;\n    }\n\n    .dataframe tbody tr th {\n        vertical-align: top;\n    }\n\n    .dataframe thead th {\n        text-align: right;\n    }\n</style>\n<table border=\"1\" class=\"dataframe\">\n  <thead>\n    <tr style=\"text-align: right;\">\n      <th></th>\n      <th>A</th>\n      <th>B</th>\n      <th>C</th>\n    </tr>\n  </thead>\n  <tbody>\n    <tr>\n      <th>0</th>\n      <td>1.0</td>\n      <td>5.0</td>\n      <td>1</td>\n    </tr>\n    <tr>\n      <th>1</th>\n      <td>2.0</td>\n      <td>FILL VALUE</td>\n      <td>2</td>\n    </tr>\n    <tr>\n      <th>2</th>\n      <td>FILL VALUE</td>\n      <td>FILL VALUE</td>\n      <td>3</td>\n    </tr>\n  </tbody>\n</table>\n</div>"
     },
     "execution_count": 56,
     "metadata": {},
     "output_type": "execute_result"
    }
   ],
   "source": [
    "df_easy.fillna(value='FILL VALUE')"
   ]
  },
  {
   "cell_type": "code",
   "execution_count": 57,
   "metadata": {
    "scrolled": true,
    "ExecuteTime": {
     "end_time": "2023-07-13T15:49:22.654606653Z",
     "start_time": "2023-07-13T15:49:22.549554712Z"
    }
   },
   "outputs": [
    {
     "data": {
      "text/plain": "0    1.0\n1    2.0\n2    1.5\nName: A, dtype: float64"
     },
     "execution_count": 57,
     "metadata": {},
     "output_type": "execute_result"
    }
   ],
   "source": [
    "#Replace Nan value with the mean of the column\n",
    "df_easy['A'].fillna(value=df_easy['A'].mean())"
   ]
  },
  {
   "cell_type": "markdown",
   "metadata": {},
   "source": [
    "We can have missing value that are written differently from NaN, in that case we use to replace it with np.nan\n",
    "\n",
    "    df.replace('Na', np.nan, inplace=True)\n",
    "    df.replace('Missing', np.nan, inplace=True)"
   ]
  },
  {
   "cell_type": "markdown",
   "metadata": {
    "collapsed": true
   },
   "source": [
    "### Basic Statistics\n",
    "\n",
    "#### groupby\n",
    "\n",
    "The groupby method allows you to group rows of data together and call aggregate functions"
   ]
  },
  {
   "cell_type": "code",
   "execution_count": 58,
   "metadata": {
    "ExecuteTime": {
     "end_time": "2023-07-13T15:49:40.211687061Z",
     "start_time": "2023-07-13T15:49:40.083492190Z"
    }
   },
   "outputs": [],
   "source": [
    "import pandas as pd\n",
    "# Create dataframe\n",
    "data = {'Company':['GOOG','GOOG','MSFT','MSFT','FB','FB'],\n",
    "       'Person':['Sam','Charlie','Amy','Vanessa','Carl','Sarah'],\n",
    "       'Sales':[200,120,340,124,243,350]}"
   ]
  },
  {
   "cell_type": "code",
   "execution_count": 59,
   "metadata": {
    "ExecuteTime": {
     "end_time": "2023-07-13T15:49:40.909028661Z",
     "start_time": "2023-07-13T15:49:40.840527945Z"
    }
   },
   "outputs": [],
   "source": [
    "df_easy = pd.DataFrame(data)"
   ]
  },
  {
   "cell_type": "code",
   "execution_count": 60,
   "metadata": {
    "ExecuteTime": {
     "end_time": "2023-07-13T15:49:41.885489561Z",
     "start_time": "2023-07-13T15:49:41.772894911Z"
    }
   },
   "outputs": [
    {
     "data": {
      "text/plain": "  Company   Person  Sales\n0    GOOG      Sam    200\n1    GOOG  Charlie    120\n2    MSFT      Amy    340\n3    MSFT  Vanessa    124\n4      FB     Carl    243\n5      FB    Sarah    350",
      "text/html": "<div>\n<style scoped>\n    .dataframe tbody tr th:only-of-type {\n        vertical-align: middle;\n    }\n\n    .dataframe tbody tr th {\n        vertical-align: top;\n    }\n\n    .dataframe thead th {\n        text-align: right;\n    }\n</style>\n<table border=\"1\" class=\"dataframe\">\n  <thead>\n    <tr style=\"text-align: right;\">\n      <th></th>\n      <th>Company</th>\n      <th>Person</th>\n      <th>Sales</th>\n    </tr>\n  </thead>\n  <tbody>\n    <tr>\n      <th>0</th>\n      <td>GOOG</td>\n      <td>Sam</td>\n      <td>200</td>\n    </tr>\n    <tr>\n      <th>1</th>\n      <td>GOOG</td>\n      <td>Charlie</td>\n      <td>120</td>\n    </tr>\n    <tr>\n      <th>2</th>\n      <td>MSFT</td>\n      <td>Amy</td>\n      <td>340</td>\n    </tr>\n    <tr>\n      <th>3</th>\n      <td>MSFT</td>\n      <td>Vanessa</td>\n      <td>124</td>\n    </tr>\n    <tr>\n      <th>4</th>\n      <td>FB</td>\n      <td>Carl</td>\n      <td>243</td>\n    </tr>\n    <tr>\n      <th>5</th>\n      <td>FB</td>\n      <td>Sarah</td>\n      <td>350</td>\n    </tr>\n  </tbody>\n</table>\n</div>"
     },
     "execution_count": 60,
     "metadata": {},
     "output_type": "execute_result"
    }
   ],
   "source": [
    "df_easy"
   ]
  },
  {
   "cell_type": "markdown",
   "metadata": {},
   "source": [
    "<strong>Now you can use the .groupby() method to group rows together based off of a column name.<br>For instance let's group based off of Company. This will create a DataFrameGroupBy object:</strong>"
   ]
  },
  {
   "cell_type": "code",
   "execution_count": 61,
   "metadata": {
    "ExecuteTime": {
     "end_time": "2023-07-13T15:50:06.431937870Z",
     "start_time": "2023-07-13T15:50:06.259308342Z"
    }
   },
   "outputs": [
    {
     "data": {
      "text/plain": "<pandas.core.groupby.generic.DataFrameGroupBy object at 0x7f3842f7e5e0>"
     },
     "execution_count": 61,
     "metadata": {},
     "output_type": "execute_result"
    }
   ],
   "source": [
    "df_easy.groupby('Company')"
   ]
  },
  {
   "cell_type": "markdown",
   "metadata": {},
   "source": [
    "You can save this object as a new variable:"
   ]
  },
  {
   "cell_type": "code",
   "execution_count": 62,
   "metadata": {
    "ExecuteTime": {
     "end_time": "2023-07-13T15:50:11.858843834Z",
     "start_time": "2023-07-13T15:50:11.780528662Z"
    }
   },
   "outputs": [],
   "source": [
    "by_comp = df_easy.groupby(\"Company\")"
   ]
  },
  {
   "cell_type": "markdown",
   "metadata": {},
   "source": [
    "#### Aggregate method for statistics"
   ]
  },
  {
   "cell_type": "markdown",
   "metadata": {},
   "source": [
    "And then call aggregate methods off the object:"
   ]
  },
  {
   "cell_type": "code",
   "execution_count": 63,
   "metadata": {
    "ExecuteTime": {
     "end_time": "2023-07-13T15:50:18.065659242Z",
     "start_time": "2023-07-13T15:50:17.914545982Z"
    }
   },
   "outputs": [
    {
     "name": "stderr",
     "output_type": "stream",
     "text": [
      "/tmp/ipykernel_1229936/2894085431.py:1: FutureWarning: The default value of numeric_only in DataFrameGroupBy.mean is deprecated. In a future version, numeric_only will default to False. Either specify numeric_only or select only columns which should be valid for the function.\n",
      "  by_comp.mean()\n"
     ]
    },
    {
     "data": {
      "text/plain": "         Sales\nCompany       \nFB       296.5\nGOOG     160.0\nMSFT     232.0",
      "text/html": "<div>\n<style scoped>\n    .dataframe tbody tr th:only-of-type {\n        vertical-align: middle;\n    }\n\n    .dataframe tbody tr th {\n        vertical-align: top;\n    }\n\n    .dataframe thead th {\n        text-align: right;\n    }\n</style>\n<table border=\"1\" class=\"dataframe\">\n  <thead>\n    <tr style=\"text-align: right;\">\n      <th></th>\n      <th>Sales</th>\n    </tr>\n    <tr>\n      <th>Company</th>\n      <th></th>\n    </tr>\n  </thead>\n  <tbody>\n    <tr>\n      <th>FB</th>\n      <td>296.5</td>\n    </tr>\n    <tr>\n      <th>GOOG</th>\n      <td>160.0</td>\n    </tr>\n    <tr>\n      <th>MSFT</th>\n      <td>232.0</td>\n    </tr>\n  </tbody>\n</table>\n</div>"
     },
     "execution_count": 63,
     "metadata": {},
     "output_type": "execute_result"
    }
   ],
   "source": [
    "by_comp.mean()"
   ]
  },
  {
   "cell_type": "code",
   "execution_count": 64,
   "metadata": {
    "ExecuteTime": {
     "end_time": "2023-07-13T15:50:26.771907567Z",
     "start_time": "2023-07-13T15:50:26.626508281Z"
    }
   },
   "outputs": [
    {
     "name": "stderr",
     "output_type": "stream",
     "text": [
      "/tmp/ipykernel_1229936/2686450187.py:1: FutureWarning: The default value of numeric_only in DataFrameGroupBy.mean is deprecated. In a future version, numeric_only will default to False. Either specify numeric_only or select only columns which should be valid for the function.\n",
      "  df_easy.groupby('Company').mean()\n"
     ]
    },
    {
     "data": {
      "text/plain": "         Sales\nCompany       \nFB       296.5\nGOOG     160.0\nMSFT     232.0",
      "text/html": "<div>\n<style scoped>\n    .dataframe tbody tr th:only-of-type {\n        vertical-align: middle;\n    }\n\n    .dataframe tbody tr th {\n        vertical-align: top;\n    }\n\n    .dataframe thead th {\n        text-align: right;\n    }\n</style>\n<table border=\"1\" class=\"dataframe\">\n  <thead>\n    <tr style=\"text-align: right;\">\n      <th></th>\n      <th>Sales</th>\n    </tr>\n    <tr>\n      <th>Company</th>\n      <th></th>\n    </tr>\n  </thead>\n  <tbody>\n    <tr>\n      <th>FB</th>\n      <td>296.5</td>\n    </tr>\n    <tr>\n      <th>GOOG</th>\n      <td>160.0</td>\n    </tr>\n    <tr>\n      <th>MSFT</th>\n      <td>232.0</td>\n    </tr>\n  </tbody>\n</table>\n</div>"
     },
     "execution_count": 64,
     "metadata": {},
     "output_type": "execute_result"
    }
   ],
   "source": [
    "df_easy.groupby('Company').mean()"
   ]
  },
  {
   "cell_type": "markdown",
   "metadata": {},
   "source": [
    "More examples of aggregate methods:"
   ]
  },
  {
   "cell_type": "code",
   "execution_count": 65,
   "metadata": {
    "ExecuteTime": {
     "end_time": "2023-07-13T15:50:35.472519883Z",
     "start_time": "2023-07-13T15:50:35.392549903Z"
    }
   },
   "outputs": [
    {
     "name": "stderr",
     "output_type": "stream",
     "text": [
      "/tmp/ipykernel_1229936/2424883587.py:1: FutureWarning: The default value of numeric_only in DataFrameGroupBy.std is deprecated. In a future version, numeric_only will default to False. Either specify numeric_only or select only columns which should be valid for the function.\n",
      "  by_comp.std()\n"
     ]
    },
    {
     "data": {
      "text/plain": "              Sales\nCompany            \nFB        75.660426\nGOOG      56.568542\nMSFT     152.735065",
      "text/html": "<div>\n<style scoped>\n    .dataframe tbody tr th:only-of-type {\n        vertical-align: middle;\n    }\n\n    .dataframe tbody tr th {\n        vertical-align: top;\n    }\n\n    .dataframe thead th {\n        text-align: right;\n    }\n</style>\n<table border=\"1\" class=\"dataframe\">\n  <thead>\n    <tr style=\"text-align: right;\">\n      <th></th>\n      <th>Sales</th>\n    </tr>\n    <tr>\n      <th>Company</th>\n      <th></th>\n    </tr>\n  </thead>\n  <tbody>\n    <tr>\n      <th>FB</th>\n      <td>75.660426</td>\n    </tr>\n    <tr>\n      <th>GOOG</th>\n      <td>56.568542</td>\n    </tr>\n    <tr>\n      <th>MSFT</th>\n      <td>152.735065</td>\n    </tr>\n  </tbody>\n</table>\n</div>"
     },
     "execution_count": 65,
     "metadata": {},
     "output_type": "execute_result"
    }
   ],
   "source": [
    "by_comp.std()"
   ]
  },
  {
   "cell_type": "code",
   "execution_count": 66,
   "metadata": {
    "ExecuteTime": {
     "end_time": "2023-07-13T15:50:36.289899900Z",
     "start_time": "2023-07-13T15:50:36.235474950Z"
    }
   },
   "outputs": [
    {
     "data": {
      "text/plain": "          Person  Sales\nCompany                \nFB          Carl    243\nGOOG     Charlie    120\nMSFT         Amy    124",
      "text/html": "<div>\n<style scoped>\n    .dataframe tbody tr th:only-of-type {\n        vertical-align: middle;\n    }\n\n    .dataframe tbody tr th {\n        vertical-align: top;\n    }\n\n    .dataframe thead th {\n        text-align: right;\n    }\n</style>\n<table border=\"1\" class=\"dataframe\">\n  <thead>\n    <tr style=\"text-align: right;\">\n      <th></th>\n      <th>Person</th>\n      <th>Sales</th>\n    </tr>\n    <tr>\n      <th>Company</th>\n      <th></th>\n      <th></th>\n    </tr>\n  </thead>\n  <tbody>\n    <tr>\n      <th>FB</th>\n      <td>Carl</td>\n      <td>243</td>\n    </tr>\n    <tr>\n      <th>GOOG</th>\n      <td>Charlie</td>\n      <td>120</td>\n    </tr>\n    <tr>\n      <th>MSFT</th>\n      <td>Amy</td>\n      <td>124</td>\n    </tr>\n  </tbody>\n</table>\n</div>"
     },
     "execution_count": 66,
     "metadata": {},
     "output_type": "execute_result"
    }
   ],
   "source": [
    "by_comp.min()"
   ]
  },
  {
   "cell_type": "code",
   "execution_count": 67,
   "metadata": {
    "ExecuteTime": {
     "end_time": "2023-07-13T15:50:38.509090934Z",
     "start_time": "2023-07-13T15:50:38.455685767Z"
    }
   },
   "outputs": [
    {
     "data": {
      "text/plain": "          Person  Sales\nCompany                \nFB         Sarah    350\nGOOG         Sam    200\nMSFT     Vanessa    340",
      "text/html": "<div>\n<style scoped>\n    .dataframe tbody tr th:only-of-type {\n        vertical-align: middle;\n    }\n\n    .dataframe tbody tr th {\n        vertical-align: top;\n    }\n\n    .dataframe thead th {\n        text-align: right;\n    }\n</style>\n<table border=\"1\" class=\"dataframe\">\n  <thead>\n    <tr style=\"text-align: right;\">\n      <th></th>\n      <th>Person</th>\n      <th>Sales</th>\n    </tr>\n    <tr>\n      <th>Company</th>\n      <th></th>\n      <th></th>\n    </tr>\n  </thead>\n  <tbody>\n    <tr>\n      <th>FB</th>\n      <td>Sarah</td>\n      <td>350</td>\n    </tr>\n    <tr>\n      <th>GOOG</th>\n      <td>Sam</td>\n      <td>200</td>\n    </tr>\n    <tr>\n      <th>MSFT</th>\n      <td>Vanessa</td>\n      <td>340</td>\n    </tr>\n  </tbody>\n</table>\n</div>"
     },
     "execution_count": 67,
     "metadata": {},
     "output_type": "execute_result"
    }
   ],
   "source": [
    "by_comp.max()"
   ]
  },
  {
   "cell_type": "code",
   "execution_count": 68,
   "metadata": {
    "ExecuteTime": {
     "end_time": "2023-07-13T15:50:39.539116642Z",
     "start_time": "2023-07-13T15:50:39.488374834Z"
    }
   },
   "outputs": [
    {
     "data": {
      "text/plain": "         Person  Sales\nCompany               \nFB            2      2\nGOOG          2      2\nMSFT          2      2",
      "text/html": "<div>\n<style scoped>\n    .dataframe tbody tr th:only-of-type {\n        vertical-align: middle;\n    }\n\n    .dataframe tbody tr th {\n        vertical-align: top;\n    }\n\n    .dataframe thead th {\n        text-align: right;\n    }\n</style>\n<table border=\"1\" class=\"dataframe\">\n  <thead>\n    <tr style=\"text-align: right;\">\n      <th></th>\n      <th>Person</th>\n      <th>Sales</th>\n    </tr>\n    <tr>\n      <th>Company</th>\n      <th></th>\n      <th></th>\n    </tr>\n  </thead>\n  <tbody>\n    <tr>\n      <th>FB</th>\n      <td>2</td>\n      <td>2</td>\n    </tr>\n    <tr>\n      <th>GOOG</th>\n      <td>2</td>\n      <td>2</td>\n    </tr>\n    <tr>\n      <th>MSFT</th>\n      <td>2</td>\n      <td>2</td>\n    </tr>\n  </tbody>\n</table>\n</div>"
     },
     "execution_count": 68,
     "metadata": {},
     "output_type": "execute_result"
    }
   ],
   "source": [
    "by_comp.count()"
   ]
  },
  {
   "cell_type": "code",
   "execution_count": 69,
   "metadata": {
    "ExecuteTime": {
     "end_time": "2023-07-13T15:50:40.563786713Z",
     "start_time": "2023-07-13T15:50:40.442920407Z"
    }
   },
   "outputs": [
    {
     "data": {
      "text/plain": "        Sales                                                        \n        count   mean         std    min     25%    50%     75%    max\nCompany                                                              \nFB        2.0  296.5   75.660426  243.0  269.75  296.5  323.25  350.0\nGOOG      2.0  160.0   56.568542  120.0  140.00  160.0  180.00  200.0\nMSFT      2.0  232.0  152.735065  124.0  178.00  232.0  286.00  340.0",
      "text/html": "<div>\n<style scoped>\n    .dataframe tbody tr th:only-of-type {\n        vertical-align: middle;\n    }\n\n    .dataframe tbody tr th {\n        vertical-align: top;\n    }\n\n    .dataframe thead tr th {\n        text-align: left;\n    }\n\n    .dataframe thead tr:last-of-type th {\n        text-align: right;\n    }\n</style>\n<table border=\"1\" class=\"dataframe\">\n  <thead>\n    <tr>\n      <th></th>\n      <th colspan=\"8\" halign=\"left\">Sales</th>\n    </tr>\n    <tr>\n      <th></th>\n      <th>count</th>\n      <th>mean</th>\n      <th>std</th>\n      <th>min</th>\n      <th>25%</th>\n      <th>50%</th>\n      <th>75%</th>\n      <th>max</th>\n    </tr>\n    <tr>\n      <th>Company</th>\n      <th></th>\n      <th></th>\n      <th></th>\n      <th></th>\n      <th></th>\n      <th></th>\n      <th></th>\n      <th></th>\n    </tr>\n  </thead>\n  <tbody>\n    <tr>\n      <th>FB</th>\n      <td>2.0</td>\n      <td>296.5</td>\n      <td>75.660426</td>\n      <td>243.0</td>\n      <td>269.75</td>\n      <td>296.5</td>\n      <td>323.25</td>\n      <td>350.0</td>\n    </tr>\n    <tr>\n      <th>GOOG</th>\n      <td>2.0</td>\n      <td>160.0</td>\n      <td>56.568542</td>\n      <td>120.0</td>\n      <td>140.00</td>\n      <td>160.0</td>\n      <td>180.00</td>\n      <td>200.0</td>\n    </tr>\n    <tr>\n      <th>MSFT</th>\n      <td>2.0</td>\n      <td>232.0</td>\n      <td>152.735065</td>\n      <td>124.0</td>\n      <td>178.00</td>\n      <td>232.0</td>\n      <td>286.00</td>\n      <td>340.0</td>\n    </tr>\n  </tbody>\n</table>\n</div>"
     },
     "execution_count": 69,
     "metadata": {},
     "output_type": "execute_result"
    }
   ],
   "source": [
    "by_comp.describe()"
   ]
  },
  {
   "cell_type": "code",
   "execution_count": 70,
   "metadata": {
    "ExecuteTime": {
     "end_time": "2023-07-13T15:50:43.719410027Z",
     "start_time": "2023-07-13T15:50:43.630836992Z"
    }
   },
   "outputs": [
    {
     "data": {
      "text/plain": "Company              FB        GOOG        MSFT\nSales count    2.000000    2.000000    2.000000\n      mean   296.500000  160.000000  232.000000\n      std     75.660426   56.568542  152.735065\n      min    243.000000  120.000000  124.000000\n      25%    269.750000  140.000000  178.000000\n      50%    296.500000  160.000000  232.000000\n      75%    323.250000  180.000000  286.000000\n      max    350.000000  200.000000  340.000000",
      "text/html": "<div>\n<style scoped>\n    .dataframe tbody tr th:only-of-type {\n        vertical-align: middle;\n    }\n\n    .dataframe tbody tr th {\n        vertical-align: top;\n    }\n\n    .dataframe thead th {\n        text-align: right;\n    }\n</style>\n<table border=\"1\" class=\"dataframe\">\n  <thead>\n    <tr style=\"text-align: right;\">\n      <th></th>\n      <th>Company</th>\n      <th>FB</th>\n      <th>GOOG</th>\n      <th>MSFT</th>\n    </tr>\n  </thead>\n  <tbody>\n    <tr>\n      <th rowspan=\"8\" valign=\"top\">Sales</th>\n      <th>count</th>\n      <td>2.000000</td>\n      <td>2.000000</td>\n      <td>2.000000</td>\n    </tr>\n    <tr>\n      <th>mean</th>\n      <td>296.500000</td>\n      <td>160.000000</td>\n      <td>232.000000</td>\n    </tr>\n    <tr>\n      <th>std</th>\n      <td>75.660426</td>\n      <td>56.568542</td>\n      <td>152.735065</td>\n    </tr>\n    <tr>\n      <th>min</th>\n      <td>243.000000</td>\n      <td>120.000000</td>\n      <td>124.000000</td>\n    </tr>\n    <tr>\n      <th>25%</th>\n      <td>269.750000</td>\n      <td>140.000000</td>\n      <td>178.000000</td>\n    </tr>\n    <tr>\n      <th>50%</th>\n      <td>296.500000</td>\n      <td>160.000000</td>\n      <td>232.000000</td>\n    </tr>\n    <tr>\n      <th>75%</th>\n      <td>323.250000</td>\n      <td>180.000000</td>\n      <td>286.000000</td>\n    </tr>\n    <tr>\n      <th>max</th>\n      <td>350.000000</td>\n      <td>200.000000</td>\n      <td>340.000000</td>\n    </tr>\n  </tbody>\n</table>\n</div>"
     },
     "execution_count": 70,
     "metadata": {},
     "output_type": "execute_result"
    }
   ],
   "source": [
    "by_comp.describe().transpose()"
   ]
  },
  {
   "cell_type": "code",
   "execution_count": 71,
   "metadata": {
    "scrolled": true,
    "ExecuteTime": {
     "end_time": "2023-07-13T15:50:49.020025520Z",
     "start_time": "2023-07-13T15:50:48.942558971Z"
    }
   },
   "outputs": [
    {
     "data": {
      "text/plain": "Sales  count      2.000000\n       mean     160.000000\n       std       56.568542\n       min      120.000000\n       25%      140.000000\n       50%      160.000000\n       75%      180.000000\n       max      200.000000\nName: GOOG, dtype: float64"
     },
     "execution_count": 71,
     "metadata": {},
     "output_type": "execute_result"
    }
   ],
   "source": [
    "by_comp.describe().transpose()['GOOG']"
   ]
  },
  {
   "cell_type": "markdown",
   "metadata": {
    "collapsed": true
   },
   "source": [
    "### Operations\n",
    "\n",
    "There are lots of operations with pandas that will be really useful to you, but don't fall into any distinct category. Let's show them here in this lecture:"
   ]
  },
  {
   "cell_type": "code",
   "execution_count": 72,
   "metadata": {
    "ExecuteTime": {
     "end_time": "2023-07-13T15:51:00.584035409Z",
     "start_time": "2023-07-13T15:51:00.424639835Z"
    }
   },
   "outputs": [
    {
     "data": {
      "text/plain": "   col1  col2 col3\n0     1   444  abc\n1     2   555  def\n2     3   666  ghi\n3     4   444  xyz",
      "text/html": "<div>\n<style scoped>\n    .dataframe tbody tr th:only-of-type {\n        vertical-align: middle;\n    }\n\n    .dataframe tbody tr th {\n        vertical-align: top;\n    }\n\n    .dataframe thead th {\n        text-align: right;\n    }\n</style>\n<table border=\"1\" class=\"dataframe\">\n  <thead>\n    <tr style=\"text-align: right;\">\n      <th></th>\n      <th>col1</th>\n      <th>col2</th>\n      <th>col3</th>\n    </tr>\n  </thead>\n  <tbody>\n    <tr>\n      <th>0</th>\n      <td>1</td>\n      <td>444</td>\n      <td>abc</td>\n    </tr>\n    <tr>\n      <th>1</th>\n      <td>2</td>\n      <td>555</td>\n      <td>def</td>\n    </tr>\n    <tr>\n      <th>2</th>\n      <td>3</td>\n      <td>666</td>\n      <td>ghi</td>\n    </tr>\n    <tr>\n      <th>3</th>\n      <td>4</td>\n      <td>444</td>\n      <td>xyz</td>\n    </tr>\n  </tbody>\n</table>\n</div>"
     },
     "execution_count": 72,
     "metadata": {},
     "output_type": "execute_result"
    }
   ],
   "source": [
    "import pandas as pd\n",
    "df_easy = pd.DataFrame({'col1':[1,2,3,4],'col2':[444,555,666,444],'col3':['abc','def','ghi','xyz']})\n",
    "df_easy.head()"
   ]
  },
  {
   "cell_type": "markdown",
   "metadata": {},
   "source": [
    "#### Info on Unique Values"
   ]
  },
  {
   "cell_type": "code",
   "execution_count": 73,
   "metadata": {
    "ExecuteTime": {
     "end_time": "2023-07-13T15:51:01.313416368Z",
     "start_time": "2023-07-13T15:51:01.255697432Z"
    }
   },
   "outputs": [
    {
     "data": {
      "text/plain": "array([444, 555, 666])"
     },
     "execution_count": 73,
     "metadata": {},
     "output_type": "execute_result"
    }
   ],
   "source": [
    "df_easy['col2'].unique()"
   ]
  },
  {
   "cell_type": "code",
   "execution_count": 74,
   "metadata": {
    "ExecuteTime": {
     "end_time": "2023-07-13T15:51:01.937531545Z",
     "start_time": "2023-07-13T15:51:01.811085596Z"
    }
   },
   "outputs": [
    {
     "data": {
      "text/plain": "3"
     },
     "execution_count": 74,
     "metadata": {},
     "output_type": "execute_result"
    }
   ],
   "source": [
    "df_easy['col2'].nunique()"
   ]
  },
  {
   "cell_type": "code",
   "execution_count": 75,
   "metadata": {
    "ExecuteTime": {
     "end_time": "2023-07-13T15:51:02.754721047Z",
     "start_time": "2023-07-13T15:51:02.670875670Z"
    }
   },
   "outputs": [
    {
     "data": {
      "text/plain": "444    2\n555    1\n666    1\nName: col2, dtype: int64"
     },
     "execution_count": 75,
     "metadata": {},
     "output_type": "execute_result"
    }
   ],
   "source": [
    "df_easy['col2'].value_counts()"
   ]
  },
  {
   "cell_type": "markdown",
   "metadata": {},
   "source": [
    "#### Applying Functions"
   ]
  },
  {
   "cell_type": "code",
   "execution_count": 76,
   "metadata": {
    "ExecuteTime": {
     "end_time": "2023-07-13T15:51:07.986072288Z",
     "start_time": "2023-07-13T15:51:07.881324009Z"
    }
   },
   "outputs": [],
   "source": [
    "def times2(x):\n",
    "    return x*2"
   ]
  },
  {
   "cell_type": "code",
   "execution_count": 77,
   "metadata": {
    "ExecuteTime": {
     "end_time": "2023-07-13T15:51:10.318004645Z",
     "start_time": "2023-07-13T15:51:10.262111137Z"
    }
   },
   "outputs": [
    {
     "data": {
      "text/plain": "0    2\n1    4\n2    6\n3    8\nName: col1, dtype: int64"
     },
     "execution_count": 77,
     "metadata": {},
     "output_type": "execute_result"
    }
   ],
   "source": [
    "df_easy['col1'].apply(times2)"
   ]
  },
  {
   "cell_type": "code",
   "execution_count": 78,
   "metadata": {
    "ExecuteTime": {
     "end_time": "2023-07-13T15:51:11.020528570Z",
     "start_time": "2023-07-13T15:51:10.891037762Z"
    }
   },
   "outputs": [
    {
     "data": {
      "text/plain": "0    3\n1    3\n2    3\n3    3\nName: col3, dtype: int64"
     },
     "execution_count": 78,
     "metadata": {},
     "output_type": "execute_result"
    }
   ],
   "source": [
    "df_easy['col3'].apply(len)"
   ]
  },
  {
   "cell_type": "code",
   "execution_count": 79,
   "metadata": {
    "ExecuteTime": {
     "end_time": "2023-07-13T15:51:11.828184205Z",
     "start_time": "2023-07-13T15:51:11.749094364Z"
    }
   },
   "outputs": [
    {
     "data": {
      "text/plain": "10"
     },
     "execution_count": 79,
     "metadata": {},
     "output_type": "execute_result"
    }
   ],
   "source": [
    "df_easy['col1'].sum()"
   ]
  },
  {
   "cell_type": "markdown",
   "metadata": {},
   "source": [
    "#### Permanently Removing a Column"
   ]
  },
  {
   "cell_type": "code",
   "execution_count": 80,
   "metadata": {
    "ExecuteTime": {
     "end_time": "2023-07-13T15:51:21.054785885Z",
     "start_time": "2023-07-13T15:51:20.997241039Z"
    }
   },
   "outputs": [],
   "source": [
    "del df_easy['col1']"
   ]
  },
  {
   "cell_type": "code",
   "execution_count": 81,
   "metadata": {
    "ExecuteTime": {
     "end_time": "2023-07-13T15:51:21.648332500Z",
     "start_time": "2023-07-13T15:51:21.538280244Z"
    }
   },
   "outputs": [
    {
     "data": {
      "text/plain": "   col2 col3\n0   444  abc\n1   555  def\n2   666  ghi\n3   444  xyz",
      "text/html": "<div>\n<style scoped>\n    .dataframe tbody tr th:only-of-type {\n        vertical-align: middle;\n    }\n\n    .dataframe tbody tr th {\n        vertical-align: top;\n    }\n\n    .dataframe thead th {\n        text-align: right;\n    }\n</style>\n<table border=\"1\" class=\"dataframe\">\n  <thead>\n    <tr style=\"text-align: right;\">\n      <th></th>\n      <th>col2</th>\n      <th>col3</th>\n    </tr>\n  </thead>\n  <tbody>\n    <tr>\n      <th>0</th>\n      <td>444</td>\n      <td>abc</td>\n    </tr>\n    <tr>\n      <th>1</th>\n      <td>555</td>\n      <td>def</td>\n    </tr>\n    <tr>\n      <th>2</th>\n      <td>666</td>\n      <td>ghi</td>\n    </tr>\n    <tr>\n      <th>3</th>\n      <td>444</td>\n      <td>xyz</td>\n    </tr>\n  </tbody>\n</table>\n</div>"
     },
     "execution_count": 81,
     "metadata": {},
     "output_type": "execute_result"
    }
   ],
   "source": [
    "df_easy"
   ]
  },
  {
   "cell_type": "markdown",
   "metadata": {},
   "source": [
    "#### Get column and index names:"
   ]
  },
  {
   "cell_type": "code",
   "execution_count": 82,
   "metadata": {
    "ExecuteTime": {
     "end_time": "2023-07-13T15:51:23.209651267Z",
     "start_time": "2023-07-13T15:51:23.139665788Z"
    }
   },
   "outputs": [
    {
     "data": {
      "text/plain": "Index(['col2', 'col3'], dtype='object')"
     },
     "execution_count": 82,
     "metadata": {},
     "output_type": "execute_result"
    }
   ],
   "source": [
    "df_easy.columns"
   ]
  },
  {
   "cell_type": "code",
   "execution_count": 83,
   "metadata": {
    "ExecuteTime": {
     "end_time": "2023-07-13T15:51:23.594386854Z",
     "start_time": "2023-07-13T15:51:23.401745681Z"
    }
   },
   "outputs": [
    {
     "data": {
      "text/plain": "RangeIndex(start=0, stop=4, step=1)"
     },
     "execution_count": 83,
     "metadata": {},
     "output_type": "execute_result"
    }
   ],
   "source": [
    "df_easy.index"
   ]
  },
  {
   "cell_type": "markdown",
   "metadata": {},
   "source": [
    "#### Sorting and Ordering a DataFrame:"
   ]
  },
  {
   "cell_type": "code",
   "execution_count": 84,
   "metadata": {
    "ExecuteTime": {
     "end_time": "2023-07-13T15:51:24.007094266Z",
     "start_time": "2023-07-13T15:51:23.967829702Z"
    }
   },
   "outputs": [
    {
     "data": {
      "text/plain": "   col2 col3\n0   444  abc\n1   555  def\n2   666  ghi\n3   444  xyz",
      "text/html": "<div>\n<style scoped>\n    .dataframe tbody tr th:only-of-type {\n        vertical-align: middle;\n    }\n\n    .dataframe tbody tr th {\n        vertical-align: top;\n    }\n\n    .dataframe thead th {\n        text-align: right;\n    }\n</style>\n<table border=\"1\" class=\"dataframe\">\n  <thead>\n    <tr style=\"text-align: right;\">\n      <th></th>\n      <th>col2</th>\n      <th>col3</th>\n    </tr>\n  </thead>\n  <tbody>\n    <tr>\n      <th>0</th>\n      <td>444</td>\n      <td>abc</td>\n    </tr>\n    <tr>\n      <th>1</th>\n      <td>555</td>\n      <td>def</td>\n    </tr>\n    <tr>\n      <th>2</th>\n      <td>666</td>\n      <td>ghi</td>\n    </tr>\n    <tr>\n      <th>3</th>\n      <td>444</td>\n      <td>xyz</td>\n    </tr>\n  </tbody>\n</table>\n</div>"
     },
     "execution_count": 84,
     "metadata": {},
     "output_type": "execute_result"
    }
   ],
   "source": [
    "df_easy"
   ]
  },
  {
   "cell_type": "code",
   "execution_count": 85,
   "metadata": {
    "scrolled": true,
    "ExecuteTime": {
     "end_time": "2023-07-13T15:51:24.945035343Z",
     "start_time": "2023-07-13T15:51:24.855871645Z"
    }
   },
   "outputs": [
    {
     "data": {
      "text/plain": "   col2 col3\n0   444  abc\n3   444  xyz\n1   555  def\n2   666  ghi",
      "text/html": "<div>\n<style scoped>\n    .dataframe tbody tr th:only-of-type {\n        vertical-align: middle;\n    }\n\n    .dataframe tbody tr th {\n        vertical-align: top;\n    }\n\n    .dataframe thead th {\n        text-align: right;\n    }\n</style>\n<table border=\"1\" class=\"dataframe\">\n  <thead>\n    <tr style=\"text-align: right;\">\n      <th></th>\n      <th>col2</th>\n      <th>col3</th>\n    </tr>\n  </thead>\n  <tbody>\n    <tr>\n      <th>0</th>\n      <td>444</td>\n      <td>abc</td>\n    </tr>\n    <tr>\n      <th>3</th>\n      <td>444</td>\n      <td>xyz</td>\n    </tr>\n    <tr>\n      <th>1</th>\n      <td>555</td>\n      <td>def</td>\n    </tr>\n    <tr>\n      <th>2</th>\n      <td>666</td>\n      <td>ghi</td>\n    </tr>\n  </tbody>\n</table>\n</div>"
     },
     "execution_count": 85,
     "metadata": {},
     "output_type": "execute_result"
    }
   ],
   "source": [
    "df_easy.sort_values(by='col2') #inplace=False by default"
   ]
  },
  {
   "cell_type": "markdown",
   "metadata": {},
   "source": [
    "## DataFrames - COMPLEX\n",
    "\n",
    "### Load the Dataframe"
   ]
  },
  {
   "cell_type": "markdown",
   "metadata": {},
   "source": [
    "We load the data from (https://insights.stackoverflow.com/survey) at years 2019.\n",
    "\n",
    "In this case the file is in CVS format, so we can use the following code"
   ]
  },
  {
   "cell_type": "code",
   "execution_count": 87,
   "metadata": {
    "ExecuteTime": {
     "end_time": "2023-07-13T15:52:01.654909003Z",
     "start_time": "2023-07-13T15:51:59.732283866Z"
    }
   },
   "outputs": [],
   "source": [
    "#Df stay for dataframe\n",
    "df = pd.read_csv('Data/survey_results_public.csv')"
   ]
  },
  {
   "cell_type": "markdown",
   "metadata": {},
   "source": [
    "### Visualize the Dataset"
   ]
  },
  {
   "cell_type": "code",
   "execution_count": 88,
   "metadata": {
    "ExecuteTime": {
     "end_time": "2023-07-13T15:52:02.688734397Z",
     "start_time": "2023-07-13T15:52:02.553504301Z"
    }
   },
   "outputs": [
    {
     "data": {
      "text/plain": "       Respondent                                         MainBranch Hobbyist  \\\n0               1             I am a student who is learning to code      Yes   \n1               2             I am a student who is learning to code       No   \n2               3  I am not primarily a developer, but I write co...      Yes   \n3               4                     I am a developer by profession       No   \n4               5                     I am a developer by profession      Yes   \n...           ...                                                ...      ...   \n88878       88377                                                NaN      Yes   \n88879       88601                                                NaN       No   \n88880       88802                                                NaN       No   \n88881       88816                                                NaN       No   \n88882       88863                                                NaN      Yes   \n\n                                             OpenSourcer  \\\n0                                                  Never   \n1                                Less than once per year   \n2                                                  Never   \n3                                                  Never   \n4                             Once a month or more often   \n...                                                  ...   \n88878  Less than once a month but more than once per ...   \n88879                                              Never   \n88880                                              Never   \n88881                                              Never   \n88882                            Less than once per year   \n\n                                              OpenSource  \\\n0      The quality of OSS and closed source software ...   \n1      The quality of OSS and closed source software ...   \n2      The quality of OSS and closed source software ...   \n3      The quality of OSS and closed source software ...   \n4      OSS is, on average, of HIGHER quality than pro...   \n...                                                  ...   \n88878  The quality of OSS and closed source software ...   \n88879  The quality of OSS and closed source software ...   \n88880                                                NaN   \n88881  OSS is, on average, of HIGHER quality than pro...   \n88882  OSS is, on average, of HIGHER quality than pro...   \n\n                                              Employment  \\\n0                 Not employed, and not looking for work   \n1                     Not employed, but looking for work   \n2                                     Employed full-time   \n3                                     Employed full-time   \n4                                     Employed full-time   \n...                                                  ...   \n88878             Not employed, and not looking for work   \n88879                                                NaN   \n88880                                 Employed full-time   \n88881  Independent contractor, freelancer, or self-em...   \n88882             Not employed, and not looking for work   \n\n                      Country         Student  \\\n0              United Kingdom              No   \n1      Bosnia and Herzegovina  Yes, full-time   \n2                    Thailand              No   \n3               United States              No   \n4                     Ukraine              No   \n...                       ...             ...   \n88878                  Canada              No   \n88879                     NaN             NaN   \n88880                     NaN             NaN   \n88881                     NaN             NaN   \n88882                   Spain  Yes, full-time   \n\n                                                 EdLevel  \\\n0                              Primary/elementary school   \n1      Secondary school (e.g. American high school, G...   \n2               Bachelor’s degree (BA, BS, B.Eng., etc.)   \n3               Bachelor’s degree (BA, BS, B.Eng., etc.)   \n4               Bachelor’s degree (BA, BS, B.Eng., etc.)   \n...                                                  ...   \n88878                          Primary/elementary school   \n88879                                                NaN   \n88880                                                NaN   \n88881                                                NaN   \n88882                 Professional degree (JD, MD, etc.)   \n\n                                          UndergradMajor  ...  \\\n0                                                    NaN  ...   \n1                                                    NaN  ...   \n2                          Web development or web design  ...   \n3      Computer science, computer engineering, or sof...  ...   \n4      Computer science, computer engineering, or sof...  ...   \n...                                                  ...  ...   \n88878                                                NaN  ...   \n88879                                                NaN  ...   \n88880                                                NaN  ...   \n88881                                                NaN  ...   \n88882  Computer science, computer engineering, or sof...  ...   \n\n                                  WelcomeChange  \\\n0       Just as welcome now as I felt last year   \n1       Just as welcome now as I felt last year   \n2       Just as welcome now as I felt last year   \n3       Just as welcome now as I felt last year   \n4       Just as welcome now as I felt last year   \n...                                         ...   \n88878                                       NaN   \n88879                                       NaN   \n88880                                       NaN   \n88881                                       NaN   \n88882  Somewhat less welcome now than last year   \n\n                                            SONewContent   Age Gender Trans  \\\n0      Tech articles written by other developers;Indu...  14.0    Man    No   \n1      Tech articles written by other developers;Indu...  19.0    Man    No   \n2      Tech meetups or events in your area;Courses on...  28.0    Man    No   \n3      Tech articles written by other developers;Indu...  22.0    Man    No   \n4      Tech meetups or events in your area;Courses on...  30.0    Man    No   \n...                                                  ...   ...    ...   ...   \n88878  Tech articles written by other developers;Tech...   NaN    Man    No   \n88879                                                NaN   NaN    NaN   NaN   \n88880                                                NaN   NaN    NaN   NaN   \n88881                                                NaN   NaN    NaN   NaN   \n88882  Tech articles written by other developers;Indu...  18.0    Man    No   \n\n                     Sexuality  \\\n0      Straight / Heterosexual   \n1      Straight / Heterosexual   \n2      Straight / Heterosexual   \n3      Straight / Heterosexual   \n4      Straight / Heterosexual   \n...                        ...   \n88878                      NaN   \n88879                      NaN   \n88880                      NaN   \n88881                      NaN   \n88882  Straight / Heterosexual   \n\n                                               Ethnicity Dependents  \\\n0                                                    NaN         No   \n1                                                    NaN         No   \n2                                                    NaN        Yes   \n3                           White or of European descent         No   \n4               White or of European descent;Multiracial         No   \n...                                                  ...        ...   \n88878                                                NaN         No   \n88879                                                NaN        NaN   \n88880                                                NaN        NaN   \n88881                                                NaN        NaN   \n88882  Hispanic or Latino/Latina;White or of European...         No   \n\n                SurveyLength                  SurveyEase  \n0      Appropriate in length  Neither easy nor difficult  \n1      Appropriate in length  Neither easy nor difficult  \n2      Appropriate in length  Neither easy nor difficult  \n3      Appropriate in length                        Easy  \n4      Appropriate in length                        Easy  \n...                      ...                         ...  \n88878  Appropriate in length                        Easy  \n88879                    NaN                         NaN  \n88880                    NaN                         NaN  \n88881                    NaN                         NaN  \n88882  Appropriate in length                        Easy  \n\n[88883 rows x 85 columns]",
      "text/html": "<div>\n<style scoped>\n    .dataframe tbody tr th:only-of-type {\n        vertical-align: middle;\n    }\n\n    .dataframe tbody tr th {\n        vertical-align: top;\n    }\n\n    .dataframe thead th {\n        text-align: right;\n    }\n</style>\n<table border=\"1\" class=\"dataframe\">\n  <thead>\n    <tr style=\"text-align: right;\">\n      <th></th>\n      <th>Respondent</th>\n      <th>MainBranch</th>\n      <th>Hobbyist</th>\n      <th>OpenSourcer</th>\n      <th>OpenSource</th>\n      <th>Employment</th>\n      <th>Country</th>\n      <th>Student</th>\n      <th>EdLevel</th>\n      <th>UndergradMajor</th>\n      <th>...</th>\n      <th>WelcomeChange</th>\n      <th>SONewContent</th>\n      <th>Age</th>\n      <th>Gender</th>\n      <th>Trans</th>\n      <th>Sexuality</th>\n      <th>Ethnicity</th>\n      <th>Dependents</th>\n      <th>SurveyLength</th>\n      <th>SurveyEase</th>\n    </tr>\n  </thead>\n  <tbody>\n    <tr>\n      <th>0</th>\n      <td>1</td>\n      <td>I am a student who is learning to code</td>\n      <td>Yes</td>\n      <td>Never</td>\n      <td>The quality of OSS and closed source software ...</td>\n      <td>Not employed, and not looking for work</td>\n      <td>United Kingdom</td>\n      <td>No</td>\n      <td>Primary/elementary school</td>\n      <td>NaN</td>\n      <td>...</td>\n      <td>Just as welcome now as I felt last year</td>\n      <td>Tech articles written by other developers;Indu...</td>\n      <td>14.0</td>\n      <td>Man</td>\n      <td>No</td>\n      <td>Straight / Heterosexual</td>\n      <td>NaN</td>\n      <td>No</td>\n      <td>Appropriate in length</td>\n      <td>Neither easy nor difficult</td>\n    </tr>\n    <tr>\n      <th>1</th>\n      <td>2</td>\n      <td>I am a student who is learning to code</td>\n      <td>No</td>\n      <td>Less than once per year</td>\n      <td>The quality of OSS and closed source software ...</td>\n      <td>Not employed, but looking for work</td>\n      <td>Bosnia and Herzegovina</td>\n      <td>Yes, full-time</td>\n      <td>Secondary school (e.g. American high school, G...</td>\n      <td>NaN</td>\n      <td>...</td>\n      <td>Just as welcome now as I felt last year</td>\n      <td>Tech articles written by other developers;Indu...</td>\n      <td>19.0</td>\n      <td>Man</td>\n      <td>No</td>\n      <td>Straight / Heterosexual</td>\n      <td>NaN</td>\n      <td>No</td>\n      <td>Appropriate in length</td>\n      <td>Neither easy nor difficult</td>\n    </tr>\n    <tr>\n      <th>2</th>\n      <td>3</td>\n      <td>I am not primarily a developer, but I write co...</td>\n      <td>Yes</td>\n      <td>Never</td>\n      <td>The quality of OSS and closed source software ...</td>\n      <td>Employed full-time</td>\n      <td>Thailand</td>\n      <td>No</td>\n      <td>Bachelor’s degree (BA, BS, B.Eng., etc.)</td>\n      <td>Web development or web design</td>\n      <td>...</td>\n      <td>Just as welcome now as I felt last year</td>\n      <td>Tech meetups or events in your area;Courses on...</td>\n      <td>28.0</td>\n      <td>Man</td>\n      <td>No</td>\n      <td>Straight / Heterosexual</td>\n      <td>NaN</td>\n      <td>Yes</td>\n      <td>Appropriate in length</td>\n      <td>Neither easy nor difficult</td>\n    </tr>\n    <tr>\n      <th>3</th>\n      <td>4</td>\n      <td>I am a developer by profession</td>\n      <td>No</td>\n      <td>Never</td>\n      <td>The quality of OSS and closed source software ...</td>\n      <td>Employed full-time</td>\n      <td>United States</td>\n      <td>No</td>\n      <td>Bachelor’s degree (BA, BS, B.Eng., etc.)</td>\n      <td>Computer science, computer engineering, or sof...</td>\n      <td>...</td>\n      <td>Just as welcome now as I felt last year</td>\n      <td>Tech articles written by other developers;Indu...</td>\n      <td>22.0</td>\n      <td>Man</td>\n      <td>No</td>\n      <td>Straight / Heterosexual</td>\n      <td>White or of European descent</td>\n      <td>No</td>\n      <td>Appropriate in length</td>\n      <td>Easy</td>\n    </tr>\n    <tr>\n      <th>4</th>\n      <td>5</td>\n      <td>I am a developer by profession</td>\n      <td>Yes</td>\n      <td>Once a month or more often</td>\n      <td>OSS is, on average, of HIGHER quality than pro...</td>\n      <td>Employed full-time</td>\n      <td>Ukraine</td>\n      <td>No</td>\n      <td>Bachelor’s degree (BA, BS, B.Eng., etc.)</td>\n      <td>Computer science, computer engineering, or sof...</td>\n      <td>...</td>\n      <td>Just as welcome now as I felt last year</td>\n      <td>Tech meetups or events in your area;Courses on...</td>\n      <td>30.0</td>\n      <td>Man</td>\n      <td>No</td>\n      <td>Straight / Heterosexual</td>\n      <td>White or of European descent;Multiracial</td>\n      <td>No</td>\n      <td>Appropriate in length</td>\n      <td>Easy</td>\n    </tr>\n    <tr>\n      <th>...</th>\n      <td>...</td>\n      <td>...</td>\n      <td>...</td>\n      <td>...</td>\n      <td>...</td>\n      <td>...</td>\n      <td>...</td>\n      <td>...</td>\n      <td>...</td>\n      <td>...</td>\n      <td>...</td>\n      <td>...</td>\n      <td>...</td>\n      <td>...</td>\n      <td>...</td>\n      <td>...</td>\n      <td>...</td>\n      <td>...</td>\n      <td>...</td>\n      <td>...</td>\n      <td>...</td>\n    </tr>\n    <tr>\n      <th>88878</th>\n      <td>88377</td>\n      <td>NaN</td>\n      <td>Yes</td>\n      <td>Less than once a month but more than once per ...</td>\n      <td>The quality of OSS and closed source software ...</td>\n      <td>Not employed, and not looking for work</td>\n      <td>Canada</td>\n      <td>No</td>\n      <td>Primary/elementary school</td>\n      <td>NaN</td>\n      <td>...</td>\n      <td>NaN</td>\n      <td>Tech articles written by other developers;Tech...</td>\n      <td>NaN</td>\n      <td>Man</td>\n      <td>No</td>\n      <td>NaN</td>\n      <td>NaN</td>\n      <td>No</td>\n      <td>Appropriate in length</td>\n      <td>Easy</td>\n    </tr>\n    <tr>\n      <th>88879</th>\n      <td>88601</td>\n      <td>NaN</td>\n      <td>No</td>\n      <td>Never</td>\n      <td>The quality of OSS and closed source software ...</td>\n      <td>NaN</td>\n      <td>NaN</td>\n      <td>NaN</td>\n      <td>NaN</td>\n      <td>NaN</td>\n      <td>...</td>\n      <td>NaN</td>\n      <td>NaN</td>\n      <td>NaN</td>\n      <td>NaN</td>\n      <td>NaN</td>\n      <td>NaN</td>\n      <td>NaN</td>\n      <td>NaN</td>\n      <td>NaN</td>\n      <td>NaN</td>\n    </tr>\n    <tr>\n      <th>88880</th>\n      <td>88802</td>\n      <td>NaN</td>\n      <td>No</td>\n      <td>Never</td>\n      <td>NaN</td>\n      <td>Employed full-time</td>\n      <td>NaN</td>\n      <td>NaN</td>\n      <td>NaN</td>\n      <td>NaN</td>\n      <td>...</td>\n      <td>NaN</td>\n      <td>NaN</td>\n      <td>NaN</td>\n      <td>NaN</td>\n      <td>NaN</td>\n      <td>NaN</td>\n      <td>NaN</td>\n      <td>NaN</td>\n      <td>NaN</td>\n      <td>NaN</td>\n    </tr>\n    <tr>\n      <th>88881</th>\n      <td>88816</td>\n      <td>NaN</td>\n      <td>No</td>\n      <td>Never</td>\n      <td>OSS is, on average, of HIGHER quality than pro...</td>\n      <td>Independent contractor, freelancer, or self-em...</td>\n      <td>NaN</td>\n      <td>NaN</td>\n      <td>NaN</td>\n      <td>NaN</td>\n      <td>...</td>\n      <td>NaN</td>\n      <td>NaN</td>\n      <td>NaN</td>\n      <td>NaN</td>\n      <td>NaN</td>\n      <td>NaN</td>\n      <td>NaN</td>\n      <td>NaN</td>\n      <td>NaN</td>\n      <td>NaN</td>\n    </tr>\n    <tr>\n      <th>88882</th>\n      <td>88863</td>\n      <td>NaN</td>\n      <td>Yes</td>\n      <td>Less than once per year</td>\n      <td>OSS is, on average, of HIGHER quality than pro...</td>\n      <td>Not employed, and not looking for work</td>\n      <td>Spain</td>\n      <td>Yes, full-time</td>\n      <td>Professional degree (JD, MD, etc.)</td>\n      <td>Computer science, computer engineering, or sof...</td>\n      <td>...</td>\n      <td>Somewhat less welcome now than last year</td>\n      <td>Tech articles written by other developers;Indu...</td>\n      <td>18.0</td>\n      <td>Man</td>\n      <td>No</td>\n      <td>Straight / Heterosexual</td>\n      <td>Hispanic or Latino/Latina;White or of European...</td>\n      <td>No</td>\n      <td>Appropriate in length</td>\n      <td>Easy</td>\n    </tr>\n  </tbody>\n</table>\n<p>88883 rows × 85 columns</p>\n</div>"
     },
     "execution_count": 88,
     "metadata": {},
     "output_type": "execute_result"
    }
   ],
   "source": [
    "#visualize\n",
    "df"
   ]
  },
  {
   "cell_type": "markdown",
   "metadata": {},
   "source": [
    "We load also this dataset, in particular this dataset contain the information the explay each attributes."
   ]
  },
  {
   "cell_type": "code",
   "execution_count": 89,
   "metadata": {
    "ExecuteTime": {
     "end_time": "2023-07-13T15:52:28.755840139Z",
     "start_time": "2023-07-13T15:52:28.633375430Z"
    }
   },
   "outputs": [],
   "source": [
    "schema_df = pd.read_csv('Data/survey_results_schema.csv')"
   ]
  },
  {
   "cell_type": "code",
   "execution_count": 90,
   "metadata": {
    "scrolled": true,
    "ExecuteTime": {
     "end_time": "2023-07-13T15:52:29.549727181Z",
     "start_time": "2023-07-13T15:52:29.439167133Z"
    }
   },
   "outputs": [
    {
     "data": {
      "text/plain": "          Column                                       QuestionText\n0     Respondent  Randomized respondent ID number (not in order ...\n1     MainBranch  Which of the following options best describes ...\n2       Hobbyist                            Do you code as a hobby?\n3    OpenSourcer        How often do you contribute to open source?\n4     OpenSource  How do you feel about the quality of open sour...\n..           ...                                                ...\n80     Sexuality  Which of the following do you currently identi...\n81     Ethnicity  Which of the following do you identify as? Ple...\n82    Dependents  Do you have any dependents (e.g., children, el...\n83  SurveyLength  How do you feel about the length of the survey...\n84    SurveyEase  How easy or difficult was this survey to compl...\n\n[85 rows x 2 columns]",
      "text/html": "<div>\n<style scoped>\n    .dataframe tbody tr th:only-of-type {\n        vertical-align: middle;\n    }\n\n    .dataframe tbody tr th {\n        vertical-align: top;\n    }\n\n    .dataframe thead th {\n        text-align: right;\n    }\n</style>\n<table border=\"1\" class=\"dataframe\">\n  <thead>\n    <tr style=\"text-align: right;\">\n      <th></th>\n      <th>Column</th>\n      <th>QuestionText</th>\n    </tr>\n  </thead>\n  <tbody>\n    <tr>\n      <th>0</th>\n      <td>Respondent</td>\n      <td>Randomized respondent ID number (not in order ...</td>\n    </tr>\n    <tr>\n      <th>1</th>\n      <td>MainBranch</td>\n      <td>Which of the following options best describes ...</td>\n    </tr>\n    <tr>\n      <th>2</th>\n      <td>Hobbyist</td>\n      <td>Do you code as a hobby?</td>\n    </tr>\n    <tr>\n      <th>3</th>\n      <td>OpenSourcer</td>\n      <td>How often do you contribute to open source?</td>\n    </tr>\n    <tr>\n      <th>4</th>\n      <td>OpenSource</td>\n      <td>How do you feel about the quality of open sour...</td>\n    </tr>\n    <tr>\n      <th>...</th>\n      <td>...</td>\n      <td>...</td>\n    </tr>\n    <tr>\n      <th>80</th>\n      <td>Sexuality</td>\n      <td>Which of the following do you currently identi...</td>\n    </tr>\n    <tr>\n      <th>81</th>\n      <td>Ethnicity</td>\n      <td>Which of the following do you identify as? Ple...</td>\n    </tr>\n    <tr>\n      <th>82</th>\n      <td>Dependents</td>\n      <td>Do you have any dependents (e.g., children, el...</td>\n    </tr>\n    <tr>\n      <th>83</th>\n      <td>SurveyLength</td>\n      <td>How do you feel about the length of the survey...</td>\n    </tr>\n    <tr>\n      <th>84</th>\n      <td>SurveyEase</td>\n      <td>How easy or difficult was this survey to compl...</td>\n    </tr>\n  </tbody>\n</table>\n<p>85 rows × 2 columns</p>\n</div>"
     },
     "execution_count": 90,
     "metadata": {},
     "output_type": "execute_result"
    }
   ],
   "source": [
    "schema_df"
   ]
  },
  {
   "cell_type": "markdown",
   "metadata": {},
   "source": [
    "### Selection and Indexing\n",
    "\n",
    "#### Access to Column"
   ]
  },
  {
   "cell_type": "markdown",
   "metadata": {},
   "source": [
    "We can access to a specific column using the label of the column"
   ]
  },
  {
   "cell_type": "code",
   "execution_count": 91,
   "metadata": {
    "ExecuteTime": {
     "end_time": "2023-07-13T15:52:37.232128934Z",
     "start_time": "2023-07-13T15:52:37.182635108Z"
    }
   },
   "outputs": [
    {
     "data": {
      "text/plain": "0        Yes\n1         No\n2        Yes\n3         No\n4        Yes\n        ... \n88878    Yes\n88879     No\n88880     No\n88881     No\n88882    Yes\nName: Hobbyist, Length: 88883, dtype: object"
     },
     "execution_count": 91,
     "metadata": {},
     "output_type": "execute_result"
    }
   ],
   "source": [
    "df['Hobbyist']"
   ]
  },
  {
   "cell_type": "code",
   "execution_count": 92,
   "metadata": {
    "ExecuteTime": {
     "end_time": "2023-07-13T15:52:38.020417372Z",
     "start_time": "2023-07-13T15:52:37.857917502Z"
    }
   },
   "outputs": [
    {
     "data": {
      "text/plain": "       Respondent                                         MainBranch\n0               1             I am a student who is learning to code\n1               2             I am a student who is learning to code\n2               3  I am not primarily a developer, but I write co...\n3               4                     I am a developer by profession\n4               5                     I am a developer by profession\n...           ...                                                ...\n88878       88377                                                NaN\n88879       88601                                                NaN\n88880       88802                                                NaN\n88881       88816                                                NaN\n88882       88863                                                NaN\n\n[88883 rows x 2 columns]",
      "text/html": "<div>\n<style scoped>\n    .dataframe tbody tr th:only-of-type {\n        vertical-align: middle;\n    }\n\n    .dataframe tbody tr th {\n        vertical-align: top;\n    }\n\n    .dataframe thead th {\n        text-align: right;\n    }\n</style>\n<table border=\"1\" class=\"dataframe\">\n  <thead>\n    <tr style=\"text-align: right;\">\n      <th></th>\n      <th>Respondent</th>\n      <th>MainBranch</th>\n    </tr>\n  </thead>\n  <tbody>\n    <tr>\n      <th>0</th>\n      <td>1</td>\n      <td>I am a student who is learning to code</td>\n    </tr>\n    <tr>\n      <th>1</th>\n      <td>2</td>\n      <td>I am a student who is learning to code</td>\n    </tr>\n    <tr>\n      <th>2</th>\n      <td>3</td>\n      <td>I am not primarily a developer, but I write co...</td>\n    </tr>\n    <tr>\n      <th>3</th>\n      <td>4</td>\n      <td>I am a developer by profession</td>\n    </tr>\n    <tr>\n      <th>4</th>\n      <td>5</td>\n      <td>I am a developer by profession</td>\n    </tr>\n    <tr>\n      <th>...</th>\n      <td>...</td>\n      <td>...</td>\n    </tr>\n    <tr>\n      <th>88878</th>\n      <td>88377</td>\n      <td>NaN</td>\n    </tr>\n    <tr>\n      <th>88879</th>\n      <td>88601</td>\n      <td>NaN</td>\n    </tr>\n    <tr>\n      <th>88880</th>\n      <td>88802</td>\n      <td>NaN</td>\n    </tr>\n    <tr>\n      <th>88881</th>\n      <td>88816</td>\n      <td>NaN</td>\n    </tr>\n    <tr>\n      <th>88882</th>\n      <td>88863</td>\n      <td>NaN</td>\n    </tr>\n  </tbody>\n</table>\n<p>88883 rows × 2 columns</p>\n</div>"
     },
     "execution_count": 92,
     "metadata": {},
     "output_type": "execute_result"
    }
   ],
   "source": [
    "df[['Respondent', 'MainBranch']]"
   ]
  },
  {
   "cell_type": "markdown",
   "metadata": {},
   "source": [
    "#### Access Row\n",
    "\n",
    "The most common is to use loc function"
   ]
  },
  {
   "cell_type": "code",
   "execution_count": 93,
   "metadata": {
    "ExecuteTime": {
     "end_time": "2023-07-13T15:52:42.342316483Z",
     "start_time": "2023-07-13T15:52:42.198168424Z"
    }
   },
   "outputs": [
    {
     "data": {
      "text/plain": "   Respondent                              MainBranch\n0           1  I am a student who is learning to code\n1           2  I am a student who is learning to code",
      "text/html": "<div>\n<style scoped>\n    .dataframe tbody tr th:only-of-type {\n        vertical-align: middle;\n    }\n\n    .dataframe tbody tr th {\n        vertical-align: top;\n    }\n\n    .dataframe thead th {\n        text-align: right;\n    }\n</style>\n<table border=\"1\" class=\"dataframe\">\n  <thead>\n    <tr style=\"text-align: right;\">\n      <th></th>\n      <th>Respondent</th>\n      <th>MainBranch</th>\n    </tr>\n  </thead>\n  <tbody>\n    <tr>\n      <th>0</th>\n      <td>1</td>\n      <td>I am a student who is learning to code</td>\n    </tr>\n    <tr>\n      <th>1</th>\n      <td>2</td>\n      <td>I am a student who is learning to code</td>\n    </tr>\n  </tbody>\n</table>\n</div>"
     },
     "execution_count": 93,
     "metadata": {},
     "output_type": "execute_result"
    }
   ],
   "source": [
    "df.loc[[0, 1], ['Respondent', 'MainBranch']]"
   ]
  },
  {
   "cell_type": "markdown",
   "metadata": {},
   "source": [
    "So as we see we got only the first two row. We can get more complicated one using slicing"
   ]
  },
  {
   "cell_type": "code",
   "execution_count": 94,
   "metadata": {
    "ExecuteTime": {
     "end_time": "2023-07-13T15:52:44.018219043Z",
     "start_time": "2023-07-13T15:52:43.805048360Z"
    }
   },
   "outputs": [
    {
     "data": {
      "text/plain": "      Respondent                                         MainBranch Hobbyist  \\\n8000        8036                     I am a developer by profession       No   \n8001        8037                     I am a developer by profession      Yes   \n8002        8038             I am a student who is learning to code      Yes   \n8003        8039                     I am a developer by profession      Yes   \n8004        8040             I am a student who is learning to code      Yes   \n8005        8041                     I am a developer by profession      Yes   \n8006        8042             I am a student who is learning to code      Yes   \n8007        8043                     I am a developer by profession      Yes   \n8008        8044                     I am a developer by profession      Yes   \n8009        8045                     I am a developer by profession      Yes   \n8010        8046  I am not primarily a developer, but I write co...       No   \n\n                                            OpenSourcer  \\\n8000                                              Never   \n8001                                              Never   \n8002                                              Never   \n8003                                              Never   \n8004                            Less than once per year   \n8005  Less than once a month but more than once per ...   \n8006  Less than once a month but more than once per ...   \n8007  Less than once a month but more than once per ...   \n8008                                              Never   \n8009                         Once a month or more often   \n8010                                              Never   \n\n                                             OpenSource  \\\n8000  OSS is, on average, of LOWER quality than prop...   \n8001  The quality of OSS and closed source software ...   \n8002                                                NaN   \n8003  The quality of OSS and closed source software ...   \n8004  OSS is, on average, of LOWER quality than prop...   \n8005  The quality of OSS and closed source software ...   \n8006  OSS is, on average, of HIGHER quality than pro...   \n8007  OSS is, on average, of HIGHER quality than pro...   \n8008  The quality of OSS and closed source software ...   \n8009  The quality of OSS and closed source software ...   \n8010  The quality of OSS and closed source software ...   \n\n                              Employment  \n8000                  Employed full-time  \n8001                  Employed full-time  \n8002                                 NaN  \n8003                  Employed full-time  \n8004  Not employed, but looking for work  \n8005                  Employed full-time  \n8006  Not employed, but looking for work  \n8007                  Employed full-time  \n8008                  Employed full-time  \n8009                  Employed full-time  \n8010                  Employed full-time  ",
      "text/html": "<div>\n<style scoped>\n    .dataframe tbody tr th:only-of-type {\n        vertical-align: middle;\n    }\n\n    .dataframe tbody tr th {\n        vertical-align: top;\n    }\n\n    .dataframe thead th {\n        text-align: right;\n    }\n</style>\n<table border=\"1\" class=\"dataframe\">\n  <thead>\n    <tr style=\"text-align: right;\">\n      <th></th>\n      <th>Respondent</th>\n      <th>MainBranch</th>\n      <th>Hobbyist</th>\n      <th>OpenSourcer</th>\n      <th>OpenSource</th>\n      <th>Employment</th>\n    </tr>\n  </thead>\n  <tbody>\n    <tr>\n      <th>8000</th>\n      <td>8036</td>\n      <td>I am a developer by profession</td>\n      <td>No</td>\n      <td>Never</td>\n      <td>OSS is, on average, of LOWER quality than prop...</td>\n      <td>Employed full-time</td>\n    </tr>\n    <tr>\n      <th>8001</th>\n      <td>8037</td>\n      <td>I am a developer by profession</td>\n      <td>Yes</td>\n      <td>Never</td>\n      <td>The quality of OSS and closed source software ...</td>\n      <td>Employed full-time</td>\n    </tr>\n    <tr>\n      <th>8002</th>\n      <td>8038</td>\n      <td>I am a student who is learning to code</td>\n      <td>Yes</td>\n      <td>Never</td>\n      <td>NaN</td>\n      <td>NaN</td>\n    </tr>\n    <tr>\n      <th>8003</th>\n      <td>8039</td>\n      <td>I am a developer by profession</td>\n      <td>Yes</td>\n      <td>Never</td>\n      <td>The quality of OSS and closed source software ...</td>\n      <td>Employed full-time</td>\n    </tr>\n    <tr>\n      <th>8004</th>\n      <td>8040</td>\n      <td>I am a student who is learning to code</td>\n      <td>Yes</td>\n      <td>Less than once per year</td>\n      <td>OSS is, on average, of LOWER quality than prop...</td>\n      <td>Not employed, but looking for work</td>\n    </tr>\n    <tr>\n      <th>8005</th>\n      <td>8041</td>\n      <td>I am a developer by profession</td>\n      <td>Yes</td>\n      <td>Less than once a month but more than once per ...</td>\n      <td>The quality of OSS and closed source software ...</td>\n      <td>Employed full-time</td>\n    </tr>\n    <tr>\n      <th>8006</th>\n      <td>8042</td>\n      <td>I am a student who is learning to code</td>\n      <td>Yes</td>\n      <td>Less than once a month but more than once per ...</td>\n      <td>OSS is, on average, of HIGHER quality than pro...</td>\n      <td>Not employed, but looking for work</td>\n    </tr>\n    <tr>\n      <th>8007</th>\n      <td>8043</td>\n      <td>I am a developer by profession</td>\n      <td>Yes</td>\n      <td>Less than once a month but more than once per ...</td>\n      <td>OSS is, on average, of HIGHER quality than pro...</td>\n      <td>Employed full-time</td>\n    </tr>\n    <tr>\n      <th>8008</th>\n      <td>8044</td>\n      <td>I am a developer by profession</td>\n      <td>Yes</td>\n      <td>Never</td>\n      <td>The quality of OSS and closed source software ...</td>\n      <td>Employed full-time</td>\n    </tr>\n    <tr>\n      <th>8009</th>\n      <td>8045</td>\n      <td>I am a developer by profession</td>\n      <td>Yes</td>\n      <td>Once a month or more often</td>\n      <td>The quality of OSS and closed source software ...</td>\n      <td>Employed full-time</td>\n    </tr>\n    <tr>\n      <th>8010</th>\n      <td>8046</td>\n      <td>I am not primarily a developer, but I write co...</td>\n      <td>No</td>\n      <td>Never</td>\n      <td>The quality of OSS and closed source software ...</td>\n      <td>Employed full-time</td>\n    </tr>\n  </tbody>\n</table>\n</div>"
     },
     "execution_count": 94,
     "metadata": {},
     "output_type": "execute_result"
    }
   ],
   "source": [
    "df.loc[ 8000:8010, 'Respondent':'Employment']"
   ]
  },
  {
   "cell_type": "markdown",
   "metadata": {},
   "source": [
    "We can also see the count of element in each variable, so we can display"
   ]
  },
  {
   "cell_type": "code",
   "execution_count": 95,
   "metadata": {
    "ExecuteTime": {
     "end_time": "2023-07-13T15:52:45.948246529Z",
     "start_time": "2023-07-13T15:52:45.788120503Z"
    }
   },
   "outputs": [
    {
     "data": {
      "text/plain": "Yes    71257\nNo     17626\nName: Hobbyist, dtype: int64"
     },
     "execution_count": 95,
     "metadata": {},
     "output_type": "execute_result"
    }
   ],
   "source": [
    "df['Hobbyist'].value_counts()"
   ]
  },
  {
   "cell_type": "markdown",
   "metadata": {},
   "source": [
    "### New label identifiers\n",
    "\n",
    "Until now we use thye order prestabilied to identify the object. Now maybe we want to use other identifier for each row, so we use this indexing. So now the first column is the one we choose, and it can be useful."
   ]
  },
  {
   "cell_type": "code",
   "execution_count": 96,
   "metadata": {
    "ExecuteTime": {
     "end_time": "2023-07-13T15:52:49.739321266Z",
     "start_time": "2023-07-13T15:52:49.606890286Z"
    }
   },
   "outputs": [
    {
     "data": {
      "text/plain": "                        Respondent  \\\nCountry                              \nUnited Kingdom                   1   \nBosnia and Herzegovina           2   \nThailand                         3   \n\n                                                               MainBranch  \\\nCountry                                                                     \nUnited Kingdom                     I am a student who is learning to code   \nBosnia and Herzegovina             I am a student who is learning to code   \nThailand                I am not primarily a developer, but I write co...   \n\n                       Hobbyist              OpenSourcer  \\\nCountry                                                    \nUnited Kingdom              Yes                    Never   \nBosnia and Herzegovina       No  Less than once per year   \nThailand                    Yes                    Never   \n\n                                                               OpenSource  \\\nCountry                                                                     \nUnited Kingdom          The quality of OSS and closed source software ...   \nBosnia and Herzegovina  The quality of OSS and closed source software ...   \nThailand                The quality of OSS and closed source software ...   \n\n                                                    Employment  \\\nCountry                                                          \nUnited Kingdom          Not employed, and not looking for work   \nBosnia and Herzegovina      Not employed, but looking for work   \nThailand                                    Employed full-time   \n\n                               Student  \\\nCountry                                  \nUnited Kingdom                      No   \nBosnia and Herzegovina  Yes, full-time   \nThailand                            No   \n\n                                                                  EdLevel  \\\nCountry                                                                     \nUnited Kingdom                                  Primary/elementary school   \nBosnia and Herzegovina  Secondary school (e.g. American high school, G...   \nThailand                         Bachelor’s degree (BA, BS, B.Eng., etc.)   \n\n                                       UndergradMajor  \\\nCountry                                                 \nUnited Kingdom                                    NaN   \nBosnia and Herzegovina                            NaN   \nThailand                Web development or web design   \n\n                                                                 EduOther  \\\nCountry                                                                     \nUnited Kingdom          Taught yourself a new language, framework, or ...   \nBosnia and Herzegovina  Taken an online course in programming or softw...   \nThailand                Taught yourself a new language, framework, or ...   \n\n                        ...                            WelcomeChange  \\\nCountry                 ...                                            \nUnited Kingdom          ...  Just as welcome now as I felt last year   \nBosnia and Herzegovina  ...  Just as welcome now as I felt last year   \nThailand                ...  Just as welcome now as I felt last year   \n\n                                                             SONewContent  \\\nCountry                                                                     \nUnited Kingdom          Tech articles written by other developers;Indu...   \nBosnia and Herzegovina  Tech articles written by other developers;Indu...   \nThailand                Tech meetups or events in your area;Courses on...   \n\n                         Age Gender Trans                Sexuality Ethnicity  \\\nCountry                                                                        \nUnited Kingdom          14.0    Man    No  Straight / Heterosexual       NaN   \nBosnia and Herzegovina  19.0    Man    No  Straight / Heterosexual       NaN   \nThailand                28.0    Man    No  Straight / Heterosexual       NaN   \n\n                       Dependents           SurveyLength  \\\nCountry                                                    \nUnited Kingdom                 No  Appropriate in length   \nBosnia and Herzegovina         No  Appropriate in length   \nThailand                      Yes  Appropriate in length   \n\n                                        SurveyEase  \nCountry                                             \nUnited Kingdom          Neither easy nor difficult  \nBosnia and Herzegovina  Neither easy nor difficult  \nThailand                Neither easy nor difficult  \n\n[3 rows x 84 columns]",
      "text/html": "<div>\n<style scoped>\n    .dataframe tbody tr th:only-of-type {\n        vertical-align: middle;\n    }\n\n    .dataframe tbody tr th {\n        vertical-align: top;\n    }\n\n    .dataframe thead th {\n        text-align: right;\n    }\n</style>\n<table border=\"1\" class=\"dataframe\">\n  <thead>\n    <tr style=\"text-align: right;\">\n      <th></th>\n      <th>Respondent</th>\n      <th>MainBranch</th>\n      <th>Hobbyist</th>\n      <th>OpenSourcer</th>\n      <th>OpenSource</th>\n      <th>Employment</th>\n      <th>Student</th>\n      <th>EdLevel</th>\n      <th>UndergradMajor</th>\n      <th>EduOther</th>\n      <th>...</th>\n      <th>WelcomeChange</th>\n      <th>SONewContent</th>\n      <th>Age</th>\n      <th>Gender</th>\n      <th>Trans</th>\n      <th>Sexuality</th>\n      <th>Ethnicity</th>\n      <th>Dependents</th>\n      <th>SurveyLength</th>\n      <th>SurveyEase</th>\n    </tr>\n    <tr>\n      <th>Country</th>\n      <th></th>\n      <th></th>\n      <th></th>\n      <th></th>\n      <th></th>\n      <th></th>\n      <th></th>\n      <th></th>\n      <th></th>\n      <th></th>\n      <th></th>\n      <th></th>\n      <th></th>\n      <th></th>\n      <th></th>\n      <th></th>\n      <th></th>\n      <th></th>\n      <th></th>\n      <th></th>\n      <th></th>\n    </tr>\n  </thead>\n  <tbody>\n    <tr>\n      <th>United Kingdom</th>\n      <td>1</td>\n      <td>I am a student who is learning to code</td>\n      <td>Yes</td>\n      <td>Never</td>\n      <td>The quality of OSS and closed source software ...</td>\n      <td>Not employed, and not looking for work</td>\n      <td>No</td>\n      <td>Primary/elementary school</td>\n      <td>NaN</td>\n      <td>Taught yourself a new language, framework, or ...</td>\n      <td>...</td>\n      <td>Just as welcome now as I felt last year</td>\n      <td>Tech articles written by other developers;Indu...</td>\n      <td>14.0</td>\n      <td>Man</td>\n      <td>No</td>\n      <td>Straight / Heterosexual</td>\n      <td>NaN</td>\n      <td>No</td>\n      <td>Appropriate in length</td>\n      <td>Neither easy nor difficult</td>\n    </tr>\n    <tr>\n      <th>Bosnia and Herzegovina</th>\n      <td>2</td>\n      <td>I am a student who is learning to code</td>\n      <td>No</td>\n      <td>Less than once per year</td>\n      <td>The quality of OSS and closed source software ...</td>\n      <td>Not employed, but looking for work</td>\n      <td>Yes, full-time</td>\n      <td>Secondary school (e.g. American high school, G...</td>\n      <td>NaN</td>\n      <td>Taken an online course in programming or softw...</td>\n      <td>...</td>\n      <td>Just as welcome now as I felt last year</td>\n      <td>Tech articles written by other developers;Indu...</td>\n      <td>19.0</td>\n      <td>Man</td>\n      <td>No</td>\n      <td>Straight / Heterosexual</td>\n      <td>NaN</td>\n      <td>No</td>\n      <td>Appropriate in length</td>\n      <td>Neither easy nor difficult</td>\n    </tr>\n    <tr>\n      <th>Thailand</th>\n      <td>3</td>\n      <td>I am not primarily a developer, but I write co...</td>\n      <td>Yes</td>\n      <td>Never</td>\n      <td>The quality of OSS and closed source software ...</td>\n      <td>Employed full-time</td>\n      <td>No</td>\n      <td>Bachelor’s degree (BA, BS, B.Eng., etc.)</td>\n      <td>Web development or web design</td>\n      <td>Taught yourself a new language, framework, or ...</td>\n      <td>...</td>\n      <td>Just as welcome now as I felt last year</td>\n      <td>Tech meetups or events in your area;Courses on...</td>\n      <td>28.0</td>\n      <td>Man</td>\n      <td>No</td>\n      <td>Straight / Heterosexual</td>\n      <td>NaN</td>\n      <td>Yes</td>\n      <td>Appropriate in length</td>\n      <td>Neither easy nor difficult</td>\n    </tr>\n  </tbody>\n</table>\n<p>3 rows × 84 columns</p>\n</div>"
     },
     "execution_count": 96,
     "metadata": {},
     "output_type": "execute_result"
    }
   ],
   "source": [
    "df.set_index('Country', inplace=True)\n",
    "\n",
    "df.head(3)"
   ]
  },
  {
   "cell_type": "markdown",
   "metadata": {},
   "source": [
    "We can also sort it alphabetically"
   ]
  },
  {
   "cell_type": "code",
   "execution_count": 97,
   "metadata": {
    "ExecuteTime": {
     "end_time": "2023-07-13T15:52:54.704815574Z",
     "start_time": "2023-07-13T15:52:54.542713200Z"
    }
   },
   "outputs": [
    {
     "data": {
      "text/plain": "             Respondent                      MainBranch Hobbyist  \\\nCountry                                                            \nAfghanistan       39258  I am a developer by profession      Yes   \nAfghanistan       63129  I am a developer by profession      Yes   \nAfghanistan       85715  I am a developer by profession       No   \n\n                         OpenSourcer  \\\nCountry                                \nAfghanistan  Less than once per year   \nAfghanistan                    Never   \nAfghanistan  Less than once per year   \n\n                                                    OpenSource  \\\nCountry                                                          \nAfghanistan  OSS is, on average, of LOWER quality than prop...   \nAfghanistan  OSS is, on average, of HIGHER quality than pro...   \nAfghanistan  The quality of OSS and closed source software ...   \n\n                     Employment         Student  \\\nCountry                                           \nAfghanistan  Employed full-time              No   \nAfghanistan  Employed full-time  Yes, full-time   \nAfghanistan  Employed full-time              No   \n\n                                              EdLevel  \\\nCountry                                                 \nAfghanistan  Bachelor’s degree (BA, BS, B.Eng., etc.)   \nAfghanistan    I never completed any formal education   \nAfghanistan  Bachelor’s degree (BA, BS, B.Eng., etc.)   \n\n                                                UndergradMajor  \\\nCountry                                                          \nAfghanistan  Computer science, computer engineering, or sof...   \nAfghanistan                                                NaN   \nAfghanistan  Information systems, information technology, o...   \n\n                                                      EduOther  ...  \\\nCountry                                                         ...   \nAfghanistan  Taken an online course in programming or softw...  ...   \nAfghanistan  Taken an online course in programming or softw...  ...   \nAfghanistan  Received on-the-job training in software devel...  ...   \n\n                                        WelcomeChange  \\\nCountry                                                 \nAfghanistan                                       NaN   \nAfghanistan                                       NaN   \nAfghanistan  Somewhat less welcome now than last year   \n\n                                                  SONewContent   Age Gender  \\\nCountry                                                                       \nAfghanistan  Tech articles written by other developers;Indu...  26.0    Man   \nAfghanistan          Tech articles written by other developers   NaN    NaN   \nAfghanistan  Tech articles written by other developers;Indu...  28.0    Man   \n\n            Trans                Sexuality               Ethnicity Dependents  \\\nCountry                                                                         \nAfghanistan    No  Straight / Heterosexual  East Asian;South Asian        Yes   \nAfghanistan   NaN                      NaN                     NaN        Yes   \nAfghanistan    No                      NaN                     NaN        Yes   \n\n            SurveyLength                  SurveyEase  \nCountry                                               \nAfghanistan     Too long                        Easy  \nAfghanistan    Too short                        Easy  \nAfghanistan     Too long  Neither easy nor difficult  \n\n[3 rows x 84 columns]",
      "text/html": "<div>\n<style scoped>\n    .dataframe tbody tr th:only-of-type {\n        vertical-align: middle;\n    }\n\n    .dataframe tbody tr th {\n        vertical-align: top;\n    }\n\n    .dataframe thead th {\n        text-align: right;\n    }\n</style>\n<table border=\"1\" class=\"dataframe\">\n  <thead>\n    <tr style=\"text-align: right;\">\n      <th></th>\n      <th>Respondent</th>\n      <th>MainBranch</th>\n      <th>Hobbyist</th>\n      <th>OpenSourcer</th>\n      <th>OpenSource</th>\n      <th>Employment</th>\n      <th>Student</th>\n      <th>EdLevel</th>\n      <th>UndergradMajor</th>\n      <th>EduOther</th>\n      <th>...</th>\n      <th>WelcomeChange</th>\n      <th>SONewContent</th>\n      <th>Age</th>\n      <th>Gender</th>\n      <th>Trans</th>\n      <th>Sexuality</th>\n      <th>Ethnicity</th>\n      <th>Dependents</th>\n      <th>SurveyLength</th>\n      <th>SurveyEase</th>\n    </tr>\n    <tr>\n      <th>Country</th>\n      <th></th>\n      <th></th>\n      <th></th>\n      <th></th>\n      <th></th>\n      <th></th>\n      <th></th>\n      <th></th>\n      <th></th>\n      <th></th>\n      <th></th>\n      <th></th>\n      <th></th>\n      <th></th>\n      <th></th>\n      <th></th>\n      <th></th>\n      <th></th>\n      <th></th>\n      <th></th>\n      <th></th>\n    </tr>\n  </thead>\n  <tbody>\n    <tr>\n      <th>Afghanistan</th>\n      <td>39258</td>\n      <td>I am a developer by profession</td>\n      <td>Yes</td>\n      <td>Less than once per year</td>\n      <td>OSS is, on average, of LOWER quality than prop...</td>\n      <td>Employed full-time</td>\n      <td>No</td>\n      <td>Bachelor’s degree (BA, BS, B.Eng., etc.)</td>\n      <td>Computer science, computer engineering, or sof...</td>\n      <td>Taken an online course in programming or softw...</td>\n      <td>...</td>\n      <td>NaN</td>\n      <td>Tech articles written by other developers;Indu...</td>\n      <td>26.0</td>\n      <td>Man</td>\n      <td>No</td>\n      <td>Straight / Heterosexual</td>\n      <td>East Asian;South Asian</td>\n      <td>Yes</td>\n      <td>Too long</td>\n      <td>Easy</td>\n    </tr>\n    <tr>\n      <th>Afghanistan</th>\n      <td>63129</td>\n      <td>I am a developer by profession</td>\n      <td>Yes</td>\n      <td>Never</td>\n      <td>OSS is, on average, of HIGHER quality than pro...</td>\n      <td>Employed full-time</td>\n      <td>Yes, full-time</td>\n      <td>I never completed any formal education</td>\n      <td>NaN</td>\n      <td>Taken an online course in programming or softw...</td>\n      <td>...</td>\n      <td>NaN</td>\n      <td>Tech articles written by other developers</td>\n      <td>NaN</td>\n      <td>NaN</td>\n      <td>NaN</td>\n      <td>NaN</td>\n      <td>NaN</td>\n      <td>Yes</td>\n      <td>Too short</td>\n      <td>Easy</td>\n    </tr>\n    <tr>\n      <th>Afghanistan</th>\n      <td>85715</td>\n      <td>I am a developer by profession</td>\n      <td>No</td>\n      <td>Less than once per year</td>\n      <td>The quality of OSS and closed source software ...</td>\n      <td>Employed full-time</td>\n      <td>No</td>\n      <td>Bachelor’s degree (BA, BS, B.Eng., etc.)</td>\n      <td>Information systems, information technology, o...</td>\n      <td>Received on-the-job training in software devel...</td>\n      <td>...</td>\n      <td>Somewhat less welcome now than last year</td>\n      <td>Tech articles written by other developers;Indu...</td>\n      <td>28.0</td>\n      <td>Man</td>\n      <td>No</td>\n      <td>NaN</td>\n      <td>NaN</td>\n      <td>Yes</td>\n      <td>Too long</td>\n      <td>Neither easy nor difficult</td>\n    </tr>\n  </tbody>\n</table>\n<p>3 rows × 84 columns</p>\n</div>"
     },
     "execution_count": 97,
     "metadata": {},
     "output_type": "execute_result"
    }
   ],
   "source": [
    "df.sort_index(inplace=True)\n",
    "\n",
    "df.head(3)"
   ]
  },
  {
   "cell_type": "markdown",
   "metadata": {},
   "source": [
    "Note that now I can't access to the orw using the previous method\n",
    "\n",
    "    df.loc[[0, 1], ['Respondent', 'MainBranch']]\n",
    "\n",
    "We can also reset to default indexing using"
   ]
  },
  {
   "cell_type": "code",
   "execution_count": 98,
   "metadata": {
    "scrolled": true,
    "ExecuteTime": {
     "end_time": "2023-07-13T15:52:59.075572152Z",
     "start_time": "2023-07-13T15:52:58.980161274Z"
    }
   },
   "outputs": [
    {
     "data": {
      "text/plain": "       Country  Respondent                      MainBranch Hobbyist  \\\n0  Afghanistan       39258  I am a developer by profession      Yes   \n1  Afghanistan       63129  I am a developer by profession      Yes   \n2  Afghanistan       85715  I am a developer by profession       No   \n\n               OpenSourcer                                         OpenSource  \\\n0  Less than once per year  OSS is, on average, of LOWER quality than prop...   \n1                    Never  OSS is, on average, of HIGHER quality than pro...   \n2  Less than once per year  The quality of OSS and closed source software ...   \n\n           Employment         Student  \\\n0  Employed full-time              No   \n1  Employed full-time  Yes, full-time   \n2  Employed full-time              No   \n\n                                    EdLevel  \\\n0  Bachelor’s degree (BA, BS, B.Eng., etc.)   \n1    I never completed any formal education   \n2  Bachelor’s degree (BA, BS, B.Eng., etc.)   \n\n                                      UndergradMajor  ...  \\\n0  Computer science, computer engineering, or sof...  ...   \n1                                                NaN  ...   \n2  Information systems, information technology, o...  ...   \n\n                              WelcomeChange  \\\n0                                       NaN   \n1                                       NaN   \n2  Somewhat less welcome now than last year   \n\n                                        SONewContent   Age Gender Trans  \\\n0  Tech articles written by other developers;Indu...  26.0    Man    No   \n1          Tech articles written by other developers   NaN    NaN   NaN   \n2  Tech articles written by other developers;Indu...  28.0    Man    No   \n\n                 Sexuality               Ethnicity Dependents SurveyLength  \\\n0  Straight / Heterosexual  East Asian;South Asian        Yes     Too long   \n1                      NaN                     NaN        Yes    Too short   \n2                      NaN                     NaN        Yes     Too long   \n\n                   SurveyEase  \n0                        Easy  \n1                        Easy  \n2  Neither easy nor difficult  \n\n[3 rows x 85 columns]",
      "text/html": "<div>\n<style scoped>\n    .dataframe tbody tr th:only-of-type {\n        vertical-align: middle;\n    }\n\n    .dataframe tbody tr th {\n        vertical-align: top;\n    }\n\n    .dataframe thead th {\n        text-align: right;\n    }\n</style>\n<table border=\"1\" class=\"dataframe\">\n  <thead>\n    <tr style=\"text-align: right;\">\n      <th></th>\n      <th>Country</th>\n      <th>Respondent</th>\n      <th>MainBranch</th>\n      <th>Hobbyist</th>\n      <th>OpenSourcer</th>\n      <th>OpenSource</th>\n      <th>Employment</th>\n      <th>Student</th>\n      <th>EdLevel</th>\n      <th>UndergradMajor</th>\n      <th>...</th>\n      <th>WelcomeChange</th>\n      <th>SONewContent</th>\n      <th>Age</th>\n      <th>Gender</th>\n      <th>Trans</th>\n      <th>Sexuality</th>\n      <th>Ethnicity</th>\n      <th>Dependents</th>\n      <th>SurveyLength</th>\n      <th>SurveyEase</th>\n    </tr>\n  </thead>\n  <tbody>\n    <tr>\n      <th>0</th>\n      <td>Afghanistan</td>\n      <td>39258</td>\n      <td>I am a developer by profession</td>\n      <td>Yes</td>\n      <td>Less than once per year</td>\n      <td>OSS is, on average, of LOWER quality than prop...</td>\n      <td>Employed full-time</td>\n      <td>No</td>\n      <td>Bachelor’s degree (BA, BS, B.Eng., etc.)</td>\n      <td>Computer science, computer engineering, or sof...</td>\n      <td>...</td>\n      <td>NaN</td>\n      <td>Tech articles written by other developers;Indu...</td>\n      <td>26.0</td>\n      <td>Man</td>\n      <td>No</td>\n      <td>Straight / Heterosexual</td>\n      <td>East Asian;South Asian</td>\n      <td>Yes</td>\n      <td>Too long</td>\n      <td>Easy</td>\n    </tr>\n    <tr>\n      <th>1</th>\n      <td>Afghanistan</td>\n      <td>63129</td>\n      <td>I am a developer by profession</td>\n      <td>Yes</td>\n      <td>Never</td>\n      <td>OSS is, on average, of HIGHER quality than pro...</td>\n      <td>Employed full-time</td>\n      <td>Yes, full-time</td>\n      <td>I never completed any formal education</td>\n      <td>NaN</td>\n      <td>...</td>\n      <td>NaN</td>\n      <td>Tech articles written by other developers</td>\n      <td>NaN</td>\n      <td>NaN</td>\n      <td>NaN</td>\n      <td>NaN</td>\n      <td>NaN</td>\n      <td>Yes</td>\n      <td>Too short</td>\n      <td>Easy</td>\n    </tr>\n    <tr>\n      <th>2</th>\n      <td>Afghanistan</td>\n      <td>85715</td>\n      <td>I am a developer by profession</td>\n      <td>No</td>\n      <td>Less than once per year</td>\n      <td>The quality of OSS and closed source software ...</td>\n      <td>Employed full-time</td>\n      <td>No</td>\n      <td>Bachelor’s degree (BA, BS, B.Eng., etc.)</td>\n      <td>Information systems, information technology, o...</td>\n      <td>...</td>\n      <td>Somewhat less welcome now than last year</td>\n      <td>Tech articles written by other developers;Indu...</td>\n      <td>28.0</td>\n      <td>Man</td>\n      <td>No</td>\n      <td>NaN</td>\n      <td>NaN</td>\n      <td>Yes</td>\n      <td>Too long</td>\n      <td>Neither easy nor difficult</td>\n    </tr>\n  </tbody>\n</table>\n<p>3 rows × 85 columns</p>\n</div>"
     },
     "execution_count": 98,
     "metadata": {},
     "output_type": "execute_result"
    }
   ],
   "source": [
    "df.reset_index(inplace=True)\n",
    "\n",
    "df.head(3)"
   ]
  },
  {
   "cell_type": "markdown",
   "metadata": {},
   "source": [
    "### Add and remove Columns and Row"
   ]
  },
  {
   "cell_type": "markdown",
   "metadata": {},
   "source": [
    "To add a column is very easy, in particular we create a column and that we attach it."
   ]
  },
  {
   "cell_type": "code",
   "execution_count": 99,
   "metadata": {
    "ExecuteTime": {
     "end_time": "2023-07-13T15:53:09.600902613Z",
     "start_time": "2023-07-13T15:53:09.467846685Z"
    }
   },
   "outputs": [
    {
     "data": {
      "text/plain": "           Country  Respondent                      MainBranch Hobbyist  \\\n0      Afghanistan       39258  I am a developer by profession      Yes   \n1      Afghanistan       63129  I am a developer by profession      Yes   \n2      Afghanistan       85715  I am a developer by profession       No   \n3      Afghanistan       50767  I am a developer by profession       No   \n4      Afghanistan        2782                             NaN      Yes   \n...            ...         ...                             ...      ...   \n88878          NaN       88062                             NaN       No   \n88879          NaN       88076                             NaN       No   \n88880          NaN       88601                             NaN       No   \n88881          NaN       88802                             NaN       No   \n88882          NaN       88816                             NaN       No   \n\n                   OpenSourcer  \\\n0      Less than once per year   \n1                        Never   \n2      Less than once per year   \n3      Less than once per year   \n4      Less than once per year   \n...                        ...   \n88878                    Never   \n88879                    Never   \n88880                    Never   \n88881                    Never   \n88882                    Never   \n\n                                              OpenSource  \\\n0      OSS is, on average, of LOWER quality than prop...   \n1      OSS is, on average, of HIGHER quality than pro...   \n2      The quality of OSS and closed source software ...   \n3                                                    NaN   \n4      OSS is, on average, of HIGHER quality than pro...   \n...                                                  ...   \n88878  OSS is, on average, of LOWER quality than prop...   \n88879  OSS is, on average, of HIGHER quality than pro...   \n88880  The quality of OSS and closed source software ...   \n88881                                                NaN   \n88882  OSS is, on average, of HIGHER quality than pro...   \n\n                                              Employment         Student  \\\n0                                     Employed full-time              No   \n1                                     Employed full-time  Yes, full-time   \n2                                     Employed full-time              No   \n3      Independent contractor, freelancer, or self-em...  Yes, part-time   \n4                                                    NaN              No   \n...                                                  ...             ...   \n88878                                                NaN             NaN   \n88879                                 Employed full-time             NaN   \n88880                                                NaN             NaN   \n88881                                 Employed full-time             NaN   \n88882  Independent contractor, freelancer, or self-em...             NaN   \n\n                                        EdLevel  \\\n0      Bachelor’s degree (BA, BS, B.Eng., etc.)   \n1        I never completed any formal education   \n2      Bachelor’s degree (BA, BS, B.Eng., etc.)   \n3                              Associate degree   \n4                                           NaN   \n...                                         ...   \n88878                                       NaN   \n88879                                       NaN   \n88880                                       NaN   \n88881                                       NaN   \n88882                                       NaN   \n\n                                          UndergradMajor  ...  \\\n0      Computer science, computer engineering, or sof...  ...   \n1                                                    NaN  ...   \n2      Information systems, information technology, o...  ...   \n3      A health science (ex. nursing, pharmacy, radio...  ...   \n4                               I never declared a major  ...   \n...                                                  ...  ...   \n88878                                                NaN  ...   \n88879                                                NaN  ...   \n88880                                                NaN  ...   \n88881                                                NaN  ...   \n88882                                                NaN  ...   \n\n                                            SONewContent   Age Gender Trans  \\\n0      Tech articles written by other developers;Indu...  26.0    Man    No   \n1              Tech articles written by other developers   NaN    NaN   NaN   \n2      Tech articles written by other developers;Indu...  28.0    Man    No   \n3                                                    NaN   NaN    NaN   NaN   \n4                                                    NaN  60.0    Man   NaN   \n...                                                  ...   ...    ...   ...   \n88878                                                NaN   NaN    NaN   NaN   \n88879                                                NaN   NaN    NaN   NaN   \n88880                                                NaN   NaN    NaN   NaN   \n88881                                                NaN   NaN    NaN   NaN   \n88882                                                NaN   NaN    NaN   NaN   \n\n                     Sexuality               Ethnicity Dependents  \\\n0      Straight / Heterosexual  East Asian;South Asian        Yes   \n1                          NaN                     NaN        Yes   \n2                          NaN                     NaN        Yes   \n3                          NaN                     NaN        NaN   \n4                          NaN                     NaN        NaN   \n...                        ...                     ...        ...   \n88878                      NaN                     NaN        NaN   \n88879                      NaN                     NaN        NaN   \n88880                      NaN                     NaN        NaN   \n88881                      NaN                     NaN        NaN   \n88882                      NaN                     NaN        NaN   \n\n                SurveyLength                  SurveyEase new_join_variable  \n0                   Too long                        Easy   Afghanistan AFN  \n1                  Too short                        Easy   Afghanistan AED  \n2                   Too long  Neither easy nor difficult   Afghanistan AFN  \n3                        NaN                         NaN   Afghanistan AMD  \n4      Appropriate in length                        Easy               NaN  \n...                      ...                         ...               ...  \n88878                    NaN                         NaN               NaN  \n88879                    NaN                         NaN               NaN  \n88880                    NaN                         NaN               NaN  \n88881                    NaN                         NaN               NaN  \n88882                    NaN                         NaN               NaN  \n\n[88883 rows x 86 columns]",
      "text/html": "<div>\n<style scoped>\n    .dataframe tbody tr th:only-of-type {\n        vertical-align: middle;\n    }\n\n    .dataframe tbody tr th {\n        vertical-align: top;\n    }\n\n    .dataframe thead th {\n        text-align: right;\n    }\n</style>\n<table border=\"1\" class=\"dataframe\">\n  <thead>\n    <tr style=\"text-align: right;\">\n      <th></th>\n      <th>Country</th>\n      <th>Respondent</th>\n      <th>MainBranch</th>\n      <th>Hobbyist</th>\n      <th>OpenSourcer</th>\n      <th>OpenSource</th>\n      <th>Employment</th>\n      <th>Student</th>\n      <th>EdLevel</th>\n      <th>UndergradMajor</th>\n      <th>...</th>\n      <th>SONewContent</th>\n      <th>Age</th>\n      <th>Gender</th>\n      <th>Trans</th>\n      <th>Sexuality</th>\n      <th>Ethnicity</th>\n      <th>Dependents</th>\n      <th>SurveyLength</th>\n      <th>SurveyEase</th>\n      <th>new_join_variable</th>\n    </tr>\n  </thead>\n  <tbody>\n    <tr>\n      <th>0</th>\n      <td>Afghanistan</td>\n      <td>39258</td>\n      <td>I am a developer by profession</td>\n      <td>Yes</td>\n      <td>Less than once per year</td>\n      <td>OSS is, on average, of LOWER quality than prop...</td>\n      <td>Employed full-time</td>\n      <td>No</td>\n      <td>Bachelor’s degree (BA, BS, B.Eng., etc.)</td>\n      <td>Computer science, computer engineering, or sof...</td>\n      <td>...</td>\n      <td>Tech articles written by other developers;Indu...</td>\n      <td>26.0</td>\n      <td>Man</td>\n      <td>No</td>\n      <td>Straight / Heterosexual</td>\n      <td>East Asian;South Asian</td>\n      <td>Yes</td>\n      <td>Too long</td>\n      <td>Easy</td>\n      <td>Afghanistan AFN</td>\n    </tr>\n    <tr>\n      <th>1</th>\n      <td>Afghanistan</td>\n      <td>63129</td>\n      <td>I am a developer by profession</td>\n      <td>Yes</td>\n      <td>Never</td>\n      <td>OSS is, on average, of HIGHER quality than pro...</td>\n      <td>Employed full-time</td>\n      <td>Yes, full-time</td>\n      <td>I never completed any formal education</td>\n      <td>NaN</td>\n      <td>...</td>\n      <td>Tech articles written by other developers</td>\n      <td>NaN</td>\n      <td>NaN</td>\n      <td>NaN</td>\n      <td>NaN</td>\n      <td>NaN</td>\n      <td>Yes</td>\n      <td>Too short</td>\n      <td>Easy</td>\n      <td>Afghanistan AED</td>\n    </tr>\n    <tr>\n      <th>2</th>\n      <td>Afghanistan</td>\n      <td>85715</td>\n      <td>I am a developer by profession</td>\n      <td>No</td>\n      <td>Less than once per year</td>\n      <td>The quality of OSS and closed source software ...</td>\n      <td>Employed full-time</td>\n      <td>No</td>\n      <td>Bachelor’s degree (BA, BS, B.Eng., etc.)</td>\n      <td>Information systems, information technology, o...</td>\n      <td>...</td>\n      <td>Tech articles written by other developers;Indu...</td>\n      <td>28.0</td>\n      <td>Man</td>\n      <td>No</td>\n      <td>NaN</td>\n      <td>NaN</td>\n      <td>Yes</td>\n      <td>Too long</td>\n      <td>Neither easy nor difficult</td>\n      <td>Afghanistan AFN</td>\n    </tr>\n    <tr>\n      <th>3</th>\n      <td>Afghanistan</td>\n      <td>50767</td>\n      <td>I am a developer by profession</td>\n      <td>No</td>\n      <td>Less than once per year</td>\n      <td>NaN</td>\n      <td>Independent contractor, freelancer, or self-em...</td>\n      <td>Yes, part-time</td>\n      <td>Associate degree</td>\n      <td>A health science (ex. nursing, pharmacy, radio...</td>\n      <td>...</td>\n      <td>NaN</td>\n      <td>NaN</td>\n      <td>NaN</td>\n      <td>NaN</td>\n      <td>NaN</td>\n      <td>NaN</td>\n      <td>NaN</td>\n      <td>NaN</td>\n      <td>NaN</td>\n      <td>Afghanistan AMD</td>\n    </tr>\n    <tr>\n      <th>4</th>\n      <td>Afghanistan</td>\n      <td>2782</td>\n      <td>NaN</td>\n      <td>Yes</td>\n      <td>Less than once per year</td>\n      <td>OSS is, on average, of HIGHER quality than pro...</td>\n      <td>NaN</td>\n      <td>No</td>\n      <td>NaN</td>\n      <td>I never declared a major</td>\n      <td>...</td>\n      <td>NaN</td>\n      <td>60.0</td>\n      <td>Man</td>\n      <td>NaN</td>\n      <td>NaN</td>\n      <td>NaN</td>\n      <td>NaN</td>\n      <td>Appropriate in length</td>\n      <td>Easy</td>\n      <td>NaN</td>\n    </tr>\n    <tr>\n      <th>...</th>\n      <td>...</td>\n      <td>...</td>\n      <td>...</td>\n      <td>...</td>\n      <td>...</td>\n      <td>...</td>\n      <td>...</td>\n      <td>...</td>\n      <td>...</td>\n      <td>...</td>\n      <td>...</td>\n      <td>...</td>\n      <td>...</td>\n      <td>...</td>\n      <td>...</td>\n      <td>...</td>\n      <td>...</td>\n      <td>...</td>\n      <td>...</td>\n      <td>...</td>\n      <td>...</td>\n    </tr>\n    <tr>\n      <th>88878</th>\n      <td>NaN</td>\n      <td>88062</td>\n      <td>NaN</td>\n      <td>No</td>\n      <td>Never</td>\n      <td>OSS is, on average, of LOWER quality than prop...</td>\n      <td>NaN</td>\n      <td>NaN</td>\n      <td>NaN</td>\n      <td>NaN</td>\n      <td>...</td>\n      <td>NaN</td>\n      <td>NaN</td>\n      <td>NaN</td>\n      <td>NaN</td>\n      <td>NaN</td>\n      <td>NaN</td>\n      <td>NaN</td>\n      <td>NaN</td>\n      <td>NaN</td>\n      <td>NaN</td>\n    </tr>\n    <tr>\n      <th>88879</th>\n      <td>NaN</td>\n      <td>88076</td>\n      <td>NaN</td>\n      <td>No</td>\n      <td>Never</td>\n      <td>OSS is, on average, of HIGHER quality than pro...</td>\n      <td>Employed full-time</td>\n      <td>NaN</td>\n      <td>NaN</td>\n      <td>NaN</td>\n      <td>...</td>\n      <td>NaN</td>\n      <td>NaN</td>\n      <td>NaN</td>\n      <td>NaN</td>\n      <td>NaN</td>\n      <td>NaN</td>\n      <td>NaN</td>\n      <td>NaN</td>\n      <td>NaN</td>\n      <td>NaN</td>\n    </tr>\n    <tr>\n      <th>88880</th>\n      <td>NaN</td>\n      <td>88601</td>\n      <td>NaN</td>\n      <td>No</td>\n      <td>Never</td>\n      <td>The quality of OSS and closed source software ...</td>\n      <td>NaN</td>\n      <td>NaN</td>\n      <td>NaN</td>\n      <td>NaN</td>\n      <td>...</td>\n      <td>NaN</td>\n      <td>NaN</td>\n      <td>NaN</td>\n      <td>NaN</td>\n      <td>NaN</td>\n      <td>NaN</td>\n      <td>NaN</td>\n      <td>NaN</td>\n      <td>NaN</td>\n      <td>NaN</td>\n    </tr>\n    <tr>\n      <th>88881</th>\n      <td>NaN</td>\n      <td>88802</td>\n      <td>NaN</td>\n      <td>No</td>\n      <td>Never</td>\n      <td>NaN</td>\n      <td>Employed full-time</td>\n      <td>NaN</td>\n      <td>NaN</td>\n      <td>NaN</td>\n      <td>...</td>\n      <td>NaN</td>\n      <td>NaN</td>\n      <td>NaN</td>\n      <td>NaN</td>\n      <td>NaN</td>\n      <td>NaN</td>\n      <td>NaN</td>\n      <td>NaN</td>\n      <td>NaN</td>\n      <td>NaN</td>\n    </tr>\n    <tr>\n      <th>88882</th>\n      <td>NaN</td>\n      <td>88816</td>\n      <td>NaN</td>\n      <td>No</td>\n      <td>Never</td>\n      <td>OSS is, on average, of HIGHER quality than pro...</td>\n      <td>Independent contractor, freelancer, or self-em...</td>\n      <td>NaN</td>\n      <td>NaN</td>\n      <td>NaN</td>\n      <td>...</td>\n      <td>NaN</td>\n      <td>NaN</td>\n      <td>NaN</td>\n      <td>NaN</td>\n      <td>NaN</td>\n      <td>NaN</td>\n      <td>NaN</td>\n      <td>NaN</td>\n      <td>NaN</td>\n      <td>NaN</td>\n    </tr>\n  </tbody>\n</table>\n<p>88883 rows × 86 columns</p>\n</div>"
     },
     "execution_count": 99,
     "metadata": {},
     "output_type": "execute_result"
    }
   ],
   "source": [
    "df['new_join_variable'] = df['Country'] + ' ' + df['CurrencySymbol']\n",
    "\n",
    "df"
   ]
  },
  {
   "cell_type": "markdown",
   "metadata": {},
   "source": [
    "We can so delate the column that we don't need using"
   ]
  },
  {
   "cell_type": "code",
   "execution_count": 100,
   "metadata": {
    "ExecuteTime": {
     "end_time": "2023-07-13T15:53:19.781085771Z",
     "start_time": "2023-07-13T15:53:19.636221242Z"
    }
   },
   "outputs": [],
   "source": [
    "df.drop(columns=['OpenSourcer', 'CurrencySymbol'], inplace=True)"
   ]
  },
  {
   "cell_type": "markdown",
   "metadata": {},
   "source": [
    "And also split the new joit variable in the variable of before"
   ]
  },
  {
   "cell_type": "code",
   "execution_count": 101,
   "metadata": {
    "ExecuteTime": {
     "end_time": "2023-07-13T15:53:31.469257991Z",
     "start_time": "2023-07-13T15:53:31.316437437Z"
    }
   },
   "outputs": [],
   "source": [
    "# Not running sine we got some NaN value inside\n",
    "#df[['Country', 'CurrencySymbol']] = df['new_join_variable'].str.split(' ', expand=True)"
   ]
  },
  {
   "cell_type": "markdown",
   "metadata": {},
   "source": [
    "We can append also a value of a column and all the other value with NaN. And this will append a row at the end of the dataset."
   ]
  },
  {
   "cell_type": "code",
   "execution_count": 102,
   "metadata": {
    "ExecuteTime": {
     "end_time": "2023-07-13T15:53:44.305898372Z",
     "start_time": "2023-07-13T15:53:44.176321085Z"
    }
   },
   "outputs": [
    {
     "name": "stderr",
     "output_type": "stream",
     "text": [
      "/tmp/ipykernel_1229936/2183142077.py:1: FutureWarning: The frame.append method is deprecated and will be removed from pandas in a future version. Use pandas.concat instead.\n",
      "  df = df.append({'Country': 'Bergamo'}, ignore_index=True)\n"
     ]
    }
   ],
   "source": [
    "df = df.append({'Country': 'Bergamo'}, ignore_index=True)"
   ]
  },
  {
   "cell_type": "markdown",
   "metadata": {},
   "source": [
    "We can also append dataset under dataset, using this syntax\n",
    "\n",
    "    df = df.append(df2, ignore_index=True, sort=False)\n",
    "    \n",
    "We can also drop a column using drop and the index that we want to drop."
   ]
  },
  {
   "cell_type": "code",
   "execution_count": 103,
   "metadata": {
    "ExecuteTime": {
     "end_time": "2023-07-13T15:53:47.071612265Z",
     "start_time": "2023-07-13T15:53:46.947831093Z"
    }
   },
   "outputs": [],
   "source": [
    "df = df.drop(index=4)"
   ]
  },
  {
   "cell_type": "markdown",
   "metadata": {},
   "source": [
    "And I can use the drop function for drop the row that don't respect a filter. In this case we will use the following syntax.\n",
    "\n",
    "    df = df.drop(index=df[filt].index)"
   ]
  },
  {
   "cell_type": "markdown",
   "metadata": {},
   "source": [
    "### Filtering the Dataset\n",
    "\n",
    "We can filter data, for example"
   ]
  },
  {
   "cell_type": "code",
   "execution_count": 104,
   "metadata": {
    "ExecuteTime": {
     "end_time": "2023-07-13T15:53:53.247512484Z",
     "start_time": "2023-07-13T15:53:53.166854325Z"
    }
   },
   "outputs": [
    {
     "data": {
      "text/plain": "0         True\n1        False\n2        False\n3        False\n5        False\n         ...  \n88879    False\n88880    False\n88881    False\n88882    False\n88883    False\nName: Age, Length: 88883, dtype: bool"
     },
     "execution_count": 104,
     "metadata": {},
     "output_type": "execute_result"
    }
   ],
   "source": [
    "df['Age'] == 26.0"
   ]
  },
  {
   "cell_type": "markdown",
   "metadata": {},
   "source": [
    "And we get back where the condition is true and where is not.\n",
    "\n",
    "If we want the dataframe back with only the value that met the filter criteria. So I create a variable containing the filter and that i use the loc function"
   ]
  },
  {
   "cell_type": "code",
   "execution_count": 105,
   "metadata": {
    "ExecuteTime": {
     "end_time": "2023-07-13T15:53:56.539621519Z",
     "start_time": "2023-07-13T15:53:56.480741256Z"
    }
   },
   "outputs": [],
   "source": [
    "filt = df['Age'] == 26.0"
   ]
  },
  {
   "cell_type": "code",
   "execution_count": 106,
   "metadata": {
    "ExecuteTime": {
     "end_time": "2023-07-13T15:53:57.215535796Z",
     "start_time": "2023-07-13T15:53:57.038634967Z"
    }
   },
   "outputs": [
    {
     "data": {
      "text/plain": "           Country  Respondent  \\\n0      Afghanistan     39258.0   \n22     Afghanistan      7085.0   \n38     Afghanistan     29736.0   \n41     Afghanistan     58450.0   \n44         Albania     78817.0   \n...            ...         ...   \n88721     Zimbabwe     11057.0   \n88726     Zimbabwe     54719.0   \n88728     Zimbabwe     47247.0   \n88729     Zimbabwe     48100.0   \n88750     Zimbabwe     61083.0   \n\n                                              MainBranch Hobbyist  \\\n0                         I am a developer by profession      Yes   \n22                        I am a developer by profession      Yes   \n38                        I am a developer by profession      Yes   \n41                        I am a developer by profession      Yes   \n44                        I am a developer by profession      Yes   \n...                                                  ...      ...   \n88721                        I code primarily as a hobby      Yes   \n88726                     I am a developer by profession      Yes   \n88728  I am not primarily a developer, but I write co...       No   \n88729                        I code primarily as a hobby      Yes   \n88750             I am a student who is learning to code      Yes   \n\n                                              OpenSource  \\\n0      OSS is, on average, of LOWER quality than prop...   \n22     The quality of OSS and closed source software ...   \n38     OSS is, on average, of HIGHER quality than pro...   \n41     OSS is, on average, of HIGHER quality than pro...   \n44     OSS is, on average, of LOWER quality than prop...   \n...                                                  ...   \n88721  The quality of OSS and closed source software ...   \n88726  The quality of OSS and closed source software ...   \n88728  The quality of OSS and closed source software ...   \n88729  OSS is, on average, of HIGHER quality than pro...   \n88750  OSS is, on average, of HIGHER quality than pro...   \n\n                                              Employment         Student  \\\n0                                     Employed full-time              No   \n22     Independent contractor, freelancer, or self-em...              No   \n38                                    Employed full-time  Yes, part-time   \n41                                    Employed full-time              No   \n44                                    Employed full-time              No   \n...                                                  ...             ...   \n88721                                 Employed full-time              No   \n88726                                 Employed full-time              No   \n88728  Independent contractor, freelancer, or self-em...  Yes, full-time   \n88729  Independent contractor, freelancer, or self-em...              No   \n88750                 Not employed, but looking for work  Yes, part-time   \n\n                                                 EdLevel  \\\n0               Bachelor’s degree (BA, BS, B.Eng., etc.)   \n22              Bachelor’s degree (BA, BS, B.Eng., etc.)   \n38                             Primary/elementary school   \n41              Bachelor’s degree (BA, BS, B.Eng., etc.)   \n44              Bachelor’s degree (BA, BS, B.Eng., etc.)   \n...                                                  ...   \n88721           Bachelor’s degree (BA, BS, B.Eng., etc.)   \n88726           Bachelor’s degree (BA, BS, B.Eng., etc.)   \n88728           Bachelor’s degree (BA, BS, B.Eng., etc.)   \n88729  Secondary school (e.g. American high school, G...   \n88750  Some college/university study without earning ...   \n\n                                          UndergradMajor  \\\n0      Computer science, computer engineering, or sof...   \n22     Computer science, computer engineering, or sof...   \n38                                                   NaN   \n41     Computer science, computer engineering, or sof...   \n44     Computer science, computer engineering, or sof...   \n...                                                  ...   \n88721  Another engineering discipline (ex. civil, ele...   \n88726  Another engineering discipline (ex. civil, ele...   \n88728  Computer science, computer engineering, or sof...   \n88729                                                NaN   \n88750  Computer science, computer engineering, or sof...   \n\n                                                EduOther  ...  \\\n0      Taken an online course in programming or softw...  ...   \n22     Taught yourself a new language, framework, or ...  ...   \n38     Taken an online course in programming or softw...  ...   \n41     Taken an online course in programming or softw...  ...   \n44     Taught yourself a new language, framework, or ...  ...   \n...                                                  ...  ...   \n88721  Taught yourself a new language, framework, or ...  ...   \n88726  Taught yourself a new language, framework, or ...  ...   \n88728  Taken an online course in programming or softw...  ...   \n88729  Taken an online course in programming or softw...  ...   \n88750  Taken an online course in programming or softw...  ...   \n\n                                            SONewContent   Age Gender Trans  \\\n0      Tech articles written by other developers;Indu...  26.0    Man    No   \n22     Industry news about technologies you're intere...  26.0    Man   NaN   \n38          Courses on technologies you're interested in  26.0    Man    No   \n41             Tech articles written by other developers  26.0    Man    No   \n44     Tech articles written by other developers;Cour...  26.0    Man    No   \n...                                                  ...   ...    ...   ...   \n88721                Tech meetups or events in your area  26.0    Man    No   \n88726  Tech articles written by other developers;Indu...  26.0    Man   NaN   \n88728  Tech articles written by other developers;Indu...  26.0    Man    No   \n88729  Tech articles written by other developers;Indu...  26.0    Man    No   \n88750  Tech articles written by other developers;Indu...  26.0    Man   NaN   \n\n                     Sexuality                     Ethnicity Dependents  \\\n0      Straight / Heterosexual        East Asian;South Asian        Yes   \n22     Straight / Heterosexual                    East Asian        Yes   \n38                         NaN                           NaN        Yes   \n41     Straight / Heterosexual                   South Asian         No   \n44                         NaN  White or of European descent         No   \n...                        ...                           ...        ...   \n88721  Straight / Heterosexual   Black or of African descent        Yes   \n88726                      NaN   Black or of African descent        Yes   \n88728  Straight / Heterosexual   Black or of African descent        Yes   \n88729  Straight / Heterosexual   Black or of African descent         No   \n88750                      NaN   Black or of African descent        Yes   \n\n                SurveyLength                  SurveyEase new_join_variable  \n0                   Too long                        Easy   Afghanistan AFN  \n22     Appropriate in length  Neither easy nor difficult   Afghanistan AFN  \n38                  Too long                        Easy   Afghanistan AFN  \n41                  Too long  Neither easy nor difficult   Afghanistan AFN  \n44     Appropriate in length                        Easy       Albania ALL  \n...                      ...                         ...               ...  \n88721               Too long                        Easy               NaN  \n88726               Too long                         NaN      Zimbabwe USD  \n88728               Too long  Neither easy nor difficult      Zimbabwe USD  \n88729  Appropriate in length                        Easy               NaN  \n88750               Too long  Neither easy nor difficult               NaN  \n\n[4397 rows x 84 columns]",
      "text/html": "<div>\n<style scoped>\n    .dataframe tbody tr th:only-of-type {\n        vertical-align: middle;\n    }\n\n    .dataframe tbody tr th {\n        vertical-align: top;\n    }\n\n    .dataframe thead th {\n        text-align: right;\n    }\n</style>\n<table border=\"1\" class=\"dataframe\">\n  <thead>\n    <tr style=\"text-align: right;\">\n      <th></th>\n      <th>Country</th>\n      <th>Respondent</th>\n      <th>MainBranch</th>\n      <th>Hobbyist</th>\n      <th>OpenSource</th>\n      <th>Employment</th>\n      <th>Student</th>\n      <th>EdLevel</th>\n      <th>UndergradMajor</th>\n      <th>EduOther</th>\n      <th>...</th>\n      <th>SONewContent</th>\n      <th>Age</th>\n      <th>Gender</th>\n      <th>Trans</th>\n      <th>Sexuality</th>\n      <th>Ethnicity</th>\n      <th>Dependents</th>\n      <th>SurveyLength</th>\n      <th>SurveyEase</th>\n      <th>new_join_variable</th>\n    </tr>\n  </thead>\n  <tbody>\n    <tr>\n      <th>0</th>\n      <td>Afghanistan</td>\n      <td>39258.0</td>\n      <td>I am a developer by profession</td>\n      <td>Yes</td>\n      <td>OSS is, on average, of LOWER quality than prop...</td>\n      <td>Employed full-time</td>\n      <td>No</td>\n      <td>Bachelor’s degree (BA, BS, B.Eng., etc.)</td>\n      <td>Computer science, computer engineering, or sof...</td>\n      <td>Taken an online course in programming or softw...</td>\n      <td>...</td>\n      <td>Tech articles written by other developers;Indu...</td>\n      <td>26.0</td>\n      <td>Man</td>\n      <td>No</td>\n      <td>Straight / Heterosexual</td>\n      <td>East Asian;South Asian</td>\n      <td>Yes</td>\n      <td>Too long</td>\n      <td>Easy</td>\n      <td>Afghanistan AFN</td>\n    </tr>\n    <tr>\n      <th>22</th>\n      <td>Afghanistan</td>\n      <td>7085.0</td>\n      <td>I am a developer by profession</td>\n      <td>Yes</td>\n      <td>The quality of OSS and closed source software ...</td>\n      <td>Independent contractor, freelancer, or self-em...</td>\n      <td>No</td>\n      <td>Bachelor’s degree (BA, BS, B.Eng., etc.)</td>\n      <td>Computer science, computer engineering, or sof...</td>\n      <td>Taught yourself a new language, framework, or ...</td>\n      <td>...</td>\n      <td>Industry news about technologies you're intere...</td>\n      <td>26.0</td>\n      <td>Man</td>\n      <td>NaN</td>\n      <td>Straight / Heterosexual</td>\n      <td>East Asian</td>\n      <td>Yes</td>\n      <td>Appropriate in length</td>\n      <td>Neither easy nor difficult</td>\n      <td>Afghanistan AFN</td>\n    </tr>\n    <tr>\n      <th>38</th>\n      <td>Afghanistan</td>\n      <td>29736.0</td>\n      <td>I am a developer by profession</td>\n      <td>Yes</td>\n      <td>OSS is, on average, of HIGHER quality than pro...</td>\n      <td>Employed full-time</td>\n      <td>Yes, part-time</td>\n      <td>Primary/elementary school</td>\n      <td>NaN</td>\n      <td>Taken an online course in programming or softw...</td>\n      <td>...</td>\n      <td>Courses on technologies you're interested in</td>\n      <td>26.0</td>\n      <td>Man</td>\n      <td>No</td>\n      <td>NaN</td>\n      <td>NaN</td>\n      <td>Yes</td>\n      <td>Too long</td>\n      <td>Easy</td>\n      <td>Afghanistan AFN</td>\n    </tr>\n    <tr>\n      <th>41</th>\n      <td>Afghanistan</td>\n      <td>58450.0</td>\n      <td>I am a developer by profession</td>\n      <td>Yes</td>\n      <td>OSS is, on average, of HIGHER quality than pro...</td>\n      <td>Employed full-time</td>\n      <td>No</td>\n      <td>Bachelor’s degree (BA, BS, B.Eng., etc.)</td>\n      <td>Computer science, computer engineering, or sof...</td>\n      <td>Taken an online course in programming or softw...</td>\n      <td>...</td>\n      <td>Tech articles written by other developers</td>\n      <td>26.0</td>\n      <td>Man</td>\n      <td>No</td>\n      <td>Straight / Heterosexual</td>\n      <td>South Asian</td>\n      <td>No</td>\n      <td>Too long</td>\n      <td>Neither easy nor difficult</td>\n      <td>Afghanistan AFN</td>\n    </tr>\n    <tr>\n      <th>44</th>\n      <td>Albania</td>\n      <td>78817.0</td>\n      <td>I am a developer by profession</td>\n      <td>Yes</td>\n      <td>OSS is, on average, of LOWER quality than prop...</td>\n      <td>Employed full-time</td>\n      <td>No</td>\n      <td>Bachelor’s degree (BA, BS, B.Eng., etc.)</td>\n      <td>Computer science, computer engineering, or sof...</td>\n      <td>Taught yourself a new language, framework, or ...</td>\n      <td>...</td>\n      <td>Tech articles written by other developers;Cour...</td>\n      <td>26.0</td>\n      <td>Man</td>\n      <td>No</td>\n      <td>NaN</td>\n      <td>White or of European descent</td>\n      <td>No</td>\n      <td>Appropriate in length</td>\n      <td>Easy</td>\n      <td>Albania ALL</td>\n    </tr>\n    <tr>\n      <th>...</th>\n      <td>...</td>\n      <td>...</td>\n      <td>...</td>\n      <td>...</td>\n      <td>...</td>\n      <td>...</td>\n      <td>...</td>\n      <td>...</td>\n      <td>...</td>\n      <td>...</td>\n      <td>...</td>\n      <td>...</td>\n      <td>...</td>\n      <td>...</td>\n      <td>...</td>\n      <td>...</td>\n      <td>...</td>\n      <td>...</td>\n      <td>...</td>\n      <td>...</td>\n      <td>...</td>\n    </tr>\n    <tr>\n      <th>88721</th>\n      <td>Zimbabwe</td>\n      <td>11057.0</td>\n      <td>I code primarily as a hobby</td>\n      <td>Yes</td>\n      <td>The quality of OSS and closed source software ...</td>\n      <td>Employed full-time</td>\n      <td>No</td>\n      <td>Bachelor’s degree (BA, BS, B.Eng., etc.)</td>\n      <td>Another engineering discipline (ex. civil, ele...</td>\n      <td>Taught yourself a new language, framework, or ...</td>\n      <td>...</td>\n      <td>Tech meetups or events in your area</td>\n      <td>26.0</td>\n      <td>Man</td>\n      <td>No</td>\n      <td>Straight / Heterosexual</td>\n      <td>Black or of African descent</td>\n      <td>Yes</td>\n      <td>Too long</td>\n      <td>Easy</td>\n      <td>NaN</td>\n    </tr>\n    <tr>\n      <th>88726</th>\n      <td>Zimbabwe</td>\n      <td>54719.0</td>\n      <td>I am a developer by profession</td>\n      <td>Yes</td>\n      <td>The quality of OSS and closed source software ...</td>\n      <td>Employed full-time</td>\n      <td>No</td>\n      <td>Bachelor’s degree (BA, BS, B.Eng., etc.)</td>\n      <td>Another engineering discipline (ex. civil, ele...</td>\n      <td>Taught yourself a new language, framework, or ...</td>\n      <td>...</td>\n      <td>Tech articles written by other developers;Indu...</td>\n      <td>26.0</td>\n      <td>Man</td>\n      <td>NaN</td>\n      <td>NaN</td>\n      <td>Black or of African descent</td>\n      <td>Yes</td>\n      <td>Too long</td>\n      <td>NaN</td>\n      <td>Zimbabwe USD</td>\n    </tr>\n    <tr>\n      <th>88728</th>\n      <td>Zimbabwe</td>\n      <td>47247.0</td>\n      <td>I am not primarily a developer, but I write co...</td>\n      <td>No</td>\n      <td>The quality of OSS and closed source software ...</td>\n      <td>Independent contractor, freelancer, or self-em...</td>\n      <td>Yes, full-time</td>\n      <td>Bachelor’s degree (BA, BS, B.Eng., etc.)</td>\n      <td>Computer science, computer engineering, or sof...</td>\n      <td>Taken an online course in programming or softw...</td>\n      <td>...</td>\n      <td>Tech articles written by other developers;Indu...</td>\n      <td>26.0</td>\n      <td>Man</td>\n      <td>No</td>\n      <td>Straight / Heterosexual</td>\n      <td>Black or of African descent</td>\n      <td>Yes</td>\n      <td>Too long</td>\n      <td>Neither easy nor difficult</td>\n      <td>Zimbabwe USD</td>\n    </tr>\n    <tr>\n      <th>88729</th>\n      <td>Zimbabwe</td>\n      <td>48100.0</td>\n      <td>I code primarily as a hobby</td>\n      <td>Yes</td>\n      <td>OSS is, on average, of HIGHER quality than pro...</td>\n      <td>Independent contractor, freelancer, or self-em...</td>\n      <td>No</td>\n      <td>Secondary school (e.g. American high school, G...</td>\n      <td>NaN</td>\n      <td>Taken an online course in programming or softw...</td>\n      <td>...</td>\n      <td>Tech articles written by other developers;Indu...</td>\n      <td>26.0</td>\n      <td>Man</td>\n      <td>No</td>\n      <td>Straight / Heterosexual</td>\n      <td>Black or of African descent</td>\n      <td>No</td>\n      <td>Appropriate in length</td>\n      <td>Easy</td>\n      <td>NaN</td>\n    </tr>\n    <tr>\n      <th>88750</th>\n      <td>Zimbabwe</td>\n      <td>61083.0</td>\n      <td>I am a student who is learning to code</td>\n      <td>Yes</td>\n      <td>OSS is, on average, of HIGHER quality than pro...</td>\n      <td>Not employed, but looking for work</td>\n      <td>Yes, part-time</td>\n      <td>Some college/university study without earning ...</td>\n      <td>Computer science, computer engineering, or sof...</td>\n      <td>Taken an online course in programming or softw...</td>\n      <td>...</td>\n      <td>Tech articles written by other developers;Indu...</td>\n      <td>26.0</td>\n      <td>Man</td>\n      <td>NaN</td>\n      <td>NaN</td>\n      <td>Black or of African descent</td>\n      <td>Yes</td>\n      <td>Too long</td>\n      <td>Neither easy nor difficult</td>\n      <td>NaN</td>\n    </tr>\n  </tbody>\n</table>\n<p>4397 rows × 84 columns</p>\n</div>"
     },
     "execution_count": 106,
     "metadata": {},
     "output_type": "execute_result"
    }
   ],
   "source": [
    "df.loc[filt]"
   ]
  },
  {
   "cell_type": "markdown",
   "metadata": {},
   "source": [
    "Or more sophisticated example as"
   ]
  },
  {
   "cell_type": "code",
   "execution_count": 107,
   "metadata": {
    "ExecuteTime": {
     "end_time": "2023-07-13T15:54:06.512780782Z",
     "start_time": "2023-07-13T15:54:06.350122311Z"
    }
   },
   "outputs": [],
   "source": [
    "filt = df['LanguageWorkedWith'].str.contains('Python', na=False)"
   ]
  },
  {
   "cell_type": "code",
   "execution_count": 108,
   "metadata": {
    "ExecuteTime": {
     "end_time": "2023-07-13T15:54:07.275709147Z",
     "start_time": "2023-07-13T15:54:07.149969093Z"
    }
   },
   "outputs": [
    {
     "data": {
      "text/plain": "           Country  Respondent  \\\n7      Afghanistan     40000.0   \n8      Afghanistan     88731.0   \n10     Afghanistan     10746.0   \n26     Afghanistan     74386.0   \n27     Afghanistan     29045.0   \n...            ...         ...   \n88729     Zimbabwe     48100.0   \n88732     Zimbabwe      6486.0   \n88737     Zimbabwe      5110.0   \n88743     Zimbabwe      2530.0   \n88749     Zimbabwe     57894.0   \n\n                                              MainBranch Hobbyist  \\\n7                 I am a student who is learning to code      Yes   \n8                            I code primarily as a hobby      Yes   \n10                        I am a developer by profession      Yes   \n26                I am a student who is learning to code      Yes   \n27     I am not primarily a developer, but I write co...       No   \n...                                                  ...      ...   \n88729                        I code primarily as a hobby      Yes   \n88732             I am a student who is learning to code      Yes   \n88737  I am not primarily a developer, but I write co...      Yes   \n88743                     I am a developer by profession      Yes   \n88749             I am a student who is learning to code      Yes   \n\n                                              OpenSource  \\\n7      The quality of OSS and closed source software ...   \n8      OSS is, on average, of LOWER quality than prop...   \n10     OSS is, on average, of HIGHER quality than pro...   \n26     OSS is, on average, of HIGHER quality than pro...   \n27     OSS is, on average, of HIGHER quality than pro...   \n...                                                  ...   \n88729  OSS is, on average, of HIGHER quality than pro...   \n88732  OSS is, on average, of HIGHER quality than pro...   \n88737  OSS is, on average, of HIGHER quality than pro...   \n88743  OSS is, on average, of LOWER quality than prop...   \n88749                                                NaN   \n\n                                              Employment         Student  \\\n7                 Not employed, and not looking for work  Yes, full-time   \n8                                                    NaN              No   \n10                                    Employed full-time              No   \n26                                    Employed part-time  Yes, part-time   \n27                                    Employed full-time  Yes, part-time   \n...                                                  ...             ...   \n88729  Independent contractor, freelancer, or self-em...              No   \n88732                                 Employed part-time  Yes, full-time   \n88737                                 Employed full-time  Yes, full-time   \n88743                                 Employed full-time  Yes, full-time   \n88749                                                NaN  Yes, full-time   \n\n                                                 EdLevel  \\\n7      Secondary school (e.g. American high school, G...   \n8                              Primary/elementary school   \n10              Bachelor’s degree (BA, BS, B.Eng., etc.)   \n26                                      Associate degree   \n27                                      Associate degree   \n...                                                  ...   \n88729  Secondary school (e.g. American high school, G...   \n88732  Secondary school (e.g. American high school, G...   \n88737  Some college/university study without earning ...   \n88743           Bachelor’s degree (BA, BS, B.Eng., etc.)   \n88749  Secondary school (e.g. American high school, G...   \n\n                                          UndergradMajor  \\\n7                                                    NaN   \n8                                                    NaN   \n10     Information systems, information technology, o...   \n26     Information systems, information technology, o...   \n27     Another engineering discipline (ex. civil, ele...   \n...                                                  ...   \n88729                                                NaN   \n88732                                                NaN   \n88737  Computer science, computer engineering, or sof...   \n88743  Information systems, information technology, o...   \n88749                                                NaN   \n\n                                                EduOther  ...  \\\n7      Taught yourself a new language, framework, or ...  ...   \n8      Taken a part-time in-person course in programm...  ...   \n10     Taken a part-time in-person course in programm...  ...   \n26     Taken an online course in programming or softw...  ...   \n27     Participated in a full-time developer training...  ...   \n...                                                  ...  ...   \n88729  Taken an online course in programming or softw...  ...   \n88732  Participated in a full-time developer training...  ...   \n88737  Taken an online course in programming or softw...  ...   \n88743  Taught yourself a new language, framework, or ...  ...   \n88749                                                NaN  ...   \n\n                                            SONewContent   Age  \\\n7      Tech articles written by other developers;Indu...   NaN   \n8      Tech articles written by other developers;Cour...   NaN   \n10     Tech articles written by other developers;Tech...  24.0   \n26     Tech articles written by other developers;Indu...  23.0   \n27     Tech articles written by other developers;Indu...   NaN   \n...                                                  ...   ...   \n88729  Tech articles written by other developers;Indu...  26.0   \n88732  Tech articles written by other developers;Indu...  21.0   \n88737  Tech articles written by other developers;Indu...  23.0   \n88743  Tech articles written by other developers;Indu...   NaN   \n88749  Tech articles written by other developers;Indu...  21.0   \n\n                                                  Gender Trans  \\\n7                                                    NaN    No   \n8                                                    Man    No   \n10                                                   Man    No   \n26                                                   Man    No   \n27     Woman;Man;Non-binary, genderqueer, or gender n...    No   \n...                                                  ...   ...   \n88729                                                Man    No   \n88732                                              Woman    No   \n88737                                                Man    No   \n88743                                                Man    No   \n88749                                                Man   NaN   \n\n                     Sexuality  \\\n7                          NaN   \n8                          NaN   \n10                         NaN   \n26     Straight / Heterosexual   \n27     Bisexual;Gay or Lesbian   \n...                        ...   \n88729  Straight / Heterosexual   \n88732  Straight / Heterosexual   \n88737  Straight / Heterosexual   \n88743  Straight / Heterosexual   \n88749  Straight / Heterosexual   \n\n                                               Ethnicity Dependents  \\\n7                                                    NaN        NaN   \n8                                                    NaN         No   \n10                                           South Asian        NaN   \n26                                                   NaN        Yes   \n27     Black or of African descent;East Asian;Hispani...        NaN   \n...                                                  ...        ...   \n88729                        Black or of African descent         No   \n88732                        Black or of African descent         No   \n88737                        Black or of African descent        Yes   \n88743                        Black or of African descent        Yes   \n88749                        Black or of African descent         No   \n\n                SurveyLength                  SurveyEase new_join_variable  \n7      Appropriate in length                        Easy               NaN  \n8      Appropriate in length                        Easy               NaN  \n10     Appropriate in length  Neither easy nor difficult   Afghanistan AFN  \n26                  Too long                        Easy               NaN  \n27                 Too short  Neither easy nor difficult   Afghanistan ANG  \n...                      ...                         ...               ...  \n88729  Appropriate in length                        Easy               NaN  \n88732  Appropriate in length                        Easy               NaN  \n88737  Appropriate in length  Neither easy nor difficult      Zimbabwe USD  \n88743               Too long                        Easy      Zimbabwe USD  \n88749               Too long  Neither easy nor difficult               NaN  \n\n[36443 rows x 84 columns]",
      "text/html": "<div>\n<style scoped>\n    .dataframe tbody tr th:only-of-type {\n        vertical-align: middle;\n    }\n\n    .dataframe tbody tr th {\n        vertical-align: top;\n    }\n\n    .dataframe thead th {\n        text-align: right;\n    }\n</style>\n<table border=\"1\" class=\"dataframe\">\n  <thead>\n    <tr style=\"text-align: right;\">\n      <th></th>\n      <th>Country</th>\n      <th>Respondent</th>\n      <th>MainBranch</th>\n      <th>Hobbyist</th>\n      <th>OpenSource</th>\n      <th>Employment</th>\n      <th>Student</th>\n      <th>EdLevel</th>\n      <th>UndergradMajor</th>\n      <th>EduOther</th>\n      <th>...</th>\n      <th>SONewContent</th>\n      <th>Age</th>\n      <th>Gender</th>\n      <th>Trans</th>\n      <th>Sexuality</th>\n      <th>Ethnicity</th>\n      <th>Dependents</th>\n      <th>SurveyLength</th>\n      <th>SurveyEase</th>\n      <th>new_join_variable</th>\n    </tr>\n  </thead>\n  <tbody>\n    <tr>\n      <th>7</th>\n      <td>Afghanistan</td>\n      <td>40000.0</td>\n      <td>I am a student who is learning to code</td>\n      <td>Yes</td>\n      <td>The quality of OSS and closed source software ...</td>\n      <td>Not employed, and not looking for work</td>\n      <td>Yes, full-time</td>\n      <td>Secondary school (e.g. American high school, G...</td>\n      <td>NaN</td>\n      <td>Taught yourself a new language, framework, or ...</td>\n      <td>...</td>\n      <td>Tech articles written by other developers;Indu...</td>\n      <td>NaN</td>\n      <td>NaN</td>\n      <td>No</td>\n      <td>NaN</td>\n      <td>NaN</td>\n      <td>NaN</td>\n      <td>Appropriate in length</td>\n      <td>Easy</td>\n      <td>NaN</td>\n    </tr>\n    <tr>\n      <th>8</th>\n      <td>Afghanistan</td>\n      <td>88731.0</td>\n      <td>I code primarily as a hobby</td>\n      <td>Yes</td>\n      <td>OSS is, on average, of LOWER quality than prop...</td>\n      <td>NaN</td>\n      <td>No</td>\n      <td>Primary/elementary school</td>\n      <td>NaN</td>\n      <td>Taken a part-time in-person course in programm...</td>\n      <td>...</td>\n      <td>Tech articles written by other developers;Cour...</td>\n      <td>NaN</td>\n      <td>Man</td>\n      <td>No</td>\n      <td>NaN</td>\n      <td>NaN</td>\n      <td>No</td>\n      <td>Appropriate in length</td>\n      <td>Easy</td>\n      <td>NaN</td>\n    </tr>\n    <tr>\n      <th>10</th>\n      <td>Afghanistan</td>\n      <td>10746.0</td>\n      <td>I am a developer by profession</td>\n      <td>Yes</td>\n      <td>OSS is, on average, of HIGHER quality than pro...</td>\n      <td>Employed full-time</td>\n      <td>No</td>\n      <td>Bachelor’s degree (BA, BS, B.Eng., etc.)</td>\n      <td>Information systems, information technology, o...</td>\n      <td>Taken a part-time in-person course in programm...</td>\n      <td>...</td>\n      <td>Tech articles written by other developers;Tech...</td>\n      <td>24.0</td>\n      <td>Man</td>\n      <td>No</td>\n      <td>NaN</td>\n      <td>South Asian</td>\n      <td>NaN</td>\n      <td>Appropriate in length</td>\n      <td>Neither easy nor difficult</td>\n      <td>Afghanistan AFN</td>\n    </tr>\n    <tr>\n      <th>26</th>\n      <td>Afghanistan</td>\n      <td>74386.0</td>\n      <td>I am a student who is learning to code</td>\n      <td>Yes</td>\n      <td>OSS is, on average, of HIGHER quality than pro...</td>\n      <td>Employed part-time</td>\n      <td>Yes, part-time</td>\n      <td>Associate degree</td>\n      <td>Information systems, information technology, o...</td>\n      <td>Taken an online course in programming or softw...</td>\n      <td>...</td>\n      <td>Tech articles written by other developers;Indu...</td>\n      <td>23.0</td>\n      <td>Man</td>\n      <td>No</td>\n      <td>Straight / Heterosexual</td>\n      <td>NaN</td>\n      <td>Yes</td>\n      <td>Too long</td>\n      <td>Easy</td>\n      <td>NaN</td>\n    </tr>\n    <tr>\n      <th>27</th>\n      <td>Afghanistan</td>\n      <td>29045.0</td>\n      <td>I am not primarily a developer, but I write co...</td>\n      <td>No</td>\n      <td>OSS is, on average, of HIGHER quality than pro...</td>\n      <td>Employed full-time</td>\n      <td>Yes, part-time</td>\n      <td>Associate degree</td>\n      <td>Another engineering discipline (ex. civil, ele...</td>\n      <td>Participated in a full-time developer training...</td>\n      <td>...</td>\n      <td>Tech articles written by other developers;Indu...</td>\n      <td>NaN</td>\n      <td>Woman;Man;Non-binary, genderqueer, or gender n...</td>\n      <td>No</td>\n      <td>Bisexual;Gay or Lesbian</td>\n      <td>Black or of African descent;East Asian;Hispani...</td>\n      <td>NaN</td>\n      <td>Too short</td>\n      <td>Neither easy nor difficult</td>\n      <td>Afghanistan ANG</td>\n    </tr>\n    <tr>\n      <th>...</th>\n      <td>...</td>\n      <td>...</td>\n      <td>...</td>\n      <td>...</td>\n      <td>...</td>\n      <td>...</td>\n      <td>...</td>\n      <td>...</td>\n      <td>...</td>\n      <td>...</td>\n      <td>...</td>\n      <td>...</td>\n      <td>...</td>\n      <td>...</td>\n      <td>...</td>\n      <td>...</td>\n      <td>...</td>\n      <td>...</td>\n      <td>...</td>\n      <td>...</td>\n      <td>...</td>\n    </tr>\n    <tr>\n      <th>88729</th>\n      <td>Zimbabwe</td>\n      <td>48100.0</td>\n      <td>I code primarily as a hobby</td>\n      <td>Yes</td>\n      <td>OSS is, on average, of HIGHER quality than pro...</td>\n      <td>Independent contractor, freelancer, or self-em...</td>\n      <td>No</td>\n      <td>Secondary school (e.g. American high school, G...</td>\n      <td>NaN</td>\n      <td>Taken an online course in programming or softw...</td>\n      <td>...</td>\n      <td>Tech articles written by other developers;Indu...</td>\n      <td>26.0</td>\n      <td>Man</td>\n      <td>No</td>\n      <td>Straight / Heterosexual</td>\n      <td>Black or of African descent</td>\n      <td>No</td>\n      <td>Appropriate in length</td>\n      <td>Easy</td>\n      <td>NaN</td>\n    </tr>\n    <tr>\n      <th>88732</th>\n      <td>Zimbabwe</td>\n      <td>6486.0</td>\n      <td>I am a student who is learning to code</td>\n      <td>Yes</td>\n      <td>OSS is, on average, of HIGHER quality than pro...</td>\n      <td>Employed part-time</td>\n      <td>Yes, full-time</td>\n      <td>Secondary school (e.g. American high school, G...</td>\n      <td>NaN</td>\n      <td>Participated in a full-time developer training...</td>\n      <td>...</td>\n      <td>Tech articles written by other developers;Indu...</td>\n      <td>21.0</td>\n      <td>Woman</td>\n      <td>No</td>\n      <td>Straight / Heterosexual</td>\n      <td>Black or of African descent</td>\n      <td>No</td>\n      <td>Appropriate in length</td>\n      <td>Easy</td>\n      <td>NaN</td>\n    </tr>\n    <tr>\n      <th>88737</th>\n      <td>Zimbabwe</td>\n      <td>5110.0</td>\n      <td>I am not primarily a developer, but I write co...</td>\n      <td>Yes</td>\n      <td>OSS is, on average, of HIGHER quality than pro...</td>\n      <td>Employed full-time</td>\n      <td>Yes, full-time</td>\n      <td>Some college/university study without earning ...</td>\n      <td>Computer science, computer engineering, or sof...</td>\n      <td>Taken an online course in programming or softw...</td>\n      <td>...</td>\n      <td>Tech articles written by other developers;Indu...</td>\n      <td>23.0</td>\n      <td>Man</td>\n      <td>No</td>\n      <td>Straight / Heterosexual</td>\n      <td>Black or of African descent</td>\n      <td>Yes</td>\n      <td>Appropriate in length</td>\n      <td>Neither easy nor difficult</td>\n      <td>Zimbabwe USD</td>\n    </tr>\n    <tr>\n      <th>88743</th>\n      <td>Zimbabwe</td>\n      <td>2530.0</td>\n      <td>I am a developer by profession</td>\n      <td>Yes</td>\n      <td>OSS is, on average, of LOWER quality than prop...</td>\n      <td>Employed full-time</td>\n      <td>Yes, full-time</td>\n      <td>Bachelor’s degree (BA, BS, B.Eng., etc.)</td>\n      <td>Information systems, information technology, o...</td>\n      <td>Taught yourself a new language, framework, or ...</td>\n      <td>...</td>\n      <td>Tech articles written by other developers;Indu...</td>\n      <td>NaN</td>\n      <td>Man</td>\n      <td>No</td>\n      <td>Straight / Heterosexual</td>\n      <td>Black or of African descent</td>\n      <td>Yes</td>\n      <td>Too long</td>\n      <td>Easy</td>\n      <td>Zimbabwe USD</td>\n    </tr>\n    <tr>\n      <th>88749</th>\n      <td>Zimbabwe</td>\n      <td>57894.0</td>\n      <td>I am a student who is learning to code</td>\n      <td>Yes</td>\n      <td>NaN</td>\n      <td>NaN</td>\n      <td>Yes, full-time</td>\n      <td>Secondary school (e.g. American high school, G...</td>\n      <td>NaN</td>\n      <td>NaN</td>\n      <td>...</td>\n      <td>Tech articles written by other developers;Indu...</td>\n      <td>21.0</td>\n      <td>Man</td>\n      <td>NaN</td>\n      <td>Straight / Heterosexual</td>\n      <td>Black or of African descent</td>\n      <td>No</td>\n      <td>Too long</td>\n      <td>Neither easy nor difficult</td>\n      <td>NaN</td>\n    </tr>\n  </tbody>\n</table>\n<p>36443 rows × 84 columns</p>\n</div>"
     },
     "execution_count": 108,
     "metadata": {},
     "output_type": "execute_result"
    }
   ],
   "source": [
    "df.loc[filt]"
   ]
  },
  {
   "cell_type": "code",
   "execution_count": 109,
   "metadata": {
    "ExecuteTime": {
     "end_time": "2023-07-13T15:54:08.246173337Z",
     "start_time": "2023-07-13T15:54:08.101706912Z"
    }
   },
   "outputs": [
    {
     "data": {
      "text/plain": "                                    Country  \\\n1                               Afghanistan   \n43                              Afghanistan   \n56                                  Albania   \n64                                  Albania   \n127                                 Albania   \n...                                     ...   \n88305                               Uruguay   \n88408  Venezuela, Bolivarian Republic of...   \n88557                              Viet Nam   \n88610                              Viet Nam   \n88727                              Zimbabwe   \n\n                                      LanguageWorkedWith  \n1               Assembly;Bash/Shell/PowerShell;Other(s):  \n43                        C#;HTML/CSS;JavaScript;SQL;VBA  \n56                     Go;HTML/CSS;JavaScript;PHP;Python  \n64     Assembly;Bash/Shell/PowerShell;C;C++;C#;HTML/C...  \n127                              HTML/CSS;JavaScript;PHP  \n...                                                  ...  \n88305  HTML/CSS;Java;JavaScript;Kotlin;Python;SQL;Typ...  \n88408                                  HTML/CSS;Ruby;SQL  \n88557                                HTML/CSS;JavaScript  \n88610                  Go;HTML/CSS;JavaScript;Python;SQL  \n88727                                           Java;SQL  \n\n[22289 rows x 2 columns]",
      "text/html": "<div>\n<style scoped>\n    .dataframe tbody tr th:only-of-type {\n        vertical-align: middle;\n    }\n\n    .dataframe tbody tr th {\n        vertical-align: top;\n    }\n\n    .dataframe thead th {\n        text-align: right;\n    }\n</style>\n<table border=\"1\" class=\"dataframe\">\n  <thead>\n    <tr style=\"text-align: right;\">\n      <th></th>\n      <th>Country</th>\n      <th>LanguageWorkedWith</th>\n    </tr>\n  </thead>\n  <tbody>\n    <tr>\n      <th>1</th>\n      <td>Afghanistan</td>\n      <td>Assembly;Bash/Shell/PowerShell;Other(s):</td>\n    </tr>\n    <tr>\n      <th>43</th>\n      <td>Afghanistan</td>\n      <td>C#;HTML/CSS;JavaScript;SQL;VBA</td>\n    </tr>\n    <tr>\n      <th>56</th>\n      <td>Albania</td>\n      <td>Go;HTML/CSS;JavaScript;PHP;Python</td>\n    </tr>\n    <tr>\n      <th>64</th>\n      <td>Albania</td>\n      <td>Assembly;Bash/Shell/PowerShell;C;C++;C#;HTML/C...</td>\n    </tr>\n    <tr>\n      <th>127</th>\n      <td>Albania</td>\n      <td>HTML/CSS;JavaScript;PHP</td>\n    </tr>\n    <tr>\n      <th>...</th>\n      <td>...</td>\n      <td>...</td>\n    </tr>\n    <tr>\n      <th>88305</th>\n      <td>Uruguay</td>\n      <td>HTML/CSS;Java;JavaScript;Kotlin;Python;SQL;Typ...</td>\n    </tr>\n    <tr>\n      <th>88408</th>\n      <td>Venezuela, Bolivarian Republic of...</td>\n      <td>HTML/CSS;Ruby;SQL</td>\n    </tr>\n    <tr>\n      <th>88557</th>\n      <td>Viet Nam</td>\n      <td>HTML/CSS;JavaScript</td>\n    </tr>\n    <tr>\n      <th>88610</th>\n      <td>Viet Nam</td>\n      <td>Go;HTML/CSS;JavaScript;Python;SQL</td>\n    </tr>\n    <tr>\n      <th>88727</th>\n      <td>Zimbabwe</td>\n      <td>Java;SQL</td>\n    </tr>\n  </tbody>\n</table>\n<p>22289 rows × 2 columns</p>\n</div>"
     },
     "execution_count": 109,
     "metadata": {},
     "output_type": "execute_result"
    }
   ],
   "source": [
    "# Define the filter\n",
    "high_salary = (df['ConvertedComp'] > 70000)\n",
    "\n",
    "df.loc[high_salary, ['Country', 'LanguageWorkedWith']]"
   ]
  },
  {
   "cell_type": "code",
   "execution_count": 110,
   "metadata": {
    "ExecuteTime": {
     "end_time": "2023-07-13T15:54:10.353244178Z",
     "start_time": "2023-07-13T15:54:10.215599419Z"
    }
   },
   "outputs": [
    {
     "data": {
      "text/plain": "      Country  Respondent                                         MainBranch  \\\n8128   Canada     36263.0                     I am a developer by profession   \n8129   Canada     10666.0             I am a student who is learning to code   \n8130   Canada     81641.0                     I am a developer by profession   \n8131   Canada     32543.0                     I am a developer by profession   \n8132   Canada     70520.0                     I am a developer by profession   \n...       ...         ...                                                ...   \n34840   India     79628.0                     I am a developer by profession   \n34841   India     40151.0                                                NaN   \n34842   India     76400.0  I am not primarily a developer, but I write co...   \n34843   India     30928.0                     I am a developer by profession   \n34844   India     30452.0             I am a student who is learning to code   \n\n      Hobbyist                                         OpenSource  \\\n8128       Yes  OSS is, on average, of HIGHER quality than pro...   \n8129        No  OSS is, on average, of LOWER quality than prop...   \n8130       Yes  OSS is, on average, of HIGHER quality than pro...   \n8131       Yes  The quality of OSS and closed source software ...   \n8132       Yes  The quality of OSS and closed source software ...   \n...        ...                                                ...   \n34840       No  The quality of OSS and closed source software ...   \n34841       No  OSS is, on average, of HIGHER quality than pro...   \n34842       No  OSS is, on average, of HIGHER quality than pro...   \n34843       No  The quality of OSS and closed source software ...   \n34844       No  OSS is, on average, of HIGHER quality than pro...   \n\n                               Employment         Student  \\\n8128                   Employed full-time              No   \n8129   Not employed, but looking for work  Yes, part-time   \n8130                   Employed full-time              No   \n8131                   Employed full-time              No   \n8132                   Employed full-time  Yes, full-time   \n...                                   ...             ...   \n34840                  Employed full-time              No   \n34841                                 NaN              No   \n34842                  Employed full-time              No   \n34843                  Employed full-time              No   \n34844                                 NaN  Yes, full-time   \n\n                                                 EdLevel  \\\n8128         Master’s degree (MA, MS, M.Eng., MBA, etc.)   \n8129   Some college/university study without earning ...   \n8130                                    Associate degree   \n8131   Secondary school (e.g. American high school, G...   \n8132            Bachelor’s degree (BA, BS, B.Eng., etc.)   \n...                                                  ...   \n34840                                                NaN   \n34841  Secondary school (e.g. American high school, G...   \n34842           Bachelor’s degree (BA, BS, B.Eng., etc.)   \n34843        Master’s degree (MA, MS, M.Eng., MBA, etc.)   \n34844  Secondary school (e.g. American high school, G...   \n\n                                          UndergradMajor  \\\n8128   Computer science, computer engineering, or sof...   \n8129   Computer science, computer engineering, or sof...   \n8130   Information systems, information technology, o...   \n8131                                                 NaN   \n8132                                                 NaN   \n...                                                  ...   \n34840  Computer science, computer engineering, or sof...   \n34841                                                NaN   \n34842  Computer science, computer engineering, or sof...   \n34843  Computer science, computer engineering, or sof...   \n34844                                                NaN   \n\n                                                EduOther  ...  \\\n8128   Taken an online course in programming or softw...  ...   \n8129   Taught yourself a new language, framework, or ...  ...   \n8130   Taken an online course in programming or softw...  ...   \n8131   Taught yourself a new language, framework, or ...  ...   \n8132   Taken an online course in programming or softw...  ...   \n...                                                  ...  ...   \n34840                                                NaN  ...   \n34841                                                NaN  ...   \n34842  Taken an online course in programming or softw...  ...   \n34843  Taken a part-time in-person course in programm...  ...   \n34844  Taught yourself a new language, framework, or ...  ...   \n\n                                            SONewContent   Age Gender Trans  \\\n8128   Tech articles written by other developers;Cour...  38.0    Man    No   \n8129   Tech articles written by other developers;Indu...  28.0    Man    No   \n8130           Tech articles written by other developers  26.0    Man    No   \n8131   Tech meetups or events in your area;Courses on...  22.0    Man    No   \n8132   Tech articles written by other developers;Indu...   NaN    Man    No   \n...                                                  ...   ...    ...   ...   \n34840  Tech articles written by other developers;Indu...   NaN    Man   NaN   \n34841                Tech meetups or events in your area   NaN    Man    No   \n34842          Tech articles written by other developers   NaN    Man    No   \n34843  Industry news about technologies you're intere...  30.0    Man    No   \n34844  Tech articles written by other developers;Indu...   NaN    Man    No   \n\n                     Sexuality  \\\n8128   Straight / Heterosexual   \n8129            Gay or Lesbian   \n8130   Straight / Heterosexual   \n8131                  Bisexual   \n8132   Straight / Heterosexual   \n...                        ...   \n34840                      NaN   \n34841  Straight / Heterosexual   \n34842                      NaN   \n34843  Straight / Heterosexual   \n34844                      NaN   \n\n                                               Ethnicity Dependents  \\\n8128                                      Middle Eastern         No   \n8129                                          East Asian         No   \n8130                                         South Asian         No   \n8131   Native American, Pacific Islander, or Indigeno...         No   \n8132                                         South Asian         No   \n...                                                  ...        ...   \n34840                                        South Asian        NaN   \n34841                                        South Asian        Yes   \n34842                                                NaN        Yes   \n34843                                        South Asian        Yes   \n34844                                                NaN        Yes   \n\n                SurveyLength                  SurveyEase new_join_variable  \n8128   Appropriate in length  Neither easy nor difficult        Canada CAD  \n8129   Appropriate in length  Neither easy nor difficult               NaN  \n8130   Appropriate in length                        Easy        Canada CAD  \n8131   Appropriate in length                        Easy        Canada CAD  \n8132                Too long                        Easy        Canada CAD  \n...                      ...                         ...               ...  \n34840               Too long                        Easy         India INR  \n34841               Too long  Neither easy nor difficult               NaN  \n34842               Too long                        Easy         India INR  \n34843  Appropriate in length                        Easy         India INR  \n34844               Too long  Neither easy nor difficult               NaN  \n\n[12456 rows x 84 columns]",
      "text/html": "<div>\n<style scoped>\n    .dataframe tbody tr th:only-of-type {\n        vertical-align: middle;\n    }\n\n    .dataframe tbody tr th {\n        vertical-align: top;\n    }\n\n    .dataframe thead th {\n        text-align: right;\n    }\n</style>\n<table border=\"1\" class=\"dataframe\">\n  <thead>\n    <tr style=\"text-align: right;\">\n      <th></th>\n      <th>Country</th>\n      <th>Respondent</th>\n      <th>MainBranch</th>\n      <th>Hobbyist</th>\n      <th>OpenSource</th>\n      <th>Employment</th>\n      <th>Student</th>\n      <th>EdLevel</th>\n      <th>UndergradMajor</th>\n      <th>EduOther</th>\n      <th>...</th>\n      <th>SONewContent</th>\n      <th>Age</th>\n      <th>Gender</th>\n      <th>Trans</th>\n      <th>Sexuality</th>\n      <th>Ethnicity</th>\n      <th>Dependents</th>\n      <th>SurveyLength</th>\n      <th>SurveyEase</th>\n      <th>new_join_variable</th>\n    </tr>\n  </thead>\n  <tbody>\n    <tr>\n      <th>8128</th>\n      <td>Canada</td>\n      <td>36263.0</td>\n      <td>I am a developer by profession</td>\n      <td>Yes</td>\n      <td>OSS is, on average, of HIGHER quality than pro...</td>\n      <td>Employed full-time</td>\n      <td>No</td>\n      <td>Master’s degree (MA, MS, M.Eng., MBA, etc.)</td>\n      <td>Computer science, computer engineering, or sof...</td>\n      <td>Taken an online course in programming or softw...</td>\n      <td>...</td>\n      <td>Tech articles written by other developers;Cour...</td>\n      <td>38.0</td>\n      <td>Man</td>\n      <td>No</td>\n      <td>Straight / Heterosexual</td>\n      <td>Middle Eastern</td>\n      <td>No</td>\n      <td>Appropriate in length</td>\n      <td>Neither easy nor difficult</td>\n      <td>Canada CAD</td>\n    </tr>\n    <tr>\n      <th>8129</th>\n      <td>Canada</td>\n      <td>10666.0</td>\n      <td>I am a student who is learning to code</td>\n      <td>No</td>\n      <td>OSS is, on average, of LOWER quality than prop...</td>\n      <td>Not employed, but looking for work</td>\n      <td>Yes, part-time</td>\n      <td>Some college/university study without earning ...</td>\n      <td>Computer science, computer engineering, or sof...</td>\n      <td>Taught yourself a new language, framework, or ...</td>\n      <td>...</td>\n      <td>Tech articles written by other developers;Indu...</td>\n      <td>28.0</td>\n      <td>Man</td>\n      <td>No</td>\n      <td>Gay or Lesbian</td>\n      <td>East Asian</td>\n      <td>No</td>\n      <td>Appropriate in length</td>\n      <td>Neither easy nor difficult</td>\n      <td>NaN</td>\n    </tr>\n    <tr>\n      <th>8130</th>\n      <td>Canada</td>\n      <td>81641.0</td>\n      <td>I am a developer by profession</td>\n      <td>Yes</td>\n      <td>OSS is, on average, of HIGHER quality than pro...</td>\n      <td>Employed full-time</td>\n      <td>No</td>\n      <td>Associate degree</td>\n      <td>Information systems, information technology, o...</td>\n      <td>Taken an online course in programming or softw...</td>\n      <td>...</td>\n      <td>Tech articles written by other developers</td>\n      <td>26.0</td>\n      <td>Man</td>\n      <td>No</td>\n      <td>Straight / Heterosexual</td>\n      <td>South Asian</td>\n      <td>No</td>\n      <td>Appropriate in length</td>\n      <td>Easy</td>\n      <td>Canada CAD</td>\n    </tr>\n    <tr>\n      <th>8131</th>\n      <td>Canada</td>\n      <td>32543.0</td>\n      <td>I am a developer by profession</td>\n      <td>Yes</td>\n      <td>The quality of OSS and closed source software ...</td>\n      <td>Employed full-time</td>\n      <td>No</td>\n      <td>Secondary school (e.g. American high school, G...</td>\n      <td>NaN</td>\n      <td>Taught yourself a new language, framework, or ...</td>\n      <td>...</td>\n      <td>Tech meetups or events in your area;Courses on...</td>\n      <td>22.0</td>\n      <td>Man</td>\n      <td>No</td>\n      <td>Bisexual</td>\n      <td>Native American, Pacific Islander, or Indigeno...</td>\n      <td>No</td>\n      <td>Appropriate in length</td>\n      <td>Easy</td>\n      <td>Canada CAD</td>\n    </tr>\n    <tr>\n      <th>8132</th>\n      <td>Canada</td>\n      <td>70520.0</td>\n      <td>I am a developer by profession</td>\n      <td>Yes</td>\n      <td>The quality of OSS and closed source software ...</td>\n      <td>Employed full-time</td>\n      <td>Yes, full-time</td>\n      <td>Bachelor’s degree (BA, BS, B.Eng., etc.)</td>\n      <td>NaN</td>\n      <td>Taken an online course in programming or softw...</td>\n      <td>...</td>\n      <td>Tech articles written by other developers;Indu...</td>\n      <td>NaN</td>\n      <td>Man</td>\n      <td>No</td>\n      <td>Straight / Heterosexual</td>\n      <td>South Asian</td>\n      <td>No</td>\n      <td>Too long</td>\n      <td>Easy</td>\n      <td>Canada CAD</td>\n    </tr>\n    <tr>\n      <th>...</th>\n      <td>...</td>\n      <td>...</td>\n      <td>...</td>\n      <td>...</td>\n      <td>...</td>\n      <td>...</td>\n      <td>...</td>\n      <td>...</td>\n      <td>...</td>\n      <td>...</td>\n      <td>...</td>\n      <td>...</td>\n      <td>...</td>\n      <td>...</td>\n      <td>...</td>\n      <td>...</td>\n      <td>...</td>\n      <td>...</td>\n      <td>...</td>\n      <td>...</td>\n      <td>...</td>\n    </tr>\n    <tr>\n      <th>34840</th>\n      <td>India</td>\n      <td>79628.0</td>\n      <td>I am a developer by profession</td>\n      <td>No</td>\n      <td>The quality of OSS and closed source software ...</td>\n      <td>Employed full-time</td>\n      <td>No</td>\n      <td>NaN</td>\n      <td>Computer science, computer engineering, or sof...</td>\n      <td>NaN</td>\n      <td>...</td>\n      <td>Tech articles written by other developers;Indu...</td>\n      <td>NaN</td>\n      <td>Man</td>\n      <td>NaN</td>\n      <td>NaN</td>\n      <td>South Asian</td>\n      <td>NaN</td>\n      <td>Too long</td>\n      <td>Easy</td>\n      <td>India INR</td>\n    </tr>\n    <tr>\n      <th>34841</th>\n      <td>India</td>\n      <td>40151.0</td>\n      <td>NaN</td>\n      <td>No</td>\n      <td>OSS is, on average, of HIGHER quality than pro...</td>\n      <td>NaN</td>\n      <td>No</td>\n      <td>Secondary school (e.g. American high school, G...</td>\n      <td>NaN</td>\n      <td>NaN</td>\n      <td>...</td>\n      <td>Tech meetups or events in your area</td>\n      <td>NaN</td>\n      <td>Man</td>\n      <td>No</td>\n      <td>Straight / Heterosexual</td>\n      <td>South Asian</td>\n      <td>Yes</td>\n      <td>Too long</td>\n      <td>Neither easy nor difficult</td>\n      <td>NaN</td>\n    </tr>\n    <tr>\n      <th>34842</th>\n      <td>India</td>\n      <td>76400.0</td>\n      <td>I am not primarily a developer, but I write co...</td>\n      <td>No</td>\n      <td>OSS is, on average, of HIGHER quality than pro...</td>\n      <td>Employed full-time</td>\n      <td>No</td>\n      <td>Bachelor’s degree (BA, BS, B.Eng., etc.)</td>\n      <td>Computer science, computer engineering, or sof...</td>\n      <td>Taken an online course in programming or softw...</td>\n      <td>...</td>\n      <td>Tech articles written by other developers</td>\n      <td>NaN</td>\n      <td>Man</td>\n      <td>No</td>\n      <td>NaN</td>\n      <td>NaN</td>\n      <td>Yes</td>\n      <td>Too long</td>\n      <td>Easy</td>\n      <td>India INR</td>\n    </tr>\n    <tr>\n      <th>34843</th>\n      <td>India</td>\n      <td>30928.0</td>\n      <td>I am a developer by profession</td>\n      <td>No</td>\n      <td>The quality of OSS and closed source software ...</td>\n      <td>Employed full-time</td>\n      <td>No</td>\n      <td>Master’s degree (MA, MS, M.Eng., MBA, etc.)</td>\n      <td>Computer science, computer engineering, or sof...</td>\n      <td>Taken a part-time in-person course in programm...</td>\n      <td>...</td>\n      <td>Industry news about technologies you're intere...</td>\n      <td>30.0</td>\n      <td>Man</td>\n      <td>No</td>\n      <td>Straight / Heterosexual</td>\n      <td>South Asian</td>\n      <td>Yes</td>\n      <td>Appropriate in length</td>\n      <td>Easy</td>\n      <td>India INR</td>\n    </tr>\n    <tr>\n      <th>34844</th>\n      <td>India</td>\n      <td>30452.0</td>\n      <td>I am a student who is learning to code</td>\n      <td>No</td>\n      <td>OSS is, on average, of HIGHER quality than pro...</td>\n      <td>NaN</td>\n      <td>Yes, full-time</td>\n      <td>Secondary school (e.g. American high school, G...</td>\n      <td>NaN</td>\n      <td>Taught yourself a new language, framework, or ...</td>\n      <td>...</td>\n      <td>Tech articles written by other developers;Indu...</td>\n      <td>NaN</td>\n      <td>Man</td>\n      <td>No</td>\n      <td>NaN</td>\n      <td>NaN</td>\n      <td>Yes</td>\n      <td>Too long</td>\n      <td>Neither easy nor difficult</td>\n      <td>NaN</td>\n    </tr>\n  </tbody>\n</table>\n<p>12456 rows × 84 columns</p>\n</div>"
     },
     "execution_count": 110,
     "metadata": {},
     "output_type": "execute_result"
    }
   ],
   "source": [
    "countries = ['United states', 'India', 'Canada']\n",
    "\n",
    "filt = df['Country'].isin(countries)\n",
    "\n",
    "df.loc[filt]"
   ]
  },
  {
   "cell_type": "markdown",
   "metadata": {},
   "source": [
    "### Updating Columns and Row\n",
    "\n",
    "Maybe we want to rename a specific column or a row, we can use this techniques.\n",
    "\n",
    "For example we want to eliminate the space in between the word to better access the variable. To do so we can use the following (Note that we don't get any visible changing since there is no space in the labels)"
   ]
  },
  {
   "cell_type": "code",
   "execution_count": 111,
   "metadata": {
    "ExecuteTime": {
     "end_time": "2023-07-13T15:54:15.570480850Z",
     "start_time": "2023-07-13T15:54:15.489280215Z"
    }
   },
   "outputs": [],
   "source": [
    "df.columns = df.columns.str.replace(' ', '_')"
   ]
  },
  {
   "cell_type": "markdown",
   "metadata": {},
   "source": [
    "While if we want to change only some specific columns we can use the rename method"
   ]
  },
  {
   "cell_type": "code",
   "execution_count": 112,
   "metadata": {
    "ExecuteTime": {
     "end_time": "2023-07-13T15:54:15.866014328Z",
     "start_time": "2023-07-13T15:54:15.784198078Z"
    }
   },
   "outputs": [],
   "source": [
    "df.rename(columns={'ConvertedComp': 'SalaryUSD'}, inplace=True)"
   ]
  },
  {
   "cell_type": "markdown",
   "metadata": {},
   "source": [
    "We can also rename the variable inside a column using the map method"
   ]
  },
  {
   "cell_type": "code",
   "execution_count": 113,
   "metadata": {
    "ExecuteTime": {
     "end_time": "2023-07-13T15:54:16.255542391Z",
     "start_time": "2023-07-13T15:54:16.132762727Z"
    }
   },
   "outputs": [],
   "source": [
    "df['Hobbyist'] = df['Hobbyist'].map({'Yes': True, 'No': False})"
   ]
  },
  {
   "cell_type": "markdown",
   "metadata": {},
   "source": [
    "Now we focus on changing things in the row, if we want to change line nember 2 the value of country and Hobbyst"
   ]
  },
  {
   "cell_type": "code",
   "execution_count": 114,
   "metadata": {
    "ExecuteTime": {
     "end_time": "2023-07-13T15:54:16.561513175Z",
     "start_time": "2023-07-13T15:54:16.507709131Z"
    }
   },
   "outputs": [],
   "source": [
    "#Multiple value\n",
    "df.loc[2, ['Country', 'Hobbyist']] = ['Russia', 'False']"
   ]
  },
  {
   "cell_type": "code",
   "execution_count": 115,
   "metadata": {
    "ExecuteTime": {
     "end_time": "2023-07-13T15:54:17.117986531Z",
     "start_time": "2023-07-13T15:54:16.705987043Z"
    }
   },
   "outputs": [],
   "source": [
    "#Single value\n",
    "df.loc[2, 'Hobbyist'] =  'True'"
   ]
  },
  {
   "cell_type": "markdown",
   "metadata": {},
   "source": [
    "We can use the module apply to apply a function to a specific column"
   ]
  },
  {
   "cell_type": "code",
   "execution_count": 116,
   "metadata": {
    "ExecuteTime": {
     "end_time": "2023-07-13T15:54:17.426813056Z",
     "start_time": "2023-07-13T15:54:17.070244801Z"
    }
   },
   "outputs": [],
   "source": [
    "#Preexisted function\n",
    "#df['State'] = df['State'].apply(len)\n",
    "\n",
    "#New function\n",
    "def update_age(age):\n",
    "    return age + 2\n",
    "\n",
    "df['Age'] = df['Age'].apply(update_age)"
   ]
  },
  {
   "cell_type": "markdown",
   "metadata": {},
   "source": [
    "### Sorting Data"
   ]
  },
  {
   "cell_type": "markdown",
   "metadata": {},
   "source": [
    "The general structure to sort data is the following. we use ascending = False for sord in descending order."
   ]
  },
  {
   "cell_type": "code",
   "execution_count": 117,
   "metadata": {
    "ExecuteTime": {
     "end_time": "2023-07-13T15:54:18.002379181Z",
     "start_time": "2023-07-13T15:54:17.593236146Z"
    }
   },
   "outputs": [
    {
     "data": {
      "text/plain": "        Country  Respondent                              MainBranch Hobbyist  \\\n88723  Zimbabwe     21968.0  I am a student who is learning to code     True   \n88732  Zimbabwe      6486.0  I am a student who is learning to code     True   \n88729  Zimbabwe     48100.0             I code primarily as a hobby     True   \n\n                                              OpenSource  \\\n88723  OSS is, on average, of HIGHER quality than pro...   \n88732  OSS is, on average, of HIGHER quality than pro...   \n88729  OSS is, on average, of HIGHER quality than pro...   \n\n                                              Employment         Student  \\\n88723             Not employed, and not looking for work  Yes, full-time   \n88732                                 Employed part-time  Yes, full-time   \n88729  Independent contractor, freelancer, or self-em...              No   \n\n                                                 EdLevel UndergradMajor  \\\n88723  Secondary school (e.g. American high school, G...            NaN   \n88732  Secondary school (e.g. American high school, G...            NaN   \n88729  Secondary school (e.g. American high school, G...            NaN   \n\n                                                EduOther  ...  \\\n88723  Taught yourself a new language, framework, or ...  ...   \n88732  Participated in a full-time developer training...  ...   \n88729  Taken an online course in programming or softw...  ...   \n\n                                            SONewContent   Age Gender Trans  \\\n88723                Tech meetups or events in your area  27.0    Man    No   \n88732  Tech articles written by other developers;Indu...  23.0  Woman    No   \n88729  Tech articles written by other developers;Indu...  28.0    Man    No   \n\n                     Sexuality                    Ethnicity Dependents  \\\n88723  Straight / Heterosexual  Black or of African descent         No   \n88732  Straight / Heterosexual  Black or of African descent         No   \n88729  Straight / Heterosexual  Black or of African descent         No   \n\n                SurveyLength SurveyEase new_join_variable  \n88723              Too short       Easy               NaN  \n88732  Appropriate in length       Easy               NaN  \n88729  Appropriate in length       Easy               NaN  \n\n[3 rows x 84 columns]",
      "text/html": "<div>\n<style scoped>\n    .dataframe tbody tr th:only-of-type {\n        vertical-align: middle;\n    }\n\n    .dataframe tbody tr th {\n        vertical-align: top;\n    }\n\n    .dataframe thead th {\n        text-align: right;\n    }\n</style>\n<table border=\"1\" class=\"dataframe\">\n  <thead>\n    <tr style=\"text-align: right;\">\n      <th></th>\n      <th>Country</th>\n      <th>Respondent</th>\n      <th>MainBranch</th>\n      <th>Hobbyist</th>\n      <th>OpenSource</th>\n      <th>Employment</th>\n      <th>Student</th>\n      <th>EdLevel</th>\n      <th>UndergradMajor</th>\n      <th>EduOther</th>\n      <th>...</th>\n      <th>SONewContent</th>\n      <th>Age</th>\n      <th>Gender</th>\n      <th>Trans</th>\n      <th>Sexuality</th>\n      <th>Ethnicity</th>\n      <th>Dependents</th>\n      <th>SurveyLength</th>\n      <th>SurveyEase</th>\n      <th>new_join_variable</th>\n    </tr>\n  </thead>\n  <tbody>\n    <tr>\n      <th>88723</th>\n      <td>Zimbabwe</td>\n      <td>21968.0</td>\n      <td>I am a student who is learning to code</td>\n      <td>True</td>\n      <td>OSS is, on average, of HIGHER quality than pro...</td>\n      <td>Not employed, and not looking for work</td>\n      <td>Yes, full-time</td>\n      <td>Secondary school (e.g. American high school, G...</td>\n      <td>NaN</td>\n      <td>Taught yourself a new language, framework, or ...</td>\n      <td>...</td>\n      <td>Tech meetups or events in your area</td>\n      <td>27.0</td>\n      <td>Man</td>\n      <td>No</td>\n      <td>Straight / Heterosexual</td>\n      <td>Black or of African descent</td>\n      <td>No</td>\n      <td>Too short</td>\n      <td>Easy</td>\n      <td>NaN</td>\n    </tr>\n    <tr>\n      <th>88732</th>\n      <td>Zimbabwe</td>\n      <td>6486.0</td>\n      <td>I am a student who is learning to code</td>\n      <td>True</td>\n      <td>OSS is, on average, of HIGHER quality than pro...</td>\n      <td>Employed part-time</td>\n      <td>Yes, full-time</td>\n      <td>Secondary school (e.g. American high school, G...</td>\n      <td>NaN</td>\n      <td>Participated in a full-time developer training...</td>\n      <td>...</td>\n      <td>Tech articles written by other developers;Indu...</td>\n      <td>23.0</td>\n      <td>Woman</td>\n      <td>No</td>\n      <td>Straight / Heterosexual</td>\n      <td>Black or of African descent</td>\n      <td>No</td>\n      <td>Appropriate in length</td>\n      <td>Easy</td>\n      <td>NaN</td>\n    </tr>\n    <tr>\n      <th>88729</th>\n      <td>Zimbabwe</td>\n      <td>48100.0</td>\n      <td>I code primarily as a hobby</td>\n      <td>True</td>\n      <td>OSS is, on average, of HIGHER quality than pro...</td>\n      <td>Independent contractor, freelancer, or self-em...</td>\n      <td>No</td>\n      <td>Secondary school (e.g. American high school, G...</td>\n      <td>NaN</td>\n      <td>Taken an online course in programming or softw...</td>\n      <td>...</td>\n      <td>Tech articles written by other developers;Indu...</td>\n      <td>28.0</td>\n      <td>Man</td>\n      <td>No</td>\n      <td>Straight / Heterosexual</td>\n      <td>Black or of African descent</td>\n      <td>No</td>\n      <td>Appropriate in length</td>\n      <td>Easy</td>\n      <td>NaN</td>\n    </tr>\n  </tbody>\n</table>\n<p>3 rows × 84 columns</p>\n</div>"
     },
     "execution_count": 117,
     "metadata": {},
     "output_type": "execute_result"
    }
   ],
   "source": [
    "df = df.sort_values(by='Country', ascending=False)\n",
    "\n",
    "df.head(3)"
   ]
  },
  {
   "cell_type": "markdown",
   "metadata": {},
   "source": [
    "And I can have also more complicate structure as"
   ]
  },
  {
   "cell_type": "code",
   "execution_count": 118,
   "metadata": {
    "ExecuteTime": {
     "end_time": "2023-07-13T15:54:18.155857479Z",
     "start_time": "2023-07-13T15:54:17.917007972Z"
    }
   },
   "outputs": [],
   "source": [
    "df.sort_values(by=['Country', 'Age'], ascending=[False, True], inplace=True)"
   ]
  },
  {
   "cell_type": "markdown",
   "metadata": {},
   "source": [
    "We can also sort the dataset using the index of column to sort it, using"
   ]
  },
  {
   "cell_type": "code",
   "execution_count": 119,
   "metadata": {
    "ExecuteTime": {
     "end_time": "2023-07-13T15:54:18.777400045Z",
     "start_time": "2023-07-13T15:54:18.461813797Z"
    }
   },
   "outputs": [
    {
     "data": {
      "text/plain": "       Country  Respondent                      MainBranch Hobbyist  \\\n0  Afghanistan     39258.0  I am a developer by profession     True   \n1  Afghanistan     63129.0  I am a developer by profession     True   \n2       Russia     85715.0  I am a developer by profession     True   \n\n                                          OpenSource          Employment  \\\n0  OSS is, on average, of LOWER quality than prop...  Employed full-time   \n1  OSS is, on average, of HIGHER quality than pro...  Employed full-time   \n2  The quality of OSS and closed source software ...  Employed full-time   \n\n          Student                                   EdLevel  \\\n0              No  Bachelor’s degree (BA, BS, B.Eng., etc.)   \n1  Yes, full-time    I never completed any formal education   \n2              No  Bachelor’s degree (BA, BS, B.Eng., etc.)   \n\n                                      UndergradMajor  \\\n0  Computer science, computer engineering, or sof...   \n1                                                NaN   \n2  Information systems, information technology, o...   \n\n                                            EduOther  ...  \\\n0  Taken an online course in programming or softw...  ...   \n1  Taken an online course in programming or softw...  ...   \n2  Received on-the-job training in software devel...  ...   \n\n                                        SONewContent   Age Gender Trans  \\\n0  Tech articles written by other developers;Indu...  28.0    Man    No   \n1          Tech articles written by other developers   NaN    NaN   NaN   \n2  Tech articles written by other developers;Indu...  30.0    Man    No   \n\n                 Sexuality               Ethnicity Dependents SurveyLength  \\\n0  Straight / Heterosexual  East Asian;South Asian        Yes     Too long   \n1                      NaN                     NaN        Yes    Too short   \n2                      NaN                     NaN        Yes     Too long   \n\n                   SurveyEase new_join_variable  \n0                        Easy   Afghanistan AFN  \n1                        Easy   Afghanistan AED  \n2  Neither easy nor difficult   Afghanistan AFN  \n\n[3 rows x 84 columns]",
      "text/html": "<div>\n<style scoped>\n    .dataframe tbody tr th:only-of-type {\n        vertical-align: middle;\n    }\n\n    .dataframe tbody tr th {\n        vertical-align: top;\n    }\n\n    .dataframe thead th {\n        text-align: right;\n    }\n</style>\n<table border=\"1\" class=\"dataframe\">\n  <thead>\n    <tr style=\"text-align: right;\">\n      <th></th>\n      <th>Country</th>\n      <th>Respondent</th>\n      <th>MainBranch</th>\n      <th>Hobbyist</th>\n      <th>OpenSource</th>\n      <th>Employment</th>\n      <th>Student</th>\n      <th>EdLevel</th>\n      <th>UndergradMajor</th>\n      <th>EduOther</th>\n      <th>...</th>\n      <th>SONewContent</th>\n      <th>Age</th>\n      <th>Gender</th>\n      <th>Trans</th>\n      <th>Sexuality</th>\n      <th>Ethnicity</th>\n      <th>Dependents</th>\n      <th>SurveyLength</th>\n      <th>SurveyEase</th>\n      <th>new_join_variable</th>\n    </tr>\n  </thead>\n  <tbody>\n    <tr>\n      <th>0</th>\n      <td>Afghanistan</td>\n      <td>39258.0</td>\n      <td>I am a developer by profession</td>\n      <td>True</td>\n      <td>OSS is, on average, of LOWER quality than prop...</td>\n      <td>Employed full-time</td>\n      <td>No</td>\n      <td>Bachelor’s degree (BA, BS, B.Eng., etc.)</td>\n      <td>Computer science, computer engineering, or sof...</td>\n      <td>Taken an online course in programming or softw...</td>\n      <td>...</td>\n      <td>Tech articles written by other developers;Indu...</td>\n      <td>28.0</td>\n      <td>Man</td>\n      <td>No</td>\n      <td>Straight / Heterosexual</td>\n      <td>East Asian;South Asian</td>\n      <td>Yes</td>\n      <td>Too long</td>\n      <td>Easy</td>\n      <td>Afghanistan AFN</td>\n    </tr>\n    <tr>\n      <th>1</th>\n      <td>Afghanistan</td>\n      <td>63129.0</td>\n      <td>I am a developer by profession</td>\n      <td>True</td>\n      <td>OSS is, on average, of HIGHER quality than pro...</td>\n      <td>Employed full-time</td>\n      <td>Yes, full-time</td>\n      <td>I never completed any formal education</td>\n      <td>NaN</td>\n      <td>Taken an online course in programming or softw...</td>\n      <td>...</td>\n      <td>Tech articles written by other developers</td>\n      <td>NaN</td>\n      <td>NaN</td>\n      <td>NaN</td>\n      <td>NaN</td>\n      <td>NaN</td>\n      <td>Yes</td>\n      <td>Too short</td>\n      <td>Easy</td>\n      <td>Afghanistan AED</td>\n    </tr>\n    <tr>\n      <th>2</th>\n      <td>Russia</td>\n      <td>85715.0</td>\n      <td>I am a developer by profession</td>\n      <td>True</td>\n      <td>The quality of OSS and closed source software ...</td>\n      <td>Employed full-time</td>\n      <td>No</td>\n      <td>Bachelor’s degree (BA, BS, B.Eng., etc.)</td>\n      <td>Information systems, information technology, o...</td>\n      <td>Received on-the-job training in software devel...</td>\n      <td>...</td>\n      <td>Tech articles written by other developers;Indu...</td>\n      <td>30.0</td>\n      <td>Man</td>\n      <td>No</td>\n      <td>NaN</td>\n      <td>NaN</td>\n      <td>Yes</td>\n      <td>Too long</td>\n      <td>Neither easy nor difficult</td>\n      <td>Afghanistan AFN</td>\n    </tr>\n  </tbody>\n</table>\n<p>3 rows × 84 columns</p>\n</div>"
     },
     "execution_count": 119,
     "metadata": {},
     "output_type": "execute_result"
    }
   ],
   "source": [
    "df = df.sort_index()\n",
    "\n",
    "df.head(3)"
   ]
  },
  {
   "cell_type": "markdown",
   "metadata": {},
   "source": [
    "We can grab the first 10 value of a specific variable  using function nlargest or the smallest using nsmallest"
   ]
  },
  {
   "cell_type": "code",
   "execution_count": 120,
   "metadata": {
    "ExecuteTime": {
     "end_time": "2023-07-13T15:54:19.370872572Z",
     "start_time": "2023-07-13T15:54:19.065226301Z"
    }
   },
   "outputs": [
    {
     "data": {
      "text/plain": "           Country  Respondent  \\\n9500        Canada     25983.0   \n22195      Germany     87896.0   \n29307        India     22013.0   \n32179        India     28243.0   \n33819        India     72732.0   \n41011       Mexico     78151.0   \n42333  Netherlands     80200.0   \n46870         Peru     52132.0   \n53005    Singapore     75561.0   \n58230  Switzerland     32250.0   \n\n                                              MainBranch Hobbyist  \\\n9500                      I am a developer by profession     True   \n22195                     I am a developer by profession     True   \n29307                     I am a developer by profession     True   \n32179                     I am a developer by profession     True   \n33819  I am not primarily a developer, but I write co...    False   \n41011                     I am a developer by profession     True   \n42333                     I am a developer by profession     True   \n46870                     I am a developer by profession     True   \n53005                     I am a developer by profession     True   \n58230                     I am a developer by profession     True   \n\n                                              OpenSource  \\\n9500   OSS is, on average, of HIGHER quality than pro...   \n22195  The quality of OSS and closed source software ...   \n29307  The quality of OSS and closed source software ...   \n32179  OSS is, on average, of HIGHER quality than pro...   \n33819  OSS is, on average, of LOWER quality than prop...   \n41011  OSS is, on average, of HIGHER quality than pro...   \n42333  OSS is, on average, of LOWER quality than prop...   \n46870  OSS is, on average, of HIGHER quality than pro...   \n53005  The quality of OSS and closed source software ...   \n58230  The quality of OSS and closed source software ...   \n\n                                              Employment         Student  \\\n9500                                  Employed full-time              No   \n22195                                 Employed full-time              No   \n29307                                 Employed full-time              No   \n32179  Independent contractor, freelancer, or self-em...              No   \n33819                                                NaN  Yes, full-time   \n41011                                 Employed full-time              No   \n42333                                 Employed full-time              No   \n46870                                 Employed full-time              No   \n53005                                 Employed full-time              No   \n58230                                 Employed full-time              No   \n\n                                                 EdLevel  \\\n9500            Bachelor’s degree (BA, BS, B.Eng., etc.)   \n22195           Bachelor’s degree (BA, BS, B.Eng., etc.)   \n29307                 Professional degree (JD, MD, etc.)   \n32179        Master’s degree (MA, MS, M.Eng., MBA, etc.)   \n33819           Bachelor’s degree (BA, BS, B.Eng., etc.)   \n41011           Bachelor’s degree (BA, BS, B.Eng., etc.)   \n42333           Bachelor’s degree (BA, BS, B.Eng., etc.)   \n46870  Some college/university study without earning ...   \n53005           Bachelor’s degree (BA, BS, B.Eng., etc.)   \n58230           Bachelor’s degree (BA, BS, B.Eng., etc.)   \n\n                                          UndergradMajor  \\\n9500   Computer science, computer engineering, or sof...   \n22195  Computer science, computer engineering, or sof...   \n29307  A natural science (ex. biology, chemistry, phy...   \n32179  Computer science, computer engineering, or sof...   \n33819  Computer science, computer engineering, or sof...   \n41011  Computer science, computer engineering, or sof...   \n42333  Computer science, computer engineering, or sof...   \n46870                           I never declared a major   \n53005  A humanities discipline (ex. literature, histo...   \n58230  Computer science, computer engineering, or sof...   \n\n                                                EduOther  ...  \\\n9500   Received on-the-job training in software devel...  ...   \n22195  Taken an online course in programming or softw...  ...   \n29307  Taken an online course in programming or softw...  ...   \n32179  Taken an online course in programming or softw...  ...   \n33819                Contributed to open source software  ...   \n41011  Taken an online course in programming or softw...  ...   \n42333  Received on-the-job training in software devel...  ...   \n46870  Completed an industry certification program (e...  ...   \n53005  Taken an online course in programming or softw...  ...   \n58230  Taken a part-time in-person course in programm...  ...   \n\n                                            SONewContent   Age Gender Trans  \\\n9500                                                 NaN  26.0    Man    No   \n22195  Tech articles written by other developers;Tech...  34.0    Man    No   \n29307  Tech articles written by other developers;Indu...   NaN    Man    No   \n32179                Tech meetups or events in your area   NaN    NaN   NaN   \n33819  Tech articles written by other developers;Tech...   NaN    Man    No   \n41011  Tech meetups or events in your area;Courses on...  34.0    Man    No   \n42333          Tech articles written by other developers  27.0  Woman    No   \n46870  Tech articles written by other developers;Tech...  50.0    Man   NaN   \n53005                Tech meetups or events in your area  39.0    Man    No   \n58230  Industry news about technologies you're intere...  32.0    Man    No   \n\n                     Sexuality  \\\n9500   Straight / Heterosexual   \n22195           Gay or Lesbian   \n29307  Straight / Heterosexual   \n32179  Straight / Heterosexual   \n33819                      NaN   \n41011  Straight / Heterosexual   \n42333                 Bisexual   \n46870                      NaN   \n53005  Straight / Heterosexual   \n58230  Straight / Heterosexual   \n\n                                               Ethnicity Dependents  \\\n9500                        White or of European descent         No   \n22195                       White or of European descent         No   \n29307                                                NaN        Yes   \n32179                                                NaN        Yes   \n33819                                                NaN        Yes   \n41011                          Hispanic or Latino/Latina         No   \n42333                       White or of European descent         No   \n46870  Black or of African descent;East Asian;Hispani...        Yes   \n53005                       White or of European descent        Yes   \n58230                       White or of European descent         No   \n\n                SurveyLength                  SurveyEase new_join_variable  \n9500   Appropriate in length                        Easy        Canada USD  \n22195  Appropriate in length  Neither easy nor difficult       Germany USD  \n29307               Too long                        Easy         India USD  \n32179              Too short                        Easy         India USD  \n33819               Too long                        Easy         India USD  \n41011  Appropriate in length                        Easy        Mexico USD  \n42333  Appropriate in length                        Easy   Netherlands USD  \n46870  Appropriate in length                        Easy          Peru USD  \n53005  Appropriate in length                        Easy     Singapore USD  \n58230  Appropriate in length                        Easy   Switzerland USD  \n\n[10 rows x 84 columns]",
      "text/html": "<div>\n<style scoped>\n    .dataframe tbody tr th:only-of-type {\n        vertical-align: middle;\n    }\n\n    .dataframe tbody tr th {\n        vertical-align: top;\n    }\n\n    .dataframe thead th {\n        text-align: right;\n    }\n</style>\n<table border=\"1\" class=\"dataframe\">\n  <thead>\n    <tr style=\"text-align: right;\">\n      <th></th>\n      <th>Country</th>\n      <th>Respondent</th>\n      <th>MainBranch</th>\n      <th>Hobbyist</th>\n      <th>OpenSource</th>\n      <th>Employment</th>\n      <th>Student</th>\n      <th>EdLevel</th>\n      <th>UndergradMajor</th>\n      <th>EduOther</th>\n      <th>...</th>\n      <th>SONewContent</th>\n      <th>Age</th>\n      <th>Gender</th>\n      <th>Trans</th>\n      <th>Sexuality</th>\n      <th>Ethnicity</th>\n      <th>Dependents</th>\n      <th>SurveyLength</th>\n      <th>SurveyEase</th>\n      <th>new_join_variable</th>\n    </tr>\n  </thead>\n  <tbody>\n    <tr>\n      <th>9500</th>\n      <td>Canada</td>\n      <td>25983.0</td>\n      <td>I am a developer by profession</td>\n      <td>True</td>\n      <td>OSS is, on average, of HIGHER quality than pro...</td>\n      <td>Employed full-time</td>\n      <td>No</td>\n      <td>Bachelor’s degree (BA, BS, B.Eng., etc.)</td>\n      <td>Computer science, computer engineering, or sof...</td>\n      <td>Received on-the-job training in software devel...</td>\n      <td>...</td>\n      <td>NaN</td>\n      <td>26.0</td>\n      <td>Man</td>\n      <td>No</td>\n      <td>Straight / Heterosexual</td>\n      <td>White or of European descent</td>\n      <td>No</td>\n      <td>Appropriate in length</td>\n      <td>Easy</td>\n      <td>Canada USD</td>\n    </tr>\n    <tr>\n      <th>22195</th>\n      <td>Germany</td>\n      <td>87896.0</td>\n      <td>I am a developer by profession</td>\n      <td>True</td>\n      <td>The quality of OSS and closed source software ...</td>\n      <td>Employed full-time</td>\n      <td>No</td>\n      <td>Bachelor’s degree (BA, BS, B.Eng., etc.)</td>\n      <td>Computer science, computer engineering, or sof...</td>\n      <td>Taken an online course in programming or softw...</td>\n      <td>...</td>\n      <td>Tech articles written by other developers;Tech...</td>\n      <td>34.0</td>\n      <td>Man</td>\n      <td>No</td>\n      <td>Gay or Lesbian</td>\n      <td>White or of European descent</td>\n      <td>No</td>\n      <td>Appropriate in length</td>\n      <td>Neither easy nor difficult</td>\n      <td>Germany USD</td>\n    </tr>\n    <tr>\n      <th>29307</th>\n      <td>India</td>\n      <td>22013.0</td>\n      <td>I am a developer by profession</td>\n      <td>True</td>\n      <td>The quality of OSS and closed source software ...</td>\n      <td>Employed full-time</td>\n      <td>No</td>\n      <td>Professional degree (JD, MD, etc.)</td>\n      <td>A natural science (ex. biology, chemistry, phy...</td>\n      <td>Taken an online course in programming or softw...</td>\n      <td>...</td>\n      <td>Tech articles written by other developers;Indu...</td>\n      <td>NaN</td>\n      <td>Man</td>\n      <td>No</td>\n      <td>Straight / Heterosexual</td>\n      <td>NaN</td>\n      <td>Yes</td>\n      <td>Too long</td>\n      <td>Easy</td>\n      <td>India USD</td>\n    </tr>\n    <tr>\n      <th>32179</th>\n      <td>India</td>\n      <td>28243.0</td>\n      <td>I am a developer by profession</td>\n      <td>True</td>\n      <td>OSS is, on average, of HIGHER quality than pro...</td>\n      <td>Independent contractor, freelancer, or self-em...</td>\n      <td>No</td>\n      <td>Master’s degree (MA, MS, M.Eng., MBA, etc.)</td>\n      <td>Computer science, computer engineering, or sof...</td>\n      <td>Taken an online course in programming or softw...</td>\n      <td>...</td>\n      <td>Tech meetups or events in your area</td>\n      <td>NaN</td>\n      <td>NaN</td>\n      <td>NaN</td>\n      <td>Straight / Heterosexual</td>\n      <td>NaN</td>\n      <td>Yes</td>\n      <td>Too short</td>\n      <td>Easy</td>\n      <td>India USD</td>\n    </tr>\n    <tr>\n      <th>33819</th>\n      <td>India</td>\n      <td>72732.0</td>\n      <td>I am not primarily a developer, but I write co...</td>\n      <td>False</td>\n      <td>OSS is, on average, of LOWER quality than prop...</td>\n      <td>NaN</td>\n      <td>Yes, full-time</td>\n      <td>Bachelor’s degree (BA, BS, B.Eng., etc.)</td>\n      <td>Computer science, computer engineering, or sof...</td>\n      <td>Contributed to open source software</td>\n      <td>...</td>\n      <td>Tech articles written by other developers;Tech...</td>\n      <td>NaN</td>\n      <td>Man</td>\n      <td>No</td>\n      <td>NaN</td>\n      <td>NaN</td>\n      <td>Yes</td>\n      <td>Too long</td>\n      <td>Easy</td>\n      <td>India USD</td>\n    </tr>\n    <tr>\n      <th>41011</th>\n      <td>Mexico</td>\n      <td>78151.0</td>\n      <td>I am a developer by profession</td>\n      <td>True</td>\n      <td>OSS is, on average, of HIGHER quality than pro...</td>\n      <td>Employed full-time</td>\n      <td>No</td>\n      <td>Bachelor’s degree (BA, BS, B.Eng., etc.)</td>\n      <td>Computer science, computer engineering, or sof...</td>\n      <td>Taken an online course in programming or softw...</td>\n      <td>...</td>\n      <td>Tech meetups or events in your area;Courses on...</td>\n      <td>34.0</td>\n      <td>Man</td>\n      <td>No</td>\n      <td>Straight / Heterosexual</td>\n      <td>Hispanic or Latino/Latina</td>\n      <td>No</td>\n      <td>Appropriate in length</td>\n      <td>Easy</td>\n      <td>Mexico USD</td>\n    </tr>\n    <tr>\n      <th>42333</th>\n      <td>Netherlands</td>\n      <td>80200.0</td>\n      <td>I am a developer by profession</td>\n      <td>True</td>\n      <td>OSS is, on average, of LOWER quality than prop...</td>\n      <td>Employed full-time</td>\n      <td>No</td>\n      <td>Bachelor’s degree (BA, BS, B.Eng., etc.)</td>\n      <td>Computer science, computer engineering, or sof...</td>\n      <td>Received on-the-job training in software devel...</td>\n      <td>...</td>\n      <td>Tech articles written by other developers</td>\n      <td>27.0</td>\n      <td>Woman</td>\n      <td>No</td>\n      <td>Bisexual</td>\n      <td>White or of European descent</td>\n      <td>No</td>\n      <td>Appropriate in length</td>\n      <td>Easy</td>\n      <td>Netherlands USD</td>\n    </tr>\n    <tr>\n      <th>46870</th>\n      <td>Peru</td>\n      <td>52132.0</td>\n      <td>I am a developer by profession</td>\n      <td>True</td>\n      <td>OSS is, on average, of HIGHER quality than pro...</td>\n      <td>Employed full-time</td>\n      <td>No</td>\n      <td>Some college/university study without earning ...</td>\n      <td>I never declared a major</td>\n      <td>Completed an industry certification program (e...</td>\n      <td>...</td>\n      <td>Tech articles written by other developers;Tech...</td>\n      <td>50.0</td>\n      <td>Man</td>\n      <td>NaN</td>\n      <td>NaN</td>\n      <td>Black or of African descent;East Asian;Hispani...</td>\n      <td>Yes</td>\n      <td>Appropriate in length</td>\n      <td>Easy</td>\n      <td>Peru USD</td>\n    </tr>\n    <tr>\n      <th>53005</th>\n      <td>Singapore</td>\n      <td>75561.0</td>\n      <td>I am a developer by profession</td>\n      <td>True</td>\n      <td>The quality of OSS and closed source software ...</td>\n      <td>Employed full-time</td>\n      <td>No</td>\n      <td>Bachelor’s degree (BA, BS, B.Eng., etc.)</td>\n      <td>A humanities discipline (ex. literature, histo...</td>\n      <td>Taken an online course in programming or softw...</td>\n      <td>...</td>\n      <td>Tech meetups or events in your area</td>\n      <td>39.0</td>\n      <td>Man</td>\n      <td>No</td>\n      <td>Straight / Heterosexual</td>\n      <td>White or of European descent</td>\n      <td>Yes</td>\n      <td>Appropriate in length</td>\n      <td>Easy</td>\n      <td>Singapore USD</td>\n    </tr>\n    <tr>\n      <th>58230</th>\n      <td>Switzerland</td>\n      <td>32250.0</td>\n      <td>I am a developer by profession</td>\n      <td>True</td>\n      <td>The quality of OSS and closed source software ...</td>\n      <td>Employed full-time</td>\n      <td>No</td>\n      <td>Bachelor’s degree (BA, BS, B.Eng., etc.)</td>\n      <td>Computer science, computer engineering, or sof...</td>\n      <td>Taken a part-time in-person course in programm...</td>\n      <td>...</td>\n      <td>Industry news about technologies you're intere...</td>\n      <td>32.0</td>\n      <td>Man</td>\n      <td>No</td>\n      <td>Straight / Heterosexual</td>\n      <td>White or of European descent</td>\n      <td>No</td>\n      <td>Appropriate in length</td>\n      <td>Easy</td>\n      <td>Switzerland USD</td>\n    </tr>\n  </tbody>\n</table>\n<p>10 rows × 84 columns</p>\n</div>"
     },
     "execution_count": 120,
     "metadata": {},
     "output_type": "execute_result"
    }
   ],
   "source": [
    "df.nlargest(10, 'SalaryUSD')"
   ]
  },
  {
   "cell_type": "markdown",
   "metadata": {},
   "source": [
    "### Basics Statistics\n",
    "\n",
    "We can use the following code to do basic statistics"
   ]
  },
  {
   "cell_type": "code",
   "execution_count": 121,
   "metadata": {
    "ExecuteTime": {
     "end_time": "2023-07-13T15:54:19.720546170Z",
     "start_time": "2023-07-13T15:54:19.422108146Z"
    }
   },
   "outputs": [
    {
     "data": {
      "text/plain": "57287.0"
     },
     "execution_count": 121,
     "metadata": {},
     "output_type": "execute_result"
    }
   ],
   "source": [
    "df['SalaryUSD'].median()"
   ]
  },
  {
   "cell_type": "code",
   "execution_count": 122,
   "metadata": {
    "ExecuteTime": {
     "end_time": "2023-07-13T15:54:19.864436292Z",
     "start_time": "2023-07-13T15:54:19.666427785Z"
    }
   },
   "outputs": [
    {
     "data": {
      "text/plain": "55823"
     },
     "execution_count": 122,
     "metadata": {},
     "output_type": "execute_result"
    }
   ],
   "source": [
    "#Count Entry not NaN\n",
    "df['SalaryUSD'].count()"
   ]
  },
  {
   "cell_type": "code",
   "execution_count": 123,
   "metadata": {
    "ExecuteTime": {
     "end_time": "2023-07-13T15:54:20.673877781Z",
     "start_time": "2023-07-13T15:54:19.802793368Z"
    }
   },
   "outputs": [
    {
     "data": {
      "text/plain": "True     71256\nFalse    17625\nTrue         1\nName: Hobbyist, dtype: int64"
     },
     "execution_count": 123,
     "metadata": {},
     "output_type": "execute_result"
    }
   ],
   "source": [
    "#Count yes and no of a variable\n",
    "df['Hobbyist'].value_counts()"
   ]
  },
  {
   "cell_type": "code",
   "execution_count": 124,
   "metadata": {
    "ExecuteTime": {
     "end_time": "2023-07-13T15:54:21.120022584Z",
     "start_time": "2023-07-13T15:54:19.997172144Z"
    }
   },
   "outputs": [
    {
     "data": {
      "text/plain": "Reddit                      14374\nYouTube                     13830\nWhatsApp                    13347\nFacebook                    13178\nTwitter                     11398\nInstagram                    6261\nI don't use social media     5553\nLinkedIn                     4501\nWeChat 微信                     667\nSnapchat                      628\nVK ВКонта́кте                 603\nWeibo 新浪微博                     56\nYouku Tudou 优酷                 21\nHello                          19\nName: SocialMedia, dtype: int64"
     },
     "execution_count": 124,
     "metadata": {},
     "output_type": "execute_result"
    }
   ],
   "source": [
    "#Count value of a certain variable\n",
    "df['SocialMedia'].value_counts()"
   ]
  },
  {
   "cell_type": "markdown",
   "metadata": {},
   "source": [
    "I can also create a new dataset created by aggregating a variblae, so for example we create here the new dataset that goup by Country."
   ]
  },
  {
   "cell_type": "code",
   "execution_count": 125,
   "metadata": {
    "ExecuteTime": {
     "end_time": "2023-07-13T15:54:21.347432893Z",
     "start_time": "2023-07-13T15:54:20.743145057Z"
    }
   },
   "outputs": [
    {
     "data": {
      "text/plain": "             Country  Respondent                      MainBranch Hobbyist  \\\n67263  United States      3130.0  I am a developer by profession     True   \n67264  United States     17015.0  I am a developer by profession    False   \n67265  United States     18454.0  I am a developer by profession     True   \n67266  United States     86683.0  I am a developer by profession     True   \n67267  United States     87065.0  I am a developer by profession     True   \n...              ...         ...                             ...      ...   \n88207  United States     69168.0  I am a developer by profession     True   \n88208  United States     30785.0  I am a developer by profession     True   \n88209  United States     69165.0  I am a developer by profession     True   \n88210  United States     30814.0  I am a developer by profession     True   \n88211  United States     33746.0  I am a developer by profession    False   \n\n                                              OpenSource  \\\n67263  The quality of OSS and closed source software ...   \n67264  OSS is, on average, of HIGHER quality than pro...   \n67265  The quality of OSS and closed source software ...   \n67266  The quality of OSS and closed source software ...   \n67267  The quality of OSS and closed source software ...   \n...                                                  ...   \n88207  OSS is, on average, of HIGHER quality than pro...   \n88208  The quality of OSS and closed source software ...   \n88209  The quality of OSS and closed source software ...   \n88210  The quality of OSS and closed source software ...   \n88211  The quality of OSS and closed source software ...   \n\n                                              Employment Student  \\\n67263                 Not employed, but looking for work      No   \n67264  Independent contractor, freelancer, or self-em...      No   \n67265                                 Employed full-time      No   \n67266                                 Employed full-time      No   \n67267                                 Employed full-time      No   \n...                                                  ...     ...   \n88207                                 Employed full-time      No   \n88208                                 Employed full-time      No   \n88209                                 Employed full-time      No   \n88210                                 Employed full-time      No   \n88211                                 Employed full-time      No   \n\n                                                 EdLevel  \\\n67263  Some college/university study without earning ...   \n67264                          Primary/elementary school   \n67265        Master’s degree (MA, MS, M.Eng., MBA, etc.)   \n67266           Bachelor’s degree (BA, BS, B.Eng., etc.)   \n67267           Bachelor’s degree (BA, BS, B.Eng., etc.)   \n...                                                  ...   \n88207  Some college/university study without earning ...   \n88208        Master’s degree (MA, MS, M.Eng., MBA, etc.)   \n88209  Secondary school (e.g. American high school, G...   \n88210           Bachelor’s degree (BA, BS, B.Eng., etc.)   \n88211           Bachelor’s degree (BA, BS, B.Eng., etc.)   \n\n                                          UndergradMajor  \\\n67263                           I never declared a major   \n67264                                                NaN   \n67265  A business discipline (ex. accounting, finance...   \n67266  Fine arts or performing arts (ex. graphic desi...   \n67267  Computer science, computer engineering, or sof...   \n...                                                  ...   \n88207  A business discipline (ex. accounting, finance...   \n88208  Computer science, computer engineering, or sof...   \n88209                                                NaN   \n88210  Computer science, computer engineering, or sof...   \n88211  Computer science, computer engineering, or sof...   \n\n                                                EduOther  ...  \\\n67263  Taken an online course in programming or softw...  ...   \n67264                                                NaN  ...   \n67265  Taken a part-time in-person course in programm...  ...   \n67266  Taken an online course in programming or softw...  ...   \n67267  Taken an online course in programming or softw...  ...   \n...                                                  ...  ...   \n88207  Taken an online course in programming or softw...  ...   \n88208  Taken an online course in programming or softw...  ...   \n88209  Received on-the-job training in software devel...  ...   \n88210  Received on-the-job training in software devel...  ...   \n88211  Taken an online course in programming or softw...  ...   \n\n                                            SONewContent   Age Gender Trans  \\\n67263  Industry news about technologies you're intere...  28.0    Man    No   \n67264  Tech articles written by other developers;Tech...  20.0    Man    No   \n67265       Courses on technologies you're interested in  33.0    Man    No   \n67266  Tech articles written by other developers;Cour...   NaN    Man    No   \n67267  Tech articles written by other developers;Indu...  33.0    Man    No   \n...                                                  ...   ...    ...   ...   \n88207  Tech articles written by other developers;Indu...  35.0    Man    No   \n88208  Tech articles written by other developers;Tech...  50.0    Man    No   \n88209  Tech articles written by other developers;Indu...  33.0    Man    No   \n88210                                                NaN  33.0    Man    No   \n88211                                                NaN  56.0    Man    No   \n\n                     Sexuality  \\\n67263  Straight / Heterosexual   \n67264  Straight / Heterosexual   \n67265  Straight / Heterosexual   \n67266  Straight / Heterosexual   \n67267  Straight / Heterosexual   \n...                        ...   \n88207  Straight / Heterosexual   \n88208  Straight / Heterosexual   \n88209  Straight / Heterosexual   \n88210  Straight / Heterosexual   \n88211  Straight / Heterosexual   \n\n                                               Ethnicity Dependents  \\\n67263  Black or of African descent;White or of Europe...         No   \n67264                       White or of European descent         No   \n67265                       White or of European descent        Yes   \n67266                       White or of European descent         No   \n67267  Hispanic or Latino/Latina;Native American, Pac...         No   \n...                                                  ...        ...   \n88207                       White or of European descent         No   \n88208                       White or of European descent         No   \n88209                       White or of European descent        Yes   \n88210                       White or of European descent        Yes   \n88211                       White or of European descent        Yes   \n\n                SurveyLength                  SurveyEase  new_join_variable  \n67263  Appropriate in length                        Easy                NaN  \n67264  Appropriate in length  Neither easy nor difficult  United States USD  \n67265               Too long                        Easy  United States USD  \n67266  Appropriate in length                        Easy  United States USD  \n67267  Appropriate in length                        Easy  United States USD  \n...                      ...                         ...                ...  \n88207  Appropriate in length  Neither easy nor difficult  United States USD  \n88208  Appropriate in length                        Easy  United States USD  \n88209  Appropriate in length                        Easy  United States USD  \n88210  Appropriate in length                        Easy  United States USD  \n88211  Appropriate in length                        Easy  United States USD  \n\n[20949 rows x 84 columns]",
      "text/html": "<div>\n<style scoped>\n    .dataframe tbody tr th:only-of-type {\n        vertical-align: middle;\n    }\n\n    .dataframe tbody tr th {\n        vertical-align: top;\n    }\n\n    .dataframe thead th {\n        text-align: right;\n    }\n</style>\n<table border=\"1\" class=\"dataframe\">\n  <thead>\n    <tr style=\"text-align: right;\">\n      <th></th>\n      <th>Country</th>\n      <th>Respondent</th>\n      <th>MainBranch</th>\n      <th>Hobbyist</th>\n      <th>OpenSource</th>\n      <th>Employment</th>\n      <th>Student</th>\n      <th>EdLevel</th>\n      <th>UndergradMajor</th>\n      <th>EduOther</th>\n      <th>...</th>\n      <th>SONewContent</th>\n      <th>Age</th>\n      <th>Gender</th>\n      <th>Trans</th>\n      <th>Sexuality</th>\n      <th>Ethnicity</th>\n      <th>Dependents</th>\n      <th>SurveyLength</th>\n      <th>SurveyEase</th>\n      <th>new_join_variable</th>\n    </tr>\n  </thead>\n  <tbody>\n    <tr>\n      <th>67263</th>\n      <td>United States</td>\n      <td>3130.0</td>\n      <td>I am a developer by profession</td>\n      <td>True</td>\n      <td>The quality of OSS and closed source software ...</td>\n      <td>Not employed, but looking for work</td>\n      <td>No</td>\n      <td>Some college/university study without earning ...</td>\n      <td>I never declared a major</td>\n      <td>Taken an online course in programming or softw...</td>\n      <td>...</td>\n      <td>Industry news about technologies you're intere...</td>\n      <td>28.0</td>\n      <td>Man</td>\n      <td>No</td>\n      <td>Straight / Heterosexual</td>\n      <td>Black or of African descent;White or of Europe...</td>\n      <td>No</td>\n      <td>Appropriate in length</td>\n      <td>Easy</td>\n      <td>NaN</td>\n    </tr>\n    <tr>\n      <th>67264</th>\n      <td>United States</td>\n      <td>17015.0</td>\n      <td>I am a developer by profession</td>\n      <td>False</td>\n      <td>OSS is, on average, of HIGHER quality than pro...</td>\n      <td>Independent contractor, freelancer, or self-em...</td>\n      <td>No</td>\n      <td>Primary/elementary school</td>\n      <td>NaN</td>\n      <td>NaN</td>\n      <td>...</td>\n      <td>Tech articles written by other developers;Tech...</td>\n      <td>20.0</td>\n      <td>Man</td>\n      <td>No</td>\n      <td>Straight / Heterosexual</td>\n      <td>White or of European descent</td>\n      <td>No</td>\n      <td>Appropriate in length</td>\n      <td>Neither easy nor difficult</td>\n      <td>United States USD</td>\n    </tr>\n    <tr>\n      <th>67265</th>\n      <td>United States</td>\n      <td>18454.0</td>\n      <td>I am a developer by profession</td>\n      <td>True</td>\n      <td>The quality of OSS and closed source software ...</td>\n      <td>Employed full-time</td>\n      <td>No</td>\n      <td>Master’s degree (MA, MS, M.Eng., MBA, etc.)</td>\n      <td>A business discipline (ex. accounting, finance...</td>\n      <td>Taken a part-time in-person course in programm...</td>\n      <td>...</td>\n      <td>Courses on technologies you're interested in</td>\n      <td>33.0</td>\n      <td>Man</td>\n      <td>No</td>\n      <td>Straight / Heterosexual</td>\n      <td>White or of European descent</td>\n      <td>Yes</td>\n      <td>Too long</td>\n      <td>Easy</td>\n      <td>United States USD</td>\n    </tr>\n    <tr>\n      <th>67266</th>\n      <td>United States</td>\n      <td>86683.0</td>\n      <td>I am a developer by profession</td>\n      <td>True</td>\n      <td>The quality of OSS and closed source software ...</td>\n      <td>Employed full-time</td>\n      <td>No</td>\n      <td>Bachelor’s degree (BA, BS, B.Eng., etc.)</td>\n      <td>Fine arts or performing arts (ex. graphic desi...</td>\n      <td>Taken an online course in programming or softw...</td>\n      <td>...</td>\n      <td>Tech articles written by other developers;Cour...</td>\n      <td>NaN</td>\n      <td>Man</td>\n      <td>No</td>\n      <td>Straight / Heterosexual</td>\n      <td>White or of European descent</td>\n      <td>No</td>\n      <td>Appropriate in length</td>\n      <td>Easy</td>\n      <td>United States USD</td>\n    </tr>\n    <tr>\n      <th>67267</th>\n      <td>United States</td>\n      <td>87065.0</td>\n      <td>I am a developer by profession</td>\n      <td>True</td>\n      <td>The quality of OSS and closed source software ...</td>\n      <td>Employed full-time</td>\n      <td>No</td>\n      <td>Bachelor’s degree (BA, BS, B.Eng., etc.)</td>\n      <td>Computer science, computer engineering, or sof...</td>\n      <td>Taken an online course in programming or softw...</td>\n      <td>...</td>\n      <td>Tech articles written by other developers;Indu...</td>\n      <td>33.0</td>\n      <td>Man</td>\n      <td>No</td>\n      <td>Straight / Heterosexual</td>\n      <td>Hispanic or Latino/Latina;Native American, Pac...</td>\n      <td>No</td>\n      <td>Appropriate in length</td>\n      <td>Easy</td>\n      <td>United States USD</td>\n    </tr>\n    <tr>\n      <th>...</th>\n      <td>...</td>\n      <td>...</td>\n      <td>...</td>\n      <td>...</td>\n      <td>...</td>\n      <td>...</td>\n      <td>...</td>\n      <td>...</td>\n      <td>...</td>\n      <td>...</td>\n      <td>...</td>\n      <td>...</td>\n      <td>...</td>\n      <td>...</td>\n      <td>...</td>\n      <td>...</td>\n      <td>...</td>\n      <td>...</td>\n      <td>...</td>\n      <td>...</td>\n      <td>...</td>\n    </tr>\n    <tr>\n      <th>88207</th>\n      <td>United States</td>\n      <td>69168.0</td>\n      <td>I am a developer by profession</td>\n      <td>True</td>\n      <td>OSS is, on average, of HIGHER quality than pro...</td>\n      <td>Employed full-time</td>\n      <td>No</td>\n      <td>Some college/university study without earning ...</td>\n      <td>A business discipline (ex. accounting, finance...</td>\n      <td>Taken an online course in programming or softw...</td>\n      <td>...</td>\n      <td>Tech articles written by other developers;Indu...</td>\n      <td>35.0</td>\n      <td>Man</td>\n      <td>No</td>\n      <td>Straight / Heterosexual</td>\n      <td>White or of European descent</td>\n      <td>No</td>\n      <td>Appropriate in length</td>\n      <td>Neither easy nor difficult</td>\n      <td>United States USD</td>\n    </tr>\n    <tr>\n      <th>88208</th>\n      <td>United States</td>\n      <td>30785.0</td>\n      <td>I am a developer by profession</td>\n      <td>True</td>\n      <td>The quality of OSS and closed source software ...</td>\n      <td>Employed full-time</td>\n      <td>No</td>\n      <td>Master’s degree (MA, MS, M.Eng., MBA, etc.)</td>\n      <td>Computer science, computer engineering, or sof...</td>\n      <td>Taken an online course in programming or softw...</td>\n      <td>...</td>\n      <td>Tech articles written by other developers;Tech...</td>\n      <td>50.0</td>\n      <td>Man</td>\n      <td>No</td>\n      <td>Straight / Heterosexual</td>\n      <td>White or of European descent</td>\n      <td>No</td>\n      <td>Appropriate in length</td>\n      <td>Easy</td>\n      <td>United States USD</td>\n    </tr>\n    <tr>\n      <th>88209</th>\n      <td>United States</td>\n      <td>69165.0</td>\n      <td>I am a developer by profession</td>\n      <td>True</td>\n      <td>The quality of OSS and closed source software ...</td>\n      <td>Employed full-time</td>\n      <td>No</td>\n      <td>Secondary school (e.g. American high school, G...</td>\n      <td>NaN</td>\n      <td>Received on-the-job training in software devel...</td>\n      <td>...</td>\n      <td>Tech articles written by other developers;Indu...</td>\n      <td>33.0</td>\n      <td>Man</td>\n      <td>No</td>\n      <td>Straight / Heterosexual</td>\n      <td>White or of European descent</td>\n      <td>Yes</td>\n      <td>Appropriate in length</td>\n      <td>Easy</td>\n      <td>United States USD</td>\n    </tr>\n    <tr>\n      <th>88210</th>\n      <td>United States</td>\n      <td>30814.0</td>\n      <td>I am a developer by profession</td>\n      <td>True</td>\n      <td>The quality of OSS and closed source software ...</td>\n      <td>Employed full-time</td>\n      <td>No</td>\n      <td>Bachelor’s degree (BA, BS, B.Eng., etc.)</td>\n      <td>Computer science, computer engineering, or sof...</td>\n      <td>Received on-the-job training in software devel...</td>\n      <td>...</td>\n      <td>NaN</td>\n      <td>33.0</td>\n      <td>Man</td>\n      <td>No</td>\n      <td>Straight / Heterosexual</td>\n      <td>White or of European descent</td>\n      <td>Yes</td>\n      <td>Appropriate in length</td>\n      <td>Easy</td>\n      <td>United States USD</td>\n    </tr>\n    <tr>\n      <th>88211</th>\n      <td>United States</td>\n      <td>33746.0</td>\n      <td>I am a developer by profession</td>\n      <td>False</td>\n      <td>The quality of OSS and closed source software ...</td>\n      <td>Employed full-time</td>\n      <td>No</td>\n      <td>Bachelor’s degree (BA, BS, B.Eng., etc.)</td>\n      <td>Computer science, computer engineering, or sof...</td>\n      <td>Taken an online course in programming or softw...</td>\n      <td>...</td>\n      <td>NaN</td>\n      <td>56.0</td>\n      <td>Man</td>\n      <td>No</td>\n      <td>Straight / Heterosexual</td>\n      <td>White or of European descent</td>\n      <td>Yes</td>\n      <td>Appropriate in length</td>\n      <td>Easy</td>\n      <td>United States USD</td>\n    </tr>\n  </tbody>\n</table>\n<p>20949 rows × 84 columns</p>\n</div>"
     },
     "execution_count": 125,
     "metadata": {},
     "output_type": "execute_result"
    }
   ],
   "source": [
    "country_grp = df.groupby(['Country'])\n",
    "\n",
    "country_grp.get_group('United States')"
   ]
  },
  {
   "cell_type": "markdown",
   "metadata": {},
   "source": [
    "I can also show the count after filtering the data, for example socuial media used by indians"
   ]
  },
  {
   "cell_type": "code",
   "execution_count": 126,
   "metadata": {
    "ExecuteTime": {
     "end_time": "2023-07-13T15:54:21.383505482Z",
     "start_time": "2023-07-13T15:54:20.912521497Z"
    }
   },
   "outputs": [
    {
     "data": {
      "text/plain": "WhatsApp                    0.342379\nYouTube                     0.208405\nLinkedIn                    0.109355\nFacebook                    0.096301\nInstagram                   0.094126\nTwitter                     0.062063\nReddit                      0.054162\nI don't use social media    0.028627\nSnapchat                    0.002634\nWeChat 微信                   0.000573\nHello                       0.000573\nVK ВКонта́кте               0.000458\nYouku Tudou 优酷              0.000229\nWeibo 新浪微博                  0.000115\nName: SocialMedia, dtype: float64"
     },
     "execution_count": 126,
     "metadata": {},
     "output_type": "execute_result"
    }
   ],
   "source": [
    "#Define Filter\n",
    "filt = df['Country'] == 'India'\n",
    "\n",
    "#Count data with a normalization at 1\n",
    "df.loc[filt]['SocialMedia'].value_counts(normalize = True)"
   ]
  },
  {
   "cell_type": "markdown",
   "metadata": {},
   "source": [
    "But we can do the exact same thing using the goupby"
   ]
  },
  {
   "cell_type": "code",
   "execution_count": 127,
   "metadata": {
    "ExecuteTime": {
     "end_time": "2023-07-13T15:54:21.485251109Z",
     "start_time": "2023-07-13T15:54:21.292360216Z"
    }
   },
   "outputs": [
    {
     "data": {
      "text/plain": "SocialMedia\nWhatsApp                    0.342379\nYouTube                     0.208405\nLinkedIn                    0.109355\nFacebook                    0.096301\nInstagram                   0.094126\nTwitter                     0.062063\nReddit                      0.054162\nI don't use social media    0.028627\nSnapchat                    0.002634\nHello                       0.000573\nWeChat 微信                   0.000573\nVK ВКонта́кте               0.000458\nYouku Tudou 优酷              0.000229\nWeibo 新浪微博                  0.000115\nName: SocialMedia, dtype: float64"
     },
     "execution_count": 127,
     "metadata": {},
     "output_type": "execute_result"
    }
   ],
   "source": [
    "country_grp['SocialMedia'].value_counts(normalize=True).loc['India']"
   ]
  },
  {
   "cell_type": "code",
   "execution_count": 128,
   "metadata": {
    "ExecuteTime": {
     "end_time": "2023-07-13T15:54:21.809785704Z",
     "start_time": "2023-07-13T15:54:21.463145982Z"
    }
   },
   "outputs": [
    {
     "data": {
      "text/plain": "63016.0"
     },
     "execution_count": 128,
     "metadata": {},
     "output_type": "execute_result"
    }
   ],
   "source": [
    "#Compute median\n",
    "country_grp['SalaryUSD'].median().loc['Germany']"
   ]
  },
  {
   "cell_type": "code",
   "execution_count": 129,
   "metadata": {
    "ExecuteTime": {
     "end_time": "2023-07-13T15:54:22.137318313Z",
     "start_time": "2023-07-13T15:54:21.692408272Z"
    }
   },
   "outputs": [
    {
     "data": {
      "text/plain": "Country\nAfghanistan                              8\nAlbania                                 23\nAlgeria                                 40\nAndorra                                  0\nAngola                                   2\n                                        ..\nVenezuela, Bolivarian Republic of...    28\nViet Nam                                78\nYemen                                    3\nZambia                                   4\nZimbabwe                                14\nName: LanguageWorkedWith, Length: 181, dtype: int64"
     },
     "execution_count": 129,
     "metadata": {},
     "output_type": "execute_result"
    }
   ],
   "source": [
    "# Return number that python appear grouping by country.\n",
    "country_grp['LanguageWorkedWith'].apply(lambda x: x.str.contains('Python').sum())"
   ]
  },
  {
   "cell_type": "markdown",
   "metadata": {},
   "source": [
    "### Clean data and Missing Value"
   ]
  },
  {
   "cell_type": "code",
   "execution_count": 130,
   "metadata": {
    "ExecuteTime": {
     "end_time": "2023-07-13T15:54:23.103423751Z",
     "start_time": "2023-07-13T15:54:22.096604318Z"
    }
   },
   "outputs": [
    {
     "data": {
      "text/plain": "         Country  Respondent  \\\n75       Albania     13385.0   \n104      Albania     11549.0   \n127      Albania      9270.0   \n259      Algeria     64369.0   \n296    Argentina     32870.0   \n...          ...         ...   \n88479   Viet Nam     46585.0   \n88492   Viet Nam     35116.0   \n88508   Viet Nam     18279.0   \n88590   Viet Nam     27191.0   \n88679   Viet Nam     20580.0   \n\n                                              MainBranch Hobbyist  \\\n75                        I am a developer by profession     True   \n104                       I am a developer by profession     True   \n127                       I am a developer by profession    False   \n259                       I am a developer by profession     True   \n296                       I am a developer by profession     True   \n...                                                  ...      ...   \n88479  I am not primarily a developer, but I write co...    False   \n88492                     I am a developer by profession     True   \n88508                     I am a developer by profession     True   \n88590                     I am a developer by profession     True   \n88679                     I am a developer by profession    False   \n\n                                              OpenSource          Employment  \\\n75     The quality of OSS and closed source software ...  Employed full-time   \n104    The quality of OSS and closed source software ...  Employed full-time   \n127    OSS is, on average, of LOWER quality than prop...  Employed full-time   \n259    OSS is, on average, of LOWER quality than prop...  Employed full-time   \n296    The quality of OSS and closed source software ...  Employed full-time   \n...                                                  ...                 ...   \n88479  OSS is, on average, of HIGHER quality than pro...  Employed full-time   \n88492  OSS is, on average, of HIGHER quality than pro...  Employed full-time   \n88508  The quality of OSS and closed source software ...  Employed full-time   \n88590  The quality of OSS and closed source software ...  Employed full-time   \n88679  OSS is, on average, of HIGHER quality than pro...  Employed full-time   \n\n              Student                                            EdLevel  \\\n75                 No           Bachelor’s degree (BA, BS, B.Eng., etc.)   \n104    Yes, full-time           Bachelor’s degree (BA, BS, B.Eng., etc.)   \n127                No  Some college/university study without earning ...   \n259                No        Master’s degree (MA, MS, M.Eng., MBA, etc.)   \n296    Yes, full-time        Master’s degree (MA, MS, M.Eng., MBA, etc.)   \n...               ...                                                ...   \n88479              No           Bachelor’s degree (BA, BS, B.Eng., etc.)   \n88492              No  Some college/university study without earning ...   \n88508              No  Some college/university study without earning ...   \n88590              No           Bachelor’s degree (BA, BS, B.Eng., etc.)   \n88679  Yes, full-time           Bachelor’s degree (BA, BS, B.Eng., etc.)   \n\n                                          UndergradMajor  \\\n75     Computer science, computer engineering, or sof...   \n104    Computer science, computer engineering, or sof...   \n127    Computer science, computer engineering, or sof...   \n259    Information systems, information technology, o...   \n296    Computer science, computer engineering, or sof...   \n...                                                  ...   \n88479  Computer science, computer engineering, or sof...   \n88492  A business discipline (ex. accounting, finance...   \n88508  Computer science, computer engineering, or sof...   \n88590  Information systems, information technology, o...   \n88679  Computer science, computer engineering, or sof...   \n\n                                                EduOther  ...  \\\n75     Taken an online course in programming or softw...  ...   \n104    Taken an online course in programming or softw...  ...   \n127    Taken an online course in programming or softw...  ...   \n259    Taught yourself a new language, framework, or ...  ...   \n296    Taken an online course in programming or softw...  ...   \n...                                                  ...  ...   \n88479  Taken an online course in programming or softw...  ...   \n88492  Taken an online course in programming or softw...  ...   \n88508  Taken an online course in programming or softw...  ...   \n88590  Completed an industry certification program (e...  ...   \n88679  Taken an online course in programming or softw...  ...   \n\n                                            SONewContent   Age Gender Trans  \\\n75     Tech articles written by other developers;Tech...  26.0    Man    No   \n104    Tech articles written by other developers;Indu...  24.0  Woman    No   \n127    Tech articles written by other developers;Indu...  23.0    Man    No   \n259    Tech articles written by other developers;Indu...  29.0    Man    No   \n296    Tech articles written by other developers;Indu...  32.0    Man    No   \n...                                                  ...   ...    ...   ...   \n88479                Tech meetups or events in your area  32.0    Man    No   \n88492  Tech articles written by other developers;Indu...  30.0    Man    No   \n88508  Tech articles written by other developers;Cour...  30.0    Man    No   \n88590  Tech articles written by other developers;Indu...  34.0    Man    No   \n88679  Tech articles written by other developers;Indu...  27.0    Man    No   \n\n                     Sexuality  \\\n75     Straight / Heterosexual   \n104    Straight / Heterosexual   \n127    Straight / Heterosexual   \n259    Straight / Heterosexual   \n296    Straight / Heterosexual   \n...                        ...   \n88479  Straight / Heterosexual   \n88492  Straight / Heterosexual   \n88508  Straight / Heterosexual   \n88590  Straight / Heterosexual   \n88679  Straight / Heterosexual   \n\n                                               Ethnicity Dependents  \\\n75                          White or of European descent         No   \n104                         White or of European descent         No   \n127                         White or of European descent        Yes   \n259    Black or of African descent;White or of Europe...        Yes   \n296    Hispanic or Latino/Latina;White or of European...         No   \n...                                                  ...        ...   \n88479                                         East Asian        Yes   \n88492                                         East Asian         No   \n88508                       White or of European descent         No   \n88590                                         East Asian        Yes   \n88679                                         East Asian        Yes   \n\n                SurveyLength                  SurveyEase new_join_variable  \n75     Appropriate in length                        Easy       Albania ALL  \n104                 Too long  Neither easy nor difficult       Albania ALL  \n127    Appropriate in length                        Easy       Albania EUR  \n259    Appropriate in length                        Easy       Algeria DZD  \n296                 Too long  Neither easy nor difficult     Argentina ARS  \n...                      ...                         ...               ...  \n88479               Too long  Neither easy nor difficult      Viet Nam VND  \n88492  Appropriate in length                        Easy      Viet Nam VND  \n88508  Appropriate in length                        Easy      Viet Nam USD  \n88590               Too long  Neither easy nor difficult      Viet Nam VND  \n88679  Appropriate in length  Neither easy nor difficult      Viet Nam USD  \n\n[3475 rows x 84 columns]",
      "text/html": "<div>\n<style scoped>\n    .dataframe tbody tr th:only-of-type {\n        vertical-align: middle;\n    }\n\n    .dataframe tbody tr th {\n        vertical-align: top;\n    }\n\n    .dataframe thead th {\n        text-align: right;\n    }\n</style>\n<table border=\"1\" class=\"dataframe\">\n  <thead>\n    <tr style=\"text-align: right;\">\n      <th></th>\n      <th>Country</th>\n      <th>Respondent</th>\n      <th>MainBranch</th>\n      <th>Hobbyist</th>\n      <th>OpenSource</th>\n      <th>Employment</th>\n      <th>Student</th>\n      <th>EdLevel</th>\n      <th>UndergradMajor</th>\n      <th>EduOther</th>\n      <th>...</th>\n      <th>SONewContent</th>\n      <th>Age</th>\n      <th>Gender</th>\n      <th>Trans</th>\n      <th>Sexuality</th>\n      <th>Ethnicity</th>\n      <th>Dependents</th>\n      <th>SurveyLength</th>\n      <th>SurveyEase</th>\n      <th>new_join_variable</th>\n    </tr>\n  </thead>\n  <tbody>\n    <tr>\n      <th>75</th>\n      <td>Albania</td>\n      <td>13385.0</td>\n      <td>I am a developer by profession</td>\n      <td>True</td>\n      <td>The quality of OSS and closed source software ...</td>\n      <td>Employed full-time</td>\n      <td>No</td>\n      <td>Bachelor’s degree (BA, BS, B.Eng., etc.)</td>\n      <td>Computer science, computer engineering, or sof...</td>\n      <td>Taken an online course in programming or softw...</td>\n      <td>...</td>\n      <td>Tech articles written by other developers;Tech...</td>\n      <td>26.0</td>\n      <td>Man</td>\n      <td>No</td>\n      <td>Straight / Heterosexual</td>\n      <td>White or of European descent</td>\n      <td>No</td>\n      <td>Appropriate in length</td>\n      <td>Easy</td>\n      <td>Albania ALL</td>\n    </tr>\n    <tr>\n      <th>104</th>\n      <td>Albania</td>\n      <td>11549.0</td>\n      <td>I am a developer by profession</td>\n      <td>True</td>\n      <td>The quality of OSS and closed source software ...</td>\n      <td>Employed full-time</td>\n      <td>Yes, full-time</td>\n      <td>Bachelor’s degree (BA, BS, B.Eng., etc.)</td>\n      <td>Computer science, computer engineering, or sof...</td>\n      <td>Taken an online course in programming or softw...</td>\n      <td>...</td>\n      <td>Tech articles written by other developers;Indu...</td>\n      <td>24.0</td>\n      <td>Woman</td>\n      <td>No</td>\n      <td>Straight / Heterosexual</td>\n      <td>White or of European descent</td>\n      <td>No</td>\n      <td>Too long</td>\n      <td>Neither easy nor difficult</td>\n      <td>Albania ALL</td>\n    </tr>\n    <tr>\n      <th>127</th>\n      <td>Albania</td>\n      <td>9270.0</td>\n      <td>I am a developer by profession</td>\n      <td>False</td>\n      <td>OSS is, on average, of LOWER quality than prop...</td>\n      <td>Employed full-time</td>\n      <td>No</td>\n      <td>Some college/university study without earning ...</td>\n      <td>Computer science, computer engineering, or sof...</td>\n      <td>Taken an online course in programming or softw...</td>\n      <td>...</td>\n      <td>Tech articles written by other developers;Indu...</td>\n      <td>23.0</td>\n      <td>Man</td>\n      <td>No</td>\n      <td>Straight / Heterosexual</td>\n      <td>White or of European descent</td>\n      <td>Yes</td>\n      <td>Appropriate in length</td>\n      <td>Easy</td>\n      <td>Albania EUR</td>\n    </tr>\n    <tr>\n      <th>259</th>\n      <td>Algeria</td>\n      <td>64369.0</td>\n      <td>I am a developer by profession</td>\n      <td>True</td>\n      <td>OSS is, on average, of LOWER quality than prop...</td>\n      <td>Employed full-time</td>\n      <td>No</td>\n      <td>Master’s degree (MA, MS, M.Eng., MBA, etc.)</td>\n      <td>Information systems, information technology, o...</td>\n      <td>Taught yourself a new language, framework, or ...</td>\n      <td>...</td>\n      <td>Tech articles written by other developers;Indu...</td>\n      <td>29.0</td>\n      <td>Man</td>\n      <td>No</td>\n      <td>Straight / Heterosexual</td>\n      <td>Black or of African descent;White or of Europe...</td>\n      <td>Yes</td>\n      <td>Appropriate in length</td>\n      <td>Easy</td>\n      <td>Algeria DZD</td>\n    </tr>\n    <tr>\n      <th>296</th>\n      <td>Argentina</td>\n      <td>32870.0</td>\n      <td>I am a developer by profession</td>\n      <td>True</td>\n      <td>The quality of OSS and closed source software ...</td>\n      <td>Employed full-time</td>\n      <td>Yes, full-time</td>\n      <td>Master’s degree (MA, MS, M.Eng., MBA, etc.)</td>\n      <td>Computer science, computer engineering, or sof...</td>\n      <td>Taken an online course in programming or softw...</td>\n      <td>...</td>\n      <td>Tech articles written by other developers;Indu...</td>\n      <td>32.0</td>\n      <td>Man</td>\n      <td>No</td>\n      <td>Straight / Heterosexual</td>\n      <td>Hispanic or Latino/Latina;White or of European...</td>\n      <td>No</td>\n      <td>Too long</td>\n      <td>Neither easy nor difficult</td>\n      <td>Argentina ARS</td>\n    </tr>\n    <tr>\n      <th>...</th>\n      <td>...</td>\n      <td>...</td>\n      <td>...</td>\n      <td>...</td>\n      <td>...</td>\n      <td>...</td>\n      <td>...</td>\n      <td>...</td>\n      <td>...</td>\n      <td>...</td>\n      <td>...</td>\n      <td>...</td>\n      <td>...</td>\n      <td>...</td>\n      <td>...</td>\n      <td>...</td>\n      <td>...</td>\n      <td>...</td>\n      <td>...</td>\n      <td>...</td>\n      <td>...</td>\n    </tr>\n    <tr>\n      <th>88479</th>\n      <td>Viet Nam</td>\n      <td>46585.0</td>\n      <td>I am not primarily a developer, but I write co...</td>\n      <td>False</td>\n      <td>OSS is, on average, of HIGHER quality than pro...</td>\n      <td>Employed full-time</td>\n      <td>No</td>\n      <td>Bachelor’s degree (BA, BS, B.Eng., etc.)</td>\n      <td>Computer science, computer engineering, or sof...</td>\n      <td>Taken an online course in programming or softw...</td>\n      <td>...</td>\n      <td>Tech meetups or events in your area</td>\n      <td>32.0</td>\n      <td>Man</td>\n      <td>No</td>\n      <td>Straight / Heterosexual</td>\n      <td>East Asian</td>\n      <td>Yes</td>\n      <td>Too long</td>\n      <td>Neither easy nor difficult</td>\n      <td>Viet Nam VND</td>\n    </tr>\n    <tr>\n      <th>88492</th>\n      <td>Viet Nam</td>\n      <td>35116.0</td>\n      <td>I am a developer by profession</td>\n      <td>True</td>\n      <td>OSS is, on average, of HIGHER quality than pro...</td>\n      <td>Employed full-time</td>\n      <td>No</td>\n      <td>Some college/university study without earning ...</td>\n      <td>A business discipline (ex. accounting, finance...</td>\n      <td>Taken an online course in programming or softw...</td>\n      <td>...</td>\n      <td>Tech articles written by other developers;Indu...</td>\n      <td>30.0</td>\n      <td>Man</td>\n      <td>No</td>\n      <td>Straight / Heterosexual</td>\n      <td>East Asian</td>\n      <td>No</td>\n      <td>Appropriate in length</td>\n      <td>Easy</td>\n      <td>Viet Nam VND</td>\n    </tr>\n    <tr>\n      <th>88508</th>\n      <td>Viet Nam</td>\n      <td>18279.0</td>\n      <td>I am a developer by profession</td>\n      <td>True</td>\n      <td>The quality of OSS and closed source software ...</td>\n      <td>Employed full-time</td>\n      <td>No</td>\n      <td>Some college/university study without earning ...</td>\n      <td>Computer science, computer engineering, or sof...</td>\n      <td>Taken an online course in programming or softw...</td>\n      <td>...</td>\n      <td>Tech articles written by other developers;Cour...</td>\n      <td>30.0</td>\n      <td>Man</td>\n      <td>No</td>\n      <td>Straight / Heterosexual</td>\n      <td>White or of European descent</td>\n      <td>No</td>\n      <td>Appropriate in length</td>\n      <td>Easy</td>\n      <td>Viet Nam USD</td>\n    </tr>\n    <tr>\n      <th>88590</th>\n      <td>Viet Nam</td>\n      <td>27191.0</td>\n      <td>I am a developer by profession</td>\n      <td>True</td>\n      <td>The quality of OSS and closed source software ...</td>\n      <td>Employed full-time</td>\n      <td>No</td>\n      <td>Bachelor’s degree (BA, BS, B.Eng., etc.)</td>\n      <td>Information systems, information technology, o...</td>\n      <td>Completed an industry certification program (e...</td>\n      <td>...</td>\n      <td>Tech articles written by other developers;Indu...</td>\n      <td>34.0</td>\n      <td>Man</td>\n      <td>No</td>\n      <td>Straight / Heterosexual</td>\n      <td>East Asian</td>\n      <td>Yes</td>\n      <td>Too long</td>\n      <td>Neither easy nor difficult</td>\n      <td>Viet Nam VND</td>\n    </tr>\n    <tr>\n      <th>88679</th>\n      <td>Viet Nam</td>\n      <td>20580.0</td>\n      <td>I am a developer by profession</td>\n      <td>False</td>\n      <td>OSS is, on average, of HIGHER quality than pro...</td>\n      <td>Employed full-time</td>\n      <td>Yes, full-time</td>\n      <td>Bachelor’s degree (BA, BS, B.Eng., etc.)</td>\n      <td>Computer science, computer engineering, or sof...</td>\n      <td>Taken an online course in programming or softw...</td>\n      <td>...</td>\n      <td>Tech articles written by other developers;Indu...</td>\n      <td>27.0</td>\n      <td>Man</td>\n      <td>No</td>\n      <td>Straight / Heterosexual</td>\n      <td>East Asian</td>\n      <td>Yes</td>\n      <td>Appropriate in length</td>\n      <td>Neither easy nor difficult</td>\n      <td>Viet Nam USD</td>\n    </tr>\n  </tbody>\n</table>\n<p>3475 rows × 84 columns</p>\n</div>"
     },
     "execution_count": 130,
     "metadata": {},
     "output_type": "execute_result"
    }
   ],
   "source": [
    "#Drop all Nan value\n",
    "df.dropna()"
   ]
  },
  {
   "cell_type": "code",
   "execution_count": 131,
   "metadata": {
    "ExecuteTime": {
     "end_time": "2023-07-13T15:54:23.106640735Z",
     "start_time": "2023-07-13T15:54:22.844067021Z"
    }
   },
   "outputs": [
    {
     "data": {
      "text/plain": "           Country  Respondent                              MainBranch  \\\n0      Afghanistan     39258.0          I am a developer by profession   \n1      Afghanistan     63129.0          I am a developer by profession   \n2           Russia     85715.0          I am a developer by profession   \n3      Afghanistan     50767.0          I am a developer by profession   \n5      Afghanistan     63019.0                                     NaN   \n...            ...         ...                                     ...   \n88747     Zimbabwe      3845.0          I am a developer by profession   \n88748     Zimbabwe     35092.0          I am a developer by profession   \n88749     Zimbabwe     57894.0  I am a student who is learning to code   \n88750     Zimbabwe     61083.0  I am a student who is learning to code   \n88883      Bergamo         NaN                                     NaN   \n\n      Hobbyist                                         OpenSource  \\\n0         True  OSS is, on average, of LOWER quality than prop...   \n1         True  OSS is, on average, of HIGHER quality than pro...   \n2         True  The quality of OSS and closed source software ...   \n3        False                                                NaN   \n5        False  OSS is, on average, of LOWER quality than prop...   \n...        ...                                                ...   \n88747     True  The quality of OSS and closed source software ...   \n88748     True  OSS is, on average, of LOWER quality than prop...   \n88749     True                                                NaN   \n88750     True  OSS is, on average, of HIGHER quality than pro...   \n88883      NaN                                                NaN   \n\n                                              Employment         Student  \\\n0                                     Employed full-time              No   \n1                                     Employed full-time  Yes, full-time   \n2                                     Employed full-time              No   \n3      Independent contractor, freelancer, or self-em...  Yes, part-time   \n5                                                    NaN              No   \n...                                                  ...             ...   \n88747                                 Employed full-time              No   \n88748                                 Employed full-time              No   \n88749                                                NaN  Yes, full-time   \n88750                 Not employed, but looking for work  Yes, part-time   \n88883                                                NaN             NaN   \n\n                                                 EdLevel  \\\n0               Bachelor’s degree (BA, BS, B.Eng., etc.)   \n1                 I never completed any formal education   \n2               Bachelor’s degree (BA, BS, B.Eng., etc.)   \n3                                       Associate degree   \n5      Some college/university study without earning ...   \n...                                                  ...   \n88747           Bachelor’s degree (BA, BS, B.Eng., etc.)   \n88748                                                NaN   \n88749  Secondary school (e.g. American high school, G...   \n88750  Some college/university study without earning ...   \n88883                                                NaN   \n\n                                          UndergradMajor  \\\n0      Computer science, computer engineering, or sof...   \n1                                                    NaN   \n2      Information systems, information technology, o...   \n3      A health science (ex. nursing, pharmacy, radio...   \n5      A social science (ex. anthropology, psychology...   \n...                                                  ...   \n88747  Information systems, information technology, o...   \n88748  Computer science, computer engineering, or sof...   \n88749                                                NaN   \n88750  Computer science, computer engineering, or sof...   \n88883                                                NaN   \n\n                                                EduOther  ...  \\\n0      Taken an online course in programming or softw...  ...   \n1      Taken an online course in programming or softw...  ...   \n2      Received on-the-job training in software devel...  ...   \n3      Completed an industry certification program (e...  ...   \n5                            Participated in a hackathon  ...   \n...                                                  ...  ...   \n88747  Taken an online course in programming or softw...  ...   \n88748  Taken an online course in programming or softw...  ...   \n88749                                                NaN  ...   \n88750  Taken an online course in programming or softw...  ...   \n88883                                                NaN  ...   \n\n                                            SONewContent   Age Gender Trans  \\\n0      Tech articles written by other developers;Indu...  28.0    Man    No   \n1              Tech articles written by other developers   NaN    NaN   NaN   \n2      Tech articles written by other developers;Indu...  30.0    Man    No   \n3                                                    NaN   NaN    NaN   NaN   \n5           Courses on technologies you're interested in   NaN    Man   NaN   \n...                                                  ...   ...    ...   ...   \n88747  Tech articles written by other developers;Indu...  30.0    Man    No   \n88748  Industry news about technologies you're intere...  31.0    Man    No   \n88749  Tech articles written by other developers;Indu...  23.0    Man   NaN   \n88750  Tech articles written by other developers;Indu...  28.0    Man   NaN   \n88883                                                NaN   NaN    NaN   NaN   \n\n                     Sexuality                                Ethnicity  \\\n0      Straight / Heterosexual                   East Asian;South Asian   \n1                          NaN                                      NaN   \n2                          NaN                                      NaN   \n3                          NaN                                      NaN   \n5                          NaN                           Middle Eastern   \n...                        ...                                      ...   \n88747  Straight / Heterosexual              Black or of African descent   \n88748  Straight / Heterosexual  Black or of African descent;Multiracial   \n88749  Straight / Heterosexual              Black or of African descent   \n88750                      NaN              Black or of African descent   \n88883                      NaN                                      NaN   \n\n      Dependents           SurveyLength                  SurveyEase  \\\n0            Yes               Too long                        Easy   \n1            Yes              Too short                        Easy   \n2            Yes               Too long  Neither easy nor difficult   \n3            NaN                    NaN                         NaN   \n5             No              Too short  Neither easy nor difficult   \n...          ...                    ...                         ...   \n88747         No               Too long                        Easy   \n88748        Yes  Appropriate in length                        Easy   \n88749         No               Too long  Neither easy nor difficult   \n88750        Yes               Too long  Neither easy nor difficult   \n88883        NaN                    NaN                         NaN   \n\n      new_join_variable  \n0       Afghanistan AFN  \n1       Afghanistan AED  \n2       Afghanistan AFN  \n3       Afghanistan AMD  \n5                   NaN  \n...                 ...  \n88747      Zimbabwe USD  \n88748      Zimbabwe USD  \n88749               NaN  \n88750               NaN  \n88883               NaN  \n\n[88751 rows x 84 columns]",
      "text/html": "<div>\n<style scoped>\n    .dataframe tbody tr th:only-of-type {\n        vertical-align: middle;\n    }\n\n    .dataframe tbody tr th {\n        vertical-align: top;\n    }\n\n    .dataframe thead th {\n        text-align: right;\n    }\n</style>\n<table border=\"1\" class=\"dataframe\">\n  <thead>\n    <tr style=\"text-align: right;\">\n      <th></th>\n      <th>Country</th>\n      <th>Respondent</th>\n      <th>MainBranch</th>\n      <th>Hobbyist</th>\n      <th>OpenSource</th>\n      <th>Employment</th>\n      <th>Student</th>\n      <th>EdLevel</th>\n      <th>UndergradMajor</th>\n      <th>EduOther</th>\n      <th>...</th>\n      <th>SONewContent</th>\n      <th>Age</th>\n      <th>Gender</th>\n      <th>Trans</th>\n      <th>Sexuality</th>\n      <th>Ethnicity</th>\n      <th>Dependents</th>\n      <th>SurveyLength</th>\n      <th>SurveyEase</th>\n      <th>new_join_variable</th>\n    </tr>\n  </thead>\n  <tbody>\n    <tr>\n      <th>0</th>\n      <td>Afghanistan</td>\n      <td>39258.0</td>\n      <td>I am a developer by profession</td>\n      <td>True</td>\n      <td>OSS is, on average, of LOWER quality than prop...</td>\n      <td>Employed full-time</td>\n      <td>No</td>\n      <td>Bachelor’s degree (BA, BS, B.Eng., etc.)</td>\n      <td>Computer science, computer engineering, or sof...</td>\n      <td>Taken an online course in programming or softw...</td>\n      <td>...</td>\n      <td>Tech articles written by other developers;Indu...</td>\n      <td>28.0</td>\n      <td>Man</td>\n      <td>No</td>\n      <td>Straight / Heterosexual</td>\n      <td>East Asian;South Asian</td>\n      <td>Yes</td>\n      <td>Too long</td>\n      <td>Easy</td>\n      <td>Afghanistan AFN</td>\n    </tr>\n    <tr>\n      <th>1</th>\n      <td>Afghanistan</td>\n      <td>63129.0</td>\n      <td>I am a developer by profession</td>\n      <td>True</td>\n      <td>OSS is, on average, of HIGHER quality than pro...</td>\n      <td>Employed full-time</td>\n      <td>Yes, full-time</td>\n      <td>I never completed any formal education</td>\n      <td>NaN</td>\n      <td>Taken an online course in programming or softw...</td>\n      <td>...</td>\n      <td>Tech articles written by other developers</td>\n      <td>NaN</td>\n      <td>NaN</td>\n      <td>NaN</td>\n      <td>NaN</td>\n      <td>NaN</td>\n      <td>Yes</td>\n      <td>Too short</td>\n      <td>Easy</td>\n      <td>Afghanistan AED</td>\n    </tr>\n    <tr>\n      <th>2</th>\n      <td>Russia</td>\n      <td>85715.0</td>\n      <td>I am a developer by profession</td>\n      <td>True</td>\n      <td>The quality of OSS and closed source software ...</td>\n      <td>Employed full-time</td>\n      <td>No</td>\n      <td>Bachelor’s degree (BA, BS, B.Eng., etc.)</td>\n      <td>Information systems, information technology, o...</td>\n      <td>Received on-the-job training in software devel...</td>\n      <td>...</td>\n      <td>Tech articles written by other developers;Indu...</td>\n      <td>30.0</td>\n      <td>Man</td>\n      <td>No</td>\n      <td>NaN</td>\n      <td>NaN</td>\n      <td>Yes</td>\n      <td>Too long</td>\n      <td>Neither easy nor difficult</td>\n      <td>Afghanistan AFN</td>\n    </tr>\n    <tr>\n      <th>3</th>\n      <td>Afghanistan</td>\n      <td>50767.0</td>\n      <td>I am a developer by profession</td>\n      <td>False</td>\n      <td>NaN</td>\n      <td>Independent contractor, freelancer, or self-em...</td>\n      <td>Yes, part-time</td>\n      <td>Associate degree</td>\n      <td>A health science (ex. nursing, pharmacy, radio...</td>\n      <td>Completed an industry certification program (e...</td>\n      <td>...</td>\n      <td>NaN</td>\n      <td>NaN</td>\n      <td>NaN</td>\n      <td>NaN</td>\n      <td>NaN</td>\n      <td>NaN</td>\n      <td>NaN</td>\n      <td>NaN</td>\n      <td>NaN</td>\n      <td>Afghanistan AMD</td>\n    </tr>\n    <tr>\n      <th>5</th>\n      <td>Afghanistan</td>\n      <td>63019.0</td>\n      <td>NaN</td>\n      <td>False</td>\n      <td>OSS is, on average, of LOWER quality than prop...</td>\n      <td>NaN</td>\n      <td>No</td>\n      <td>Some college/university study without earning ...</td>\n      <td>A social science (ex. anthropology, psychology...</td>\n      <td>Participated in a hackathon</td>\n      <td>...</td>\n      <td>Courses on technologies you're interested in</td>\n      <td>NaN</td>\n      <td>Man</td>\n      <td>NaN</td>\n      <td>NaN</td>\n      <td>Middle Eastern</td>\n      <td>No</td>\n      <td>Too short</td>\n      <td>Neither easy nor difficult</td>\n      <td>NaN</td>\n    </tr>\n    <tr>\n      <th>...</th>\n      <td>...</td>\n      <td>...</td>\n      <td>...</td>\n      <td>...</td>\n      <td>...</td>\n      <td>...</td>\n      <td>...</td>\n      <td>...</td>\n      <td>...</td>\n      <td>...</td>\n      <td>...</td>\n      <td>...</td>\n      <td>...</td>\n      <td>...</td>\n      <td>...</td>\n      <td>...</td>\n      <td>...</td>\n      <td>...</td>\n      <td>...</td>\n      <td>...</td>\n      <td>...</td>\n    </tr>\n    <tr>\n      <th>88747</th>\n      <td>Zimbabwe</td>\n      <td>3845.0</td>\n      <td>I am a developer by profession</td>\n      <td>True</td>\n      <td>The quality of OSS and closed source software ...</td>\n      <td>Employed full-time</td>\n      <td>No</td>\n      <td>Bachelor’s degree (BA, BS, B.Eng., etc.)</td>\n      <td>Information systems, information technology, o...</td>\n      <td>Taken an online course in programming or softw...</td>\n      <td>...</td>\n      <td>Tech articles written by other developers;Indu...</td>\n      <td>30.0</td>\n      <td>Man</td>\n      <td>No</td>\n      <td>Straight / Heterosexual</td>\n      <td>Black or of African descent</td>\n      <td>No</td>\n      <td>Too long</td>\n      <td>Easy</td>\n      <td>Zimbabwe USD</td>\n    </tr>\n    <tr>\n      <th>88748</th>\n      <td>Zimbabwe</td>\n      <td>35092.0</td>\n      <td>I am a developer by profession</td>\n      <td>True</td>\n      <td>OSS is, on average, of LOWER quality than prop...</td>\n      <td>Employed full-time</td>\n      <td>No</td>\n      <td>NaN</td>\n      <td>Computer science, computer engineering, or sof...</td>\n      <td>Taken an online course in programming or softw...</td>\n      <td>...</td>\n      <td>Industry news about technologies you're intere...</td>\n      <td>31.0</td>\n      <td>Man</td>\n      <td>No</td>\n      <td>Straight / Heterosexual</td>\n      <td>Black or of African descent;Multiracial</td>\n      <td>Yes</td>\n      <td>Appropriate in length</td>\n      <td>Easy</td>\n      <td>Zimbabwe USD</td>\n    </tr>\n    <tr>\n      <th>88749</th>\n      <td>Zimbabwe</td>\n      <td>57894.0</td>\n      <td>I am a student who is learning to code</td>\n      <td>True</td>\n      <td>NaN</td>\n      <td>NaN</td>\n      <td>Yes, full-time</td>\n      <td>Secondary school (e.g. American high school, G...</td>\n      <td>NaN</td>\n      <td>NaN</td>\n      <td>...</td>\n      <td>Tech articles written by other developers;Indu...</td>\n      <td>23.0</td>\n      <td>Man</td>\n      <td>NaN</td>\n      <td>Straight / Heterosexual</td>\n      <td>Black or of African descent</td>\n      <td>No</td>\n      <td>Too long</td>\n      <td>Neither easy nor difficult</td>\n      <td>NaN</td>\n    </tr>\n    <tr>\n      <th>88750</th>\n      <td>Zimbabwe</td>\n      <td>61083.0</td>\n      <td>I am a student who is learning to code</td>\n      <td>True</td>\n      <td>OSS is, on average, of HIGHER quality than pro...</td>\n      <td>Not employed, but looking for work</td>\n      <td>Yes, part-time</td>\n      <td>Some college/university study without earning ...</td>\n      <td>Computer science, computer engineering, or sof...</td>\n      <td>Taken an online course in programming or softw...</td>\n      <td>...</td>\n      <td>Tech articles written by other developers;Indu...</td>\n      <td>28.0</td>\n      <td>Man</td>\n      <td>NaN</td>\n      <td>NaN</td>\n      <td>Black or of African descent</td>\n      <td>Yes</td>\n      <td>Too long</td>\n      <td>Neither easy nor difficult</td>\n      <td>NaN</td>\n    </tr>\n    <tr>\n      <th>88883</th>\n      <td>Bergamo</td>\n      <td>NaN</td>\n      <td>NaN</td>\n      <td>NaN</td>\n      <td>NaN</td>\n      <td>NaN</td>\n      <td>NaN</td>\n      <td>NaN</td>\n      <td>NaN</td>\n      <td>NaN</td>\n      <td>...</td>\n      <td>NaN</td>\n      <td>NaN</td>\n      <td>NaN</td>\n      <td>NaN</td>\n      <td>NaN</td>\n      <td>NaN</td>\n      <td>NaN</td>\n      <td>NaN</td>\n      <td>NaN</td>\n      <td>NaN</td>\n    </tr>\n  </tbody>\n</table>\n<p>88751 rows × 84 columns</p>\n</div>"
     },
     "execution_count": 131,
     "metadata": {},
     "output_type": "execute_result"
    }
   ],
   "source": [
    "#Drop Nan only in particular column\n",
    "df.dropna(axis='index', how='all', subset=['SalaryUSD', 'Country'])"
   ]
  },
  {
   "cell_type": "code",
   "execution_count": 132,
   "metadata": {
    "ExecuteTime": {
     "end_time": "2023-07-13T15:54:23.801820764Z",
     "start_time": "2023-07-13T15:54:22.948027508Z"
    }
   },
   "outputs": [
    {
     "data": {
      "text/plain": "       Country  Respondent  MainBranch  Hobbyist  OpenSource  Employment  \\\n0        False       False       False     False       False       False   \n1        False       False       False     False       False       False   \n2        False       False       False     False       False       False   \n3        False       False       False     False        True       False   \n5        False       False        True     False       False        True   \n...        ...         ...         ...       ...         ...         ...   \n88879     True       False        True     False       False       False   \n88880     True       False        True     False       False        True   \n88881     True       False        True     False        True       False   \n88882     True       False        True     False       False       False   \n88883    False        True        True      True        True        True   \n\n       Student  EdLevel  UndergradMajor  EduOther  ...  SONewContent    Age  \\\n0        False    False           False     False  ...         False  False   \n1        False    False            True     False  ...         False   True   \n2        False    False           False     False  ...         False  False   \n3        False    False           False     False  ...          True   True   \n5        False    False           False     False  ...         False   True   \n...        ...      ...             ...       ...  ...           ...    ...   \n88879     True     True            True      True  ...          True   True   \n88880     True     True            True      True  ...          True   True   \n88881     True     True            True      True  ...          True   True   \n88882     True     True            True      True  ...          True   True   \n88883     True     True            True      True  ...          True   True   \n\n       Gender  Trans  Sexuality  Ethnicity  Dependents  SurveyLength  \\\n0       False  False      False      False       False         False   \n1        True   True       True       True       False         False   \n2       False  False       True       True       False         False   \n3        True   True       True       True        True          True   \n5       False   True       True      False       False         False   \n...       ...    ...        ...        ...         ...           ...   \n88879    True   True       True       True        True          True   \n88880    True   True       True       True        True          True   \n88881    True   True       True       True        True          True   \n88882    True   True       True       True        True          True   \n88883    True   True       True       True        True          True   \n\n       SurveyEase  new_join_variable  \n0           False              False  \n1           False              False  \n2           False              False  \n3            True              False  \n5           False               True  \n...           ...                ...  \n88879        True               True  \n88880        True               True  \n88881        True               True  \n88882        True               True  \n88883        True               True  \n\n[88883 rows x 84 columns]",
      "text/html": "<div>\n<style scoped>\n    .dataframe tbody tr th:only-of-type {\n        vertical-align: middle;\n    }\n\n    .dataframe tbody tr th {\n        vertical-align: top;\n    }\n\n    .dataframe thead th {\n        text-align: right;\n    }\n</style>\n<table border=\"1\" class=\"dataframe\">\n  <thead>\n    <tr style=\"text-align: right;\">\n      <th></th>\n      <th>Country</th>\n      <th>Respondent</th>\n      <th>MainBranch</th>\n      <th>Hobbyist</th>\n      <th>OpenSource</th>\n      <th>Employment</th>\n      <th>Student</th>\n      <th>EdLevel</th>\n      <th>UndergradMajor</th>\n      <th>EduOther</th>\n      <th>...</th>\n      <th>SONewContent</th>\n      <th>Age</th>\n      <th>Gender</th>\n      <th>Trans</th>\n      <th>Sexuality</th>\n      <th>Ethnicity</th>\n      <th>Dependents</th>\n      <th>SurveyLength</th>\n      <th>SurveyEase</th>\n      <th>new_join_variable</th>\n    </tr>\n  </thead>\n  <tbody>\n    <tr>\n      <th>0</th>\n      <td>False</td>\n      <td>False</td>\n      <td>False</td>\n      <td>False</td>\n      <td>False</td>\n      <td>False</td>\n      <td>False</td>\n      <td>False</td>\n      <td>False</td>\n      <td>False</td>\n      <td>...</td>\n      <td>False</td>\n      <td>False</td>\n      <td>False</td>\n      <td>False</td>\n      <td>False</td>\n      <td>False</td>\n      <td>False</td>\n      <td>False</td>\n      <td>False</td>\n      <td>False</td>\n    </tr>\n    <tr>\n      <th>1</th>\n      <td>False</td>\n      <td>False</td>\n      <td>False</td>\n      <td>False</td>\n      <td>False</td>\n      <td>False</td>\n      <td>False</td>\n      <td>False</td>\n      <td>True</td>\n      <td>False</td>\n      <td>...</td>\n      <td>False</td>\n      <td>True</td>\n      <td>True</td>\n      <td>True</td>\n      <td>True</td>\n      <td>True</td>\n      <td>False</td>\n      <td>False</td>\n      <td>False</td>\n      <td>False</td>\n    </tr>\n    <tr>\n      <th>2</th>\n      <td>False</td>\n      <td>False</td>\n      <td>False</td>\n      <td>False</td>\n      <td>False</td>\n      <td>False</td>\n      <td>False</td>\n      <td>False</td>\n      <td>False</td>\n      <td>False</td>\n      <td>...</td>\n      <td>False</td>\n      <td>False</td>\n      <td>False</td>\n      <td>False</td>\n      <td>True</td>\n      <td>True</td>\n      <td>False</td>\n      <td>False</td>\n      <td>False</td>\n      <td>False</td>\n    </tr>\n    <tr>\n      <th>3</th>\n      <td>False</td>\n      <td>False</td>\n      <td>False</td>\n      <td>False</td>\n      <td>True</td>\n      <td>False</td>\n      <td>False</td>\n      <td>False</td>\n      <td>False</td>\n      <td>False</td>\n      <td>...</td>\n      <td>True</td>\n      <td>True</td>\n      <td>True</td>\n      <td>True</td>\n      <td>True</td>\n      <td>True</td>\n      <td>True</td>\n      <td>True</td>\n      <td>True</td>\n      <td>False</td>\n    </tr>\n    <tr>\n      <th>5</th>\n      <td>False</td>\n      <td>False</td>\n      <td>True</td>\n      <td>False</td>\n      <td>False</td>\n      <td>True</td>\n      <td>False</td>\n      <td>False</td>\n      <td>False</td>\n      <td>False</td>\n      <td>...</td>\n      <td>False</td>\n      <td>True</td>\n      <td>False</td>\n      <td>True</td>\n      <td>True</td>\n      <td>False</td>\n      <td>False</td>\n      <td>False</td>\n      <td>False</td>\n      <td>True</td>\n    </tr>\n    <tr>\n      <th>...</th>\n      <td>...</td>\n      <td>...</td>\n      <td>...</td>\n      <td>...</td>\n      <td>...</td>\n      <td>...</td>\n      <td>...</td>\n      <td>...</td>\n      <td>...</td>\n      <td>...</td>\n      <td>...</td>\n      <td>...</td>\n      <td>...</td>\n      <td>...</td>\n      <td>...</td>\n      <td>...</td>\n      <td>...</td>\n      <td>...</td>\n      <td>...</td>\n      <td>...</td>\n      <td>...</td>\n    </tr>\n    <tr>\n      <th>88879</th>\n      <td>True</td>\n      <td>False</td>\n      <td>True</td>\n      <td>False</td>\n      <td>False</td>\n      <td>False</td>\n      <td>True</td>\n      <td>True</td>\n      <td>True</td>\n      <td>True</td>\n      <td>...</td>\n      <td>True</td>\n      <td>True</td>\n      <td>True</td>\n      <td>True</td>\n      <td>True</td>\n      <td>True</td>\n      <td>True</td>\n      <td>True</td>\n      <td>True</td>\n      <td>True</td>\n    </tr>\n    <tr>\n      <th>88880</th>\n      <td>True</td>\n      <td>False</td>\n      <td>True</td>\n      <td>False</td>\n      <td>False</td>\n      <td>True</td>\n      <td>True</td>\n      <td>True</td>\n      <td>True</td>\n      <td>True</td>\n      <td>...</td>\n      <td>True</td>\n      <td>True</td>\n      <td>True</td>\n      <td>True</td>\n      <td>True</td>\n      <td>True</td>\n      <td>True</td>\n      <td>True</td>\n      <td>True</td>\n      <td>True</td>\n    </tr>\n    <tr>\n      <th>88881</th>\n      <td>True</td>\n      <td>False</td>\n      <td>True</td>\n      <td>False</td>\n      <td>True</td>\n      <td>False</td>\n      <td>True</td>\n      <td>True</td>\n      <td>True</td>\n      <td>True</td>\n      <td>...</td>\n      <td>True</td>\n      <td>True</td>\n      <td>True</td>\n      <td>True</td>\n      <td>True</td>\n      <td>True</td>\n      <td>True</td>\n      <td>True</td>\n      <td>True</td>\n      <td>True</td>\n    </tr>\n    <tr>\n      <th>88882</th>\n      <td>True</td>\n      <td>False</td>\n      <td>True</td>\n      <td>False</td>\n      <td>False</td>\n      <td>False</td>\n      <td>True</td>\n      <td>True</td>\n      <td>True</td>\n      <td>True</td>\n      <td>...</td>\n      <td>True</td>\n      <td>True</td>\n      <td>True</td>\n      <td>True</td>\n      <td>True</td>\n      <td>True</td>\n      <td>True</td>\n      <td>True</td>\n      <td>True</td>\n      <td>True</td>\n    </tr>\n    <tr>\n      <th>88883</th>\n      <td>False</td>\n      <td>True</td>\n      <td>True</td>\n      <td>True</td>\n      <td>True</td>\n      <td>True</td>\n      <td>True</td>\n      <td>True</td>\n      <td>True</td>\n      <td>True</td>\n      <td>...</td>\n      <td>True</td>\n      <td>True</td>\n      <td>True</td>\n      <td>True</td>\n      <td>True</td>\n      <td>True</td>\n      <td>True</td>\n      <td>True</td>\n      <td>True</td>\n      <td>True</td>\n    </tr>\n  </tbody>\n</table>\n<p>88883 rows × 84 columns</p>\n</div>"
     },
     "execution_count": 132,
     "metadata": {},
     "output_type": "execute_result"
    }
   ],
   "source": [
    "#List the Nan value with a Boolean table\n",
    "df.isna()"
   ]
  },
  {
   "cell_type": "code",
   "execution_count": 133,
   "metadata": {
    "ExecuteTime": {
     "end_time": "2023-07-13T15:54:24.499245408Z",
     "start_time": "2023-07-13T15:54:23.668298275Z"
    }
   },
   "outputs": [
    {
     "data": {
      "text/plain": "           Country  Respondent                      MainBranch Hobbyist  \\\n0      Afghanistan     39258.0  I am a developer by profession     True   \n1      Afghanistan     63129.0  I am a developer by profession     True   \n2           Russia     85715.0  I am a developer by profession     True   \n3      Afghanistan     50767.0  I am a developer by profession    False   \n5      Afghanistan     63019.0                               0    False   \n...            ...         ...                             ...      ...   \n88879            0     88076.0                               0    False   \n88880            0     88601.0                               0    False   \n88881            0     88802.0                               0    False   \n88882            0     88816.0                               0    False   \n88883      Bergamo         0.0                               0        0   \n\n                                              OpenSource  \\\n0      OSS is, on average, of LOWER quality than prop...   \n1      OSS is, on average, of HIGHER quality than pro...   \n2      The quality of OSS and closed source software ...   \n3                                                      0   \n5      OSS is, on average, of LOWER quality than prop...   \n...                                                  ...   \n88879  OSS is, on average, of HIGHER quality than pro...   \n88880  The quality of OSS and closed source software ...   \n88881                                                  0   \n88882  OSS is, on average, of HIGHER quality than pro...   \n88883                                                  0   \n\n                                              Employment         Student  \\\n0                                     Employed full-time              No   \n1                                     Employed full-time  Yes, full-time   \n2                                     Employed full-time              No   \n3      Independent contractor, freelancer, or self-em...  Yes, part-time   \n5                                                      0              No   \n...                                                  ...             ...   \n88879                                 Employed full-time               0   \n88880                                                  0               0   \n88881                                 Employed full-time               0   \n88882  Independent contractor, freelancer, or self-em...               0   \n88883                                                  0               0   \n\n                                                 EdLevel  \\\n0               Bachelor’s degree (BA, BS, B.Eng., etc.)   \n1                 I never completed any formal education   \n2               Bachelor’s degree (BA, BS, B.Eng., etc.)   \n3                                       Associate degree   \n5      Some college/university study without earning ...   \n...                                                  ...   \n88879                                                  0   \n88880                                                  0   \n88881                                                  0   \n88882                                                  0   \n88883                                                  0   \n\n                                          UndergradMajor  \\\n0      Computer science, computer engineering, or sof...   \n1                                                      0   \n2      Information systems, information technology, o...   \n3      A health science (ex. nursing, pharmacy, radio...   \n5      A social science (ex. anthropology, psychology...   \n...                                                  ...   \n88879                                                  0   \n88880                                                  0   \n88881                                                  0   \n88882                                                  0   \n88883                                                  0   \n\n                                                EduOther  ...  \\\n0      Taken an online course in programming or softw...  ...   \n1      Taken an online course in programming or softw...  ...   \n2      Received on-the-job training in software devel...  ...   \n3      Completed an industry certification program (e...  ...   \n5                            Participated in a hackathon  ...   \n...                                                  ...  ...   \n88879                                                  0  ...   \n88880                                                  0  ...   \n88881                                                  0  ...   \n88882                                                  0  ...   \n88883                                                  0  ...   \n\n                                            SONewContent   Age Gender Trans  \\\n0      Tech articles written by other developers;Indu...  28.0    Man    No   \n1              Tech articles written by other developers   0.0      0     0   \n2      Tech articles written by other developers;Indu...  30.0    Man    No   \n3                                                      0   0.0      0     0   \n5           Courses on technologies you're interested in   0.0    Man     0   \n...                                                  ...   ...    ...   ...   \n88879                                                  0   0.0      0     0   \n88880                                                  0   0.0      0     0   \n88881                                                  0   0.0      0     0   \n88882                                                  0   0.0      0     0   \n88883                                                  0   0.0      0     0   \n\n                     Sexuality               Ethnicity Dependents  \\\n0      Straight / Heterosexual  East Asian;South Asian        Yes   \n1                            0                       0        Yes   \n2                            0                       0        Yes   \n3                            0                       0          0   \n5                            0          Middle Eastern         No   \n...                        ...                     ...        ...   \n88879                        0                       0          0   \n88880                        0                       0          0   \n88881                        0                       0          0   \n88882                        0                       0          0   \n88883                        0                       0          0   \n\n      SurveyLength                  SurveyEase new_join_variable  \n0         Too long                        Easy   Afghanistan AFN  \n1        Too short                        Easy   Afghanistan AED  \n2         Too long  Neither easy nor difficult   Afghanistan AFN  \n3                0                           0   Afghanistan AMD  \n5        Too short  Neither easy nor difficult                 0  \n...            ...                         ...               ...  \n88879            0                           0                 0  \n88880            0                           0                 0  \n88881            0                           0                 0  \n88882            0                           0                 0  \n88883            0                           0                 0  \n\n[88883 rows x 84 columns]",
      "text/html": "<div>\n<style scoped>\n    .dataframe tbody tr th:only-of-type {\n        vertical-align: middle;\n    }\n\n    .dataframe tbody tr th {\n        vertical-align: top;\n    }\n\n    .dataframe thead th {\n        text-align: right;\n    }\n</style>\n<table border=\"1\" class=\"dataframe\">\n  <thead>\n    <tr style=\"text-align: right;\">\n      <th></th>\n      <th>Country</th>\n      <th>Respondent</th>\n      <th>MainBranch</th>\n      <th>Hobbyist</th>\n      <th>OpenSource</th>\n      <th>Employment</th>\n      <th>Student</th>\n      <th>EdLevel</th>\n      <th>UndergradMajor</th>\n      <th>EduOther</th>\n      <th>...</th>\n      <th>SONewContent</th>\n      <th>Age</th>\n      <th>Gender</th>\n      <th>Trans</th>\n      <th>Sexuality</th>\n      <th>Ethnicity</th>\n      <th>Dependents</th>\n      <th>SurveyLength</th>\n      <th>SurveyEase</th>\n      <th>new_join_variable</th>\n    </tr>\n  </thead>\n  <tbody>\n    <tr>\n      <th>0</th>\n      <td>Afghanistan</td>\n      <td>39258.0</td>\n      <td>I am a developer by profession</td>\n      <td>True</td>\n      <td>OSS is, on average, of LOWER quality than prop...</td>\n      <td>Employed full-time</td>\n      <td>No</td>\n      <td>Bachelor’s degree (BA, BS, B.Eng., etc.)</td>\n      <td>Computer science, computer engineering, or sof...</td>\n      <td>Taken an online course in programming or softw...</td>\n      <td>...</td>\n      <td>Tech articles written by other developers;Indu...</td>\n      <td>28.0</td>\n      <td>Man</td>\n      <td>No</td>\n      <td>Straight / Heterosexual</td>\n      <td>East Asian;South Asian</td>\n      <td>Yes</td>\n      <td>Too long</td>\n      <td>Easy</td>\n      <td>Afghanistan AFN</td>\n    </tr>\n    <tr>\n      <th>1</th>\n      <td>Afghanistan</td>\n      <td>63129.0</td>\n      <td>I am a developer by profession</td>\n      <td>True</td>\n      <td>OSS is, on average, of HIGHER quality than pro...</td>\n      <td>Employed full-time</td>\n      <td>Yes, full-time</td>\n      <td>I never completed any formal education</td>\n      <td>0</td>\n      <td>Taken an online course in programming or softw...</td>\n      <td>...</td>\n      <td>Tech articles written by other developers</td>\n      <td>0.0</td>\n      <td>0</td>\n      <td>0</td>\n      <td>0</td>\n      <td>0</td>\n      <td>Yes</td>\n      <td>Too short</td>\n      <td>Easy</td>\n      <td>Afghanistan AED</td>\n    </tr>\n    <tr>\n      <th>2</th>\n      <td>Russia</td>\n      <td>85715.0</td>\n      <td>I am a developer by profession</td>\n      <td>True</td>\n      <td>The quality of OSS and closed source software ...</td>\n      <td>Employed full-time</td>\n      <td>No</td>\n      <td>Bachelor’s degree (BA, BS, B.Eng., etc.)</td>\n      <td>Information systems, information technology, o...</td>\n      <td>Received on-the-job training in software devel...</td>\n      <td>...</td>\n      <td>Tech articles written by other developers;Indu...</td>\n      <td>30.0</td>\n      <td>Man</td>\n      <td>No</td>\n      <td>0</td>\n      <td>0</td>\n      <td>Yes</td>\n      <td>Too long</td>\n      <td>Neither easy nor difficult</td>\n      <td>Afghanistan AFN</td>\n    </tr>\n    <tr>\n      <th>3</th>\n      <td>Afghanistan</td>\n      <td>50767.0</td>\n      <td>I am a developer by profession</td>\n      <td>False</td>\n      <td>0</td>\n      <td>Independent contractor, freelancer, or self-em...</td>\n      <td>Yes, part-time</td>\n      <td>Associate degree</td>\n      <td>A health science (ex. nursing, pharmacy, radio...</td>\n      <td>Completed an industry certification program (e...</td>\n      <td>...</td>\n      <td>0</td>\n      <td>0.0</td>\n      <td>0</td>\n      <td>0</td>\n      <td>0</td>\n      <td>0</td>\n      <td>0</td>\n      <td>0</td>\n      <td>0</td>\n      <td>Afghanistan AMD</td>\n    </tr>\n    <tr>\n      <th>5</th>\n      <td>Afghanistan</td>\n      <td>63019.0</td>\n      <td>0</td>\n      <td>False</td>\n      <td>OSS is, on average, of LOWER quality than prop...</td>\n      <td>0</td>\n      <td>No</td>\n      <td>Some college/university study without earning ...</td>\n      <td>A social science (ex. anthropology, psychology...</td>\n      <td>Participated in a hackathon</td>\n      <td>...</td>\n      <td>Courses on technologies you're interested in</td>\n      <td>0.0</td>\n      <td>Man</td>\n      <td>0</td>\n      <td>0</td>\n      <td>Middle Eastern</td>\n      <td>No</td>\n      <td>Too short</td>\n      <td>Neither easy nor difficult</td>\n      <td>0</td>\n    </tr>\n    <tr>\n      <th>...</th>\n      <td>...</td>\n      <td>...</td>\n      <td>...</td>\n      <td>...</td>\n      <td>...</td>\n      <td>...</td>\n      <td>...</td>\n      <td>...</td>\n      <td>...</td>\n      <td>...</td>\n      <td>...</td>\n      <td>...</td>\n      <td>...</td>\n      <td>...</td>\n      <td>...</td>\n      <td>...</td>\n      <td>...</td>\n      <td>...</td>\n      <td>...</td>\n      <td>...</td>\n      <td>...</td>\n    </tr>\n    <tr>\n      <th>88879</th>\n      <td>0</td>\n      <td>88076.0</td>\n      <td>0</td>\n      <td>False</td>\n      <td>OSS is, on average, of HIGHER quality than pro...</td>\n      <td>Employed full-time</td>\n      <td>0</td>\n      <td>0</td>\n      <td>0</td>\n      <td>0</td>\n      <td>...</td>\n      <td>0</td>\n      <td>0.0</td>\n      <td>0</td>\n      <td>0</td>\n      <td>0</td>\n      <td>0</td>\n      <td>0</td>\n      <td>0</td>\n      <td>0</td>\n      <td>0</td>\n    </tr>\n    <tr>\n      <th>88880</th>\n      <td>0</td>\n      <td>88601.0</td>\n      <td>0</td>\n      <td>False</td>\n      <td>The quality of OSS and closed source software ...</td>\n      <td>0</td>\n      <td>0</td>\n      <td>0</td>\n      <td>0</td>\n      <td>0</td>\n      <td>...</td>\n      <td>0</td>\n      <td>0.0</td>\n      <td>0</td>\n      <td>0</td>\n      <td>0</td>\n      <td>0</td>\n      <td>0</td>\n      <td>0</td>\n      <td>0</td>\n      <td>0</td>\n    </tr>\n    <tr>\n      <th>88881</th>\n      <td>0</td>\n      <td>88802.0</td>\n      <td>0</td>\n      <td>False</td>\n      <td>0</td>\n      <td>Employed full-time</td>\n      <td>0</td>\n      <td>0</td>\n      <td>0</td>\n      <td>0</td>\n      <td>...</td>\n      <td>0</td>\n      <td>0.0</td>\n      <td>0</td>\n      <td>0</td>\n      <td>0</td>\n      <td>0</td>\n      <td>0</td>\n      <td>0</td>\n      <td>0</td>\n      <td>0</td>\n    </tr>\n    <tr>\n      <th>88882</th>\n      <td>0</td>\n      <td>88816.0</td>\n      <td>0</td>\n      <td>False</td>\n      <td>OSS is, on average, of HIGHER quality than pro...</td>\n      <td>Independent contractor, freelancer, or self-em...</td>\n      <td>0</td>\n      <td>0</td>\n      <td>0</td>\n      <td>0</td>\n      <td>...</td>\n      <td>0</td>\n      <td>0.0</td>\n      <td>0</td>\n      <td>0</td>\n      <td>0</td>\n      <td>0</td>\n      <td>0</td>\n      <td>0</td>\n      <td>0</td>\n      <td>0</td>\n    </tr>\n    <tr>\n      <th>88883</th>\n      <td>Bergamo</td>\n      <td>0.0</td>\n      <td>0</td>\n      <td>0</td>\n      <td>0</td>\n      <td>0</td>\n      <td>0</td>\n      <td>0</td>\n      <td>0</td>\n      <td>0</td>\n      <td>...</td>\n      <td>0</td>\n      <td>0.0</td>\n      <td>0</td>\n      <td>0</td>\n      <td>0</td>\n      <td>0</td>\n      <td>0</td>\n      <td>0</td>\n      <td>0</td>\n      <td>0</td>\n    </tr>\n  </tbody>\n</table>\n<p>88883 rows × 84 columns</p>\n</div>"
     },
     "execution_count": 133,
     "metadata": {},
     "output_type": "execute_result"
    }
   ],
   "source": [
    "#Fill NaN with a particular value\n",
    "df.fillna(0)  "
   ]
  },
  {
   "cell_type": "markdown",
   "metadata": {},
   "source": [
    "We can have missing value that are written differently from NaN, in that case we use to replace it with np.nan\n",
    "\n",
    "    df.replace('Na', np.nan, inplace=True)\n",
    "    df.replace('Missing', np.nan, inplace=True)"
   ]
  },
  {
   "cell_type": "markdown",
   "metadata": {},
   "source": [
    "Now we see an axample that cannot compute the mean since there is 2 value that are 'Less than 1 year' and 'more that 50 years' that are not numeric, we have to convert them and than we can compute the mean."
   ]
  },
  {
   "cell_type": "code",
   "execution_count": 134,
   "metadata": {
    "ExecuteTime": {
     "end_time": "2023-07-13T15:54:24.533604221Z",
     "start_time": "2023-07-13T15:54:24.480264659Z"
    }
   },
   "outputs": [
    {
     "data": {
      "text/plain": "array(['2', 'Less than 1 year', '8', nan, '1', '3', '4', '20', '28', '36',\n       '7', '31', '9', '10', '5', 'More than 50 years', '6', '15', '12',\n       '35', '14', '17', '18', '13', '21', '11', '40', '19', '22', '25',\n       '23', '39', '34', '26', '38', '33', '16', '27', '30', '24', '32',\n       '29', '43', '45', '42', '44', '37', '48', '49', '47', '50', '46',\n       '41'], dtype=object)"
     },
     "execution_count": 134,
     "metadata": {},
     "output_type": "execute_result"
    }
   ],
   "source": [
    "df['YearsCode'].unique()"
   ]
  },
  {
   "cell_type": "code",
   "execution_count": 135,
   "metadata": {
    "ExecuteTime": {
     "end_time": "2023-07-13T15:54:24.722310618Z",
     "start_time": "2023-07-13T15:54:24.480433519Z"
    }
   },
   "outputs": [],
   "source": [
    "import warnings\n",
    "warnings.filterwarnings('ignore')\n",
    "\n",
    "df['YearsCode'].replace('Less than 1 year', 0, inplace=True)\n",
    "df['YearsCode'].replace('More than 50 years', 51, inplace=True)\n",
    "df = df.dropna(axis='index', how='all', subset=['YearsCode'])\n",
    "\n",
    "#Converting object in float\n",
    "df['YearsCode'] = df['YearsCode'].astype(float)"
   ]
  },
  {
   "cell_type": "code",
   "execution_count": 136,
   "metadata": {
    "scrolled": true,
    "ExecuteTime": {
     "end_time": "2023-07-13T15:54:24.800278537Z",
     "start_time": "2023-07-13T15:54:24.594471543Z"
    }
   },
   "outputs": [
    {
     "data": {
      "text/plain": "11.662212720470336"
     },
     "execution_count": 136,
     "metadata": {},
     "output_type": "execute_result"
    }
   ],
   "source": [
    "df['YearsCode'].mean()"
   ]
  },
  {
   "cell_type": "markdown",
   "metadata": {},
   "source": [
    "## Reading/Writing Data to different sources\n",
    "\n",
    "We will be learning how to import and export data from multiple different sources. We will cover CSV, JSON, Excel, and more."
   ]
  },
  {
   "cell_type": "code",
   "execution_count": 137,
   "metadata": {
    "ExecuteTime": {
     "end_time": "2023-07-13T15:54:26.623764557Z",
     "start_time": "2023-07-13T15:54:24.598596729Z"
    }
   },
   "outputs": [],
   "source": [
    "import pandas as pd\n",
    "\n",
    "df = pd.read_csv('Data/survey_results_public.csv', index_col='Respondent')\n",
    "schema_df = pd.read_csv('Data/survey_results_schema.csv', index_col='Column')\n",
    "\n",
    "pd.set_option('display.max_columns', 85)\n",
    "pd.set_option('display.max_rows', 85)"
   ]
  },
  {
   "cell_type": "code",
   "execution_count": 138,
   "metadata": {
    "ExecuteTime": {
     "end_time": "2023-07-13T15:54:26.641012373Z",
     "start_time": "2023-07-13T15:54:26.630648023Z"
    }
   },
   "outputs": [],
   "source": [
    "#Create a datatfile only with indian\n",
    "filt = (df['Country'] == 'India')\n",
    "india_df = df.loc[filt]"
   ]
  },
  {
   "cell_type": "markdown",
   "metadata": {},
   "source": [
    "### Save"
   ]
  },
  {
   "cell_type": "code",
   "execution_count": 139,
   "metadata": {
    "ExecuteTime": {
     "end_time": "2023-07-13T15:54:38.498606640Z",
     "start_time": "2023-07-13T15:54:38.051445855Z"
    }
   },
   "outputs": [],
   "source": [
    "#Save to CVS\n",
    "india_df.to_csv('Data/modified.csv')"
   ]
  },
  {
   "cell_type": "code",
   "execution_count": 140,
   "metadata": {
    "ExecuteTime": {
     "end_time": "2023-07-13T15:54:41.747610697Z",
     "start_time": "2023-07-13T15:54:41.287506966Z"
    }
   },
   "outputs": [],
   "source": [
    "#save to tvs\n",
    "india_df.to_csv('Data/modified.tsv', sep='\\t')"
   ]
  },
  {
   "cell_type": "code",
   "execution_count": 141,
   "metadata": {
    "ExecuteTime": {
     "end_time": "2023-07-13T15:54:59.380754108Z",
     "start_time": "2023-07-13T15:54:45.481655222Z"
    }
   },
   "outputs": [],
   "source": [
    "#Save to Excel\n",
    "india_df.to_excel('Data/modified.xlsx')"
   ]
  },
  {
   "cell_type": "code",
   "execution_count": 142,
   "metadata": {
    "ExecuteTime": {
     "end_time": "2023-07-13T15:54:59.692539676Z",
     "start_time": "2023-07-13T15:54:59.522018966Z"
    }
   },
   "outputs": [],
   "source": [
    "#Save to Json\n",
    "india_df.to_json('Data/modified.json', orient='records', lines=True)"
   ]
  },
  {
   "cell_type": "markdown",
   "metadata": {},
   "source": [
    "### Read"
   ]
  },
  {
   "cell_type": "code",
   "execution_count": 143,
   "metadata": {
    "ExecuteTime": {
     "end_time": "2023-07-13T15:54:59.899264100Z",
     "start_time": "2023-07-13T15:54:59.696007165Z"
    }
   },
   "outputs": [],
   "source": [
    "#Read from CVS\n",
    "df = pd.read_csv('Data/modified.csv', index_col='Respondent')"
   ]
  },
  {
   "cell_type": "code",
   "execution_count": 144,
   "metadata": {
    "ExecuteTime": {
     "end_time": "2023-07-13T15:55:12.058877520Z",
     "start_time": "2023-07-13T15:54:59.901563129Z"
    }
   },
   "outputs": [],
   "source": [
    "#Read Excel (setting also the index)\n",
    "test = pd.read_excel('Data/modified.xlsx', index_col='Respondent')"
   ]
  },
  {
   "cell_type": "code",
   "execution_count": 145,
   "metadata": {
    "ExecuteTime": {
     "end_time": "2023-07-13T15:55:12.573583664Z",
     "start_time": "2023-07-13T15:55:12.061606188Z"
    }
   },
   "outputs": [],
   "source": [
    "#Read Json (choosing orientations)\n",
    "test = pd.read_json('Data/modified.json', orient='records', lines=True)"
   ]
  },
  {
   "cell_type": "code",
   "execution_count": null,
   "outputs": [],
   "source": [],
   "metadata": {
    "collapsed": false
   }
  }
 ],
 "metadata": {
  "kernelspec": {
   "display_name": "Python 3 (ipykernel)",
   "language": "python",
   "name": "python3"
  },
  "language_info": {
   "codemirror_mode": {
    "name": "ipython",
    "version": 3
   },
   "file_extension": ".py",
   "mimetype": "text/x-python",
   "name": "python",
   "nbconvert_exporter": "python",
   "pygments_lexer": "ipython3",
   "version": "3.9.7"
  }
 },
 "nbformat": 4,
 "nbformat_minor": 4
}
