{
 "cells": [
  {
   "cell_type": "markdown",
   "metadata": {},
   "source": [
    "# Exploratory Data Analysis\n",
    "\n",
    "We will use the Titanic Dataset for the ML competition on Kaggle (https://www.kaggle.com/competitions/titanic/overview)\n",
    "\n",
    "The competition is simple: we want you to use the Titanic passenger data (name, age, price of ticket, etc) to try to predict who will survive and who will die.\n",
    "\n",
    "![](Image/Kaggle.png)"
   ]
  },
  {
   "cell_type": "markdown",
   "metadata": {},
   "source": [
    "## Load the training dataset"
   ]
  },
  {
   "cell_type": "markdown",
   "metadata": {},
   "source": [
    "Download the `train.csv` and `test.csv` data files from Moodle. Use this code box for importing the usual libraries (`numpy`, `pandas`, `seaborn`) and for loading the two files as Pandas dataframes."
   ]
  },
  {
   "cell_type": "code",
   "execution_count": 17,
   "metadata": {
    "ExecuteTime": {
     "end_time": "2023-10-09T07:42:42.582805653Z",
     "start_time": "2023-10-09T07:42:42.500090723Z"
    }
   },
   "outputs": [],
   "source": [
    "import pandas as pd\n",
    "import numpy as np\n",
    "import seaborn as sns\n",
    "\n",
    "#Load the data\n",
    "train_df = pd.read_csv('Data/Titanic/train.csv')\n",
    "test_df = pd.read_csv('Data/Titanic/test.csv')"
   ]
  },
  {
   "cell_type": "markdown",
   "metadata": {},
   "source": [
    "## Explore the data"
   ]
  },
  {
   "cell_type": "markdown",
   "metadata": {},
   "source": [
    "For now, we will work with the training dataset.\n",
    "First of all, always look at how the data is recorded. Print here the first few lines of the train dataset."
   ]
  },
  {
   "cell_type": "code",
   "execution_count": 18,
   "metadata": {
    "ExecuteTime": {
     "end_time": "2023-10-09T07:42:43.171766708Z",
     "start_time": "2023-10-09T07:42:43.098197655Z"
    }
   },
   "outputs": [
    {
     "data": {
      "text/plain": "   PassengerId  Survived  Pclass  \\\n0            1         0       3   \n1            2         1       1   \n2            3         1       3   \n3            4         1       1   \n4            5         0       3   \n\n                                                Name     Sex   Age  SibSp  \\\n0                            Braund, Mr. Owen Harris    male  22.0      1   \n1  Cumings, Mrs. John Bradley (Florence Briggs Th...  female  38.0      1   \n2                             Heikkinen, Miss. Laina  female  26.0      0   \n3       Futrelle, Mrs. Jacques Heath (Lily May Peel)  female  35.0      1   \n4                           Allen, Mr. William Henry    male  35.0      0   \n\n   Parch            Ticket     Fare Cabin Embarked  \n0      0         A/5 21171   7.2500   NaN        S  \n1      0          PC 17599  71.2833   C85        C  \n2      0  STON/O2. 3101282   7.9250   NaN        S  \n3      0            113803  53.1000  C123        S  \n4      0            373450   8.0500   NaN        S  ",
      "text/html": "<div>\n<style scoped>\n    .dataframe tbody tr th:only-of-type {\n        vertical-align: middle;\n    }\n\n    .dataframe tbody tr th {\n        vertical-align: top;\n    }\n\n    .dataframe thead th {\n        text-align: right;\n    }\n</style>\n<table border=\"1\" class=\"dataframe\">\n  <thead>\n    <tr style=\"text-align: right;\">\n      <th></th>\n      <th>PassengerId</th>\n      <th>Survived</th>\n      <th>Pclass</th>\n      <th>Name</th>\n      <th>Sex</th>\n      <th>Age</th>\n      <th>SibSp</th>\n      <th>Parch</th>\n      <th>Ticket</th>\n      <th>Fare</th>\n      <th>Cabin</th>\n      <th>Embarked</th>\n    </tr>\n  </thead>\n  <tbody>\n    <tr>\n      <th>0</th>\n      <td>1</td>\n      <td>0</td>\n      <td>3</td>\n      <td>Braund, Mr. Owen Harris</td>\n      <td>male</td>\n      <td>22.0</td>\n      <td>1</td>\n      <td>0</td>\n      <td>A/5 21171</td>\n      <td>7.2500</td>\n      <td>NaN</td>\n      <td>S</td>\n    </tr>\n    <tr>\n      <th>1</th>\n      <td>2</td>\n      <td>1</td>\n      <td>1</td>\n      <td>Cumings, Mrs. John Bradley (Florence Briggs Th...</td>\n      <td>female</td>\n      <td>38.0</td>\n      <td>1</td>\n      <td>0</td>\n      <td>PC 17599</td>\n      <td>71.2833</td>\n      <td>C85</td>\n      <td>C</td>\n    </tr>\n    <tr>\n      <th>2</th>\n      <td>3</td>\n      <td>1</td>\n      <td>3</td>\n      <td>Heikkinen, Miss. Laina</td>\n      <td>female</td>\n      <td>26.0</td>\n      <td>0</td>\n      <td>0</td>\n      <td>STON/O2. 3101282</td>\n      <td>7.9250</td>\n      <td>NaN</td>\n      <td>S</td>\n    </tr>\n    <tr>\n      <th>3</th>\n      <td>4</td>\n      <td>1</td>\n      <td>1</td>\n      <td>Futrelle, Mrs. Jacques Heath (Lily May Peel)</td>\n      <td>female</td>\n      <td>35.0</td>\n      <td>1</td>\n      <td>0</td>\n      <td>113803</td>\n      <td>53.1000</td>\n      <td>C123</td>\n      <td>S</td>\n    </tr>\n    <tr>\n      <th>4</th>\n      <td>5</td>\n      <td>0</td>\n      <td>3</td>\n      <td>Allen, Mr. William Henry</td>\n      <td>male</td>\n      <td>35.0</td>\n      <td>0</td>\n      <td>0</td>\n      <td>373450</td>\n      <td>8.0500</td>\n      <td>NaN</td>\n      <td>S</td>\n    </tr>\n  </tbody>\n</table>\n</div>"
     },
     "execution_count": 18,
     "metadata": {},
     "output_type": "execute_result"
    }
   ],
   "source": [
    "train_df.head()"
   ]
  },
  {
   "cell_type": "markdown",
   "metadata": {},
   "source": [
    "### **VARIABLE DESCRIPTIONS**\n",
    "\n",
    "* `PassengerId` is the unique id of the row and it doesn't have any effect on target\n",
    "* `Survived` is the target variable we are trying to predict (**0** or **1**):\n",
    "    - **1 = Survived**\n",
    "    - **0 = Not Survived**\n",
    "* `Pclass` (Passenger Class) is the socio-economic status of the passenger and it is a categorical ordinal feature which has **3** unique values (**1**,  **2** or **3**):\n",
    "    - **1 = Upper Class**\n",
    "    - **2 = Middle Class**\n",
    "    - **3 = Lower Class**\n",
    "* `Name`, `Sex` and `Age` are self-explanatory\n",
    "* `SibSp` is the total number of the passengers' siblings and spouse\n",
    "* `Parch` is the total number of the passengers' parents and children\n",
    "* `Ticket` is the ticket number of the passenger\n",
    "* `Fare` is the passenger fare\n",
    "* `Cabin` is the cabin number of the passenger\n",
    "* `Embarked` is port of embarkation and it is a categorical feature which has **3** unique values (**C**, **Q** or **S**):\n",
    "    - **C = Cherbourg**\n",
    "    - **Q = Queenstown**\n",
    "    - **S = Southampton**"
   ]
  },
  {
   "cell_type": "markdown",
   "metadata": {},
   "source": [
    "Another thing to always check is the extension of the dataset: how many data points do we have? How many features?"
   ]
  },
  {
   "cell_type": "code",
   "execution_count": 19,
   "metadata": {
    "ExecuteTime": {
     "end_time": "2023-10-09T07:42:43.678440148Z",
     "start_time": "2023-10-09T07:42:43.651803091Z"
    }
   },
   "outputs": [
    {
     "data": {
      "text/plain": "(891, 12)"
     },
     "execution_count": 19,
     "metadata": {},
     "output_type": "execute_result"
    }
   ],
   "source": [
    "# Shape of dataset\n",
    "train_df.shape"
   ]
  },
  {
   "cell_type": "markdown",
   "metadata": {},
   "source": [
    "With the help of a useful Pandas dataframe method, print some general information on the dataset."
   ]
  },
  {
   "cell_type": "code",
   "execution_count": 20,
   "metadata": {
    "ExecuteTime": {
     "end_time": "2023-10-09T07:42:44.526170786Z",
     "start_time": "2023-10-09T07:42:44.466131515Z"
    }
   },
   "outputs": [
    {
     "name": "stdout",
     "output_type": "stream",
     "text": [
      "<class 'pandas.core.frame.DataFrame'>\n",
      "RangeIndex: 891 entries, 0 to 890\n",
      "Data columns (total 12 columns):\n",
      " #   Column       Non-Null Count  Dtype  \n",
      "---  ------       --------------  -----  \n",
      " 0   PassengerId  891 non-null    int64  \n",
      " 1   Survived     891 non-null    int64  \n",
      " 2   Pclass       891 non-null    int64  \n",
      " 3   Name         891 non-null    object \n",
      " 4   Sex          891 non-null    object \n",
      " 5   Age          714 non-null    float64\n",
      " 6   SibSp        891 non-null    int64  \n",
      " 7   Parch        891 non-null    int64  \n",
      " 8   Ticket       891 non-null    object \n",
      " 9   Fare         891 non-null    float64\n",
      " 10  Cabin        204 non-null    object \n",
      " 11  Embarked     889 non-null    object \n",
      "dtypes: float64(2), int64(5), object(5)\n",
      "memory usage: 83.7+ KB\n"
     ]
    }
   ],
   "source": [
    "#Basic information\n",
    "train_df.info()"
   ]
  },
  {
   "cell_type": "markdown",
   "metadata": {},
   "source": [
    "With the help of another useful Pandas dataframe method, print some general-use statistics over the dataset values"
   ]
  },
  {
   "cell_type": "code",
   "execution_count": 21,
   "metadata": {
    "ExecuteTime": {
     "end_time": "2023-10-09T07:42:45.220324702Z",
     "start_time": "2023-10-09T07:42:45.163562999Z"
    }
   },
   "outputs": [
    {
     "data": {
      "text/plain": "       PassengerId    Survived      Pclass         Age       SibSp  \\\ncount   891.000000  891.000000  891.000000  714.000000  891.000000   \nmean    446.000000    0.383838    2.308642   29.699118    0.523008   \nstd     257.353842    0.486592    0.836071   14.526497    1.102743   \nmin       1.000000    0.000000    1.000000    0.420000    0.000000   \n25%     223.500000    0.000000    2.000000   20.125000    0.000000   \n50%     446.000000    0.000000    3.000000   28.000000    0.000000   \n75%     668.500000    1.000000    3.000000   38.000000    1.000000   \nmax     891.000000    1.000000    3.000000   80.000000    8.000000   \n\n            Parch        Fare  \ncount  891.000000  891.000000  \nmean     0.381594   32.204208  \nstd      0.806057   49.693429  \nmin      0.000000    0.000000  \n25%      0.000000    7.910400  \n50%      0.000000   14.454200  \n75%      0.000000   31.000000  \nmax      6.000000  512.329200  ",
      "text/html": "<div>\n<style scoped>\n    .dataframe tbody tr th:only-of-type {\n        vertical-align: middle;\n    }\n\n    .dataframe tbody tr th {\n        vertical-align: top;\n    }\n\n    .dataframe thead th {\n        text-align: right;\n    }\n</style>\n<table border=\"1\" class=\"dataframe\">\n  <thead>\n    <tr style=\"text-align: right;\">\n      <th></th>\n      <th>PassengerId</th>\n      <th>Survived</th>\n      <th>Pclass</th>\n      <th>Age</th>\n      <th>SibSp</th>\n      <th>Parch</th>\n      <th>Fare</th>\n    </tr>\n  </thead>\n  <tbody>\n    <tr>\n      <th>count</th>\n      <td>891.000000</td>\n      <td>891.000000</td>\n      <td>891.000000</td>\n      <td>714.000000</td>\n      <td>891.000000</td>\n      <td>891.000000</td>\n      <td>891.000000</td>\n    </tr>\n    <tr>\n      <th>mean</th>\n      <td>446.000000</td>\n      <td>0.383838</td>\n      <td>2.308642</td>\n      <td>29.699118</td>\n      <td>0.523008</td>\n      <td>0.381594</td>\n      <td>32.204208</td>\n    </tr>\n    <tr>\n      <th>std</th>\n      <td>257.353842</td>\n      <td>0.486592</td>\n      <td>0.836071</td>\n      <td>14.526497</td>\n      <td>1.102743</td>\n      <td>0.806057</td>\n      <td>49.693429</td>\n    </tr>\n    <tr>\n      <th>min</th>\n      <td>1.000000</td>\n      <td>0.000000</td>\n      <td>1.000000</td>\n      <td>0.420000</td>\n      <td>0.000000</td>\n      <td>0.000000</td>\n      <td>0.000000</td>\n    </tr>\n    <tr>\n      <th>25%</th>\n      <td>223.500000</td>\n      <td>0.000000</td>\n      <td>2.000000</td>\n      <td>20.125000</td>\n      <td>0.000000</td>\n      <td>0.000000</td>\n      <td>7.910400</td>\n    </tr>\n    <tr>\n      <th>50%</th>\n      <td>446.000000</td>\n      <td>0.000000</td>\n      <td>3.000000</td>\n      <td>28.000000</td>\n      <td>0.000000</td>\n      <td>0.000000</td>\n      <td>14.454200</td>\n    </tr>\n    <tr>\n      <th>75%</th>\n      <td>668.500000</td>\n      <td>1.000000</td>\n      <td>3.000000</td>\n      <td>38.000000</td>\n      <td>1.000000</td>\n      <td>0.000000</td>\n      <td>31.000000</td>\n    </tr>\n    <tr>\n      <th>max</th>\n      <td>891.000000</td>\n      <td>1.000000</td>\n      <td>3.000000</td>\n      <td>80.000000</td>\n      <td>8.000000</td>\n      <td>6.000000</td>\n      <td>512.329200</td>\n    </tr>\n  </tbody>\n</table>\n</div>"
     },
     "execution_count": 21,
     "metadata": {},
     "output_type": "execute_result"
    }
   ],
   "source": [
    "#Describe the data\n",
    "train_df.describe()"
   ]
  },
  {
   "cell_type": "markdown",
   "metadata": {},
   "source": [
    "## Missing Value and Duplicated"
   ]
  },
  {
   "cell_type": "markdown",
   "metadata": {},
   "source": [
    "Check whether there are duplicated data points"
   ]
  },
  {
   "cell_type": "code",
   "execution_count": 22,
   "metadata": {
    "ExecuteTime": {
     "end_time": "2023-10-09T07:42:46.473477660Z",
     "start_time": "2023-10-09T07:42:46.451128029Z"
    }
   },
   "outputs": [
    {
     "data": {
      "text/plain": "0"
     },
     "execution_count": 22,
     "metadata": {},
     "output_type": "execute_result"
    }
   ],
   "source": [
    "#Find the duplicates\n",
    "train_df.duplicated().sum()"
   ]
  },
  {
   "cell_type": "markdown",
   "metadata": {},
   "source": [
    "Define a function for counting the number of missing values in each column containing at least one, and visualize it as a dataframe selection"
   ]
  },
  {
   "cell_type": "code",
   "execution_count": 23,
   "metadata": {
    "ExecuteTime": {
     "end_time": "2023-10-09T07:42:46.870811756Z",
     "start_time": "2023-10-09T07:42:46.857610562Z"
    }
   },
   "outputs": [],
   "source": [
    "def count_null(df):\n",
    "    null_df = pd.DataFrame(df.isnull().sum(), columns=[\"Count\"])\n",
    "    return null_df[null_df[\"Count\"] > 0]"
   ]
  },
  {
   "cell_type": "code",
   "execution_count": 24,
   "metadata": {
    "ExecuteTime": {
     "end_time": "2023-10-09T07:42:47.117486444Z",
     "start_time": "2023-10-09T07:42:47.079743499Z"
    }
   },
   "outputs": [
    {
     "data": {
      "text/plain": "          Count\nAge         177\nCabin       687\nEmbarked      2",
      "text/html": "<div>\n<style scoped>\n    .dataframe tbody tr th:only-of-type {\n        vertical-align: middle;\n    }\n\n    .dataframe tbody tr th {\n        vertical-align: top;\n    }\n\n    .dataframe thead th {\n        text-align: right;\n    }\n</style>\n<table border=\"1\" class=\"dataframe\">\n  <thead>\n    <tr style=\"text-align: right;\">\n      <th></th>\n      <th>Count</th>\n    </tr>\n  </thead>\n  <tbody>\n    <tr>\n      <th>Age</th>\n      <td>177</td>\n    </tr>\n    <tr>\n      <th>Cabin</th>\n      <td>687</td>\n    </tr>\n    <tr>\n      <th>Embarked</th>\n      <td>2</td>\n    </tr>\n  </tbody>\n</table>\n</div>"
     },
     "execution_count": 24,
     "metadata": {},
     "output_type": "execute_result"
    }
   ],
   "source": [
    "count_null(train_df)"
   ]
  },
  {
   "cell_type": "markdown",
   "metadata": {},
   "source": [
    "The analysis should bring you to have three columns with some missing data: `Age`, `Cabin`, `Embarked`. Let's see how to fill in the missing data."
   ]
  },
  {
   "cell_type": "markdown",
   "metadata": {},
   "source": [
    "### Cabin Feature"
   ]
  },
  {
   "cell_type": "markdown",
   "metadata": {},
   "source": [
    "**Hypothesis** : Assume that all the passengers who are travelling without a personal cabin have a missing Cabin value. This is a reasonable hypothesis. Let’s update the missing cabin value as “X”"
   ]
  },
  {
   "cell_type": "code",
   "execution_count": 25,
   "metadata": {
    "ExecuteTime": {
     "end_time": "2023-10-09T07:42:48.111104159Z",
     "start_time": "2023-10-09T07:42:48.069906037Z"
    }
   },
   "outputs": [
    {
     "data": {
      "text/plain": "0       X\n1     C85\n2       X\n3    C123\n4       X\nName: Cabin, dtype: object"
     },
     "execution_count": 25,
     "metadata": {},
     "output_type": "execute_result"
    }
   ],
   "source": [
    "train_df[\"Cabin\"] = train_df[\"Cabin\"].apply(lambda x: \"X\" if pd.isnull(x) or x == \"T\" else x)\n",
    "train_df[\"Cabin\"].head()"
   ]
  },
  {
   "cell_type": "markdown",
   "metadata": {},
   "source": [
    "### Embarked Feature\n",
    "\n",
    "**Hypothesis** : Since only 2 are missing we can assume that the one missing are the one that appear more often (i.e. the mode)"
   ]
  },
  {
   "cell_type": "code",
   "execution_count": 26,
   "metadata": {
    "ExecuteTime": {
     "end_time": "2023-10-09T07:42:48.711093478Z",
     "start_time": "2023-10-09T07:42:48.680950942Z"
    }
   },
   "outputs": [],
   "source": [
    "# Replace Port missing with the mode\n",
    "train_df.loc[train_df['Embarked'].isnull(), 'Embarked'] = train_df[\"Embarked\"].mode()[0]"
   ]
  },
  {
   "cell_type": "markdown",
   "metadata": {},
   "source": [
    "### Age Feature"
   ]
  },
  {
   "cell_type": "markdown",
   "metadata": {},
   "source": [
    "Let's visulaize again the statistics for the `Age` feature only"
   ]
  },
  {
   "cell_type": "code",
   "execution_count": 27,
   "metadata": {
    "scrolled": true,
    "ExecuteTime": {
     "end_time": "2023-10-09T07:42:49.456101430Z",
     "start_time": "2023-10-09T07:42:49.420669121Z"
    }
   },
   "outputs": [
    {
     "data": {
      "text/plain": "count    714.000000\nmean      29.699118\nstd       14.526497\nmin        0.420000\n25%       20.125000\n50%       28.000000\n75%       38.000000\nmax       80.000000\nName: Age, dtype: float64"
     },
     "execution_count": 27,
     "metadata": {},
     "output_type": "execute_result"
    }
   ],
   "source": [
    "# Let's visualize the Age attribute\n",
    "train_df[\"Age\"].describe()"
   ]
  },
  {
   "cell_type": "markdown",
   "metadata": {},
   "source": [
    "Is the distribution approximately Normal ? Draw a histogram of the ages to check"
   ]
  },
  {
   "cell_type": "code",
   "execution_count": 28,
   "metadata": {
    "ExecuteTime": {
     "end_time": "2023-10-09T07:42:50.668371116Z",
     "start_time": "2023-10-09T07:42:50.405057862Z"
    }
   },
   "outputs": [
    {
     "data": {
      "text/plain": "<Figure size 432x288 with 1 Axes>",
      "image/png": "[encoded data removed]"
     },
     "metadata": {},
     "output_type": "display_data"
    }
   ],
   "source": [
    "import seaborn\n",
    "import matplotlib.pyplot as plt\n",
    "sns.set_style('darkgrid')\n",
    "sns.histplot(data=train_df,x='Age')\n",
    "plt.show()"
   ]
  },
  {
   "cell_type": "markdown",
   "metadata": {},
   "source": [
    "We could adopt a solution like the one for the `Embarked` column, and fill the NaN values with the mean of the column. Let's try, and then visualize the same histogram again. Does it seem a reasonable choice? What is the problem of this approach?"
   ]
  },
  {
   "cell_type": "code",
   "execution_count": 29,
   "metadata": {
    "ExecuteTime": {
     "end_time": "2023-10-09T07:42:51.897009994Z",
     "start_time": "2023-10-09T07:42:51.881208135Z"
    }
   },
   "outputs": [],
   "source": [
    "# train_df[\"Age\"].fillna(train_df[\"Age\"].mean(), inplace=True)"
   ]
  },
  {
   "cell_type": "code",
   "execution_count": 30,
   "metadata": {
    "ExecuteTime": {
     "end_time": "2023-10-09T07:42:52.769707679Z",
     "start_time": "2023-10-09T07:42:52.494391733Z"
    }
   },
   "outputs": [
    {
     "data": {
      "text/plain": "<Figure size 432x288 with 1 Axes>",
      "image/png": "[encoded data removed]"
     },
     "metadata": {},
     "output_type": "display_data"
    }
   ],
   "source": [
    "import seaborn\n",
    "import matplotlib.pyplot as plt\n",
    "sns.set_style('darkgrid')\n",
    "sns.histplot(data=train_df,x='Age')\n",
    "plt.show()"
   ]
  },
  {
   "cell_type": "markdown",
   "metadata": {},
   "source": [
    "**Your answer here**"
   ]
  },
  {
   "cell_type": "markdown",
   "metadata": {},
   "source": [
    "Another approach is to just delete the entries with missing `Age`. This will result in a smaller dataset, but will not introduce any new problem. Let's try this approach and visualize the distribution once again.\n",
    "\n",
    "**WARNING:** if you replaced NaN values directly in the `Age` column, remember to:\n",
    "1. Comment the code of the box above\n",
    "2. Rerun the notebook from the beginning"
   ]
  },
  {
   "cell_type": "code",
   "execution_count": 31,
   "metadata": {
    "ExecuteTime": {
     "end_time": "2023-10-09T07:42:56.273150104Z",
     "start_time": "2023-10-09T07:42:56.045599287Z"
    }
   },
   "outputs": [
    {
     "data": {
      "text/plain": "<Figure size 432x288 with 1 Axes>",
      "image/png": "[encoded data removed]"
     },
     "metadata": {},
     "output_type": "display_data"
    }
   ],
   "source": [
    "train_df.dropna(subset=[\"Age\"], inplace=True)\n",
    "sns.set_style('darkgrid')\n",
    "sns.histplot(data=train_df,x='Age')\n",
    "plt.show()"
   ]
  },
  {
   "cell_type": "markdown",
   "metadata": {},
   "source": [
    "Finally, check that all NaN have been treated"
   ]
  },
  {
   "cell_type": "code",
   "execution_count": 32,
   "metadata": {
    "ExecuteTime": {
     "end_time": "2023-10-09T07:42:58.305038126Z",
     "start_time": "2023-10-09T07:42:58.295304036Z"
    }
   },
   "outputs": [
    {
     "data": {
      "text/plain": "Empty DataFrame\nColumns: [Count]\nIndex: []",
      "text/html": "<div>\n<style scoped>\n    .dataframe tbody tr th:only-of-type {\n        vertical-align: middle;\n    }\n\n    .dataframe tbody tr th {\n        vertical-align: top;\n    }\n\n    .dataframe thead th {\n        text-align: right;\n    }\n</style>\n<table border=\"1\" class=\"dataframe\">\n  <thead>\n    <tr style=\"text-align: right;\">\n      <th></th>\n      <th>Count</th>\n    </tr>\n  </thead>\n  <tbody>\n  </tbody>\n</table>\n</div>"
     },
     "execution_count": 32,
     "metadata": {},
     "output_type": "execute_result"
    }
   ],
   "source": [
    "# Check again Count Null\n",
    "count_null(train_df)"
   ]
  },
  {
   "cell_type": "markdown",
   "metadata": {},
   "source": [
    "## Correlation Plot"
   ]
  },
  {
   "cell_type": "markdown",
   "metadata": {},
   "source": [
    "How correlated are the features of this table? Use `seaborn` to plot the correlation matrix by means of a heat map plot"
   ]
  },
  {
   "cell_type": "code",
   "execution_count": 33,
   "metadata": {
    "ExecuteTime": {
     "end_time": "2023-10-09T07:43:03.379350247Z",
     "start_time": "2023-10-09T07:43:03.065915534Z"
    }
   },
   "outputs": [
    {
     "data": {
      "text/plain": "<Axes: >"
     },
     "execution_count": 33,
     "metadata": {},
     "output_type": "execute_result"
    },
    {
     "data": {
      "text/plain": "<Figure size 432x288 with 2 Axes>",
      "image/png": "[encoded data removed]"
     },
     "metadata": {},
     "output_type": "display_data"
    }
   ],
   "source": [
    "#Correlation with HeatMap visualization\n",
    "sns.heatmap(train_df.corr(numeric_only=True), annot=True)"
   ]
  },
  {
   "cell_type": "markdown",
   "metadata": {},
   "source": [
    "## Dataset balance"
   ]
  },
  {
   "cell_type": "markdown",
   "metadata": {},
   "source": [
    "We will now check how balanced our dataset is. First, let's make a bar plot for comparing the number of survived and deceased passengers"
   ]
  },
  {
   "cell_type": "code",
   "execution_count": 34,
   "metadata": {
    "ExecuteTime": {
     "end_time": "2023-10-09T07:43:16.469326274Z",
     "start_time": "2023-10-09T07:43:16.305065082Z"
    }
   },
   "outputs": [
    {
     "data": {
      "text/plain": "Text(0.5, 1.0, 'Training Data - Percentage of people survived and Deceased')"
     },
     "execution_count": 34,
     "metadata": {},
     "output_type": "execute_result"
    },
    {
     "data": {
      "text/plain": "<Figure size 432x288 with 1 Axes>",
      "image/png": "[encoded data removed]"
     },
     "metadata": {},
     "output_type": "display_data"
    }
   ],
   "source": [
    "(train_df.Survived.value_counts(normalize=True) * 100).plot.bar().set_title(\"Training Data - Percentage of people survived and Deceased\")\n"
   ]
  },
  {
   "cell_type": "markdown",
   "metadata": {},
   "source": [
    "## Class and Survival Rate"
   ]
  },
  {
   "cell_type": "code",
   "execution_count": 35,
   "metadata": {
    "ExecuteTime": {
     "end_time": "2023-10-09T07:43:17.989270467Z",
     "start_time": "2023-10-09T07:43:17.901298932Z"
    }
   },
   "outputs": [
    {
     "data": {
      "text/plain": "<Figure size 432x288 with 1 Axes>",
      "image/png": "[encoded data removed]"
     },
     "metadata": {},
     "output_type": "display_data"
    }
   ],
   "source": [
    "# Do not edit\n",
    "fig_pclass = train_df.Pclass.value_counts().plot.pie().legend(labels=[\"Class 3\",\"Class 1\",\"Class 2\"], loc='center right', bbox_to_anchor=(2.25, 0.5)).set_title(\"Training Data - People travelling in different classes\")\n"
   ]
  },
  {
   "cell_type": "markdown",
   "metadata": {},
   "source": [
    "Pclass or passenger class represents the traveling class of commuter. There were three classes. In the combined dataset, a clear majority (709) traveled in the third class, followed by the second (277) and then the first (323).\n",
    "\n",
    "The number of passengers in the third class was more than the number of passengers in first and second class combined.\n",
    "\n",
    "Make another bar plot where deceased and survived passengers are split by passenger class. What do you notice?"
   ]
  },
  {
   "cell_type": "code",
   "execution_count": 36,
   "metadata": {
    "ExecuteTime": {
     "end_time": "2023-10-09T07:43:45.426866520Z",
     "start_time": "2023-10-09T07:43:45.198007417Z"
    }
   },
   "outputs": [
    {
     "data": {
      "text/plain": "Text(0.5, 1.0, 'Training Data - Percentage of people survived on the basis of class')"
     },
     "execution_count": 36,
     "metadata": {},
     "output_type": "execute_result"
    },
    {
     "data": {
      "text/plain": "<Figure size 432x288 with 1 Axes>",
      "image/png": "[encoded data removed]"
     },
     "metadata": {},
     "output_type": "display_data"
    }
   ],
   "source": [
    "pclass_1_survivor_distribution = round((train_df[train_df.Pclass == 1].Survived == 1).value_counts()[1]/len(train_df[train_df.Pclass == 1]) * 100, 2)\n",
    "pclass_2_survivor_distribution = round((train_df[train_df.Pclass == 2].Survived == 1).value_counts()[1]/len(train_df[train_df.Pclass == 2]) * 100, 2)\n",
    "pclass_3_survivor_distribution = round((train_df[train_df.Pclass == 3].Survived == 1).value_counts()[1]/len(train_df[train_df.Pclass == 3]) * 100, 2)\n",
    "pclass_perc_df = pd.DataFrame(\n",
    "    { \"Percentage Survived\":{\"Class 1\": pclass_1_survivor_distribution,\"Class 2\": pclass_2_survivor_distribution, \"Class 3\": pclass_3_survivor_distribution},\n",
    "     \"Percentage Not Survived\":{\"Class 1\": 100-pclass_1_survivor_distribution,\"Class 2\": 100-pclass_2_survivor_distribution, \"Class 3\": 100-pclass_3_survivor_distribution}})\n",
    "pclass_perc_df.plot.bar().set_title(\"Training Data - Percentage of people survived on the basis of class\")"
   ]
  },
  {
   "cell_type": "markdown",
   "metadata": {},
   "source": [
    "**More than 40% of the first class passengers were rescued. The pattern differed for the second and third class survivors as roughly around 70% of the second class passengers lost their lives. The numbers skyrocketed for the third class passengers. More than 80% of the third class passengers couldn't survive the disaster.**"
   ]
  },
  {
   "cell_type": "markdown",
   "metadata": {},
   "source": [
    "## Sex and Survival Rate"
   ]
  },
  {
   "cell_type": "markdown",
   "metadata": {},
   "source": [
    "Make a bar plot to show the number of male and female passengers, then another bar plot where survived and deceased passengers are split by gender. Then, write your observations."
   ]
  },
  {
   "cell_type": "code",
   "execution_count": 37,
   "metadata": {
    "ExecuteTime": {
     "end_time": "2023-10-09T07:44:33.023346263Z",
     "start_time": "2023-10-09T07:44:32.920270627Z"
    }
   },
   "outputs": [
    {
     "data": {
      "text/plain": "<Figure size 432x288 with 1 Axes>",
      "image/png": "[encoded data removed]"
     },
     "metadata": {},
     "output_type": "display_data"
    }
   ],
   "source": [
    "fig_sex = (train_df.Sex.value_counts(normalize = True) * 100).plot.bar()"
   ]
  },
  {
   "cell_type": "code",
   "execution_count": 38,
   "metadata": {
    "ExecuteTime": {
     "end_time": "2023-10-09T07:44:38.632754005Z",
     "start_time": "2023-10-09T07:44:38.419685428Z"
    }
   },
   "outputs": [
    {
     "data": {
      "text/plain": "<Axes: >"
     },
     "execution_count": 38,
     "metadata": {},
     "output_type": "execute_result"
    },
    {
     "data": {
      "text/plain": "<Figure size 432x288 with 1 Axes>",
      "image/png": "[encoded data removed]"
     },
     "metadata": {},
     "output_type": "display_data"
    }
   ],
   "source": [
    "male_pr = round((train_df[train_df.Sex == 'male'].Survived == 1).value_counts()[1]/len(train_df.Sex) * 100, 2)\n",
    "female_pr = round((train_df[train_df.Sex == 'female'].Survived == 1).value_counts()[1]/len(train_df.Sex) * 100, 2)\n",
    "sex_perc_df = pd.DataFrame(\n",
    "    { \"Percentage Survived\":{\"male\": male_pr,\"female\": female_pr},  \"Percentage Not Survived\":{\"male\": 100-male_pr,\"female\": 100-female_pr}})\n",
    "sex_perc_df.plot.barh().set_title(\"Percentage of male and female survived and Deceased\")\n",
    "fig_sex"
   ]
  },
  {
   "cell_type": "markdown",
   "metadata": {},
   "source": [
    "**Roughly around 65% of the tourists were male while the remaining 35% were female. However, the percentage of female survivors was higher than the number of male survivors.**\n",
    "\n",
    "**More than 80% male passengers had to die as compared to around 70% female passengers.**"
   ]
  },
  {
   "cell_type": "markdown",
   "metadata": {},
   "source": [
    "Now conduct the same kind of analysis for these other features, and comment your findings."
   ]
  },
  {
   "cell_type": "markdown",
   "metadata": {},
   "source": [
    "## Age and Survival Rate"
   ]
  },
  {
   "cell_type": "markdown",
   "metadata": {},
   "source": [
    "In order to consider the age, you will have to divide it ranges of 10 years. You can make a new column in the dataframe with this information. Then create a barplot of the survival rate depending on age"
   ]
  },
  {
   "cell_type": "code",
   "execution_count": 39,
   "metadata": {
    "ExecuteTime": {
     "end_time": "2023-10-09T07:45:05.681764703Z",
     "start_time": "2023-10-09T07:45:05.403125085Z"
    }
   },
   "outputs": [
    {
     "data": {
      "text/plain": "<matplotlib.legend.Legend at 0x7fa07d938040>"
     },
     "execution_count": 39,
     "metadata": {},
     "output_type": "execute_result"
    },
    {
     "data": {
      "text/plain": "<Figure size 432x288 with 1 Axes>",
      "image/png": "[encoded data removed]"
     },
     "metadata": {},
     "output_type": "display_data"
    }
   ],
   "source": [
    "train_df['Age_Range'] = pd.cut(train_df.Age, [0, 10, 20, 30, 40, 50, 60, 70, 80])\n",
    "sns.countplot(x = \"Age_Range\", hue = \"Survived\", data = train_df, palette=[\"C1\", \"C0\"]).legend(labels = [\"Deceased\", \"Survived\"])"
   ]
  },
  {
   "cell_type": "markdown",
   "metadata": {},
   "source": [
    "**Children below 10 years were the most spared, whereas 20-30 year old people were the most impacted. This data must be read in perspective: what was the age distribution in the three classes?**"
   ]
  },
  {
   "cell_type": "code",
   "execution_count": 40,
   "metadata": {
    "ExecuteTime": {
     "end_time": "2023-10-09T07:45:29.704187708Z",
     "start_time": "2023-10-09T07:45:29.478096007Z"
    }
   },
   "outputs": [
    {
     "data": {
      "text/plain": "<matplotlib.legend.Legend at 0x7fa07d935850>"
     },
     "execution_count": 40,
     "metadata": {},
     "output_type": "execute_result"
    },
    {
     "data": {
      "text/plain": "<Figure size 432x288 with 1 Axes>",
      "image/png": "[encoded data removed]"
     },
     "metadata": {},
     "output_type": "display_data"
    }
   ],
   "source": [
    "sns.countplot(x = \"Age_Range\", hue = \"Pclass\", data = train_df, palette=[\"C2\", \"C1\", \"C0\"]).legend(labels = [\"Class 1\", \"Class 2\", \"Class 3\"])"
   ]
  },
  {
   "cell_type": "markdown",
   "metadata": {},
   "source": [
    "**As expected, the majority of the 20-30 age range is composed by Class 3 passengers: for that age range, their abundance is significantly greater than average.**"
   ]
  },
  {
   "cell_type": "markdown",
   "metadata": {},
   "source": [
    "## Fare and Survival Rate\n",
    "\n",
    "Make a plot that show survival rate depending on the fare category"
   ]
  },
  {
   "cell_type": "code",
   "execution_count": 41,
   "metadata": {
    "ExecuteTime": {
     "end_time": "2023-10-09T07:45:50.268216878Z",
     "start_time": "2023-10-09T07:45:50.066015689Z"
    }
   },
   "outputs": [
    {
     "data": {
      "text/plain": "<Figure size 432x288 with 1 Axes>",
      "image/png": "[encoded data removed]"
     },
     "metadata": {},
     "output_type": "display_data"
    }
   ],
   "source": [
    "train_df['Fare_Category'] = pd.cut(train_df['Fare'], bins=[0,7.90,14.45,31.28,120], labels=['Low','Mid',\n",
    "                                                                                      'High_Mid','High'])\n",
    "\n",
    "x = sns.countplot(x = \"Fare_Category\", hue = \"Survived\", data = train_df, palette=[\"C1\", \"C0\"]).legend(labels = [\"Deceased\", \"Survived\"])\n",
    "x.set_title(\"Survival based on fare category\")"
   ]
  },
  {
   "cell_type": "markdown",
   "metadata": {},
   "source": [
    "**It is clear that there is a strong correlation between the fare and the survival. The higher a tourist paid, the higher would be his chances to survive.**"
   ]
  },
  {
   "cell_type": "markdown",
   "metadata": {},
   "source": [
    "## Embarked and Survival Rate\n",
    "\n",
    "Make a plot that show survival rate depending on the port of embark"
   ]
  },
  {
   "cell_type": "code",
   "execution_count": 42,
   "metadata": {
    "ExecuteTime": {
     "end_time": "2023-10-09T07:46:03.742866727Z",
     "start_time": "2023-10-09T07:46:03.466276863Z"
    }
   },
   "outputs": [
    {
     "data": {
      "text/plain": "Text(0.5, 1.0, 'Training Data - Survival based on embarking point.')"
     },
     "execution_count": 42,
     "metadata": {},
     "output_type": "execute_result"
    },
    {
     "data": {
      "text/plain": "<Figure size 432x288 with 1 Axes>",
      "image/png": "[encoded data removed]"
     },
     "metadata": {},
     "output_type": "display_data"
    }
   ],
   "source": [
    "p = sns.countplot(x = \"Embarked\", hue = \"Survived\", data = train_df, palette=[\"C1\", \"C0\"])\n",
    "p.set_xticklabels([\"Southampton\",\"Cherbourg\",\"Queenstown\"])\n",
    "p.legend(labels = [\"Deceased\", \"Survived\"])\n",
    "p.set_title(\"Training Data - Survival based on embarking point.\")"
   ]
  },
  {
   "cell_type": "markdown",
   "metadata": {},
   "source": [
    "**In combined data, more than 70% of the people boarded from Southampton. Just under 20% boarded from Cherbourg and the rest boarded from Queenstown.**\n",
    "\n",
    "**More People who boarded from Cherbourg survived than those who died. Could it be that...**"
   ]
  },
  {
   "cell_type": "code",
   "execution_count": 43,
   "metadata": {
    "ExecuteTime": {
     "end_time": "2023-10-09T07:46:21.374862591Z",
     "start_time": "2023-10-09T07:46:21.201701552Z"
    }
   },
   "outputs": [
    {
     "data": {
      "text/plain": "<matplotlib.legend.Legend at 0x7fa07da65250>"
     },
     "execution_count": 43,
     "metadata": {},
     "output_type": "execute_result"
    },
    {
     "data": {
      "text/plain": "<Figure size 432x288 with 1 Axes>",
      "image/png": "[encoded data removed]"
     },
     "metadata": {},
     "output_type": "display_data"
    }
   ],
   "source": [
    "sns.countplot(x = \"Embarked\", hue = \"Pclass\", data = train_df, palette=[\"C2\", \"C1\", \"C0\"]).legend(labels = [\"Class 1\", \"Class 2\", \"Class 3\"])"
   ]
  },
  {
   "cell_type": "markdown",
   "metadata": {},
   "source": [
    "**Yep. Those boarding from Cherbourg were mainly the rich.**\n",
    "\n",
    "**Unsurprisingly, it looks like status is the confounding variable that has the most effect on survival. Yet, it is not the only one: a high percentage of 0-10 aged children was saved, although very few of them were in Class 1.**"
   ]
  },
  {
   "cell_type": "markdown",
   "metadata": {},
   "source": [
    "## Converting and Creating New Features"
   ]
  },
  {
   "cell_type": "markdown",
   "metadata": {},
   "source": [
    "Some of the available data are not directly exploitable since they are discrete classes defined with keywords. Statistical models cannot process them, thus we have to convert them in a usable format."
   ]
  },
  {
   "cell_type": "code",
   "execution_count": 44,
   "metadata": {
    "ExecuteTime": {
     "end_time": "2023-10-09T07:46:37.596604616Z",
     "start_time": "2023-10-09T07:46:37.539676684Z"
    }
   },
   "outputs": [
    {
     "name": "stdout",
     "output_type": "stream",
     "text": [
      "<class 'pandas.core.frame.DataFrame'>\n",
      "Int64Index: 714 entries, 0 to 890\n",
      "Data columns (total 14 columns):\n",
      " #   Column         Non-Null Count  Dtype   \n",
      "---  ------         --------------  -----   \n",
      " 0   PassengerId    714 non-null    int64   \n",
      " 1   Survived       714 non-null    int64   \n",
      " 2   Pclass         714 non-null    int64   \n",
      " 3   Name           714 non-null    object  \n",
      " 4   Sex            714 non-null    object  \n",
      " 5   Age            714 non-null    float64 \n",
      " 6   SibSp          714 non-null    int64   \n",
      " 7   Parch          714 non-null    int64   \n",
      " 8   Ticket         714 non-null    object  \n",
      " 9   Fare           714 non-null    float64 \n",
      " 10  Cabin          714 non-null    object  \n",
      " 11  Embarked       714 non-null    object  \n",
      " 12  Age_Range      714 non-null    category\n",
      " 13  Fare_Category  673 non-null    category\n",
      "dtypes: category(2), float64(2), int64(5), object(5)\n",
      "memory usage: 74.5+ KB\n"
     ]
    }
   ],
   "source": [
    "# Do not edit !\n",
    "train_df.info()"
   ]
  },
  {
   "cell_type": "markdown",
   "metadata": {},
   "source": [
    "### Convert Fare to int"
   ]
  },
  {
   "cell_type": "markdown",
   "metadata": {},
   "source": [
    "Sometimes a simple type conversion is enough..."
   ]
  },
  {
   "cell_type": "code",
   "execution_count": 45,
   "metadata": {
    "ExecuteTime": {
     "end_time": "2023-10-09T07:46:41.790225096Z",
     "start_time": "2023-10-09T07:46:41.769584908Z"
    }
   },
   "outputs": [],
   "source": [
    "train_df['Fare'] = train_df['Fare'].astype(int)"
   ]
  },
  {
   "cell_type": "markdown",
   "metadata": {},
   "source": [
    "Other types of categorical data can be mapped to integers :"
   ]
  },
  {
   "cell_type": "markdown",
   "metadata": {},
   "source": [
    "### Binarize Gender"
   ]
  },
  {
   "cell_type": "code",
   "execution_count": 46,
   "metadata": {
    "ExecuteTime": {
     "end_time": "2023-10-09T07:46:44.757155891Z",
     "start_time": "2023-10-09T07:46:44.736791731Z"
    }
   },
   "outputs": [],
   "source": [
    "genders = {\"male\": 0, \"female\": 1}\n",
    "\n",
    "train_df['Sex'] = train_df['Sex'].map(genders)"
   ]
  },
  {
   "cell_type": "markdown",
   "metadata": {},
   "source": [
    "### Transform Port into integers"
   ]
  },
  {
   "cell_type": "code",
   "execution_count": 47,
   "metadata": {
    "ExecuteTime": {
     "end_time": "2023-10-09T07:46:50.109669748Z",
     "start_time": "2023-10-09T07:46:50.090264163Z"
    }
   },
   "outputs": [],
   "source": [
    "ports = {\"S\": 0, \"C\": 1, \"Q\": 2}\n",
    "\n",
    "train_df['Embarked'] = train_df['Embarked'].map(ports)"
   ]
  },
  {
   "cell_type": "markdown",
   "metadata": {},
   "source": [
    "Continuous data types can, as we have already done, be discretized (of course with a loss of information)."
   ]
  },
  {
   "cell_type": "markdown",
   "metadata": {},
   "source": [
    "### Discretize Age"
   ]
  },
  {
   "cell_type": "code",
   "execution_count": 48,
   "metadata": {
    "ExecuteTime": {
     "end_time": "2023-10-09T07:46:51.942672464Z",
     "start_time": "2023-10-09T07:46:51.889330869Z"
    }
   },
   "outputs": [],
   "source": [
    "train_df['Age'] = train_df['Age'].astype(int)\n",
    "train_df.loc[ train_df['Age'] <= 11, 'Age'] = 0\n",
    "train_df.loc[(train_df['Age'] > 11) & (train_df['Age'] <= 18), 'Age'] = 1\n",
    "train_df.loc[(train_df['Age'] > 18) & (train_df['Age'] <= 22), 'Age'] = 2\n",
    "train_df.loc[(train_df['Age'] > 22) & (train_df['Age'] <= 27), 'Age'] = 3\n",
    "train_df.loc[(train_df['Age'] > 27) & (train_df['Age'] <= 33), 'Age'] = 4\n",
    "train_df.loc[(train_df['Age'] > 33) & (train_df['Age'] <= 40), 'Age'] = 5\n",
    "train_df.loc[(train_df['Age'] > 40) & (train_df['Age'] <= 66), 'Age'] = 6\n",
    "train_df.loc[ train_df['Age'] > 66, 'Age'] = 6"
   ]
  },
  {
   "cell_type": "code",
   "execution_count": 49,
   "metadata": {
    "ExecuteTime": {
     "end_time": "2023-10-09T07:46:53.439955422Z",
     "start_time": "2023-10-09T07:46:53.404295599Z"
    }
   },
   "outputs": [
    {
     "data": {
      "text/plain": "6    148\n4    126\n3    106\n5    103\n2     92\n1     71\n0     68\nName: Age, dtype: int64"
     },
     "execution_count": 49,
     "metadata": {},
     "output_type": "execute_result"
    }
   ],
   "source": [
    "# See distribution\n",
    "train_df['Age'].value_counts()"
   ]
  },
  {
   "cell_type": "markdown",
   "metadata": {},
   "source": [
    "### Discretize Fare"
   ]
  },
  {
   "cell_type": "code",
   "execution_count": 50,
   "metadata": {
    "ExecuteTime": {
     "end_time": "2023-10-09T07:46:55.744222059Z",
     "start_time": "2023-10-09T07:46:55.661506092Z"
    }
   },
   "outputs": [],
   "source": [
    "train_df.loc[ train_df['Fare'] <= 7.91, 'Fare'] = 0\n",
    "train_df.loc[(train_df['Fare'] > 7.91) & (train_df['Fare'] <= 14.454), 'Fare'] = 1\n",
    "train_df.loc[(train_df['Fare'] > 14.454) & (train_df['Fare'] <= 31), 'Fare']   = 2\n",
    "train_df.loc[(train_df['Fare'] > 31) & (train_df['Fare'] <= 99), 'Fare']   = 3\n",
    "train_df.loc[(train_df['Fare'] > 99) & (train_df['Fare'] <= 250), 'Fare']   = 4\n",
    "train_df.loc[ train_df['Fare'] > 250, 'Fare'] = 5\n",
    "train_df['Fare'] = train_df['Fare'].astype(int)"
   ]
  },
  {
   "cell_type": "code",
   "execution_count": 51,
   "metadata": {
    "ExecuteTime": {
     "end_time": "2023-10-09T07:46:56.402181577Z",
     "start_time": "2023-10-09T07:46:56.381311802Z"
    }
   },
   "outputs": [
    {
     "data": {
      "text/plain": "1    188\n2    182\n0    161\n3    135\n4     39\n5      9\nName: Fare, dtype: int64"
     },
     "execution_count": 51,
     "metadata": {},
     "output_type": "execute_result"
    }
   ],
   "source": [
    "# See distribution\n",
    "train_df['Fare'].value_counts()"
   ]
  },
  {
   "cell_type": "markdown",
   "metadata": {},
   "source": [
    "## Dataset Creation X, y"
   ]
  },
  {
   "cell_type": "markdown",
   "metadata": {},
   "source": [
    "Now we have to create the dataset. Print again the first few lines of the training dataset and choose 5-7 features you think will be best for the training then, delete all the other columns. (Be sure to keep the `Survived` column: it's not a feature it's the truth value!)"
   ]
  },
  {
   "cell_type": "code",
   "execution_count": 52,
   "metadata": {
    "ExecuteTime": {
     "end_time": "2023-10-09T07:47:00.353911344Z",
     "start_time": "2023-10-09T07:47:00.335627399Z"
    }
   },
   "outputs": [
    {
     "data": {
      "text/plain": "   PassengerId  Survived  Pclass  \\\n0            1         0       3   \n1            2         1       1   \n2            3         1       3   \n3            4         1       1   \n4            5         0       3   \n\n                                                Name  Sex  Age  SibSp  Parch  \\\n0                            Braund, Mr. Owen Harris    0    2      1      0   \n1  Cumings, Mrs. John Bradley (Florence Briggs Th...    1    5      1      0   \n2                             Heikkinen, Miss. Laina    1    3      0      0   \n3       Futrelle, Mrs. Jacques Heath (Lily May Peel)    1    5      1      0   \n4                           Allen, Mr. William Henry    0    5      0      0   \n\n             Ticket  Fare Cabin  Embarked Age_Range Fare_Category  \n0         A/5 21171     0     X         0  (20, 30]           Low  \n1          PC 17599     3   C85         1  (30, 40]          High  \n2  STON/O2. 3101282     0     X         0  (20, 30]           Mid  \n3            113803     3  C123         0  (30, 40]          High  \n4            373450     1     X         0  (30, 40]           Mid  ",
      "text/html": "<div>\n<style scoped>\n    .dataframe tbody tr th:only-of-type {\n        vertical-align: middle;\n    }\n\n    .dataframe tbody tr th {\n        vertical-align: top;\n    }\n\n    .dataframe thead th {\n        text-align: right;\n    }\n</style>\n<table border=\"1\" class=\"dataframe\">\n  <thead>\n    <tr style=\"text-align: right;\">\n      <th></th>\n      <th>PassengerId</th>\n      <th>Survived</th>\n      <th>Pclass</th>\n      <th>Name</th>\n      <th>Sex</th>\n      <th>Age</th>\n      <th>SibSp</th>\n      <th>Parch</th>\n      <th>Ticket</th>\n      <th>Fare</th>\n      <th>Cabin</th>\n      <th>Embarked</th>\n      <th>Age_Range</th>\n      <th>Fare_Category</th>\n    </tr>\n  </thead>\n  <tbody>\n    <tr>\n      <th>0</th>\n      <td>1</td>\n      <td>0</td>\n      <td>3</td>\n      <td>Braund, Mr. Owen Harris</td>\n      <td>0</td>\n      <td>2</td>\n      <td>1</td>\n      <td>0</td>\n      <td>A/5 21171</td>\n      <td>0</td>\n      <td>X</td>\n      <td>0</td>\n      <td>(20, 30]</td>\n      <td>Low</td>\n    </tr>\n    <tr>\n      <th>1</th>\n      <td>2</td>\n      <td>1</td>\n      <td>1</td>\n      <td>Cumings, Mrs. John Bradley (Florence Briggs Th...</td>\n      <td>1</td>\n      <td>5</td>\n      <td>1</td>\n      <td>0</td>\n      <td>PC 17599</td>\n      <td>3</td>\n      <td>C85</td>\n      <td>1</td>\n      <td>(30, 40]</td>\n      <td>High</td>\n    </tr>\n    <tr>\n      <th>2</th>\n      <td>3</td>\n      <td>1</td>\n      <td>3</td>\n      <td>Heikkinen, Miss. Laina</td>\n      <td>1</td>\n      <td>3</td>\n      <td>0</td>\n      <td>0</td>\n      <td>STON/O2. 3101282</td>\n      <td>0</td>\n      <td>X</td>\n      <td>0</td>\n      <td>(20, 30]</td>\n      <td>Mid</td>\n    </tr>\n    <tr>\n      <th>3</th>\n      <td>4</td>\n      <td>1</td>\n      <td>1</td>\n      <td>Futrelle, Mrs. Jacques Heath (Lily May Peel)</td>\n      <td>1</td>\n      <td>5</td>\n      <td>1</td>\n      <td>0</td>\n      <td>113803</td>\n      <td>3</td>\n      <td>C123</td>\n      <td>0</td>\n      <td>(30, 40]</td>\n      <td>High</td>\n    </tr>\n    <tr>\n      <th>4</th>\n      <td>5</td>\n      <td>0</td>\n      <td>3</td>\n      <td>Allen, Mr. William Henry</td>\n      <td>0</td>\n      <td>5</td>\n      <td>0</td>\n      <td>0</td>\n      <td>373450</td>\n      <td>1</td>\n      <td>X</td>\n      <td>0</td>\n      <td>(30, 40]</td>\n      <td>Mid</td>\n    </tr>\n  </tbody>\n</table>\n</div>"
     },
     "execution_count": 52,
     "metadata": {},
     "output_type": "execute_result"
    }
   ],
   "source": [
    "train_df.head()"
   ]
  },
  {
   "cell_type": "markdown",
   "metadata": {},
   "source": [
    "Now place all the features on a dataframe `X` and the truth column in a dataframe `y`, and use the `train_test_split` function of `sklearn` for dividing each of them in training and test."
   ]
  },
  {
   "cell_type": "code",
   "execution_count": 53,
   "metadata": {
    "ExecuteTime": {
     "end_time": "2023-10-09T07:47:05.812940702Z",
     "start_time": "2023-10-09T07:47:05.782938757Z"
    }
   },
   "outputs": [],
   "source": [
    "X = train_df.drop([\"Survived\", \"Fare_Category\", \"Ticket\", \"PassengerId\", \"Name\", \"Age_Range\", \"Cabin\"],axis=1)\n",
    "y = train_df[\"Survived\"]"
   ]
  },
  {
   "cell_type": "code",
   "execution_count": 54,
   "metadata": {
    "ExecuteTime": {
     "end_time": "2023-10-09T07:47:06.264169297Z",
     "start_time": "2023-10-09T07:47:06.253077731Z"
    }
   },
   "outputs": [
    {
     "name": "stdout",
     "output_type": "stream",
     "text": [
      "(714, 7)\n",
      "<class 'pandas.core.frame.DataFrame'>\n",
      "(714,)\n",
      "<class 'pandas.core.series.Series'>\n"
     ]
    }
   ],
   "source": [
    "print(X.shape)\n",
    "print(type(X))\n",
    "print(y.shape)\n",
    "print(type(y))"
   ]
  },
  {
   "cell_type": "code",
   "execution_count": 55,
   "metadata": {
    "ExecuteTime": {
     "end_time": "2023-10-09T07:47:12.046319848Z",
     "start_time": "2023-10-09T07:47:11.979338943Z"
    }
   },
   "outputs": [],
   "source": [
    "from sklearn.model_selection import train_test_split\n",
    "X_train, X_test, y_train, y_test = train_test_split(X, y, test_size=0.2, random_state=42)"
   ]
  },
  {
   "cell_type": "markdown",
   "metadata": {},
   "source": [
    "The following code box trains a model and uses it for prediction. Use `sklearn` to produce a confusion matrix that analyzes the result. You can also use the `classification_report` function for having a more complete report."
   ]
  },
  {
   "cell_type": "code",
   "execution_count": 56,
   "metadata": {
    "ExecuteTime": {
     "end_time": "2023-10-09T07:47:14.262829957Z",
     "start_time": "2023-10-09T07:47:14.227972169Z"
    }
   },
   "outputs": [],
   "source": [
    "# Do not edit!\n",
    "from sklearn import svm\n",
    "clf = svm.SVC(kernel='linear', C=1).fit(X_train, y_train)\n",
    "y_pred = clf.predict(X_test)"
   ]
  },
  {
   "cell_type": "code",
   "execution_count": 57,
   "metadata": {
    "ExecuteTime": {
     "end_time": "2023-10-09T07:47:15.049672469Z",
     "start_time": "2023-10-09T07:47:15.039268238Z"
    }
   },
   "outputs": [
    {
     "name": "stdout",
     "output_type": "stream",
     "text": [
      "[[69 18]\n",
      " [20 36]]\n"
     ]
    }
   ],
   "source": [
    "from sklearn.metrics import classification_report,confusion_matrix\n",
    "\n",
    "print(confusion_matrix(y_test,y_pred))"
   ]
  },
  {
   "cell_type": "code",
   "execution_count": 58,
   "metadata": {
    "ExecuteTime": {
     "end_time": "2023-10-09T07:47:17.378853567Z",
     "start_time": "2023-10-09T07:47:17.293639292Z"
    }
   },
   "outputs": [
    {
     "name": "stdout",
     "output_type": "stream",
     "text": [
      "              precision    recall  f1-score   support\n",
      "\n",
      "           0       0.78      0.79      0.78        87\n",
      "           1       0.67      0.64      0.65        56\n",
      "\n",
      "    accuracy                           0.73       143\n",
      "   macro avg       0.72      0.72      0.72       143\n",
      "weighted avg       0.73      0.73      0.73       143\n",
      "\n"
     ]
    }
   ],
   "source": [
    "print(classification_report(y_test,y_pred))"
   ]
  },
  {
   "cell_type": "code",
   "execution_count": null,
   "outputs": [],
   "source": [],
   "metadata": {
    "collapsed": false
   }
  }
 ],
 "metadata": {
  "kernelspec": {
   "display_name": "Python 3 (ipykernel)",
   "language": "python",
   "name": "python3"
  },
  "language_info": {
   "codemirror_mode": {
    "name": "ipython",
    "version": 3
   },
   "file_extension": ".py",
   "mimetype": "text/x-python",
   "name": "python",
   "nbconvert_exporter": "python",
   "pygments_lexer": "ipython3",
   "version": "3.10.9"
  }
 },
 "nbformat": 4,
 "nbformat_minor": 1
}
